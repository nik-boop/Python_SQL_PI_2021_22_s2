{
 "cells": [
  {
   "cell_type": "markdown",
   "id": "31963a08",
   "metadata": {},
   "source": [
    "<img src=\"../Img/Python_SQL_PI.png\" style=\"width:100%\">\n",
    "\n",
    "\n",
    "<p style=\"font-size:22px;text-align:center\">Семинар 5.1. Соединение таблиц. Оператор JOIN</p> \n",
    "\n",
    "<a id = Home></a>\n",
    "\n",
    "**11 апреля 2022 года, пн**<br>\n",
    "10:10 - 11:40<br>\n",
    "Щ38/509(кк) (ул. Щербаковская, 38)<br>\n",
    "ПИ20-1, ПИ20-2, ПИ20-3, ПИ20-4, ПИ20-5, ПИ20-6 (4 подгруппа)<br>\n",
    "\n",
    "11:50 - 13:20<br>\n",
    "Щ38/509(кк) (ул. Щербаковская, 38)<br>\n",
    "Поток:ПИ20-1, ПИ20-2, ПИ20-3, ПИ20-4, ПИ20-5, ПИ20-6 (3 подгруппа)\n",
    "\n",
    "\n",
    "**14 апреля 2022 года, чт**<br>\n",
    "17:20 - 18:50<br>\n",
    "В4/3411(кк) (4-й Вешняковский проезд, 4)<br>\n",
    "ПИ20-1, ПИ20-2, ПИ20-3, ПИ20-4, ПИ20-5, ПИ20-6 (2 подгруппа)<br>\n",
    "\n",
    "\n",
    "**21 апреля 2022 года, чт**<br>\n",
    "18:55 - 20:25<br>\n",
    "В4/3411(кк) (4-й Вешняковский проезд, 4)<br>\n",
    "ПИ20-1, ПИ20-2, ПИ20-3, ПИ20-4, ПИ20-5, ПИ20-6 (1 подгруппа)<br>"
   ]
  },
  {
   "cell_type": "markdown",
   "id": "20042f4c",
   "metadata": {},
   "source": [
    "<p style=\"font-size:22px;text-align:center\">Семинар 5.2. Соединение таблиц. Оператор JOIN</p>\n",
    "\n",
    "**14 апреля 2022 года, чт**<br>\n",
    "18:55 - 20:25<br>\n",
    "В4/3411(кк) (4-й Вешняковский проезд, 4)<br>\n",
    "ПИ20-1, ПИ20-2, ПИ20-3, ПИ20-4, ПИ20-5, ПИ20-6 (2 подгруппа)<br>\n",
    "\n",
    "**18 апреля 2022 года, пн**<br>\n",
    "10:10 - 11:40<br>\n",
    "Щ38/509(кк) (ул. Щербаковская, 38)<br>\n",
    "ПИ20-1, ПИ20-2, ПИ20-3, ПИ20-4, ПИ20-5, ПИ20-6 (3 подгруппа)<br>\n",
    "\n",
    "11:50 - 13:20<br>\n",
    "Щ38/509(кк) (ул. Щербаковская, 38)<br>\n",
    "Поток:ПИ20-1, ПИ20-2, ПИ20-3, ПИ20-4, ПИ20-5, ПИ20-6 (4 подгруппа)<br>\n",
    "\n",
    "**28 апреля 2022 года, чт**<br>\n",
    "17:20 - 18:50<br>\n",
    "В4/3411(кк) (4-й Вешняковский проезд, 4)<br>\n",
    "ПИ20-1, ПИ20-2, ПИ20-3, ПИ20-4, ПИ20-5, ПИ20-6 (1 подгруппа)<br>"
   ]
  },
  {
   "cell_type": "markdown",
   "id": "f6575b35",
   "metadata": {},
   "source": [
    "\n",
    "```\n",
    "STUDENT\n",
    "STUDENT_ID — числовой код, идентифицирующий студента (идентификатор студента),\n",
    "SURNAME — фамилия студента,\n",
    "NAME — имя студента,\n",
    "STIPEND — стипендия, которую получает студент,\n",
    "KURS — курс, на котором учится студент,\n",
    "CITY — город, в котором живет студент,\n",
    "BIRTHDAY — дата рождения студента,\n",
    "UNIV_ID — идентификатор университета, в котором учится студент.\n",
    "\n",
    "\n",
    "LECTURER\n",
    "LECTURER_ID — идентификатор преподавателя,\n",
    "SURNAME — фамилия преподавателя,\n",
    "NAME — имя преподавателя,\n",
    "CITY — город, в котором живет преподаватель,\n",
    "UNIV_ID — идентификатор университета, в котором работает преподаватель\n",
    "\n",
    "\n",
    "SUBJECT\n",
    "SUBJ_ID — идентификатор предмета обучения,\n",
    "SUBJ_NAME — наименование предмета обучения,\n",
    "HOUR — количество часов, отводимых на изучение предмета,\n",
    "SEMESTER — семестр, в котором изучается данный предмет.\n",
    "\n",
    "\n",
    "UNIVERSITY\n",
    "UNIV_ID — идентификатор университета,\n",
    "UNIV_NAME — название университета,\n",
    "RATING — рейтинг университета,\n",
    "CITY — город, в котором расположен университет.\n",
    "\n",
    "\n",
    "EXAM_MARKS\n",
    "EXAM_ID — идентификатор экзамена,\n",
    "STUDENT_ID — идентификатор студента,\n",
    "SUBJ_ID — идентификатор предмета обучения,\n",
    "MARK — экзаменационная оценка,\n",
    "EXAM_DATE — дата экзамена.\n",
    "\n",
    "\n",
    "SUBJ_LECT\n",
    "LECTURER_ID — идентификатор преподавателя,\n",
    "SUBJ_ID — идентификатор предмета обучения.\n",
    "```\n",
    "\n",
    "<img src=\"../Img/Students_Schema.png\" style=\"width:60%\">"
   ]
  },
  {
   "cell_type": "code",
   "execution_count": 3,
   "id": "b43644d8",
   "metadata": {},
   "outputs": [],
   "source": [
    "#! pip install sqlalchemy"
   ]
  },
  {
   "cell_type": "code",
   "execution_count": 4,
   "id": "37e97907",
   "metadata": {},
   "outputs": [],
   "source": [
    "from sqlalchemy import MetaData, Table, create_engine, select, and_, or_, not_, text\n",
    "from sqlalchemy.sql import func, distinct, exists"
   ]
  },
  {
   "cell_type": "code",
   "execution_count": 5,
   "id": "eb4393e8",
   "metadata": {},
   "outputs": [],
   "source": [
    "engine = create_engine('sqlite:///../Data/Students.db')\n",
    "metadata_obj = MetaData() # Объект-контейнер, содержит информацию о схеме данных\n",
    "metadata_obj.reflect(bind=engine) # Отображение БД"
   ]
  },
  {
   "cell_type": "markdown",
   "id": "3797f17f",
   "metadata": {},
   "source": [
    "Создание объектов таблиц"
   ]
  },
  {
   "cell_type": "code",
   "execution_count": 6,
   "id": "6e812caf",
   "metadata": {},
   "outputs": [],
   "source": [
    "exam_marks=Table(\"exam_marks\", metadata_obj, autoload=True, autoload_with=\"engine\")\n",
    "lecturer=Table(\"lecturer\", metadata_obj, autoload=True, autoload_with=\"engine\")\n",
    "student=Table(\"student\", metadata_obj, autoload=True, autoload_with=\"engine\")\n",
    "subj_lect=Table(\"subj_lect\", metadata_obj, autoload=True, autoload_with=\"engine\")\n",
    "subject=Table(\"subject\", metadata_obj, autoload=True, autoload_with=\"engine\")\n",
    "university=Table(\"university\", metadata_obj, autolad=True, autolad_with=\"engine\")"
   ]
  },
  {
   "cell_type": "code",
   "execution_count": 7,
   "id": "5e0c68fe",
   "metadata": {},
   "outputs": [],
   "source": [
    "conn=engine.connect() # Соединение"
   ]
  },
  {
   "cell_type": "markdown",
   "id": "fb742d9f",
   "metadata": {},
   "source": [
    "<img src=../Img/pencil.png style=\"width:190px;height:190px\">\n",
    "<p style=\"background-color:powderblue; font-size:125%; color: rebeccapurple;\">Выполните задания</p>\n",
    "<p>Выполните задания с помощью соедиинения таблиц в Jupyter Notebook </p>\n",
    "\n",
    "1. Покажите названия университетов с указанием количества студентов, обучающихся на каждом курсе.\n",
    "\n",
    "2. Покажите фамилии, имена преподавателей и названия предметов, которые они преподают. Отсортировать по фамилии преподавателя.\n",
    "\n",
    "3. Покажите суммарное количество часов каждого преподавателя в каждом семестре. Результат должен содержать фамилию, имя преподавателя, номер семестра, число часов.\n",
    "\n",
    "4. Составьте список названий университетов вместе с названиями преподаваемых в них предметов.\n",
    "\n",
    "5. Составьте список названий университетов с указанием суммарного количества аудиторных часов в каждом семестре.\n",
    "\n",
    "6. Сформируйте список преподавателей с указанием суммарного количества часов, отведенных для обучения каждому из предметов.\n",
    "\n",
    "7. Напишите запрос для сортировки списка названий университетов по значениям максимальной стипендии, выплачиваемой студентам.\n",
    "\n",
    "8. Напишите запрос для получения списка названий университетов вместе с фамилиями и именами самых молодых студентов, обучаемых в них.\n",
    "\n",
    "9. Сформируйте список фамилий и имён студентов вместе с названиями предметов и оценками, полученными по каждому предмету на экзаменах. Отсортируйте результат по названию предмета.\n",
    "\n",
    "10. Напишите запрос для получения списка названий предметов вместе с фамилиями и именами студентов, получивших по данному предмету максимальную оценку. Результат отсортируйте по названию приедмета и по оценке.\n",
    "\n",
    "11. Напишите запрос для получения списка предметов вместе с фамилиями студентов, сдававших экзамен по данному предмету последними. Результат упорядочить по дате.\n",
    "\n",
    "12. Напишите запрос для получения списка предметов вместе с фамилиями студентов, первыми сдавших (оценка больше двух) экзамен по данному предмету.\n",
    "\n",
    "13. Напишите запрос для получения списка преподавателей, преподающих более одного предмета. Отсортируйте результат по фамилии преподавателя.\n",
    "\n",
    "14. Напишите запрос для получения списка (без повторов) студентов, сдававших экзамены по какому-либо из предметов более одного раза. Результат должен содержать идентификатор, фамилию, имя студента, название предмета. Результат необходимо упорядочить по идентификатору студента.\n",
    "\n",
    "15. Напишите запрос для получения списка названий университетов вместе с фамилиями студентов, получивших хотя бы одну неудовлетворительную оценку. Результат отсортируйте по названию университета.\n",
    "\n",
    "16. Напишите запрос, выполняющий вывод данных о предметах обучения, которые преподает Колесников. Распечатайте фамилию преподавателя и все столбцы таблицы предметов. результат отсортируйте по названию предмета.\n",
    "\n",
    "17. Напишите запрос, выполняющий вывод идентификаторов, имен и фамилий преподавателей, проводящих занятия в двух и более семестрах. Отсортируйте результат по фамилии преподавателя.\n",
    "\n",
    "18. Напишите запрос, выполняющий вывод количества часов занятий, проводимых преподавателем Лагутиным. Результат должен содержать одно число - количество часов.\n",
    "\n",
    "19. Напишите запрос, выполняющий вывод фамилий преподавателей, учебная нагрузка которых (количество учебных часов) превышает нагрузку преподавателя Лагутина. Список преподавателей отсортируйте по возрастанию.\n",
    "\n",
    "20. Напишите запрос, выполняющий вывод фамилий и имён преподавателей университетов с рейтингом, меньшим 350. Распечатайте фамилию, имя преподавателя, название университета. Отсортируйте по фамили преподавателя.\n",
    "\n",
    "21. Напишите запрос, выполняющий вывод общего количества учебных часов занятий, проводимых для студентов первого курса ВГУ.\n",
    "\n",
    "22. Напишите запрос, выполняющий вывод среднего количества учебных часов предметов обучения, преподаваемых студентам второго курса ВГУ.\n",
    "\n",
    "23. Напишите запрос, выполняющий вывод списка фамилий студентов, имеющих две или более отличных оценок в каждом семестре.\n",
    "\n",
    "24. Приведите как можно больше формулировок запроса “Получить фамилии студентов, сдававших экзамен по информатике”.\n",
    "\n",
    "25. Приведите как можно больше формулировок запроса “Получить фамилии преподавателей, преподающих информатику\"."
   ]
  },
  {
   "cell_type": "markdown",
   "id": "5002382e",
   "metadata": {},
   "source": [
    "# Решение"
   ]
  },
  {
   "cell_type": "code",
   "execution_count": 8,
   "id": "0efb18fc",
   "metadata": {},
   "outputs": [],
   "source": [
    "st = student.alias('st')\n",
    "em = exam_marks.alias('em')\n",
    "u = university.alias('u')\n",
    "su = subject.alias('su')\n",
    "l = lecturer.alias('l')\n",
    "sl = subj_lect.alias('sl')"
   ]
  },
  {
   "cell_type": "code",
   "execution_count": 9,
   "id": "59941c96",
   "metadata": {
    "scrolled": false
   },
   "outputs": [
    {
     "name": "stdout",
     "output_type": "stream",
     "text": [
      "SELECT university.univ_name, student.kurs, count(student.student_id) AS count_1 \n",
      "FROM university JOIN student ON university.univ_id = student.univ_id GROUP BY university.univ_name, student.kurs\n",
      "44\n"
     ]
    },
    {
     "data": {
      "text/plain": [
       "[('БГУ', 1, 1),\n",
       " ('БГУ', 2, 1),\n",
       " ('БГУ', 3, 3),\n",
       " ('БГУ', 4, 2),\n",
       " ('БГУ', 5, 2),\n",
       " ('ВГМА', 1, 2),\n",
       " ('ВГМА', 2, 3),\n",
       " ('ВГМА', 4, 1),\n",
       " ('ВГМА', 5, 1),\n",
       " ('ВГУ', 1, 4)]"
      ]
     },
     "execution_count": 9,
     "metadata": {},
     "output_type": "execute_result"
    }
   ],
   "source": [
    "#1. Покажите названия университетов с указанием количества студентов, обучающихся на каждом курсе.\n",
    "\n",
    "s = select(university.c.univ_name, student.c.kurs, func.count(student.c.student_id))\n",
    "s = s.select_from(university.join(student))\n",
    "s = s.group_by(university.c.univ_name, student.c.kurs)\n",
    "\n",
    "print(s)\n",
    "result = conn.execute(s).fetchall()\n",
    "print(len(result))\n",
    "result[:10]"
   ]
  },
  {
   "cell_type": "code",
   "execution_count": 10,
   "id": "cc75905a",
   "metadata": {
    "scrolled": true
   },
   "outputs": [
    {
     "name": "stdout",
     "output_type": "stream",
     "text": [
      "SELECT l.surname, l.name, su.subj_name \n",
      "FROM lecturer AS l JOIN subj_lect AS sl ON l.lecturer_id = sl.lecturer_id JOIN subject AS su ON su.subj_id = sl.subj_id ORDER BY l.surname\n",
      "24\n"
     ]
    },
    {
     "data": {
      "text/plain": [
       "[('Алексеев', 'Елисей', 'ОБЖ'),\n",
       " ('Беляков', 'Мефодий', 'Информатика'),\n",
       " ('Беспалов', 'Юлиан', 'Информатика'),\n",
       " ('Беспалов', 'Юлиан', 'Физкультура'),\n",
       " ('Брагина', 'Нинель', 'ОБЖ'),\n",
       " ('Волков', 'Михаил', 'Английский язык'),\n",
       " ('Волков', 'Михаил', 'Программирование на языках Python и SQL'),\n",
       " ('Дорофеев', 'Прокофий', 'Программирование на языках Python и SQL'),\n",
       " ('Зайцева', 'Юлия', 'История'),\n",
       " ('Зайцева', 'Юлия', 'Теория вероятностей и математическая статистика'),\n",
       " ('Зимин', 'Юлиан', 'Программирование на языках Python и SQL'),\n",
       " ('Колесников', 'Борис', 'Физика'),\n",
       " ('Кудрявцева', 'Анна', 'Информатика'),\n",
       " ('Куликова', 'Ираида', 'Математика'),\n",
       " ('Куликова', 'Ираида', 'История'),\n",
       " ('Лагутин', 'Павел', 'Английский язык'),\n",
       " ('Максимова', 'Иванна', 'Анализ данных'),\n",
       " ('Максимова', 'Иванна', 'Программирование на языках Python и SQL'),\n",
       " ('Мамонтова', 'Акулина', 'Программирование на языках Python и SQL'),\n",
       " ('Никонов', 'Иван', 'История'),\n",
       " ('Сафонова', 'Лукия', 'Английский язык'),\n",
       " ('Струков', 'Николай', 'ОБЖ'),\n",
       " ('Струков', 'Николай', 'Информатика'),\n",
       " ('Тихонов', 'Ладомир', 'Информатика')]"
      ]
     },
     "execution_count": 10,
     "metadata": {},
     "output_type": "execute_result"
    }
   ],
   "source": [
    "\"\"\"\n",
    "2. Покажите фамилии, имена преподавателей и названия предметов, \n",
    "которые они преподают. Отсортировать по фамилии преподавателя.\n",
    "\"\"\"\n",
    "s = select(l.c.surname, l.c.name, su.c.subj_name)\n",
    "s = s.select_from(l)\n",
    "s = s.join(sl)\n",
    "s = s.join(su)\n",
    "s=s.order_by(l.c.surname)\n",
    "\n",
    "print(s)\n",
    "result = conn.execute(s).fetchall()\n",
    "print(len(result))\n",
    "result[:]"
   ]
  },
  {
   "cell_type": "code",
   "execution_count": 11,
   "id": "375df730",
   "metadata": {},
   "outputs": [
    {
     "name": "stdout",
     "output_type": "stream",
     "text": [
      "SELECT l.surname, l.name, su.semester, sum(su.hour) AS hours \n",
      "FROM lecturer AS l JOIN subj_lect AS sl ON l.lecturer_id = sl.lecturer_id JOIN subject AS su ON su.subj_id = sl.subj_id GROUP BY l.surname, l.name, su.semester\n",
      "23\n"
     ]
    },
    {
     "data": {
      "text/plain": [
       "[('Алексеев', 'Елисей', 2, 34),\n",
       " ('Беляков', 'Мефодий', 1, 56),\n",
       " ('Беспалов', 'Юлиан', 1, 56),\n",
       " ('Беспалов', 'Юлиан', 5, 34),\n",
       " ('Брагина', 'Нинель', 2, 34),\n",
       " ('Волков', 'Михаил', 2, 34),\n",
       " ('Волков', 'Михаил', 3, 56),\n",
       " ('Дорофеев', 'Прокофий', 2, 34),\n",
       " ('Зайцева', 'Юлия', 4, 106),\n",
       " ('Зимин', 'Юлиан', 2, 34)]"
      ]
     },
     "execution_count": 11,
     "metadata": {},
     "output_type": "execute_result"
    }
   ],
   "source": [
    "\"\"\"\n",
    "3. Покажите суммарное количество часов каждого преподавателя в каждом семестре.\n",
    "Результат должен содержать фамилию, имя преподавателя, номер семестра, число часов.\n",
    "\"\"\"\n",
    "s = select(l.c.surname, l.c.name, su.c.semester, func.sum(su.c.hour).label('hours'))\n",
    "s = s.select_from(l)\n",
    "s = s.join(sl)\n",
    "s = s.join(su)\n",
    "s = s.group_by(l.c.surname, l.c.name, su.c.semester)\n",
    "\n",
    "print(s)\n",
    "result = conn.execute(s).fetchall()\n",
    "print(len(result))\n",
    "result[:10]"
   ]
  },
  {
   "cell_type": "code",
   "execution_count": 12,
   "id": "7ec45007",
   "metadata": {},
   "outputs": [
    {
     "name": "stdout",
     "output_type": "stream",
     "text": [
      "SELECT DISTINCT u.univ_name, su.subj_name \n",
      "FROM university AS u JOIN lecturer AS l ON u.univ_id = l.univ_id JOIN subj_lect AS sl ON l.lecturer_id = sl.lecturer_id JOIN subject AS su ON su.subj_id = sl.subj_id\n",
      "22\n"
     ]
    },
    {
     "data": {
      "text/plain": [
       "[('ВГУ', 'История'),\n",
       " ('ВГУ', 'ОБЖ'),\n",
       " ('МГУ', 'Английский язык'),\n",
       " ('КФУ', 'Математика'),\n",
       " ('ФГБОУ \"Политех\"', 'Программирование на языках Python и SQL'),\n",
       " ('МГУ', 'ОБЖ'),\n",
       " ('ВГУ', 'Анализ данных'),\n",
       " ('ВГУ', 'Программирование на языках Python и SQL'),\n",
       " ('РГУ', 'Программирование на языках Python и SQL'),\n",
       " ('НГУ', 'Программирование на языках Python и SQL'),\n",
       " ('КФУ', 'История'),\n",
       " ('ФГБОУ \"Политех\"', 'Английский язык'),\n",
       " ('МГТУ им. Баумана', 'Английский язык'),\n",
       " ('ТГУ', 'Информатика'),\n",
       " ('МГУ', 'Информатика'),\n",
       " ('КФУ', 'Информатика'),\n",
       " ('РГУ', 'Информатика'),\n",
       " ('МГТУ им. Баумана', 'Программирование на языках Python и SQL'),\n",
       " ('УЛГУ', 'ОБЖ'),\n",
       " ('ТГУ', 'Физкультура'),\n",
       " ('ВГУ', 'Физика'),\n",
       " ('ВГУ', 'Теория вероятностей и математическая статистика')]"
      ]
     },
     "execution_count": 12,
     "metadata": {},
     "output_type": "execute_result"
    }
   ],
   "source": [
    "\"\"\"\n",
    "4. Составьте список названий университетов вместе с названиями преподаваемых в них предметов.\n",
    "\"\"\"\n",
    "s = select(u.c.univ_name.distinct(), su.c.subj_name)\n",
    "s = s.select_from(u.join(l).join(sl).join(su))\n",
    "\n",
    "print(s)\n",
    "result = conn.execute(s).fetchall()\n",
    "print(len(result))\n",
    "result"
   ]
  },
  {
   "cell_type": "code",
   "execution_count": 13,
   "id": "26e8c0cf",
   "metadata": {},
   "outputs": [
    {
     "name": "stdout",
     "output_type": "stream",
     "text": [
      "SELECT u.univ_name, su.semester, sum(su.hour) AS hours \n",
      "FROM lecturer AS l JOIN university AS u ON u.univ_id = l.univ_id JOIN subj_lect AS sl ON sl.lecturer_id = l.lecturer_id JOIN subject AS su ON sl.subj_id = su.subj_id GROUP BY u.univ_name, su.semester\n",
      "19\n"
     ]
    },
    {
     "data": {
      "text/plain": [
       "[('ВГУ', 1, 76),\n",
       " ('ВГУ', 2, 68),\n",
       " ('ВГУ', 4, 140),\n",
       " ('КФУ', 1, 56),\n",
       " ('КФУ', 2, 56),\n",
       " ('КФУ', 4, 34),\n",
       " ('МГТУ им. Баумана', 2, 34),\n",
       " ('МГТУ им. Баумана', 3, 56),\n",
       " ('МГУ', 1, 56),\n",
       " ('МГУ', 2, 34),\n",
       " ('МГУ', 3, 56),\n",
       " ('НГУ', 2, 34),\n",
       " ('РГУ', 1, 56),\n",
       " ('РГУ', 2, 34),\n",
       " ('ТГУ', 1, 112),\n",
       " ('ТГУ', 5, 34),\n",
       " ('УЛГУ', 2, 34),\n",
       " ('ФГБОУ \"Политех\"', 2, 34),\n",
       " ('ФГБОУ \"Политех\"', 3, 56)]"
      ]
     },
     "execution_count": 13,
     "metadata": {},
     "output_type": "execute_result"
    }
   ],
   "source": [
    "\"\"\"\n",
    "5. Составьте список названий университетов с указанием суммарного количества \n",
    "аудиторных часов в каждом семестре.\n",
    "\"\"\"\n",
    "\n",
    "s = select(u.c.univ_name, su.c.semester, func.sum(su.c.hour).label('hours'))\n",
    "s = s.join_from(l, u, u.c.univ_id==l.c.univ_id)\n",
    "s = s.join(sl, sl.c.lecturer_id==l.c.lecturer_id)\n",
    "s = s.join(su, sl.c.subj_id==su.c.subj_id)\n",
    "s = s.group_by(u.c.univ_name, su.c.semester)\n",
    "\n",
    "print(s)\n",
    "result = conn.execute(s).fetchall()\n",
    "print(len(result))\n",
    "result"
   ]
  },
  {
   "cell_type": "code",
   "execution_count": 14,
   "id": "8e979d85",
   "metadata": {},
   "outputs": [
    {
     "name": "stdout",
     "output_type": "stream",
     "text": [
      "SELECT l.surname, l.name, su.subj_name, su.hour \n",
      "FROM lecturer AS l JOIN subj_lect AS sl ON sl.lecturer_id = l.lecturer_id JOIN subject AS su ON sl.subj_id = su.subj_id ORDER BY l.surname\n",
      "24\n"
     ]
    },
    {
     "data": {
      "text/plain": [
       "[('Алексеев', 'Елисей', 'ОБЖ', 34),\n",
       " ('Беляков', 'Мефодий', 'Информатика', 56),\n",
       " ('Беспалов', 'Юлиан', 'Информатика', 56),\n",
       " ('Беспалов', 'Юлиан', 'Физкультура', 34),\n",
       " ('Брагина', 'Нинель', 'ОБЖ', 34),\n",
       " ('Волков', 'Михаил', 'Английский язык', 56),\n",
       " ('Волков', 'Михаил', 'Программирование на языках Python и SQL', 34),\n",
       " ('Дорофеев', 'Прокофий', 'Программирование на языках Python и SQL', 34),\n",
       " ('Зайцева', 'Юлия', 'История', 34),\n",
       " ('Зайцева', 'Юлия', 'Теория вероятностей и математическая статистика', 72)]"
      ]
     },
     "execution_count": 14,
     "metadata": {},
     "output_type": "execute_result"
    }
   ],
   "source": [
    "\"\"\"\n",
    "6. Сформируйте список преподавателей с указанием суммарного количества часов, \n",
    "отведенных для обучения каждому из предметов.\n",
    "\"\"\"\n",
    "\n",
    "s = select(l.c.surname, l.c.name, su.c.subj_name, su.c.hour)\n",
    "s = s.join(sl, sl.c.lecturer_id==l.c.lecturer_id)\n",
    "s = s.join(su, sl.c.subj_id==su.c.subj_id)\n",
    "s = s.order_by(l.c.surname)\n",
    "\n",
    "print(s)\n",
    "result = conn.execute(s).fetchall()\n",
    "print(len(result))\n",
    "result[:10]"
   ]
  },
  {
   "cell_type": "code",
   "execution_count": 15,
   "id": "89b3ba44",
   "metadata": {},
   "outputs": [
    {
     "name": "stdout",
     "output_type": "stream",
     "text": [
      "SELECT university.univ_name, max(student.stipend) AS max_1 \n",
      "FROM university JOIN student ON university.univ_id = student.univ_id GROUP BY university.univ_name ORDER BY max(student.stipend) DESC\n",
      "12\n"
     ]
    },
    {
     "data": {
      "text/plain": [
       "[('ФинУ', 250),\n",
       " ('УЛГУ', 250),\n",
       " ('ТГУ', 250),\n",
       " ('РГУ', 250),\n",
       " ('НГУ', 250),\n",
       " ('МГУ', 250),\n",
       " ('КФУ', 250),\n",
       " ('ВГУ', 250),\n",
       " ('БГУ', 250),\n",
       " ('ФГБОУ \"Политех\"', 200),\n",
       " ('МГТУ им. Баумана', 200),\n",
       " ('ВГМА', 200)]"
      ]
     },
     "execution_count": 15,
     "metadata": {},
     "output_type": "execute_result"
    }
   ],
   "source": [
    "\"\"\"\n",
    "7. Напишите запрос для сортировки списка названий университетов \n",
    "по значениям максимальной стипендии, выплачиваемой студентам.\n",
    "\"\"\"\n",
    "\n",
    "s = select(university.c.univ_name, func.max(student.c.stipend))\n",
    "s = s.join(student)\n",
    " \n",
    "s = s.group_by(university.c.univ_name)\n",
    "s = s.order_by(func.max(student.c.stipend).desc())\n",
    " \n",
    "print(s)\n",
    "result = conn.execute(s).fetchall()\n",
    "print(len(result))\n",
    "result"
   ]
  },
  {
   "cell_type": "code",
   "execution_count": 16,
   "id": "f57c4e89",
   "metadata": {},
   "outputs": [
    {
     "name": "stdout",
     "output_type": "stream",
     "text": [
      "SELECT u.univ_name, st.surname || :surname_1 || st.name AS anon_1 \n",
      "FROM university AS u JOIN student AS st ON u.univ_id = st.univ_id \n",
      "WHERE date(st.birthday) = (SELECT max(date(st2.birthday)) AS max_1 \n",
      "FROM student AS st2 \n",
      "WHERE st2.univ_id = st.univ_id)\n",
      "12\n"
     ]
    },
    {
     "data": {
      "text/plain": [
       "[('ВГМА', 'Ордуханян Рафаэль'),\n",
       " ('УЛГУ', 'Дуб Елизавета'),\n",
       " ('НГУ', 'Журавлева Вера'),\n",
       " ('ТГУ', 'Пак Ирина'),\n",
       " ('ВГУ', 'Некрасова Вероника'),\n",
       " ('МГТУ им. Баумана', 'Шубина Елена'),\n",
       " ('МГУ', 'Гуляева Рукижат'),\n",
       " ('КФУ', 'Назаров Икром'),\n",
       " ('ФГБОУ \"Политех\"', 'Ситников Викентий'),\n",
       " ('БГУ', 'Владимиров Анатолий'),\n",
       " ('РГУ', 'Иванова Мария'),\n",
       " ('ФинУ', 'Киселев Владимир')]"
      ]
     },
     "execution_count": 16,
     "metadata": {},
     "output_type": "execute_result"
    }
   ],
   "source": [
    "\"\"\"\n",
    "8. Напишите запрос для получения списка названий университетов вместе \n",
    "с фамилиями и именами самых молодых студентов, обучаемых в них.\n",
    "\"\"\"\n",
    "\n",
    "st2 = student.alias('st2')\n",
    "\n",
    "subq = select(func.max(func.date(st2.c.birthday)))\n",
    "subq = subq.where(st2.c.univ_id == st.c.univ_id).scalar_subquery()\n",
    "\n",
    "s = select(u.c.univ_name, st.c.surname + ' ' + st.c.name)\n",
    "s = s.join_from(u, st)\n",
    "s = s.where(func.date(st.c.birthday) == subq)\n",
    "\n",
    "print(s)\n",
    "result = conn.execute(s).fetchall()\n",
    "print(len(result))\n",
    "result"
   ]
  },
  {
   "cell_type": "code",
   "execution_count": 17,
   "id": "1581d723",
   "metadata": {},
   "outputs": [
    {
     "name": "stdout",
     "output_type": "stream",
     "text": [
      "SELECT student.surname, student.name, subject.subj_name, exam_marks.mark \n",
      "FROM student JOIN exam_marks ON student.student_id = exam_marks.student_id JOIN subject ON subject.subj_id = exam_marks.subj_id ORDER BY subject.subj_name\n",
      "47\n"
     ]
    },
    {
     "data": {
      "text/plain": [
       "[('Афанасьева', 'Анжелика', 'Анализ данных', 1),\n",
       " ('Федоров', 'Гостомысл', 'Анализ данных', 1),\n",
       " ('Мельникова', 'Дарья', 'Анализ данных', 2),\n",
       " ('Мишина', 'Светлана', 'Анализ данных', 1),\n",
       " ('Кузнецов', 'Борис', 'Анализ данных', 5),\n",
       " ('Семенова', 'Вероника', 'Английский язык', 4),\n",
       " ('Борисова', 'Марина', 'Английский язык', 5),\n",
       " ('Калашников', 'Евгений', 'Английский язык', 2),\n",
       " ('Пак', 'Ирина', 'Английский язык', 4),\n",
       " ('Вишнякова', 'Анжела', 'Информатика', 1)]"
      ]
     },
     "execution_count": 17,
     "metadata": {},
     "output_type": "execute_result"
    }
   ],
   "source": [
    "\"\"\"\n",
    "9. Сформируйте список фамилий и имён студентов вместе с названиями предметов и оценками,\n",
    "полученными по каждому предмету на экзаменах. Отсортируйте результат по названию предмета\n",
    "\"\"\"\n",
    "\n",
    "s = select(student.c.surname, student.c.name, subject.c.subj_name, exam_marks.c.mark)\n",
    "s = s.select_from(student.join(exam_marks).join(subject))\n",
    "s = s.order_by(subject.c.subj_name)\n",
    "\n",
    "print(s)\n",
    "result = conn.execute(s).fetchall()\n",
    "print(len(result))\n",
    "result[:10]"
   ]
  },
  {
   "cell_type": "code",
   "execution_count": 18,
   "id": "a23032ed",
   "metadata": {},
   "outputs": [
    {
     "name": "stdout",
     "output_type": "stream",
     "text": [
      "SELECT su.subj_name, st.surname, st.name \n",
      "FROM student AS st JOIN exam_marks AS em ON st.student_id = em.student_id JOIN subject AS su ON su.subj_id = em.subj_id \n",
      "WHERE em.mark = (SELECT max(em2.mark) AS max_1 \n",
      "FROM exam_marks AS em2 \n",
      "WHERE em2.subj_id = em.subj_id)\n",
      "14\n"
     ]
    },
    {
     "data": {
      "text/plain": [
       "[('Физкультура', 'Казакова', 'Мария'),\n",
       " ('Физкультура', 'Жук', 'Оксана'),\n",
       " ('Физика', 'Блохина', 'Ираида'),\n",
       " ('История', 'Жданова', 'Ирина'),\n",
       " ('Информатика', 'Мельникова', 'Светлана'),\n",
       " ('Английский язык', 'Борисова', 'Марина'),\n",
       " ('Математика', 'Петрова', 'Екатерина'),\n",
       " ('ОБЖ', 'Васильев', 'Матвей'),\n",
       " ('Анализ данных', 'Кузнецов', 'Борис'),\n",
       " ('История', 'Лапина', 'Элеонора')]"
      ]
     },
     "execution_count": 18,
     "metadata": {},
     "output_type": "execute_result"
    }
   ],
   "source": [
    "\"\"\"\n",
    "10. Напишите запрос для получения списка названий предметов \n",
    "вместе с фамилиями и именами студентов, получивших по данному предмету \n",
    "максимальную оценку. Результат отсортируйте по названию приедмета и по оценке.\n",
    "\"\"\"\n",
    "\n",
    "em2 = exam_marks.alias('em2')\n",
    "\n",
    "subq = select(func.max(em2.c.mark))\n",
    "subq = subq.where(em2.c.subj_id == em.c.subj_id).scalar_subquery()\n",
    "\n",
    "s = select(su.c.subj_name, st.c.surname, st.c.name)\n",
    "s = s.join_from(st, em)\n",
    "s = s.join(su)\n",
    "s = s.where(em.c.mark == subq)\n",
    "\n",
    "print(s)\n",
    "result = conn.execute(s).fetchall()\n",
    "print(len(result))\n",
    "result[:10]"
   ]
  },
  {
   "cell_type": "code",
   "execution_count": 20,
   "id": "bb26cc0b",
   "metadata": {},
   "outputs": [
    {
     "name": "stdout",
     "output_type": "stream",
     "text": [
      "SELECT su.subj_name, st.surname \n",
      "FROM (SELECT em.subj_id AS subj_id, max(em.exam_date) AS max \n",
      "FROM exam_marks AS em GROUP BY em.subj_id) AS anon_1, subject AS su JOIN exam_marks AS em ON em.subj_id = su.subj_id JOIN student AS st ON em.student_id = st.student_id \n",
      "WHERE em.subj_id = anon_1.subj_id AND em.exam_date = max ORDER BY em.exam_date\n",
      "10\n"
     ]
    },
    {
     "data": {
      "text/plain": [
       "[('Математика', 'Иванов'),\n",
       " ('Информатика', 'Ордуханян'),\n",
       " ('Анализ данных', 'Афанасьева'),\n",
       " ('ОБЖ', 'Калашников'),\n",
       " ('Физика', 'Трофимов'),\n",
       " ('Программирование на языках Python и SQL', 'Пак'),\n",
       " ('Английский язык', 'Пак'),\n",
       " ('Обработка данных и моделирование в Excel', 'Мельникова'),\n",
       " ('Физкультура', 'Пак'),\n",
       " ('История', 'Мельникова')]"
      ]
     },
     "execution_count": 20,
     "metadata": {},
     "output_type": "execute_result"
    }
   ],
   "source": [
    "\"\"\"\n",
    "11.Напишите запрос для получения списка предметов вместе с фамилиями студентов, \n",
    "сдававших экзамен по данному предмету последними. Результат упорядочить по дате.\n",
    "\"\"\"\n",
    "\n",
    "sg = select(em.c.subj_id, func.max(em.c.exam_date).label('max'))\n",
    "sg = sg.group_by(em.c.subj_id)\n",
    "sg = sg.subquery()\n",
    "\n",
    "s = select(su.c.subj_name, st.c.surname)\n",
    "s = s.join_from(su, em, em.c.subj_id==su.c.subj_id)\n",
    "s = s.join(st, em.c.student_id==st.c.student_id)\n",
    "s = s.where(em.c.subj_id==sg.c.subj_id)\n",
    "s = s.where(em.c.exam_date==text(\"max\"))\n",
    "s = s.order_by(em.c.exam_date)\n",
    "\n",
    "result = conn.execute(s).fetchall()\n",
    "\n",
    "print(s)\n",
    "result = conn.execute(s).fetchall()\n",
    "print(len(result))\n",
    "result[:10]"
   ]
  },
  {
   "cell_type": "code",
   "execution_count": 32,
   "id": "e19c786a",
   "metadata": {},
   "outputs": [
    {
     "name": "stdout",
     "output_type": "stream",
     "text": [
      "SELECT su.subj_name, st.surname \n",
      "FROM (SELECT em.subj_id AS subj_id, min(em.exam_date) AS min \n",
      "FROM exam_marks AS em GROUP BY em.subj_id \n",
      "HAVING em.mark > :mark_1) AS anon_1, exam_marks AS em JOIN subject AS su ON su.subj_id = em.subj_id JOIN student AS st ON st.student_id = em.student_id \n",
      "WHERE em.subj_id = anon_1.subj_id AND em.exam_date = anon_1.min\n",
      "9\n"
     ]
    },
    {
     "data": {
      "text/plain": [
       "[('Физкультура', 'Казакова'),\n",
       " ('Физкультура', 'Жук'),\n",
       " ('Математика', 'Петрова'),\n",
       " ('История', 'Лапина'),\n",
       " ('Физкультура', 'Сергеева'),\n",
       " ('Информатика', 'Котов'),\n",
       " ('Физика', 'Сидоров'),\n",
       " ('Информатика', 'Белкин'),\n",
       " ('Обработка данных и моделирование в Excel', 'Мельникова')]"
      ]
     },
     "execution_count": 32,
     "metadata": {},
     "output_type": "execute_result"
    }
   ],
   "source": [
    "\"\"\"\n",
    "12. Напишите запрос для получения списка предметов вместе с фамилиями студентов, \n",
    "первыми сдавших (оценка больше двух) экзамен по данному предмету.\n",
    "\"\"\"\n",
    "subq=select(em.c.subj_id,func.min(em.c.exam_date).label('min'))\n",
    "subq=subq.group_by(em.c.subj_id).having(em.c.mark>2).subquery()\n",
    "\n",
    "s=select(su.c.subj_name,st.c.surname)\n",
    "s=s.select_from(em)\n",
    "s=s.join(su).join(st)\n",
    "s=s.where(and_(em.c.subj_id==subq.c.subj_id, em.c.exam_date==subq.c.min))\n",
    "\n",
    "print(s)\n",
    "\n",
    "result=conn.execute(s).fetchall()\n",
    "print(len(result))\n",
    "result"
   ]
  },
  {
   "cell_type": "code",
   "execution_count": 33,
   "id": "fa7969fa",
   "metadata": {},
   "outputs": [
    {
     "name": "stdout",
     "output_type": "stream",
     "text": [
      "SELECT lecturer.surname, count(subj_lect.subj_id) AS count_1 \n",
      "FROM lecturer JOIN subj_lect ON lecturer.lecturer_id = subj_lect.lecturer_id GROUP BY lecturer.lecturer_id \n",
      "HAVING count(subj_lect.subj_id) > :count_2\n",
      "6\n"
     ]
    },
    {
     "data": {
      "text/plain": [
       "[('Зайцева', 2),\n",
       " ('Максимова', 2),\n",
       " ('Куликова', 2),\n",
       " ('Волков', 2),\n",
       " ('Беспалов', 2),\n",
       " ('Струков', 2)]"
      ]
     },
     "execution_count": 33,
     "metadata": {},
     "output_type": "execute_result"
    }
   ],
   "source": [
    "\"\"\"\n",
    "13. Напишите запрос для получения списка преподавателей, преподающих более одного предмета. \n",
    "Отсортируйте результат по фамилии преподавателя.\n",
    "\"\"\"\n",
    "\n",
    "s = select(lecturer.c.surname, func.count(subj_lect.c.subj_id))\n",
    "s = s.select_from(lecturer.join(subj_lect))\\\n",
    ".group_by(lecturer.c.lecturer_id)\\\n",
    ".having(func.count(subj_lect.c.subj_id) > 1)\n",
    "\n",
    "print(s)\n",
    "result = conn.execute(s).fetchall()\n",
    "print(len(result))\n",
    "result\n"
   ]
  },
  {
   "cell_type": "code",
   "execution_count": null,
   "id": "07723f4b",
   "metadata": {},
   "outputs": [],
   "source": [
    "\"\"\"\n",
    "13. С помощью подзапроса.\n",
    "\"\"\"\n",
    "\n"
   ]
  },
  {
   "cell_type": "code",
   "execution_count": 41,
   "id": "d7414164",
   "metadata": {},
   "outputs": [
    {
     "name": "stdout",
     "output_type": "stream",
     "text": [
      "SELECT student.student_id, student.surname, student.name, subject.subj_name \n",
      "FROM student JOIN exam_marks ON student.student_id = exam_marks.student_id JOIN subject ON subject.subj_id = exam_marks.subj_id \n",
      "WHERE exam_marks.mark IS NOT NULL GROUP BY exam_marks.student_id, exam_marks.subj_id \n",
      "HAVING count(exam_marks.exam_id) > :count_1\n",
      "1\n"
     ]
    },
    {
     "data": {
      "text/plain": [
       "[(12, 'Зайцева', 'Ольга', 'Информатика')]"
      ]
     },
     "execution_count": 41,
     "metadata": {},
     "output_type": "execute_result"
    }
   ],
   "source": [
    "\"\"\"\n",
    "14.\n",
    "Напишите запрос для получения списка (без повторов) студентов, \n",
    "сдававших экзамены по какому-либо из предметов более одного раза. \n",
    "Результат должен содержать идентификатор, фамилию, имя студента, название предмета. \n",
    "Результат необходимо упорядочить по идентификатору студента.\n",
    "\"\"\"\n",
    "\n",
    "s = select(student.c.student_id, student.c.surname, student.c.name, subject.c.subj_name)\n",
    "s = s.select_from(student.join(exam_marks).join(subject))\\\n",
    ".where(exam_marks.c.mark!=None)\\\n",
    ".group_by(exam_marks.c.student_id, exam_marks.c.subj_id)\\\n",
    ".having(func.count(exam_marks.c.exam_id) > 1)\n",
    "\n",
    "print(s)\n",
    "result = conn.execute(s).fetchall()\n",
    "print(len(result))\n",
    "result"
   ]
  },
  {
   "cell_type": "code",
   "execution_count": 48,
   "id": "dc4ebf06",
   "metadata": {},
   "outputs": [
    {
     "name": "stdout",
     "output_type": "stream",
     "text": [
      "SELECT DISTINCT university.univ_name, student.surname, exam_marks.mark \n",
      "FROM university JOIN student ON university.univ_id = student.univ_id JOIN exam_marks ON student.student_id = exam_marks.student_id \n",
      "WHERE exam_marks.mark < :mark_1 GROUP BY student.student_id, exam_marks.mark ORDER BY student.surname\n",
      "18\n"
     ]
    },
    {
     "data": {
      "text/plain": [
       "[('РГУ', 'Афанасьева', 1),\n",
       " ('НГУ', 'Веселов', 2),\n",
       " ('ФГБОУ \"Политех\"', 'Вишнякова', 1),\n",
       " ('БГУ', 'Вячеслав', 2),\n",
       " ('НГУ', 'Жуков', 1),\n",
       " ('ВГУ', 'Зайцева', 2),\n",
       " ('ВГУ', 'Иванов', 1),\n",
       " ('РГУ', 'Казакова', 1),\n",
       " ('УЛГУ', 'Калашников', 2),\n",
       " ('ВГУ', 'Мельникова', 2),\n",
       " ('ВГМА', 'Мишина', 1),\n",
       " ('ФинУ', 'Одинцова', 1),\n",
       " ('ВГМА', 'Ордуханян', 2),\n",
       " ('ВГУ', 'Сергеева', 1),\n",
       " ('УЛГУ', 'Сорокина', 1),\n",
       " ('БГУ', 'Суханов', 1),\n",
       " ('НГУ', 'Трофимов', 2),\n",
       " ('ВГУ', 'Федоров', 1)]"
      ]
     },
     "execution_count": 48,
     "metadata": {},
     "output_type": "execute_result"
    }
   ],
   "source": [
    "\"\"\"\n",
    "15. Напишите запрос для получения списка названий университетов \n",
    "вместе с фамилиями студентов, получивших хотя бы одну неудовлетворительную оценку. \n",
    "Результат отсортируйте по названию университета.\n",
    "\"\"\"\n",
    "s = select(university.c.univ_name, student.c.surname, exam_marks.c.mark).distinct()\n",
    "s = s.select_from(university.join(student).join(exam_marks))\n",
    "s = s.where(exam_marks.c.mark < 3)\n",
    "s = s.order_by(student.c.surname)\n",
    "\n",
    "s = s.group_by(student.c.student_id, exam_marks.c.mark)\n",
    "#s = s.having(exam_marks.c.mark < 3)\n",
    "#s = s.order_by(student.c.surname)\n",
    "\n",
    "print(s)\n",
    "result = conn.execute(s).fetchall()\n",
    "print(len(result))\n",
    "result"
   ]
  },
  {
   "cell_type": "code",
   "execution_count": 52,
   "id": "24efd4b8",
   "metadata": {},
   "outputs": [
    {
     "name": "stdout",
     "output_type": "stream",
     "text": [
      "SELECT l.lecturer_id, l.surname, su.subj_id, su.subj_name, su.hour, su.semester \n",
      "FROM lecturer AS l JOIN subj_lect AS sl ON l.lecturer_id = sl.lecturer_id JOIN subject AS su ON su.subj_id = sl.subj_id \n",
      "WHERE l.surname = :surname_1 ORDER BY su.subj_name\n",
      "1\n"
     ]
    },
    {
     "data": {
      "text/plain": [
       "[(24, 'Колесников', 22, 'Физика', 34, 1)]"
      ]
     },
     "execution_count": 52,
     "metadata": {},
     "output_type": "execute_result"
    }
   ],
   "source": [
    "\"\"\"\n",
    "16. Напишите запрос, выполняющий вывод данных о предметах обучения, которые преподает Колесников.\n",
    "Распечатайте фамилию преподавателя и все столбцы таблицы предметов.\n",
    "Результат отсортируйте по названию предмета.\n",
    "\"\"\"\n",
    "\n",
    "s = select(l.c.lecturer_id, l.c.surname, su)\n",
    "s=s.select_from(l)\n",
    "s=s.join(sl).join(su)\n",
    "s=s.where(l.c.surname=='Колесников').order_by(su.c.subj_name)\n",
    "\n",
    "print(s)\n",
    "result = conn.execute(s).fetchall()\n",
    "print(len(result))\n",
    "result"
   ]
  },
  {
   "cell_type": "code",
   "execution_count": 63,
   "id": "201c93ac",
   "metadata": {},
   "outputs": [
    {
     "name": "stdout",
     "output_type": "stream",
     "text": [
      "SELECT DISTINCT l.lecturer_id, l.name, l.surname \n",
      "FROM lecturer AS l JOIN subj_lect AS sl ON l.lecturer_id = sl.lecturer_id JOIN subject AS su ON su.subj_id = sl.subj_id \n",
      "WHERE EXISTS (SELECT su2.subj_id, su2.subj_name, su2.hour, su2.semester \n",
      "FROM subject AS su2 JOIN subj_lect AS sl2 ON su2.subj_id = sl2.subj_id JOIN lecturer AS l2 ON l2.lecturer_id = sl2.lecturer_id \n",
      "WHERE su2.semester != su.semester AND l2.lecturer_id = l.lecturer_id) ORDER BY l.surname\n",
      "5\n"
     ]
    },
    {
     "data": {
      "text/plain": [
       "[(22, 'Юлиан', 'Беспалов'),\n",
       " (16, 'Михаил', 'Волков'),\n",
       " (11, 'Ираида', 'Куликова'),\n",
       " (6, 'Иванна', 'Максимова'),\n",
       " (108, 'Николай', 'Струков')]"
      ]
     },
     "execution_count": 63,
     "metadata": {},
     "output_type": "execute_result"
    }
   ],
   "source": [
    "\"\"\"\n",
    "17. Напишите запрос, выполняющий вывод идентификаторов, имен и фамилий преподавателей, \n",
    "проводящих занятия в двух и более семестрах. Отсортируйте результат по фамилии преподавателя.\n",
    "\"\"\"\n",
    "\n",
    "su2 = subject.alias('su2')\n",
    "l2 = lecturer.alias('l2')\n",
    "sl2 = subj_lect.alias('sl2')\n",
    "\n",
    "subq = select(su2)\n",
    "subq = subq.select_from(su2)\n",
    "subq = subq.join(sl2)\n",
    "subq = subq.join(l2)\n",
    "subq = subq.where(su2.c.semester != su.c.semester).\\\n",
    "where(l2.c.lecturer_id == l.c.lecturer_id).exists()\n",
    "\n",
    "s = select(l.c.lecturer_id, l.c.name, l.c.surname).distinct()\n",
    "s = s.select_from(l).join(sl).join(su)\n",
    "s = s.where(subq)\n",
    "s = s.order_by(l.c.surname)\n",
    "\n",
    "print(s)\n",
    "result = conn.execute(s).fetchall()\n",
    "print(len(result))\n",
    "result"
   ]
  },
  {
   "cell_type": "code",
   "execution_count": 66,
   "id": "f6ce121d",
   "metadata": {},
   "outputs": [
    {
     "name": "stdout",
     "output_type": "stream",
     "text": [
      "SELECT sum(subject.hour) AS sum_1 \n",
      "FROM lecturer JOIN subj_lect ON lecturer.lecturer_id = subj_lect.lecturer_id JOIN subject ON subject.subj_id = subj_lect.subj_id \n",
      "WHERE lecturer.surname = :surname_1\n",
      "1\n"
     ]
    },
    {
     "data": {
      "text/plain": [
       "[(56,)]"
      ]
     },
     "execution_count": 66,
     "metadata": {},
     "output_type": "execute_result"
    }
   ],
   "source": [
    "\"\"\"\n",
    "18. Напишите запрос, выполняющий вывод количества часов занятий, \n",
    "проводимых преподавателем Лагутиным. Результат должен содержать одно число - количество часов.\n",
    "\"\"\"\n",
    "\n",
    "s = select(func.sum(subject.c.hour))\n",
    "s = s.select_from(lecturer.join(subj_lect).join(subject))\n",
    "s = s.where(lecturer.c.surname == \"Лагутин\")\n",
    "\n",
    "print(s)\n",
    "result = conn.execute(s).fetchall()\n",
    "print(len(result))\n",
    "result"
   ]
  },
  {
   "cell_type": "code",
   "execution_count": 68,
   "id": "7a250498",
   "metadata": {},
   "outputs": [
    {
     "name": "stdout",
     "output_type": "stream",
     "text": [
      "SELECT lecturer.surname \n",
      "FROM lecturer JOIN subj_lect ON lecturer.lecturer_id = subj_lect.lecturer_id JOIN subject ON subject.subj_id = subj_lect.subj_id GROUP BY lecturer.lecturer_id \n",
      "HAVING sum(subject.hour) > (SELECT sum(subject.hour) AS sum_1 \n",
      "FROM lecturer JOIN subj_lect ON lecturer.lecturer_id = subj_lect.lecturer_id JOIN subject ON subject.subj_id = subj_lect.subj_id \n",
      "WHERE lecturer.surname = :surname_1) ORDER BY lecturer.surname\n",
      "6\n"
     ]
    },
    {
     "data": {
      "text/plain": [
       "[('Беспалов',),\n",
       " ('Волков',),\n",
       " ('Зайцева',),\n",
       " ('Куликова',),\n",
       " ('Максимова',),\n",
       " ('Струков',)]"
      ]
     },
     "execution_count": 68,
     "metadata": {},
     "output_type": "execute_result"
    }
   ],
   "source": [
    "\"\"\"\n",
    "19. Напишите запрос, выполняющий вывод фамилий преподавателей, \n",
    "учебная нагрузка которых (количество учебных часов) превышает нагрузку \n",
    "преподавателя Лагутина. Список преподавателей отсортируйте по возрастанию.\n",
    "\"\"\"\n",
    "\n",
    "sq = select(func.sum(subject.c.hour))\n",
    "sq = sq.select_from(lecturer.join(subj_lect).join(subject))\n",
    "sq = sq.where(lecturer.c.surname == \"Лагутин\").scalar_subquery()\n",
    "\n",
    "s = select(lecturer.c.surname)\n",
    "s = s.select_from(lecturer.join(subj_lect).join(subject))\n",
    "s = s.group_by(lecturer.c.lecturer_id)\n",
    "s = s.having(func.sum(subject.c.hour) > sq)\n",
    "s = s.order_by(lecturer.c.surname)\n",
    "\n",
    "print(s)\n",
    "result = conn.execute(s).fetchall()\n",
    "print(len(result))\n",
    "result"
   ]
  },
  {
   "cell_type": "code",
   "execution_count": 69,
   "id": "984e8871",
   "metadata": {},
   "outputs": [
    {
     "name": "stdout",
     "output_type": "stream",
     "text": [
      "SELECT lecturer.surname, lecturer.name, university.univ_name \n",
      "FROM lecturer JOIN university ON university.univ_id = lecturer.univ_id \n",
      "WHERE university.rating < :rating_1 ORDER BY lecturer.surname\n",
      "20\n"
     ]
    },
    {
     "data": {
      "text/plain": [
       "[('Алексеев', 'Елисей', 'ВГУ'),\n",
       " ('Артемьева', 'Майя', 'ВГМА'),\n",
       " ('Богданова', 'Оксана', 'ВГМА'),\n",
       " ('Брагина', 'Нинель', 'УЛГУ'),\n",
       " ('Дмитриева', 'Оксана', 'УЛГУ'),\n",
       " ('Елисеев', 'Виссарион', 'УЛГУ'),\n",
       " ('Зайцева', 'Юлия', 'ВГУ'),\n",
       " ('Зимин', 'Юлиан', 'ФГБОУ \"Политех\"'),\n",
       " ('Зыкова', 'Оксана', 'ВГУ'),\n",
       " ('Колесников', 'Борис', 'ВГУ'),\n",
       " ('Крюкова', 'Людмила', 'ВГМА'),\n",
       " ('Максимова', 'Иванна', 'ВГУ'),\n",
       " ('Мамонтова', 'Акулина', 'НГУ'),\n",
       " ('Николаев', 'Виктор', 'ВГУ'),\n",
       " ('Никонов', 'Иван', 'ВГУ'),\n",
       " ('Сафонов', 'Будимир', 'ВГМА'),\n",
       " ('Сафонова', 'Лукия', 'ФГБОУ \"Политех\"'),\n",
       " ('Ситникова', 'Светлана', 'ВГМА'),\n",
       " ('Сорокин', 'Андрей', 'ВГУ'),\n",
       " ('Стрелков', 'Руслан', 'ФГБОУ \"Политех\"')]"
      ]
     },
     "execution_count": 69,
     "metadata": {},
     "output_type": "execute_result"
    }
   ],
   "source": [
    "\"\"\"\n",
    "20. Напишите запрос, выполняющий вывод фамилий и имён преподавателей университетов \n",
    "с рейтингом, меньшим 350. Распечатайте фамилию, имя преподавателя, \n",
    "название университета. Отсортируйте по фамили преподавателя.\n",
    "\"\"\"\n",
    "\n",
    "s = select(lecturer.c.surname, lecturer.c.name, university.c.univ_name) \n",
    "s = s.select_from(lecturer.join(university)) \n",
    "s = s.where(university.c.rating < 350) \n",
    "s = s.order_by(lecturer.c.surname) \n",
    "\n",
    "print(s) \n",
    "result = conn.execute(s).fetchall() \n",
    "print(len(result)) \n",
    "result"
   ]
  },
  {
   "cell_type": "code",
   "execution_count": 70,
   "id": "4d72006f",
   "metadata": {},
   "outputs": [
    {
     "name": "stdout",
     "output_type": "stream",
     "text": [
      "SELECT sum(su.hour) AS sum_1 \n",
      "FROM subject AS su JOIN subj_lect AS sl ON sl.subj_id = su.subj_id JOIN lecturer AS l ON l.lecturer_id = sl.lecturer_id JOIN university AS u ON l.univ_id = u.univ_id \n",
      "WHERE u.univ_name = :univ_name_1 AND su.semester IN ([POSTCOMPILE_semester_1])\n",
      "1\n"
     ]
    },
    {
     "data": {
      "text/plain": [
       "[(144,)]"
      ]
     },
     "execution_count": 70,
     "metadata": {},
     "output_type": "execute_result"
    }
   ],
   "source": [
    "\"\"\"\n",
    "21. Напишите запрос, выполняющий вывод общего количества учебных часов занятий, \n",
    "проводимых для студентов первого курса ВГУ.\n",
    "\"\"\"\n",
    "\n",
    "s = select(func.sum(su.c.hour))\\\n",
    ".filter(u.c.univ_name == 'ВГУ')\\\n",
    ".filter(su.c.semester.in_((1,2)))\n",
    "q = su.join(sl, sl.c.subj_id ==  su.c.subj_id)\n",
    "q = q.join(l, l.c.lecturer_id == sl.c.lecturer_id)\n",
    "q = q.join(u, l.c.univ_id == u.c.univ_id)\n",
    "s = s.select_from(q)\n",
    "\n",
    "print(s)\n",
    "result = conn.execute(s).fetchall()\n",
    "print(len(result))\n",
    "result"
   ]
  },
  {
   "cell_type": "code",
   "execution_count": 71,
   "id": "153454fb",
   "metadata": {},
   "outputs": [
    {
     "name": "stdout",
     "output_type": "stream",
     "text": [
      "SELECT avg(su.hour) AS avg_1 \n",
      "FROM subject AS su JOIN subj_lect AS sl ON sl.subj_id = su.subj_id JOIN lecturer AS l ON l.lecturer_id = sl.lecturer_id JOIN university AS u ON l.univ_id = u.univ_id \n",
      "WHERE u.univ_name = :univ_name_1 AND su.semester IN ([POSTCOMPILE_semester_1])\n",
      "1\n"
     ]
    },
    {
     "data": {
      "text/plain": [
       "[(46.666666666666664,)]"
      ]
     },
     "execution_count": 71,
     "metadata": {},
     "output_type": "execute_result"
    }
   ],
   "source": [
    "\"\"\"\n",
    "22. Напишите запрос, выполняющий вывод среднего количества учебных часов предметов обучения,\n",
    "преподаваемых студентам второго курса ВГУ.\n",
    "\"\"\"\n",
    "\n",
    "s = select(func.avg(su.c.hour))\\\n",
    ".filter(u.c.univ_name == 'ВГУ')\\\n",
    ".filter(su.c.semester.in_((3,4)))\n",
    "q = su.join(sl, sl.c.subj_id == su.c.subj_id)\n",
    "q = q.join(l, l.c.lecturer_id == sl.c.lecturer_id)\n",
    "q = q.join(u, l.c.univ_id == u.c.univ_id)\n",
    "s = s.select_from(q)\n",
    "\n",
    "print(s)\n",
    "result = conn.execute(s).fetchall()\n",
    "print(len(result))\n",
    "result"
   ]
  },
  {
   "cell_type": "code",
   "execution_count": 77,
   "id": "633f589f",
   "metadata": {},
   "outputs": [
    {
     "name": "stdout",
     "output_type": "stream",
     "text": [
      "SELECT st.student_id, st.surname \n",
      "FROM student AS st JOIN exam_marks AS em ON st.student_id = em.student_id JOIN subject AS su ON su.subj_id = em.subj_id \n",
      "WHERE em.mark = :mark_1 GROUP BY su.semester, em.student_id \n",
      "HAVING count(*) > :count_1 ORDER BY st.surname\n",
      "0\n"
     ]
    },
    {
     "data": {
      "text/plain": [
       "[]"
      ]
     },
     "execution_count": 77,
     "metadata": {},
     "output_type": "execute_result"
    }
   ],
   "source": [
    "\"\"\"\n",
    "23. Напишите запрос, выполняющий вывод списка фамилий студентов, \n",
    "имеющих две или более отличных оценок в каждом семестре.\n",
    "\"\"\"\n",
    "s = select(st.c.student_id, st.c.surname).where(em.c.mark==5)\n",
    "s = s.select_from(st)\n",
    "s = s.join(em)\n",
    "s = s.join(su)\n",
    "s = s.group_by(su.c.semester, em.c.student_id).having(func.count()>2)\n",
    "s = s.order_by(st.c.surname)\n",
    "\n",
    "\n",
    "print(s)\n",
    "result = conn.execute(s).fetchall()\n",
    "print(len(result))\n",
    "result"
   ]
  }
 ],
 "metadata": {
  "kernelspec": {
   "display_name": "Python 3 (ipykernel)",
   "language": "python",
   "name": "python3"
  },
  "language_info": {
   "codemirror_mode": {
    "name": "ipython",
    "version": 3
   },
   "file_extension": ".py",
   "mimetype": "text/x-python",
   "name": "python",
   "nbconvert_exporter": "python",
   "pygments_lexer": "ipython3",
   "version": "3.9.7"
  }
 },
 "nbformat": 4,
 "nbformat_minor": 5
}
