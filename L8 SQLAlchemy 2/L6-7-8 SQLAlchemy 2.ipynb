{
 "cells": [
  {
   "cell_type": "markdown",
   "id": "412ecfad",
   "metadata": {},
   "source": [
    "<img src=\"../Img/Python_SQL_PI.png\" style=\"width:100%\">"
   ]
  },
  {
   "cell_type": "markdown",
   "id": "3b57e38e",
   "metadata": {},
   "source": [
    "<p style=\"font-size:180%;text-align:center\">Лекция 6. Библиотека SQLAlchemy 2.0</p>\n",
    "\n",
    "<br><br>\n",
    "21 апреля 2022 года, чт., В4/3501 (4-й Вешняковский проезд, 4), 6-я пара, 17:20 - 18:50 <br>\n",
    "Поток: ПИ20-1, ПИ20-2, ПИ20-3 <br>\n",
    "\n",
    "25 апреля 2022 года, пн., Щ38/512 (ул. Щербаковская, 38), 1-я пара, 08:30 - 10:00 <br>\n",
    "Поток: ПИ20-4, ПИ20-5, ПИ20-6 <br>\n",
    "\n",
    "Смирнов Михаил Викторович, доцент Департамента анализа данных и машинного обучения Финансового университета при Правительстве Российской Федерации. mvsmirnov@fa.ru\n",
    "\n",
    "<p style=\"text-align:center\">Москва - 2022</p>\n",
    "\n",
    "<br><br>\n",
    "\n",
    "<p style=\"font-size:180%;text-align:center\">Лекция 7. Библиотека SQLAlchemy 2.0, продолжение</p>\n",
    "\n",
    "<br><br>\n",
    "5 мая 2022 года, чт., В4/3501 (4-й Вешняковский проезд, 4), 6-я пара, 17:20 - 18:50 <br>\n",
    "Поток: ПИ20-1, ПИ20-2, ПИ20-3 <br>\n",
    "\n",
    "23 мая 2022 года, пн., Щ38/512 (ул. Щербаковская, 38), 1-я пара, 08:30 - 10:00 <br>\n",
    "Поток: ПИ20-4, ПИ20-5, ПИ20-6 <br>\n",
    "\n",
    "Смирнов Михаил Викторович, доцент Департамента анализа данных и машинного обучения Финансового университета при Правительстве Российской Федерации. mvsmirnov@fa.ru\n",
    "\n",
    "<p style=\"text-align:center\">Москва - 2022</p>\n",
    "\n",
    "<br><br>\n",
    "<p style=\"font-size:180%;text-align:center\">Лекция 8. Библиотека SQLAlchemy 2.0, продолжение</p>\n",
    "<br><br>\n",
    "\n",
    "19 мая 2022 года, чт., В4/3501 (4-й Вешняковский проезд, 4), 6-я пара, 17:20 - 18:50 <br>\n",
    "Поток: ПИ20-1, ПИ20-2, ПИ20-3 <br>\n",
    "\n",
    "6 июня 2022 года, пн., Щ38/512 (ул. Щербаковская, 38), 1-я пара, 08:30 - 10:00 <br>\n",
    "Поток: ПИ20-4, ПИ20-5, ПИ20-6 <br>\n",
    "\n",
    "Смирнов Михаил Викторович, доцент Департамента анализа данных и машинного обучения Финансового университета при Правительстве Российской Федерации. mvsmirnov@fa.ru\n",
    "\n",
    "<p style=\"text-align:center\">Москва - 2022</p>\n",
    "<br><br>\n",
    "\n",
    "При подготовке лекций использовались источники\n",
    "- Essential SQLAlchemy: Mapping Python to Databases 2nd Edition. Jason Myers, Rick Copeland. O'Reilly Media, Inc. 2015.\n",
    "- Официальный сайт СУБД sqlite https://sqlite.org\n",
    "- Официальный сайт библиотеки SQLAlchemy https://www.sqlalchemy.org/\n",
    "<br><br>\n",
    "\n",
    "SQLAlchemy реализует два API: Core — ядро и ORM - объектно-реляционное сопоставление.\n",
    "\n",
    "**SQLAlchemy Core** является базовой архитектурой для SQLAlchemy как «набора инструментов для работы с базами данных». Библиотека предоставляет инструменты для управления подключением к базе данных, взаимодействия с запросами и результатами базы данных, а также для программного использования SQL-выражений.\n",
    "\n",
    "**SQLAlchemy ORM** основывается на Core, предоставляя дополнительные возможности реляционного сопоставления объектов.\n",
    "ORM предоставляет дополнительный уровень конфигурации, позволяющий сопоставлять пользовательские классы Python с таблицами базы данных и другими конструкциями, а также механизм, известный как сеанс. Затем он расширяет язык выражений SQL базового уровня, позволяя составлять и вызывать SQL-запросы в терминах пользовательских объектов.\n",
    "\n",
    "<Table align=left>\n",
    "<tr><td bgcolor=#0dcaf0></td><td style=\"text-align:left;font-size:10pt\">\n",
    "Таким цветом слева будут отмечены сведения, принципиально важные для ORM-подхода.\n",
    "</td></tr></Table>\n",
    "\n",
    "<br><br>\n",
    "<a id = Home></a>\n",
    "\n",
    "<p style=\"font-size:150%\"> Оглавление </p>\n",
    "\n",
    "1. [Механизм подключения к базе данных](#1)\n",
    "2. [Транзакции и программный интерфейс приложения](#2)\n",
    "3. [Метаданные базы данных](#3)\n",
    "4. [Работа с данными](#4)<br>\n",
    "    4.1. [Вставка с помощью Core](#41)<br>\n",
    "    4.2. [Селекция строк с помощью Core и ORM](#42)<br>\n",
    "    4.3. [Обновление и удаление строк с помощью Core](#43)\n",
    "5. [Обработка данных с помощью ORM](#5)<br>\n",
    "    5.1. [Вставка строк с помощью ORM](#51)<br>\n",
    "    5.2. [Обновление ORM-объектов](#52)<br>\n",
    "6. [Обработка связанных объектов](#6)<br>"
   ]
  },
  {
   "cell_type": "markdown",
   "id": "8c7b58b9",
   "metadata": {},
   "source": [
    "<p style=\"font-size:150%\"> Проверка версии SQLAlchemy </p>\n",
    "\n",
    "Для выполнения кода примеров требуется версия SQLAlchemy 1.4."
   ]
  },
  {
   "cell_type": "code",
   "execution_count": 1,
   "id": "17389713",
   "metadata": {},
   "outputs": [
    {
     "data": {
      "text/plain": [
       "'1.4.22'"
      ]
     },
     "execution_count": 1,
     "metadata": {},
     "output_type": "execute_result"
    }
   ],
   "source": [
    "# Проверка версии SQL Alchemy\n",
    "import sqlalchemy\n",
    "sqlalchemy.__version__"
   ]
  },
  {
   "cell_type": "markdown",
   "id": "9b576a06",
   "metadata": {},
   "source": [
    "<p style=\"font-size:150%\"> Версия 1.4 в стиле 2.0 </p>\n",
    "\n",
    "Планируемая следующая версия SQLAlchemy — это верстия 2.0. В версии 1.4 уже реализован интерфейс в стиле 2.0, и чтобы его использовать, введен параметр `future`."
   ]
  },
  {
   "cell_type": "markdown",
   "id": "f4ed46e4",
   "metadata": {},
   "source": [
    "<a id=1></a>\n",
    "\n",
    "[К оглавлению](#Home)\n",
    "\n",
    "# 1. Механизм подключения к базе данных\n",
    "\n",
    "Начало любого приложения SQLAlchemy — это объект, называемый *Engine* (механизм, движок). Этот объект действует как центральный источник подключения к базе данных, предоставляя как движок, так и пространство хранения, называемое пулом подключений к базой данных. Механизм обычно представляет собой глобальный объект, создаваемый для определенного сервера базы данных и настроенный с использованием строки URL-адреса хоста базы данных или серверной части.\n",
    "\n",
    "В этой лекции мы будем использовать базу данных SQLite в памяти. Это простой способ протестировать функциональность, не требуя создания новой реальной, либо уже существующей базы данных. Движок создается с помощью функции *create_engine()*. В качестве одного из аргументов используем `future=True`, чтобы начать работу в стиле 2.0."
   ]
  },
  {
   "cell_type": "code",
   "execution_count": 2,
   "id": "f0f711eb",
   "metadata": {},
   "outputs": [],
   "source": [
    "from sqlalchemy import create_engine\n",
    "engine = create_engine(\"sqlite+pysqlite:///:memory:\", echo=True, future=True)"
   ]
  },
  {
   "cell_type": "markdown",
   "id": "4eb2ab50",
   "metadata": {},
   "source": [
    "Параметр в виде строки URL укзаывает на три вещи:\n",
    "1. Название СУБД, в данном случае это *sqlite*.\n",
    "2. Программный интерфейс приложения для работы с БД, *pysqlite*.\n",
    "3. Название и местонахождение БД, в данном случае в памяти.\n",
    "\n",
    "<p style=\"font-size:125%\">Ленивое подключение</p>\n",
    "\n",
    "Создание движка *engine* само по себе не приводит к подключению к базе данных до тех пор, пока движок не получит какое-либо задание.\n",
    "\n",
    "Мы установили значение парметра *future=True*, чтобы использовать стиль версии 2.0:\n",
    "Мы также установили параметр *echo=True*, чтобы движок журналировал SQL команды. "
   ]
  },
  {
   "cell_type": "markdown",
   "id": "9dfde4f4",
   "metadata": {},
   "source": [
    "<a id=2></a>\n",
    "[К оглавлению](#Home)\n",
    "\n",
    "# 2. Транзакции и программный интерфейс приложения\n",
    "\n",
    "Теперь, когда объект *Engine* готов к работе, изучим базовую работу движка и его основные интерактивные конечные точки, *Connection* и *Result*. Мы дополнительно представим фасад *ORM* для этих объектов, известный как *Session*.\n",
    "\n",
    "<Table>\n",
    "<tr><td bgcolor=#0dcaf0></td><td style=\"text-align:left;font-size:10pt\">\n",
    "    При использовании <i>ORM</i> движок управляется другим объектом, называемым <i>сеансом — Session</i>. Сеанс в SQLAlchemy подчеркивает транзакционный способ выполнения, который в значительной степени идентичен объекту <i>Connection</i>, обсуждаемому ниже. Поэтому, хотя этот подраздел ориентирован на пользователей <i>Core</i>, все концепции здесь по существу также относятся к использованию <i>ORM</i>. В конце этого раздела рассмотрим отличия шаблона выполнения <i>Connection</i> от шаблона <i>Session</i> .\n",
    "</td></tr></Table>\n",
    "\n",
    "Поскольку нам еще только предстоит знакомство с языком выражений *SQLAlchemy*, который является основным для этой библиотеки, мы будем здесь использовать функцию, называемую *text()*, которая позволяет нам писать операторы *SQL* как текст. Отметим, что текстовый SQL в повседневном использовании SQLAlchemy является скорее исключением, чем правилом для большинства задач, хотя он всегда остается полностью доступным.\n",
    "\n",
    "<p style=\"font-size:150%\">2.1. Организация подключения </p>\n",
    "\n",
    "Единственная цель объекта Engine с точки зрения пользователя — предоставить подключение к базе данных, называемое *Connection*. При работе с *Core* напрямую объект *Connection* обеспечивает взаимодействие с базой данных. Поскольку подключение представляет собой открытый ресурс для базы данных, мы хотим всегда ограничивать область использования этого объекта определенным контекстом, и лучший способ сделать это — использовать форму диспетчера контекста Python, также известную как оператор *with*. Проиллюстрируем выполнение выражения текстовой строки «Hello World» с помощью текстового оператора SQL."
   ]
  },
  {
   "cell_type": "code",
   "execution_count": 3,
   "id": "faaec22b",
   "metadata": {},
   "outputs": [
    {
     "name": "stdout",
     "output_type": "stream",
     "text": [
      "2022-05-19 11:10:08,730 INFO sqlalchemy.engine.Engine BEGIN (implicit)\n",
      "2022-05-19 11:10:08,731 INFO sqlalchemy.engine.Engine select 'hello world'\n",
      "2022-05-19 11:10:08,732 INFO sqlalchemy.engine.Engine [generated in 0.00224s] ()\n",
      "[('hello world',)]\n",
      "2022-05-19 11:10:08,733 INFO sqlalchemy.engine.Engine ROLLBACK\n"
     ]
    }
   ],
   "source": [
    "from sqlalchemy import text\n",
    "\n",
    "with engine.connect() as conn:\n",
    "    result = conn.execute(text(\"select 'hello world'\"))\n",
    "    print(result.all())"
   ]
  },
  {
   "cell_type": "markdown",
   "id": "e337289c",
   "metadata": {},
   "source": [
    "В приведенном примере диспетчер контекста обеспечил подключение к базе данных, а также поместил операцию в транзакцию. Использование Python DBAPI по умолчанию означает то, что транзакция всегда выполняется. Когда операция завершается, выдается ROLLBACK для завершения транзакции. Транзакция не фиксируется автоматически. Когда мы хотим зафиксировать изменения, нам нужно вызвать `Connection.commit()`."
   ]
  },
  {
   "cell_type": "markdown",
   "id": "e3130516",
   "metadata": {},
   "source": [
    "<p style=\"font-size:150%\">2.2. Завершение изменений</p>\n",
    "\n",
    "Итак, объект соединения не завершает изменения по умолчанию. Что надо сделать, чтобы завершить изменения? покажем это на примере. Создадим таблицу, вставим в неё данные, а затем завершим изменения с помощью метода `Connection.commit()` внутри той же области, в которой мы с помощью диспетчера контекста создали объект соединения."
   ]
  },
  {
   "cell_type": "code",
   "execution_count": 4,
   "id": "fc8645f5",
   "metadata": {},
   "outputs": [
    {
     "name": "stdout",
     "output_type": "stream",
     "text": [
      "2022-05-19 11:10:08,821 INFO sqlalchemy.engine.Engine BEGIN (implicit)\n",
      "2022-05-19 11:10:08,822 INFO sqlalchemy.engine.Engine CREATE TABLE some_table (x int, y int)\n",
      "2022-05-19 11:10:08,822 INFO sqlalchemy.engine.Engine [generated in 0.00119s] ()\n",
      "2022-05-19 11:10:08,824 INFO sqlalchemy.engine.Engine INSERT INTO some_table (x, y) VALUES (?, ?)\n",
      "2022-05-19 11:10:08,824 INFO sqlalchemy.engine.Engine [generated in 0.00049s] ((1, 1), (2, 4))\n",
      "2022-05-19 11:10:08,825 INFO sqlalchemy.engine.Engine COMMIT\n"
     ]
    }
   ],
   "source": [
    "# \"commit as you go\"\n",
    "with engine.connect() as conn:\n",
    "    conn.execute(text(\"CREATE TABLE some_table (x int, y int)\"))\n",
    "    conn.execute(text(\"INSERT INTO some_table (x, y) VALUES (:x, :y)\"),\n",
    "                 [{\"x\": 1, \"y\": 1}, {\"x\": 2, \"y\": 4}])\n",
    "    conn.commit()"
   ]
  },
  {
   "cell_type": "markdown",
   "id": "b4934967",
   "metadata": {},
   "source": [
    "Мы создали два оператора SQL, которые обычно являются транзакционными: оператор *CREATE TABLE* и параметризованный оператор *INSERT* (приведенный выше синтаксис параметризации обсуждается несколькими разделами ниже в разделе «Отправка нескольких параметров»). Поскольку мы хотим, чтобы проделанная нами работа была зафиксирована в нашем блоке, мы вызываем метод `Connection.commit()`, который завершает транзакцию. После того, как мы вызовем этот метод внутри блока, мы можем продолжить выполнение других операторов SQL, и, если мы захотим, мы можем снова вызвать `Connection.commit()` для последующих операторов. SQLAlchemy относится к этому стилю как к «фиксации по ходу» выполнения - «commit as you go».\n",
    "\n",
    "Существует также другой стиль фиксации данных, который заключается в том, что мы можем заранее объявить наш блок «подключения» блоком транзакции. Для этого режима работы мы используем метод `Engine.begin()` для получения соединения, а не метод `Engine.connect()`. Этот метод управляет областью соединения и заключает все действия внутри транзакции с *COMMIT* в случае успеха или *ROLLBACK* в случае возникновения исключения. В дальнейшем этот стиль может именоваться \"начать сразу\" — *begin once*."
   ]
  },
  {
   "cell_type": "code",
   "execution_count": 5,
   "id": "0a0b8740",
   "metadata": {},
   "outputs": [
    {
     "name": "stdout",
     "output_type": "stream",
     "text": [
      "2022-05-19 11:10:08,906 INFO sqlalchemy.engine.Engine BEGIN (implicit)\n",
      "2022-05-19 11:10:08,907 INFO sqlalchemy.engine.Engine INSERT INTO some_table (x, y) VALUES (?, ?)\n",
      "2022-05-19 11:10:08,908 INFO sqlalchemy.engine.Engine [cached since 0.08397s ago] ((6, 8), (9, 10))\n",
      "2022-05-19 11:10:08,908 INFO sqlalchemy.engine.Engine COMMIT\n"
     ]
    }
   ],
   "source": [
    "# \"begin once\"\n",
    "with engine.begin() as conn:\n",
    "    conn.execute(\n",
    "        text(\"INSERT INTO some_table (x, y) VALUES (:x, :y)\"),\n",
    "        [{\"x\": 6, \"y\": 8}, {\"x\": 9, \"y\": 10}]\n",
    "    )"
   ]
  },
  {
   "cell_type": "markdown",
   "id": "3242b3b1",
   "metadata": {},
   "source": [
    "<Table>\n",
    "    <tr><td bgcolor=#adb5bd></td><td style=\"text-align:left; font-size:10pt\">\n",
    "\n",
    "Что значит BEGIN (implicit)?\n",
    "\n",
    "В начале блока транзакции журнал показал строку «BEGIN (неявно)». «Неявно» здесь означает, что SQLAlchemy считает, что это начало неявной транзакции DBAPI. Например, вы можете зарегистрировать обработчики событий для перехвата этого события.\n",
    "\n",
    "Дополнительно о событиях: https://docs.sqlalchemy.org/en/14/core/events.html#core-sql-events\n",
    "</td></tr></Table>"
   ]
  },
  {
   "cell_type": "markdown",
   "id": "6c433999",
   "metadata": {},
   "source": [
    "<p style=\"font-size:150%\">2.3. Основы выполнения SQL-выражений </p>\n",
    "\n",
    "Мы изучили примеры, в которых операторы SQL выполняются с использованием метода `Connection.execute()` в сочетании с объектом  `text()` и возвратом объекта *Result*. Проиллюстрируем более подробно взаимодействие этих компонентов.\n",
    "\n",
    "<Table>\n",
    "<tr><td bgcolor=#0dcaf0></td><td style=\"text-align:left; font-size:10pt\">\n",
    "Большая часть содержимого этого раздела одинаково хорошо применима к ORM при использовании метода Session.execute(), который работает очень похоже на метод Connection.execute(), включая то, что строки результатов ORM доставляются с использованием объекта <a href=\"https://docs.sqlalchemy.org/en/14/core/connections.html#sqlalchemy.engine.Result\"> Result </a>.\n",
    "        </td></tr>\n",
    "</Table>\n",
    "\n",
    "<p style=\"font-size:120%\">Получение строк</p>\n",
    "\n",
    "Сначала проиллюстрируем объект *Result*, используя строки, которые мы вставили ранее, выполнив оператор *SELECT* для созданной нами таблицы:"
   ]
  },
  {
   "cell_type": "code",
   "execution_count": 6,
   "id": "06640c79",
   "metadata": {},
   "outputs": [
    {
     "name": "stdout",
     "output_type": "stream",
     "text": [
      "2022-05-19 11:10:09,017 INFO sqlalchemy.engine.Engine BEGIN (implicit)\n",
      "2022-05-19 11:10:09,017 INFO sqlalchemy.engine.Engine SELECT x, y FROM some_table\n",
      "2022-05-19 11:10:09,018 INFO sqlalchemy.engine.Engine [generated in 0.00103s] ()\n",
      "x: 1  y: 1\n",
      "x: 2  y: 4\n",
      "x: 6  y: 8\n",
      "x: 9  y: 10\n",
      "2022-05-19 11:10:09,018 INFO sqlalchemy.engine.Engine ROLLBACK\n"
     ]
    }
   ],
   "source": [
    "with engine.connect() as conn:\n",
    "    result = conn.execute(text(\"SELECT x, y FROM some_table\"))\n",
    "    for row in result:\n",
    "        print(f\"x: {row.x}  y: {row.y}\")"
   ]
  },
  {
   "cell_type": "markdown",
   "id": "d06cd913",
   "metadata": {},
   "source": [
    "Команда «SELECT» выбрала все строки из таблицы. Возвращаемый объект *Result* является итерируемым объектом строк результатов.\n",
    "\n",
    "*Result* имеет множество методов для выборки и преобразования строк, таких как показанный ранее метод `Result.all()`, который возвращает список всех объектов *Row*. Он также реализует интерфейс итератора `Python`, так что мы можем напрямую перебирать коллекцию объектов *Row*.\n",
    "\n",
    "Сами объекты *Row* должны действовать как <a href=\"https://docs.python.org/3/library/collections.html#collections.namedtuple\"> именованные кортежи </a> Python. Ниже проиллюстрируем различные способы доступа к строкам.\n",
    "\n",
    "- Позиционное. Этот стиль заключается в назначении переменных каждому атрибуту строки позиционно:\n",
    "\n",
    "```\n",
    "result = conn.execute(text(\"select x, y from some_table\"))\n",
    "for x, y in result:\n",
    "    print(x, y)\n",
    "```\n",
    "\n",
    "- По индексу. Кортежи — это упорядоченные неизменяемые коллекции, к элементам которых можно обращаться обычным образом по целочисленному индексу\n",
    "\n",
    "```\n",
    "with engine.connect() as conn:\n",
    "    result = conn.execute(text(\"select x, y from some_table\"))\n",
    "    for row in result:\n",
    "        x, y = row[0], row[1]\n",
    "        print(x, y)\n",
    "```\n",
    "- По имени атрибута. \n",
    "Поскольку это именованные кортежи Python, они имеют динамические имена атрибутов, соответствующие именам каждого столбца. Эти имена обычно являются именами, которые оператор SQL присваивает столбцам в каждой строке.\n",
    "\n",
    "```\n",
    "with engine.connect() as conn:\n",
    "    result = conn.execute(text(\"select x, y from some_table\"))\n",
    "    for row in result:\n",
    "        print(f\"Row: {row.x} {row.y}\")\n",
    "```\n",
    "\n",
    "- По сопоставлению. Чтобы получать строки в качестве объектов сопоставления Python, что по сути является версией \"для чтения\" обычного объекта *dict*, *Result* может быть преобразован в объект *MappingResult* с использованием модификатора `Result.mappings()`. Это объект результата, который дает подобные словарю объекты *RowMapping*, а не объекты *Row*:\n",
    "\n",
    "```\n",
    "with engine.connect() as conn:\n",
    "    result = conn.execute(text(\"select x, y from some_table\"))\n",
    "    for dict_row in result.mappings():\n",
    "        x, y = dict_row['x'], dict_row['y']\n",
    "        print(x,y)\n",
    "```\n",
    "\n",
    "<p style=\"font-size:150%\">2.4. Отправка параметров</p>\n",
    "\n",
    "Операторы SQL обычно сопровождаются данными, которые должны быть переданы вместе с самим оператором, как мы видели ранее в примере вставки *INSERT*. Таким образом, метод `Connection.execute()` также принимает параметры, которые называются связанными параметрами. Элементарным примером может быть то, что мы хотим ограничить оператор «SELECT» только строками, которые соответствуют определенным критериям, например, строками, в которых значение «y» превышает определенное значение, переданное функции.\n",
    "\n",
    "Чтобы добиться этого, мы добавляем в выражение условие *WHERE* новый параметр с именем «y»; функция `text()` принимает его, используя формат двоеточия «:y». Фактическое значение «:y» затем передается в качестве второго аргумента функции `Connection.execute()` в виде словаря:"
   ]
  },
  {
   "cell_type": "code",
   "execution_count": 7,
   "id": "e4f78016",
   "metadata": {},
   "outputs": [
    {
     "name": "stdout",
     "output_type": "stream",
     "text": [
      "2022-05-19 11:10:09,117 INFO sqlalchemy.engine.Engine BEGIN (implicit)\n",
      "2022-05-19 11:10:09,117 INFO sqlalchemy.engine.Engine SELECT x, y FROM some_table WHERE y > ?\n",
      "2022-05-19 11:10:09,118 INFO sqlalchemy.engine.Engine [generated in 0.00118s] (2,)\n",
      "x: 2  y: 4\n",
      "x: 6  y: 8\n",
      "x: 9  y: 10\n",
      "2022-05-19 11:10:09,119 INFO sqlalchemy.engine.Engine ROLLBACK\n"
     ]
    }
   ],
   "source": [
    "with engine.connect() as conn:\n",
    "    result = conn.execute(\n",
    "        text(\"SELECT x, y FROM some_table WHERE y > :y\"),\n",
    "        {\"y\": 2}\n",
    "    )\n",
    "    for row in result:\n",
    "       print(f\"x: {row.x}  y: {row.y}\")"
   ]
  },
  {
   "cell_type": "markdown",
   "id": "d7be51b1",
   "metadata": {},
   "source": [
    "В журналированном выводе SQL мы видим, что связанный параметр `:y` преобразован в вопросительный знак, когда он был отправлен в базу данных SQLite. Это связано с тем, что драйвер базы данных SQLite использует формат передачи параметров в стиле вопросительного знака, который является форматом, разрешенным спецификацией DBAPI.\n",
    "\n",
    "<Table><tr><td bgcolor=#adb5bd></td><td style=\"text-align:left; font-size:10pt\">\n",
    "Как упоминалось в начале этого раздела, текстовый SQL не является обычным способом работы с SQLAlchemy. Однако при использовании текстового SQL литеральные значения Python, даже нетекстовые, такие как целые числа или даты, никогда не должны напрямую преобразовываться в строку SQL; всегда следует использовать параметр. Это наиболее известно как способ избежать атак с помощью SQL-инъекций. Однако это также позволяет диалектам SQLAlchemy и/или DBAPI правильно обрабатывать входящие входные данные для серверной части. За исключением случаев использования простого текстового SQL, SQLAlchemy Core Expression API гарантирует, что литеральные значения Python передаются в качестве связанных параметров, где это необходимо.\n",
    "</td></tr></Table>\n",
    "\n",
    "<p style=\"font-size:150%\">2.5. Отправка нескольких параметров </p>\n",
    "\n",
    "В примере с фиксацией изменений мы выполнили оператор INSERT, где оказалось, что мы можем вставить сразу несколько строк в базу данных. Для операторов, которые работают с данными, но не возвращают наборы результатов, а именно операторов DML, таких как «INSERT», мы можем отправить в метод `Connection.execute()` несколько параметров в списке словарей:"
   ]
  },
  {
   "cell_type": "code",
   "execution_count": 8,
   "id": "081b22cf",
   "metadata": {},
   "outputs": [
    {
     "name": "stdout",
     "output_type": "stream",
     "text": [
      "2022-05-19 11:10:09,193 INFO sqlalchemy.engine.Engine BEGIN (implicit)\n",
      "2022-05-19 11:10:09,194 INFO sqlalchemy.engine.Engine INSERT INTO some_table (x, y) VALUES (?, ?)\n",
      "2022-05-19 11:10:09,195 INFO sqlalchemy.engine.Engine [cached since 0.371s ago] ((11, 12), (13, 14))\n",
      "2022-05-19 11:10:09,195 INFO sqlalchemy.engine.Engine COMMIT\n"
     ]
    }
   ],
   "source": [
    "with engine.connect() as conn:\n",
    "    conn.execute(\n",
    "        text(\"INSERT INTO some_table (x, y) VALUES (:x, :y)\"),\n",
    "        [{\"x\": 11, \"y\": 12}, {\"x\": 13, \"y\": 14}]\n",
    "    )\n",
    "    conn.commit()"
   ]
  },
  {
   "cell_type": "markdown",
   "id": "f25710b6",
   "metadata": {},
   "source": [
    "На самом деле, объекты *Connection* используют возможность DBAPI, известную как `cursor.executemany()`. Этот метод выполняет эквивалентную операцию вызова данного оператора SQL для каждого набора параметров в отдельности. DBAPI может оптимизировать эту операцию различными способами, используя подготовленные операторы или в некоторых случаях объединяя наборы параметров в один оператор SQL. Некоторые диалекты SQLAlchemy могут также использовать альтернативные API для этого случая, такие как диалект *psycopg2* для *PostgreSQL*, который в таких случаях использует более производительные API.\n",
    "\n",
    "<Table align=left>\n",
    "<tr><td bgcolor=#0dcaf0></td><td style=\"text-align:left;font-size:10pt\">\n",
    "Интерфейс ORM использует другой подход передачи нескольких параметров операторам INSERT/UPDATE/DELETE.\n",
    "</td></tr></Table>\n",
    "\n",
    "<br><p>\n",
    "<p style=\"font-size:150%\">2.6. Связывание параметров с операторами SQL-выражения</p>\n",
    "\n",
    "Два предыдущих примера иллюстрируют ряд параметров, передаваемых вместе с оператором SQL. Для выполнения выражений с одним параметром, использование параметров в SQLAlchemy на самом деле чаще всего осуществляется путем связывания с оператором, что является основной функцией языка выражений SQL и позволяет создавать запросы, которые могут быть составлены естественным образом. Эта концепция будет обсуждаться более подробно в следующих разделах. Предварительно отметим, что сама конструкция *text()*, являющаяся частью языка выражений SQL, поддерживает эту функцию с помощью метода `TextClause.bindparams()`; это <a href=\"https://docs.sqlalchemy.org/en/14/glossary.html#term-generative\">генеративный</a> метод, который возвращает новую копию конструкции SQL, дополненную значениями параметров, которые мы хотим передать:"
   ]
  },
  {
   "cell_type": "code",
   "execution_count": 9,
   "id": "dc9b2eb7",
   "metadata": {},
   "outputs": [
    {
     "name": "stdout",
     "output_type": "stream",
     "text": [
      "2022-05-19 11:10:09,288 INFO sqlalchemy.engine.Engine BEGIN (implicit)\n",
      "2022-05-19 11:10:09,288 INFO sqlalchemy.engine.Engine SELECT x, y FROM some_table WHERE (y > ?) AND (x > ?) ORDER BY x, y\n",
      "2022-05-19 11:10:09,288 INFO sqlalchemy.engine.Engine [generated in 0.00641s] (6, 0)\n",
      "x: 6  y: 8\n",
      "x: 9  y: 10\n",
      "x: 11  y: 12\n",
      "x: 13  y: 14\n",
      "2022-05-19 11:10:09,304 INFO sqlalchemy.engine.Engine ROLLBACK\n"
     ]
    }
   ],
   "source": [
    "stmt = text(\"SELECT x, y FROM some_table WHERE (y > :y) AND (x > :x) ORDER BY x, y\").bindparams(y=6, x=0)\n",
    "with engine.connect() as conn:\n",
    "    result = conn.execute(stmt)\n",
    "    for row in result:\n",
    "       print(f\"x: {row.x}  y: {row.y}\")"
   ]
  },
  {
   "cell_type": "markdown",
   "id": "79d65b2b",
   "metadata": {},
   "source": [
    "Отметим, что в результате связывания параметра с SQL-выражением, метод `Connection.execute()` сформировал как строку SQL, так и отдельный кортеж параметров, в данном случае, из двух элементов.\n",
    "\n",
    "[К оглавлению](#Home)\n",
    "<a id=26></a>\n",
    "<p style=\"font-size:150%\">2.6. Выполнение сеанса ORM</p>\n",
    "\n",
    "<Table align=left>\n",
    "<tr><td bgcolor=#0dcaf0></td><td style=\"text-align:left;font-size:10pt\">\n",
    "Как упоминалось ранее, большинство приведенных выше шаблонов и примеров также применимы для объектно-реляционного сопоставления ORM.\n",
    "</td></tr></Table>\n",
    "\n",
    "<br><br><p>\n",
    "Основным объектом при использовании ORM является сеанс — *Session*. В SQLAlchemy этот объект используется способом, похожим на метод *Connection*, и фактически, когда используется сеанс, он ссылается на внутреннее подключение *Connection*, которое он использует для генерации SQL-выражения.\n",
    "\n",
    "Сеанс имеет несколько различных шаблонов создания, проиллюстрируем здесь базовый, который отслеживает то, как используется соединение. Создадим сеанс в диспетчере контекста:"
   ]
  },
  {
   "cell_type": "code",
   "execution_count": 10,
   "id": "92c9b3e2",
   "metadata": {
    "scrolled": true
   },
   "outputs": [
    {
     "name": "stdout",
     "output_type": "stream",
     "text": [
      "2022-05-19 11:10:09,454 INFO sqlalchemy.engine.Engine BEGIN (implicit)\n",
      "2022-05-19 11:10:09,454 INFO sqlalchemy.engine.Engine SELECT x, y FROM some_table WHERE y > ? ORDER BY x, y\n",
      "2022-05-19 11:10:09,454 INFO sqlalchemy.engine.Engine [generated in 0.00037s] (6,)\n",
      "x: 6  y: 8\n",
      "x: 9  y: 10\n",
      "x: 11  y: 12\n",
      "x: 13  y: 14\n",
      "2022-05-19 11:10:09,464 INFO sqlalchemy.engine.Engine ROLLBACK\n"
     ]
    }
   ],
   "source": [
    "from sqlalchemy.orm import Session\n",
    "\n",
    "stmt = text(\"SELECT x, y FROM some_table WHERE y > :y ORDER BY x, y\").bindparams(y=6)\n",
    "with Session(engine) as session:\n",
    "    result = session.execute(stmt)\n",
    "    for row in result:\n",
    "       print(f\"x: {row.x}  y: {row.y}\")"
   ]
  },
  {
   "cell_type": "markdown",
   "id": "502e331a",
   "metadata": {},
   "source": [
    "Сравним этот пример с примером в предыдущем параграфе «Связывание параметров с оператором». Мы заменяем вызов `engine.connect() as conn` на `Session(engine) as session`, а затем используем `Session.execute()` точно так же, как и с методом `Connection.execute()`.\n",
    "\n",
    "Кроме того, как и *Подключение*, *Сеанс* следует шаблону поведения «фиксации по ходу» с использованием метода `Session.commit()`, показанного ниже с использованием  SQL-оператора *UPDATE*."
   ]
  },
  {
   "cell_type": "code",
   "execution_count": 11,
   "id": "2878ba98",
   "metadata": {
    "scrolled": true
   },
   "outputs": [
    {
     "name": "stdout",
     "output_type": "stream",
     "text": [
      "2022-05-19 11:10:09,475 INFO sqlalchemy.engine.Engine BEGIN (implicit)\n",
      "2022-05-19 11:10:09,476 INFO sqlalchemy.engine.Engine UPDATE some_table SET y=? WHERE x=?\n",
      "2022-05-19 11:10:09,477 INFO sqlalchemy.engine.Engine [generated in 0.00073s] ((11, 9), (15, 13))\n",
      "2022-05-19 11:10:09,478 INFO sqlalchemy.engine.Engine COMMIT\n"
     ]
    }
   ],
   "source": [
    "with Session(engine) as session:\n",
    "    result = session.execute(\n",
    "        text(\"UPDATE some_table SET y=:y WHERE x=:x\"),\n",
    "        [{\"x\": 9, \"y\":11}, {\"x\": 13, \"y\": 15}]\n",
    "    )\n",
    "    session.commit()"
   ]
  },
  {
   "cell_type": "markdown",
   "id": "646b8500",
   "metadata": {},
   "source": [
    "В этом примере мы вызвали оператор UPDATE, используя связанный параметр в стиле «executemany» и заканчивая блок фиксацией по ходу «commit as you go».\n",
    "\n",
    "Выполним запрос на выборку данных, чтобы увидеть изменения."
   ]
  },
  {
   "cell_type": "code",
   "execution_count": 12,
   "id": "0f8da74b",
   "metadata": {},
   "outputs": [
    {
     "name": "stdout",
     "output_type": "stream",
     "text": [
      "2022-05-19 11:10:09,570 INFO sqlalchemy.engine.Engine BEGIN (implicit)\n",
      "2022-05-19 11:10:09,575 INFO sqlalchemy.engine.Engine SELECT x, y FROM some_table WHERE y > ? ORDER BY x, y\n",
      "2022-05-19 11:10:09,578 INFO sqlalchemy.engine.Engine [cached since 0.1151s ago] (6,)\n",
      "x: 6  y: 8\n",
      "x: 9  y: 11\n",
      "x: 11  y: 12\n",
      "x: 13  y: 15\n",
      "2022-05-19 11:10:09,582 INFO sqlalchemy.engine.Engine ROLLBACK\n"
     ]
    }
   ],
   "source": [
    "stmt = text(\"SELECT x, y FROM some_table WHERE y > :y ORDER BY x, y\").bindparams(y=6)\n",
    "with Session(engine) as session:\n",
    "    result = session.execute(stmt)\n",
    "    for row in result:\n",
    "       print(f\"x: {row.x}  y: {row.y}\")"
   ]
  },
  {
   "cell_type": "markdown",
   "id": "64355172",
   "metadata": {},
   "source": [
    "<Table align=\"left\">\n",
    "    <tr><td bgcolor=#0dcaf0></td>\n",
    "        <td style=\"text-align:left;font-size:10pt\">\n",
    "Примечание. Сеанс не удерживает подключение Connection после завершения транзакции. Он получает новое соединение от движка, когда в следующий раз требуется выполнение SQL-запроса к базе данных.\n",
    "        </td></tr>\n",
    "</Table>\n",
    "\n",
    "<br><br><p>\n",
    "У Сеанса, очевидно, значительно больше особенностей, однако понимание того, что метод `Session.execute()` используется так же, как `Connection.execute()`, поможет нам изучить примеры, которые последуют позже.\n",
    "</p>\n",
    "\n",
    "Дополнительно: <a href=\"https://docs.sqlalchemy.org/en/14/orm/session_basics.html#id1\">Основы Сеанса</a>"
   ]
  },
  {
   "cell_type": "markdown",
   "id": "317817d4",
   "metadata": {},
   "source": [
    "<a id=3></a>\n",
    "[К оглавлению](#Home)\n",
    "\n",
    "# 3. Метаданные базы данных\n",
    "\n",
    "Центральным элементом обоих интерфейсов SQLAlchemy — как Core, так и ORM, является язык выражений SQL, предназначенный для SQL-запросов. Основой для этих запросов являются объекты Python, представляющие такие понятия базы данных, как таблицы и столбцы. Эти объекты вместе известны как <a href=\"https://docs.sqlalchemy.org/en/14/glossary.html#term-database-metadata\">метаданные базы данных</a>.\n",
    "\n",
    "Наиболее распространенные базовые объекты <a href=\"https://docs.sqlalchemy.org/en/14/core/metadata.html#sqlalchemy.schema.MetaData\"> метаданных </a> базы данных в SQLAlchemy известны как таблица <a href=\"https://docs.sqlalchemy.org/en/14/core/metadata.html#sqlalchemy.schema.Table\"> *Table* </a> и столбец <a href=\"https://docs.sqlalchemy.org/en/14/core/metadata.html#sqlalchemy.schema.Column\"> *Column* </a>. Покажем, как эти объекты используются в интерфейсах *Core* и *ORM*.\n",
    "\n",
    "<br>\n",
    "\n",
    "[К оглавлению](#Home)\n",
    "<a id=\"31\"></a>\n",
    "<p style=\"font-size:150%\">3.1. Создание метаданных таблиц</p>\n",
    "\n",
    "Когда мы работаем с реляционной базой данных, одной из базовых структур для составления запросов является таблица. В SQLAlchemy «таблица» представлена объектом Python с аналогичным названием <a href=\"https://docs.sqlalchemy.org/en/14/core/metadata.html#sqlalchemy.schema.Table\">*Table*</a>.\n",
    "\n",
    "Чтобы начать использовать язык выражений SQLAlchemy, нам нужно создать объекты *Table*, представляющие все таблицы базы данных, с которыми мы собираемся работать. Каждая таблица может быть объявлена, то есть мы явно прописываем в исходном коде, как выглядит или **отображается** таблица, что означает, что мы генерируем объект на основе того, что уже присутствует в конкретной базе данных. Эти два подхода также можно комбинировать разными способами.\n",
    "\n",
    "Независимо от того, будем ли мы объявлять или отображать таблицы БД, мы начинаем с коллекции, известной как объект метаданных. Этот объект, по сути, представляет собой фасад словаря Python, в котором хранится ряд объектов *Table*, привязанных к их строковым именам. Построение объекта Метаданных выглядит так:"
   ]
  },
  {
   "cell_type": "code",
   "execution_count": 13,
   "id": "8d1e9455",
   "metadata": {},
   "outputs": [],
   "source": [
    "from sqlalchemy import MetaData\n",
    "metadata_obj = MetaData()"
   ]
  },
  {
   "cell_type": "markdown",
   "id": "19bf5d98",
   "metadata": {},
   "source": [
    "Наличие одного объекта *MetaData* для всего приложения является наиболее распространенным случаем. Такой объект представляется переменной уровня модуля в одном месте в приложении, как «модель» или «схема базы данных». В общем случае, в приложении может быть более одного объекта метаданных, но как правило, все объекты таблиц, связанных друг с другом, принадлежат одному объекту метаданных.\n",
    "\n",
    "Когда у нас есть объект *MetaData*, мы можем объявить объекты Table. Рассмотрим учебную базу данных, в которой таблица пользователей будет представлять пользователей веб-сайта, а таблица адресов — список адресов электронной почты пользователей. Обычно мы присваиваем каждому объекту *Table* переменную, с помощью которой мы будем ссылаться на таблицу в коде приложения."
   ]
  },
  {
   "cell_type": "code",
   "execution_count": 14,
   "id": "e911de23",
   "metadata": {},
   "outputs": [],
   "source": [
    "from sqlalchemy import Table, Column, Integer, String\n",
    "user_table = Table(\n",
    "    \"user_account\",\n",
    "    metadata_obj,\n",
    "    Column('id', Integer, primary_key=True),\n",
    "    Column('name', String(30)),\n",
    "    Column('fullname', String)\n",
    ")"
   ]
  },
  {
   "cell_type": "markdown",
   "id": "80780ad0",
   "metadata": {},
   "source": [
    "Заметим, что приведенная выше конструкция таблицы похожа на оператор SQL CREATE TABLE: начинется с имени таблицы, затем перечисляется каждый столбец, указывается имя и тип данных. Объекты, которые мы используем выше:\n",
    "\n",
    "- Таблица — представляет собой таблицу базы данных и присваивает себя коллекции метаданных.\n",
    "- Столбец — представляет столбец в таблице базы данных и присваивает себя объекту таблицы. Столбец обычно включает строку имени и тип. Доступ к коллекции столбцов с точки зрения родительской таблицы обычно осуществляется через ассоциативный массив, расположенный в <a href=\"https://docs.sqlalchemy.org/en/14/core/metadata.html#sqlalchemy.schema.Table.c\">Table.c</a>:"
   ]
  },
  {
   "cell_type": "code",
   "execution_count": 15,
   "id": "ed646995",
   "metadata": {},
   "outputs": [
    {
     "data": {
      "text/plain": [
       "Column('name', String(length=30), table=<user_account>)"
      ]
     },
     "execution_count": 15,
     "metadata": {},
     "output_type": "execute_result"
    }
   ],
   "source": [
    "user_table.c.name"
   ]
  },
  {
   "cell_type": "code",
   "execution_count": 16,
   "id": "c46c9c38",
   "metadata": {},
   "outputs": [
    {
     "data": {
      "text/plain": [
       "['id', 'name', 'fullname']"
      ]
     },
     "execution_count": 16,
     "metadata": {},
     "output_type": "execute_result"
    }
   ],
   "source": [
    "user_table.c.keys()"
   ]
  },
  {
   "cell_type": "markdown",
   "id": "6dcd7469",
   "metadata": {},
   "source": [
    "<a href=\"https://docs.sqlalchemy.org/en/14/core/type_basics.html#sqlalchemy.types.Integer\">Integer</a>, <a href=\"https://docs.sqlalchemy.org/en/14/core/type_basics.html#sqlalchemy.types.String\">String</a> — эти классы представляют типы данных SQL и могут быть указаны для столбца с ограничением на размер или без ограничений. Выше мы указали длину «30» для столбца «имя», поэтому мы создали экземпляр String (30). Но для «id» и «fullname» мы размер не указывали.\n",
    "\n",
    "Дополнительно: <a href=\"https://docs.sqlalchemy.org/en/14/core/metadata.html\">Описание структуры базы данных с помощью метаданных</a>.\n",
    "\n",
    "В следующем разделе мы проиллюстрируем одну из основных функций объекта таблицы, которая заключается в выполнении команд DDL. Но сначала объявим вторую таблицу.\n",
    "\n",
    "<br>\n",
    "\n",
    "[К оглавлению](#Home)\n",
    "<a id=\"32\"></a>\n",
    "\n",
    "<p style=\"font-size:150%\">3.2. Объявление простых ограничений</p>\n",
    "\n",
    "Первый столбец в приведенной выше таблице *user_table* включает параметр `Column.primary_key`, который указывает на то, что этот столбец должен быть частью первичного ключа таблицы. Сам первичный ключ представлен конструкцией *PrimaryKeyConstraint*, которую мы можем видеть в атрибуте `Table.primary_key` объекта Table:"
   ]
  },
  {
   "cell_type": "code",
   "execution_count": 17,
   "id": "38d5b835",
   "metadata": {},
   "outputs": [
    {
     "data": {
      "text/plain": [
       "PrimaryKeyConstraint(Column('id', Integer(), table=<user_account>, primary_key=True, nullable=False))"
      ]
     },
     "execution_count": 17,
     "metadata": {},
     "output_type": "execute_result"
    }
   ],
   "source": [
    "user_table.primary_key"
   ]
  },
  {
   "cell_type": "markdown",
   "id": "599b5360",
   "metadata": {},
   "source": [
    "Другое ограничение, которое чаще всего объявляется явно — это объект *ForeignKeyConstraint*, соответствующий ограничению внешнего ключа базы данных. Когда мы объявляем таблицы, которые связаны друг с другом, SQLAlchemy использует наличие этих объявлений ограничений внешнего ключа не только для того, чтобы они генерировались в операторах CREATE для базы данных, но и для помощи в построении выражений SQL.\n",
    "\n",
    "Ограничение *ForeignKeyConstraint*, которое включает только один столбец в целевой таблице, обычно объявляется с использованием сокращенной записи на уровне столбца через объект *ForeignKey*. Ниже мы объявляем вторую таблицу — таблицу адресов, которая будет иметь ограничение внешнего ключа, ссылающееся на пользовательскую таблицу:"
   ]
  },
  {
   "cell_type": "code",
   "execution_count": 18,
   "id": "20135beb",
   "metadata": {},
   "outputs": [],
   "source": [
    "from sqlalchemy import ForeignKey\n",
    "address_table = Table(\n",
    "    \"address\",\n",
    "    metadata_obj,\n",
    "    Column('id', Integer, primary_key=True),\n",
    "    Column('user_id', ForeignKey('user_account.id'), nullable=False),\n",
    "    Column('email_address', String, nullable=False)\n",
    ")"
   ]
  },
  {
   "cell_type": "markdown",
   "id": "953e33bb",
   "metadata": {},
   "source": [
    "В приведенной выше таблице также представлен третий тип ограничения, которым в SQL является ограничение «NOT NULL», указанное с помощью параметра `Column.nullable`.\n",
    "\n",
    "<Table align=\"left\">\n",
    "    <tr><td bgcolor=#adb5bd></td>\n",
    "        <td style=\"text-align:left; font-size:10pt\">\n",
    "Совет.\n",
    "\n",
    "При использовании объекта ForeignKey в определении столбца мы можем опустить тип данных - он автоматически выводится из связанного столбца; в приведенном выше примере - это тип данных Integer столбца user_account.id.\n",
    "        </td></tr>\n",
    "</Table>"
   ]
  },
  {
   "cell_type": "markdown",
   "id": "54956fd1",
   "metadata": {},
   "source": [
    "Завершим выполнение команд DDL для таблиц пользователей и адресов.\n",
    "\n",
    "<br>\n",
    "\n",
    "[К оглавлению](#Home)\n",
    "<a id=\"33\"></a>\n",
    "\n",
    "<p style=\"font-size:150%\">3.3. Отправка команд DDL в базу данных</p>\n",
    "\n",
    "Мы построили иерархию объектов для представления двух таблиц базы данных, начиная с корневого объекта *MetaData*, затем два объекта *Table*, каждый из которых содержит набор объектов *Column* и *Constraint*. Эта объектная структура будет в центре большинства последующих операций, которые мы будем выполнять как с *Core*, так и с *ORM*.\n",
    "\n",
    "Первая полезная вещь, которую мы можем сделать с этой структурой — это отправить операторы DDL CREATE TABLE в нашу базу данных SQLite. У нас уже есть все инструменты, необходимые для этого, а именно: вызов метода `MetaData.create_all()` и отправка ему движка *Engine*, который ссылается на целевую базу данных:"
   ]
  },
  {
   "cell_type": "code",
   "execution_count": 19,
   "id": "2bccf368",
   "metadata": {},
   "outputs": [
    {
     "name": "stdout",
     "output_type": "stream",
     "text": [
      "2022-05-19 11:10:10,252 INFO sqlalchemy.engine.Engine BEGIN (implicit)\n",
      "2022-05-19 11:10:10,252 INFO sqlalchemy.engine.Engine PRAGMA main.table_info(\"user_account\")\n",
      "2022-05-19 11:10:10,252 INFO sqlalchemy.engine.Engine [raw sql] ()\n",
      "2022-05-19 11:10:10,267 INFO sqlalchemy.engine.Engine PRAGMA temp.table_info(\"user_account\")\n",
      "2022-05-19 11:10:10,269 INFO sqlalchemy.engine.Engine [raw sql] ()\n",
      "2022-05-19 11:10:10,271 INFO sqlalchemy.engine.Engine PRAGMA main.table_info(\"address\")\n",
      "2022-05-19 11:10:10,271 INFO sqlalchemy.engine.Engine [raw sql] ()\n",
      "2022-05-19 11:10:10,272 INFO sqlalchemy.engine.Engine PRAGMA temp.table_info(\"address\")\n",
      "2022-05-19 11:10:10,272 INFO sqlalchemy.engine.Engine [raw sql] ()\n",
      "2022-05-19 11:10:10,274 INFO sqlalchemy.engine.Engine \n",
      "CREATE TABLE user_account (\n",
      "\tid INTEGER NOT NULL, \n",
      "\tname VARCHAR(30), \n",
      "\tfullname VARCHAR, \n",
      "\tPRIMARY KEY (id)\n",
      ")\n",
      "\n",
      "\n",
      "2022-05-19 11:10:10,275 INFO sqlalchemy.engine.Engine [no key 0.00058s] ()\n",
      "2022-05-19 11:10:10,276 INFO sqlalchemy.engine.Engine \n",
      "CREATE TABLE address (\n",
      "\tid INTEGER NOT NULL, \n",
      "\tuser_id INTEGER NOT NULL, \n",
      "\temail_address VARCHAR NOT NULL, \n",
      "\tPRIMARY KEY (id), \n",
      "\tFOREIGN KEY(user_id) REFERENCES user_account (id)\n",
      ")\n",
      "\n",
      "\n",
      "2022-05-19 11:10:10,277 INFO sqlalchemy.engine.Engine [no key 0.00044s] ()\n",
      "2022-05-19 11:10:10,277 INFO sqlalchemy.engine.Engine COMMIT\n"
     ]
    }
   ],
   "source": [
    "metadata_obj.create_all(engine)"
   ]
  },
  {
   "cell_type": "markdown",
   "id": "bd880147",
   "metadata": {},
   "source": [
    "Процесс создания DDL по умолчанию включает некоторые специфичные для SQLite операторы PRAGMA, которые проверяют существование каждой таблицы перед отправкой CREATE. Полная последовательность шагов включена в пару BEGIN/COMMIT для поддержки транзакционного DDL (SQLite действительно поддерживает транзакционный DDL, однако драйвер базы данных sqlite3 исторически запускает DDL в режиме «автоматической фиксации»).\n",
    "\n",
    "Процесс создания также заботится об отправке операторов CREATE в правильном порядке: ограничение FOREIGN KEY зависит от существующей пользовательской таблицы, поэтому таблица адресов создается второй. В более сложных сценариях зависимостей ограничения FOREIGN KEY также могут применяться к таблицам постфактум с использованием ALTER.\n",
    "\n",
    "Объект *MetaData* также имеет метод `MetaData.drop_all()`, который выдает операторы DROP в обратном по отношению к CREATE порядке для удаления элементов схемы.\n",
    "<br><br>\n",
    "\n",
    "[К оглавлению](#Home)\n",
    "<a id=\"34\"></a>\n",
    "<p style=\"font-size:150%\">3.4. Определение метаданных таблицы с помощью ORM</p>\n",
    "\n",
    "В этом разделе, посвященном только ORM, будет представлен пример объявления той же структуры базы данных, что и в предыдущем разделе, с использованием парадигмы конфигурации, более ориентированной на ORM. При использовании ORM процесс объявления метаданных таблицы обычно сочетается с процессом объявления сопоставленных классов. Сопоставленный класс — это класс Python, который мы хотели бы создать, который затем будет иметь атрибуты, которые будут связаны со столбцами в таблице базы данных. Хотя существует несколько вариантов того, как это достигается, наиболее распространенный стиль известен как декларативный и позволяет нам одновременно объявлять наши определяемые пользователем классы и метаданные таблицы.\n",
    "\n",
    "<p style=\"font-size:125%\">3.4.1. Установка реестра</p>\n",
    "\n",
    "При создании ORM коллекция метаданных содержится в объекте, называемом <a href=\"https://docs.sqlalchemy.org/en/14/orm/mapping_api.html#sqlalchemy.orm.registry\">реестром</a>. Мы создаём реестр вот так:"
   ]
  },
  {
   "cell_type": "code",
   "execution_count": 20,
   "id": "e94446e4",
   "metadata": {},
   "outputs": [],
   "source": [
    "from sqlalchemy.orm import registry\n",
    "mapper_registry = registry()"
   ]
  },
  {
   "cell_type": "markdown",
   "id": "6cc6586e",
   "metadata": {},
   "source": [
    "После создания реестр сразу включает в себя объект метаданных, который будет содержать в себе коллекцию таблиц."
   ]
  },
  {
   "cell_type": "code",
   "execution_count": 21,
   "id": "eb04b840",
   "metadata": {},
   "outputs": [
    {
     "data": {
      "text/plain": [
       "MetaData()"
      ]
     },
     "execution_count": 21,
     "metadata": {},
     "output_type": "execute_result"
    }
   ],
   "source": [
    "mapper_registry.metadata"
   ]
  },
  {
   "cell_type": "markdown",
   "id": "fdf94775",
   "metadata": {},
   "source": [
    "Вместо того, чтобы объявлять объекты *Table* напрямую, мы теперь будем объявлять их косвенно через директивы, применяемые к нашим отображаемым классам. В наиболее распространенном подходе каждый отображаемый класс происходит от общего базового класса, известного как **декларативная база**. Получим новую декларативную базу из реестра с помощью метода `register.generate_base()`:\n",
    "\n",
    "```\n",
    "Base = mapper_registry.generate_base()\n",
    "```\n",
    "\n",
    "Совет<br>\n",
    "Шаги по созданию реестра и класса декларативной базы могут быть объединены с помощью функции *declarative_base()*."
   ]
  },
  {
   "cell_type": "code",
   "execution_count": 22,
   "id": "21cc236e",
   "metadata": {},
   "outputs": [],
   "source": [
    "from sqlalchemy.orm import declarative_base\n",
    "Base = declarative_base()"
   ]
  },
  {
   "cell_type": "markdown",
   "id": "2b58ed25",
   "metadata": {},
   "source": [
    "[К оглавлению](#Home)\n",
    "<a id=342></a>\n",
    "<p style=\"font-size:125%\">3.4.2. Объявление сопоставленных классов</p>\n",
    "\n",
    "Приведенный выше базовый объект — это класс Python, который будет служить базовым для объявляемых нами классов ORM. Теперь мы можем определить классы ORM для таблиц пользователей и адресов в терминах новых классов *User* и *Address*:"
   ]
  },
  {
   "cell_type": "code",
   "execution_count": 23,
   "id": "b91bfa3e",
   "metadata": {},
   "outputs": [],
   "source": [
    "from sqlalchemy import Table, Column, Integer, String, ForeignKey\n",
    "from sqlalchemy.orm import relationship\n",
    "class User(Base):\n",
    "    __tablename__ = 'user_account'\n",
    "    id = Column(Integer, primary_key=True)\n",
    "    name = Column(String(30))\n",
    "    fullname = Column(String)\n",
    "    addresses = relationship(\"Address\", back_populates=\"user\")\n",
    "    def __repr__(self):\n",
    "        return f\"User(id={self.id!r}, name={self.name!r}, fullname={self.fullname!r})\"\n",
    "\n",
    "class Address(Base):\n",
    "    __tablename__ = 'address'\n",
    "    id = Column(Integer, primary_key=True)\n",
    "    email_address = Column(String, nullable=False)\n",
    "    user_id = Column(Integer, ForeignKey('user_account.id'))\n",
    "    user = relationship(\"User\", back_populates=\"addresses\")\n",
    "    def __repr__(self):\n",
    "        return f\"Address(id={self.id!r}, email_address={self.email_address!r})\""
   ]
  },
  {
   "cell_type": "markdown",
   "id": "90d9de84",
   "metadata": {},
   "source": [
    "Вышеупомянутые два класса теперь являются нашими сопоставленными классами и доступны для использования в операциях запросов, которые будут описаны позже. Но они также включают в себя объекты Table, которые были сгенерированы как часть процесса декларативного сопоставления и эквивалентны тем, которые мы объявили непосредственно в предыдущем разделе Core. Мы можем увидеть эти объекты Table из декларативного сопоставленного класса, используя атрибут `.__table__`:"
   ]
  },
  {
   "cell_type": "code",
   "execution_count": 24,
   "id": "ae680b70",
   "metadata": {},
   "outputs": [
    {
     "data": {
      "text/plain": [
       "Table('user_account', MetaData(), Column('id', Integer(), table=<user_account>, primary_key=True, nullable=False), Column('name', String(length=30), table=<user_account>), Column('fullname', String(), table=<user_account>), schema=None)"
      ]
     },
     "execution_count": 24,
     "metadata": {},
     "output_type": "execute_result"
    }
   ],
   "source": [
    "User.__table__"
   ]
  },
  {
   "cell_type": "markdown",
   "id": "2a1d29ac",
   "metadata": {},
   "source": [
    "Объект *Table* был сгенерирован в результате декларативного процесса на основе атрибута `.__tablename__`, определенного для каждого из наших классов, а также посредством использования объектов *Column*, назначенных атрибутам внутри классов. Эти объекты *Column* обычно объявляются без явного поля «имя» внутри конструктора, так как декларативный процесс присвоит имя автоматически на основе имени используемого атрибута.\n",
    "\n",
    "<p style=\"font-size:125%\">3.4.3. Другие сведения о сопоставленном классе</p>\n",
    "\n",
    "Обратим внимание на следующие атрибуты:\n",
    "\n",
    "Классы имеют автоматически сгенерированный метод `__init__()`, которые позволяют осуществлять параметризованное построение объектов. Мы можем также создать собственный метод `__init__()`.  `__init__()` позволяет нам создавать объекты и адреса, передавая имена атрибутов, большинство из которых связаны непосредственно с объектами *Column*, как имена параметров:"
   ]
  },
  {
   "cell_type": "code",
   "execution_count": 25,
   "id": "e115559e",
   "metadata": {},
   "outputs": [],
   "source": [
    "sandy = User(name=\"sandy\", fullname=\"Sandy Cheeks\")"
   ]
  },
  {
   "cell_type": "markdown",
   "id": "ec226358",
   "metadata": {},
   "source": [
    "метод `__repr__()` необязателен и предназначен лишь для того, чтобы наши пользовательские классы имели описательное строковое представление:"
   ]
  },
  {
   "cell_type": "code",
   "execution_count": 26,
   "id": "9d53530e",
   "metadata": {},
   "outputs": [
    {
     "data": {
      "text/plain": [
       "User(id=None, name='sandy', fullname='Sandy Cheeks')"
      ]
     },
     "execution_count": 26,
     "metadata": {},
     "output_type": "execute_result"
    }
   ],
   "source": [
    "sandy"
   ]
  },
  {
   "cell_type": "markdown",
   "id": "61726cd5",
   "metadata": {},
   "source": [
    "Отметим, что атрибут *id* автоматически возвращает *None*, а не вызывает *AttributeError*, как этого можно было бы ожидать в Python.\n",
    "\n",
    "Мы также включили двунаправленное отношение — это еще одна полностью необязательная конструкция,  называемая *relationship()* для обоих классов, которая указывает ORM, что классы *User* и *Address* ссылаются друг на друга в соотношении один ко многим.\n",
    "\n",
    "<p style=\"font-size:125%\">3.4.4. Отправка DDL в базу данных</p>\n",
    "\n",
    "Выполнение команды DDL с сопоставленными классами ORM ничем не отличается от аналогичного действия с помощью интерейса Core. Если бы мы хотели выполнить команды DDL для объектов *Table*, которые мы создали как часть наших декларативно сопоставленных классов, мы по-прежнему могли бы использовать `MetaData.create_all()`.\n",
    "\n",
    "В нашем случае мы уже создали в базе данных таблицы пользователей и адресов. Если бы мы этого еще не сделали, мы могли бы свободно использовать метаданные, связанные с нашим реестром, и декларативный базовый класс ORM, чтобы сделать это, используя `MetaData.create_all()`:\n",
    "\n",
    "```\n",
    "# выполнение команды CREATE statements с конкретным реестром ORM\n",
    "mapper_registry.metadata.create_all(engine)\n",
    "Base.metadata.create_all(engine)\n",
    "```"
   ]
  },
  {
   "cell_type": "markdown",
   "id": "c6f485b4",
   "metadata": {},
   "source": [
    "<p style=\"font-size:150%\">3.4.5. Совместное использование интерфейсов Core и ORM Declarative</p>\n",
    "\n",
    "В качестве альтернативного подхода к процессу сопоставления, показанному ранее в разделе «Объявление сопоставленных классов», мы также можем использовать объекты таблиц, которые мы создали непосредственно в разделе «Создание метаданных таблиц», в сочетании с декларативными сопоставленными классами из сгенерированного `declarative_base()` базового класса.\n",
    "\n",
    "Такой подход называют гибридным, и он состоит в прямом назначении атрибута `.__table__`, а не в декларативном процессе:\n",
    "\n",
    "```\n",
    "mapper_registry = registry()\n",
    "Base = mapper_registry.generate_base()\n",
    "\n",
    "class User(Base):\n",
    "    __table__ = user_table\n",
    "\n",
    "    addresses = relationship(\"Address\", back_populates=\"user\")\n",
    "\n",
    "    def __repr__(self):\n",
    "        return f\"User({self.name!r}, {self.fullname!r})\"\n",
    "\n",
    "class Address(Base):\n",
    "    __table__ = address_table\n",
    "\n",
    "    user = relationship(\"User\", back_populates=\"addresses\")\n",
    "\n",
    "    def __repr__(self):\n",
    "        return f\"Address({self.email_address!r})\"\n",
    "```\n",
    "\n",
    "Эти два класса эквивалентны классам, созданным в прдыдущем примере раздела \"Объявление сопоставленных классов\"."
   ]
  },
  {
   "cell_type": "markdown",
   "id": "13725f81",
   "metadata": {},
   "source": [
    "[К оглавлению](#Home)\n",
    "<a id=\"35\"></a>\n",
    "<p style=\"font-size:150%\">3.5. Отображение таблиц</p>\n",
    "\n",
    "Отображение таблицы относится к процессу чтения текущего состояния базы данных. В предыдущих разделах мы объявляли табличные объекты в Python, а затем отправляли команды DDL в базу данных. Процесс отображения делает это в обратном порядке.\n",
    "\n",
    "В качестве примера отражения создадим новый объект таблицы, отображающий таблицу *some_table*, которую мы создали вручную в более ранних разделах этого документа. Используем конструктор таблицы, укажем имя таблицы и объект метаданных, к которым она будет принадлежать. Затем, вместо того, чтобы создавать столбцы и ограничения, передадим в конструктор целевой движок с помощью параметра `Table.autoload_with`:"
   ]
  },
  {
   "cell_type": "code",
   "execution_count": 27,
   "id": "7a51e29b",
   "metadata": {},
   "outputs": [
    {
     "name": "stdout",
     "output_type": "stream",
     "text": [
      "2022-05-19 11:10:11,021 INFO sqlalchemy.engine.Engine BEGIN (implicit)\n",
      "2022-05-19 11:10:11,021 INFO sqlalchemy.engine.Engine PRAGMA main.table_xinfo(\"some_table\")\n",
      "2022-05-19 11:10:11,021 INFO sqlalchemy.engine.Engine [raw sql] ()\n",
      "2022-05-19 11:10:11,030 INFO sqlalchemy.engine.Engine SELECT sql FROM  (SELECT * FROM sqlite_master UNION ALL   SELECT * FROM sqlite_temp_master) WHERE name = ? AND type = 'table'\n",
      "2022-05-19 11:10:11,031 INFO sqlalchemy.engine.Engine [raw sql] ('some_table',)\n",
      "2022-05-19 11:10:11,033 INFO sqlalchemy.engine.Engine PRAGMA main.foreign_key_list(\"some_table\")\n",
      "2022-05-19 11:10:11,033 INFO sqlalchemy.engine.Engine [raw sql] ()\n",
      "2022-05-19 11:10:11,034 INFO sqlalchemy.engine.Engine PRAGMA temp.foreign_key_list(\"some_table\")\n",
      "2022-05-19 11:10:11,035 INFO sqlalchemy.engine.Engine [raw sql] ()\n",
      "2022-05-19 11:10:11,036 INFO sqlalchemy.engine.Engine SELECT sql FROM  (SELECT * FROM sqlite_master UNION ALL   SELECT * FROM sqlite_temp_master) WHERE name = ? AND type = 'table'\n",
      "2022-05-19 11:10:11,036 INFO sqlalchemy.engine.Engine [raw sql] ('some_table',)\n",
      "2022-05-19 11:10:11,038 INFO sqlalchemy.engine.Engine PRAGMA main.index_list(\"some_table\")\n",
      "2022-05-19 11:10:11,038 INFO sqlalchemy.engine.Engine [raw sql] ()\n",
      "2022-05-19 11:10:11,039 INFO sqlalchemy.engine.Engine PRAGMA temp.index_list(\"some_table\")\n",
      "2022-05-19 11:10:11,039 INFO sqlalchemy.engine.Engine [raw sql] ()\n",
      "2022-05-19 11:10:11,040 INFO sqlalchemy.engine.Engine PRAGMA main.index_list(\"some_table\")\n",
      "2022-05-19 11:10:11,040 INFO sqlalchemy.engine.Engine [raw sql] ()\n",
      "2022-05-19 11:10:11,041 INFO sqlalchemy.engine.Engine PRAGMA temp.index_list(\"some_table\")\n",
      "2022-05-19 11:10:11,042 INFO sqlalchemy.engine.Engine [raw sql] ()\n",
      "2022-05-19 11:10:11,042 INFO sqlalchemy.engine.Engine SELECT sql FROM  (SELECT * FROM sqlite_master UNION ALL   SELECT * FROM sqlite_temp_master) WHERE name = ? AND type = 'table'\n",
      "2022-05-19 11:10:11,043 INFO sqlalchemy.engine.Engine [raw sql] ('some_table',)\n",
      "2022-05-19 11:10:11,044 INFO sqlalchemy.engine.Engine ROLLBACK\n"
     ]
    }
   ],
   "source": [
    "some_table = Table(\"some_table\", metadata_obj, autoload_with=engine)"
   ]
  },
  {
   "cell_type": "markdown",
   "id": "23334035",
   "metadata": {},
   "source": [
    "По завершении этого процесса объект *some_table* содержит информацию о столбцах этой таблицы. Теперь этот объект можно использовать также как и другие таблицы, объявленные явно:"
   ]
  },
  {
   "cell_type": "code",
   "execution_count": 28,
   "id": "a5271b7c",
   "metadata": {},
   "outputs": [
    {
     "data": {
      "text/plain": [
       "Table('some_table', MetaData(), Column('x', INTEGER(), table=<some_table>), Column('y', INTEGER(), table=<some_table>), schema=None)"
      ]
     },
     "execution_count": 28,
     "metadata": {},
     "output_type": "execute_result"
    }
   ],
   "source": [
    "some_table"
   ]
  },
  {
   "cell_type": "markdown",
   "id": "5d75d742",
   "metadata": {},
   "source": [
    "Более подробно об отображении таблиц в <a href=\"https://docs.sqlalchemy.org/en/14/core/reflection.html\">документации</a>.\n",
    "\n",
    "[К оглавлению](#Home)\n",
    "<a id=4></a>\n",
    "# 4. Работа с данными: INSERT, UPDATE, DELETE, SELECT\n",
    "\n",
    "<br><br>\n",
    "[К оглавлению](#Home)\n",
    "<a id=41></a>\n",
    "<p style=\"font-size:150%; font-weight:bold\">4.1. Вставка с помощью Core</p>\n",
    "\n",
    "Для вставки строк с помощью интерфейса Core используем функцию *insert()*."
   ]
  },
  {
   "cell_type": "code",
   "execution_count": 29,
   "id": "2d2c491d",
   "metadata": {},
   "outputs": [],
   "source": [
    "from sqlalchemy import insert\n",
    "stmt = insert(user_table).values(name='tcampion', fullname='Campion Thomas')"
   ]
  },
  {
   "cell_type": "markdown",
   "id": "98da3955",
   "metadata": {},
   "source": [
    "Это SQL-выражение можно представить в текстовом виде:"
   ]
  },
  {
   "cell_type": "code",
   "execution_count": 30,
   "id": "96bfc1d7",
   "metadata": {},
   "outputs": [
    {
     "name": "stdout",
     "output_type": "stream",
     "text": [
      "INSERT INTO user_account (name, fullname) VALUES (:name, :fullname)\n"
     ]
    }
   ],
   "source": [
    "print(stmt)"
   ]
  },
  {
   "cell_type": "markdown",
   "id": "be6cf5aa",
   "metadata": {},
   "source": [
    "Метод <a href=\"https://docs.sqlalchemy.org/en/14/core/foundation.html#sqlalchemy.sql.expression.ClauseElement.compile\">ClauseElement.compile()</a> возвращает компилированный объект. Если применить его к объекту SQL-выражения, получим"
   ]
  },
  {
   "cell_type": "code",
   "execution_count": 31,
   "id": "77cff405",
   "metadata": {},
   "outputs": [
    {
     "data": {
      "text/plain": [
       "<sqlalchemy.sql.compiler.StrSQLCompiler at 0x2144afa23d0>"
      ]
     },
     "execution_count": 31,
     "metadata": {},
     "output_type": "execute_result"
    }
   ],
   "source": [
    "stmt.compile()"
   ]
  },
  {
   "cell_type": "markdown",
   "id": "7695187d",
   "metadata": {},
   "source": [
    "Функция *str()* возвращает текстовое представление объекта."
   ]
  },
  {
   "cell_type": "code",
   "execution_count": 32,
   "id": "a887a222",
   "metadata": {},
   "outputs": [
    {
     "data": {
      "text/plain": [
       "'INSERT INTO user_account (name, fullname) VALUES (:name, :fullname)'"
      ]
     },
     "execution_count": 32,
     "metadata": {},
     "output_type": "execute_result"
    }
   ],
   "source": [
    "str(stmt.compile())"
   ]
  },
  {
   "cell_type": "markdown",
   "id": "e4119112",
   "metadata": {},
   "source": [
    "Свойство *params* показывает значение параметров SQL-выражения."
   ]
  },
  {
   "cell_type": "code",
   "execution_count": 33,
   "id": "1a6b2169",
   "metadata": {},
   "outputs": [
    {
     "data": {
      "text/plain": [
       "{'name': 'tcampion', 'fullname': 'Campion Thomas'}"
      ]
     },
     "execution_count": 33,
     "metadata": {},
     "output_type": "execute_result"
    }
   ],
   "source": [
    "stmt.compile().params"
   ]
  },
  {
   "cell_type": "markdown",
   "id": "eedec2a6",
   "metadata": {},
   "source": [
    "Выполним SQL-выражение."
   ]
  },
  {
   "cell_type": "code",
   "execution_count": 34,
   "id": "483ca5da",
   "metadata": {
    "scrolled": true
   },
   "outputs": [
    {
     "name": "stdout",
     "output_type": "stream",
     "text": [
      "2022-05-19 11:10:11,688 INFO sqlalchemy.engine.Engine BEGIN (implicit)\n",
      "2022-05-19 11:10:11,688 INFO sqlalchemy.engine.Engine INSERT INTO user_account (name, fullname) VALUES (?, ?)\n",
      "2022-05-19 11:10:11,688 INFO sqlalchemy.engine.Engine [generated in 0.00188s] ('tcampion', 'Campion Thomas')\n",
      "2022-05-19 11:10:11,695 INFO sqlalchemy.engine.Engine COMMIT\n"
     ]
    }
   ],
   "source": [
    "with engine.connect() as conn:\n",
    "    result = conn.execute(stmt)\n",
    "    conn.commit()"
   ]
  },
  {
   "cell_type": "markdown",
   "id": "f9aa151a",
   "metadata": {},
   "source": [
    "В приведенной выше простой форме оператор INSERT возвращает целочисленное значение первичного ключа, которое мы можем получить с помощью метода доступа `CursorResult.inserted_primary_key`:"
   ]
  },
  {
   "cell_type": "code",
   "execution_count": 35,
   "id": "0b20033d",
   "metadata": {},
   "outputs": [
    {
     "data": {
      "text/plain": [
       "(1,)"
      ]
     },
     "execution_count": 35,
     "metadata": {},
     "output_type": "execute_result"
    }
   ],
   "source": [
    "result.inserted_primary_key"
   ]
  },
  {
   "cell_type": "markdown",
   "id": "63646b31",
   "metadata": {},
   "source": [
    "Полученное значение является кортежем, так как в общем случае первичный ключ может состоять из более чем одного атрибута. Возвращаемый с помощью *inserted_primary_key* кортеж является именованным, представляет собой объект типа строки *Row*:"
   ]
  },
  {
   "cell_type": "code",
   "execution_count": 36,
   "id": "4f08f516",
   "metadata": {},
   "outputs": [
    {
     "name": "stdout",
     "output_type": "stream",
     "text": [
      "{'id': 1}\n"
     ]
    }
   ],
   "source": [
    "row = result.inserted_primary_key\n",
    "print(row._mapping)"
   ]
  },
  {
   "cell_type": "markdown",
   "id": "2590f6c5",
   "metadata": {},
   "source": [
    "В приведенном выше примере использовался метод `Insert.values()` для явного создания предложения VALUES инструкции SQL INSERT. На самом деле у этого метода есть несколько вариантов, которые допускают специальные формы, такие как несколько строк в одном выражении. Обычный способ использования Insert заключается в том, что предложение VALUES генерируется автоматически из параметров, переданных методу Connection.execute(). Вставим еще две строки, чтобы проиллюстрировать это:"
   ]
  },
  {
   "cell_type": "code",
   "execution_count": 37,
   "id": "fa0c0a6e",
   "metadata": {},
   "outputs": [
    {
     "name": "stdout",
     "output_type": "stream",
     "text": [
      "2022-05-19 11:10:11,948 INFO sqlalchemy.engine.Engine BEGIN (implicit)\n",
      "2022-05-19 11:10:11,949 INFO sqlalchemy.engine.Engine INSERT INTO user_account (name, fullname) VALUES (?, ?)\n",
      "2022-05-19 11:10:11,950 INFO sqlalchemy.engine.Engine [generated in 0.00147s] (('nnigrino', 'Nigrino Niccolo'), ('gcaccini', 'Caccini Giulio'), ('talbinoni', 'Albinoni Thomaso'), ('fmilano', 'Da Milano Francesko'), ('gbfontana', 'Giovanni Battista'))\n",
      "2022-05-19 11:10:11,952 INFO sqlalchemy.engine.Engine COMMIT\n"
     ]
    }
   ],
   "source": [
    "with engine.connect() as conn:\n",
    "    result = conn.execute(\n",
    "        insert(user_table),\n",
    "        [\n",
    "            {\"name\": \"nnigrino\", \"fullname\": \"Nigrino Niccolo\"},\n",
    "            {\"name\": \"gcaccini\", \"fullname\": \"Caccini Giulio\"},\n",
    "            {\"name\": \"talbinoni\", \"fullname\": \"Albinoni Thomaso\"},\n",
    "            {\"name\": \"fmilano\", \"fullname\": \"Da Milano Francesko\"},\n",
    "            {\"name\": \"gbfontana\", \"fullname\": \"Giovanni Battista\"}\n",
    "        ]\n",
    "    )\n",
    "    conn.commit()"
   ]
  },
  {
   "cell_type": "markdown",
   "id": "2fa972cd",
   "metadata": {},
   "source": [
    "Этот код имеет форму «executemany», ранее использованную нами в подразделе «Отправка нескольких параметров» с помощью конструкции *text()*, однако, теперь нам не потребовалось создавать команду SQL в текстовом виде. Передавая словарь или список словарей в метод `Connection.execute()` в сочетании с конструкцией *Insert*, *Connection* гарантирует, что передаваемые имена столбцов будут автоматически выражены в предложении *VALUES* команды *Insert*."
   ]
  },
  {
   "cell_type": "markdown",
   "id": "655aad33",
   "metadata": {},
   "source": [
    "<p style=\"font-size:150%\">INSERT…FROM SELECT</p>\n",
    "\n",
    "Конструкция *Insert* может составлять SQL-выражение, в котором команда INSERT получает строки непосредственно из SELECT с помощью метода `Insert.from_select()`:"
   ]
  },
  {
   "cell_type": "code",
   "execution_count": 38,
   "id": "f8bcdbbc",
   "metadata": {},
   "outputs": [
    {
     "name": "stdout",
     "output_type": "stream",
     "text": [
      "INSERT INTO address (user_id, email_address) SELECT user_account.id, user_account.name || :name_1 AS anon_1 \n",
      "FROM user_account\n"
     ]
    }
   ],
   "source": [
    "from sqlalchemy import select\n",
    "\n",
    "select_stmt = select(user_table.c.id, user_table.c.name + \"@aol.com\") # Получаем строки таблицы user_account\n",
    "\n",
    "# Вставляем в таблицу address\n",
    "insert_stmt = insert(address_table).from_select(\n",
    "    [\"user_id\", \"email_address\"], select_stmt\n",
    ")\n",
    "print(insert_stmt)"
   ]
  },
  {
   "cell_type": "code",
   "execution_count": 39,
   "id": "cd2abdd3",
   "metadata": {},
   "outputs": [
    {
     "name": "stdout",
     "output_type": "stream",
     "text": [
      "2022-05-19 11:10:12,186 INFO sqlalchemy.engine.Engine BEGIN (implicit)\n",
      "2022-05-19 11:10:12,186 INFO sqlalchemy.engine.Engine INSERT INTO address (user_id, email_address) SELECT user_account.id, user_account.name || ? AS anon_1 \n",
      "FROM user_account\n",
      "2022-05-19 11:10:12,186 INFO sqlalchemy.engine.Engine [generated in 0.00570s] ('@aol.com',)\n",
      "2022-05-19 11:10:12,200 INFO sqlalchemy.engine.Engine COMMIT\n"
     ]
    }
   ],
   "source": [
    "with engine.connect() as conn:\n",
    "    result = conn.execute(insert_stmt)\n",
    "    conn.commit()"
   ]
  },
  {
   "cell_type": "markdown",
   "id": "38a4abd3",
   "metadata": {},
   "source": [
    "<p style=\"font-size:150%\">INSERT…RETURNING</p>\n",
    "\n",
    "Предложение RETURNING для поддерживаемых серверов БД используется автоматически для извлечения последнего вставленного значения первичного ключа, а также значений по умолчанию для сервера. Однако предложение RETURNING также может быть указано явно с помощью метода `Insert.returning()`, в этом случае объект Result содержит возвращаемые значения:"
   ]
  },
  {
   "cell_type": "code",
   "execution_count": 40,
   "id": "0a4ba4eb",
   "metadata": {},
   "outputs": [
    {
     "name": "stdout",
     "output_type": "stream",
     "text": [
      "INSERT INTO address (id, user_id, email_address) VALUES (:id, :user_id, :email_address) RETURNING address.id, address.email_address\n"
     ]
    }
   ],
   "source": [
    "insert_stmt = insert(address_table).returning(address_table.c.id, address_table.c.email_address)\n",
    "print(insert_stmt)"
   ]
  },
  {
   "cell_type": "markdown",
   "id": "e625d898",
   "metadata": {},
   "source": [
    "Предложение RETURNING можно комбинировать с FROM SELECT"
   ]
  },
  {
   "cell_type": "code",
   "execution_count": 41,
   "id": "6effd776",
   "metadata": {},
   "outputs": [
    {
     "name": "stdout",
     "output_type": "stream",
     "text": [
      "INSERT INTO address (user_id, email_address) SELECT user_account.id, user_account.name || :name_1 AS anon_1 \n",
      "FROM user_account \n",
      "WHERE user_account.id > :id_1 RETURNING address.id, address.email_address\n"
     ]
    }
   ],
   "source": [
    "select_stmt = select(user_table.c.id, user_table.c.name + \"@mail.ru\")\n",
    "select_stmt = select_stmt.where(user_table.c.id > 3)\n",
    "\n",
    "insert_stmt = insert(address_table).from_select(\n",
    "    [\"user_id\", \"email_address\"], select_stmt\n",
    ")\n",
    "print(insert_stmt.returning(address_table.c.id, address_table.c.email_address))"
   ]
  },
  {
   "cell_type": "code",
   "execution_count": 42,
   "id": "0a079ccd",
   "metadata": {},
   "outputs": [
    {
     "name": "stdout",
     "output_type": "stream",
     "text": [
      "2022-05-19 11:10:12,520 INFO sqlalchemy.engine.Engine BEGIN (implicit)\n",
      "2022-05-19 11:10:12,520 INFO sqlalchemy.engine.Engine INSERT INTO address (user_id, email_address) SELECT user_account.id, user_account.name || ? AS anon_1 \n",
      "FROM user_account \n",
      "WHERE user_account.id > ?\n",
      "2022-05-19 11:10:12,520 INFO sqlalchemy.engine.Engine [generated in 0.00162s] ('@mail.ru', 3)\n",
      "2022-05-19 11:10:12,526 INFO sqlalchemy.engine.Engine COMMIT\n"
     ]
    }
   ],
   "source": [
    "with engine.connect() as conn:\n",
    "    result = conn.execute(insert_stmt)\n",
    "    conn.commit()"
   ]
  },
  {
   "cell_type": "markdown",
   "id": "7c239967",
   "metadata": {},
   "source": [
    "Для более наглядной демонстрации примеров добавим некоторым пользователям адрес электронной почты в домене @yandex.ru"
   ]
  },
  {
   "cell_type": "code",
   "execution_count": 43,
   "id": "334f76b7",
   "metadata": {},
   "outputs": [
    {
     "name": "stdout",
     "output_type": "stream",
     "text": [
      "2022-05-19 11:10:14,058 INFO sqlalchemy.engine.Engine BEGIN (implicit)\n",
      "2022-05-19 11:10:14,058 INFO sqlalchemy.engine.Engine INSERT INTO address (user_id, email_address) SELECT user_account.id, user_account.name || ? AS anon_1 \n",
      "FROM user_account \n",
      "WHERE user_account.id > ?\n",
      "2022-05-19 11:10:14,058 INFO sqlalchemy.engine.Engine [cached since 1.55s ago] ('@yandex.ru', 4)\n",
      "2022-05-19 11:10:14,077 INFO sqlalchemy.engine.Engine COMMIT\n"
     ]
    }
   ],
   "source": [
    "select_stmt = select(user_table.c.id, user_table.c.name + \"@yandex.ru\")\n",
    "select_stmt = select_stmt.where(user_table.c.id > 4)\n",
    "\n",
    "insert_stmt = insert(address_table).from_select(\n",
    "    [\"user_id\", \"email_address\"], select_stmt\n",
    ")\n",
    "\n",
    "with engine.connect() as conn:\n",
    "    result = conn.execute(insert_stmt)\n",
    "    conn.commit()"
   ]
  },
  {
   "cell_type": "markdown",
   "id": "c778c244",
   "metadata": {},
   "source": [
    "[К оглавлению](#Home)\n",
    "<a id=42></a>\n",
    "<p style=\"font-size:150%; font-weight:bold\">4.2. Селекция строк с помощью Core и ORM</p>\n",
    "\n",
    "И для Core, и для ORM функция *select()* генерирует конструкцию Select, которая используется для всех запросов SELECT. Передаваемый таким методам, как `Connection.execute()` в Core и `Session.execute()` в ORM, оператор SELECT выполняется в текущей транзакции, а строки результатов доступны через возвращаемый объект Result.\n",
    "\n",
    "\n",
    "<p style=\"font-size:150%\">4.2.1. Построение SQL-выражения с помощью метода select()</p>\n",
    "\n",
    "Метод *select()* позволяет создать SQL-выражение аналогично тому, как это было рассмотрено выше для функции *insert()*."
   ]
  },
  {
   "cell_type": "code",
   "execution_count": 44,
   "id": "36bd5533",
   "metadata": {
    "scrolled": true
   },
   "outputs": [
    {
     "name": "stdout",
     "output_type": "stream",
     "text": [
      "SELECT user_account.id, user_account.name, user_account.fullname \n",
      "FROM user_account \n",
      "WHERE user_account.name = :name_1\n"
     ]
    }
   ],
   "source": [
    "from sqlalchemy import select\n",
    "stmt = select(user_table).where(user_table.c.name == 'tcampion')\n",
    "print(stmt)"
   ]
  },
  {
   "cell_type": "markdown",
   "id": "2f3b66ae",
   "metadata": {},
   "source": [
    "Для выполнения SQL-выражения мы передаём его в исполняемый метод. Выражение с использованием команды SELECT возвращает строки, по которым можно совершить итерацию."
   ]
  },
  {
   "cell_type": "code",
   "execution_count": 45,
   "id": "4e338a45",
   "metadata": {},
   "outputs": [
    {
     "name": "stdout",
     "output_type": "stream",
     "text": [
      "2022-05-19 11:10:15,785 INFO sqlalchemy.engine.Engine BEGIN (implicit)\n",
      "2022-05-19 11:10:15,785 INFO sqlalchemy.engine.Engine SELECT user_account.id, user_account.name, user_account.fullname \n",
      "FROM user_account \n",
      "WHERE user_account.name = ?\n",
      "2022-05-19 11:10:15,785 INFO sqlalchemy.engine.Engine [generated in 0.00156s] ('tcampion',)\n",
      "(1, 'tcampion', 'Campion Thomas')\n",
      "2022-05-19 11:10:15,797 INFO sqlalchemy.engine.Engine ROLLBACK\n"
     ]
    }
   ],
   "source": [
    "with engine.connect() as conn:\n",
    "    for row in conn.execute(stmt):\n",
    "        print(row)"
   ]
  },
  {
   "cell_type": "markdown",
   "id": "0b505269",
   "metadata": {},
   "source": [
    "При использовании ORM мы передаём сформированное с помощью *select()* SQL-выражение методу `Session.execute()` в сеансе. Используя этот подход, мы продолжаем получать объекты *Row* из результата, однако эти строки теперь могут включать экземпляры класса User как отдельные элементы в каждой строке:"
   ]
  },
  {
   "cell_type": "code",
   "execution_count": 46,
   "id": "d99ef561",
   "metadata": {
    "scrolled": true
   },
   "outputs": [
    {
     "name": "stdout",
     "output_type": "stream",
     "text": [
      "2022-05-19 11:10:15,888 INFO sqlalchemy.engine.Engine BEGIN (implicit)\n",
      "2022-05-19 11:10:15,888 INFO sqlalchemy.engine.Engine SELECT user_account.id, user_account.name, user_account.fullname \n",
      "FROM user_account \n",
      "WHERE user_account.name = ?\n",
      "2022-05-19 11:10:15,905 INFO sqlalchemy.engine.Engine [generated in 0.00177s] ('tcampion',)\n",
      "(User(id=1, name='tcampion', fullname='Campion Thomas'),)\n",
      "2022-05-19 11:10:15,906 INFO sqlalchemy.engine.Engine ROLLBACK\n"
     ]
    }
   ],
   "source": [
    "stmt = select(User).where(User.name == 'tcampion')\n",
    "with Session(engine) as session:\n",
    "    for row in session.execute(stmt):\n",
    "        print(row)"
   ]
  },
  {
   "cell_type": "markdown",
   "id": "8c819744",
   "metadata": {},
   "source": [
    "Распечатаем всех пользователей и все адреса пользователей."
   ]
  },
  {
   "cell_type": "code",
   "execution_count": 47,
   "id": "a957ef9e",
   "metadata": {},
   "outputs": [
    {
     "name": "stdout",
     "output_type": "stream",
     "text": [
      "2022-05-19 11:10:16,004 INFO sqlalchemy.engine.Engine BEGIN (implicit)\n",
      "2022-05-19 11:10:16,004 INFO sqlalchemy.engine.Engine SELECT user_account.id, user_account.name, user_account.fullname \n",
      "FROM user_account\n",
      "2022-05-19 11:10:16,004 INFO sqlalchemy.engine.Engine [generated in 0.00093s] ()\n",
      "id:1, name:tcampion, fullname:Campion Thomas\n",
      "id:2, name:nnigrino, fullname:Nigrino Niccolo\n",
      "id:3, name:gcaccini, fullname:Caccini Giulio\n",
      "id:4, name:talbinoni, fullname:Albinoni Thomaso\n",
      "id:5, name:fmilano, fullname:Da Milano Francesko\n",
      "id:6, name:gbfontana, fullname:Giovanni Battista\n",
      "2022-05-19 11:10:16,008 INFO sqlalchemy.engine.Engine ROLLBACK\n"
     ]
    }
   ],
   "source": [
    "stmt = select(User.id, User.name, User.fullname)\n",
    "with Session(engine) as session:\n",
    "    for row in session.execute(stmt):\n",
    "        print(f\"id:{row.id}, name:{row.name}, fullname:{row.fullname}\")"
   ]
  },
  {
   "cell_type": "code",
   "execution_count": 48,
   "id": "936c84c5",
   "metadata": {},
   "outputs": [
    {
     "name": "stdout",
     "output_type": "stream",
     "text": [
      "2022-05-19 11:10:16,096 INFO sqlalchemy.engine.Engine BEGIN (implicit)\n",
      "2022-05-19 11:10:16,097 INFO sqlalchemy.engine.Engine SELECT address.id, address.user_id, address.email_address \n",
      "FROM address\n",
      "2022-05-19 11:10:16,098 INFO sqlalchemy.engine.Engine [generated in 0.00061s] ()\n",
      "id:1, user:1, email:tcampion@aol.com\n",
      "id:2, user:2, email:nnigrino@aol.com\n",
      "id:3, user:3, email:gcaccini@aol.com\n",
      "id:4, user:4, email:talbinoni@aol.com\n",
      "id:5, user:5, email:fmilano@aol.com\n",
      "id:6, user:6, email:gbfontana@aol.com\n",
      "id:7, user:4, email:talbinoni@mail.ru\n",
      "id:8, user:5, email:fmilano@mail.ru\n",
      "id:9, user:6, email:gbfontana@mail.ru\n",
      "id:10, user:5, email:fmilano@yandex.ru\n",
      "id:11, user:6, email:gbfontana@yandex.ru\n",
      "2022-05-19 11:10:16,099 INFO sqlalchemy.engine.Engine ROLLBACK\n"
     ]
    }
   ],
   "source": [
    "stmt = select(Address.id, Address.user_id, Address.email_address)\n",
    "with Session(engine) as session:\n",
    "    for row in session.execute(stmt):\n",
    "        print(f\"id:{row.id}, user:{row.user_id}, email:{row.email_address}\")"
   ]
  },
  {
   "cell_type": "markdown",
   "id": "d56c9c34",
   "metadata": {},
   "source": [
    "[К оглавлению](#Home)\n",
    "<a id=422></a>\n",
    "<p style=\"font-size:150%\">4.2.2. Определение предложений COLUMNS и FROM</p>\n",
    "\n",
    "Функция *select()* принимает позиционные элементы, представляющие любое количество выражений *Column* и/или *Table*, а также широкий спектр совместимых объектов, которые преобразуются в список SQL-выражений. Эти элементы также служат  для создания предложения FROM, которое неявно выводится из переданных столбцов и табличных выражений."
   ]
  },
  {
   "cell_type": "code",
   "execution_count": 49,
   "id": "ddf92861",
   "metadata": {},
   "outputs": [
    {
     "name": "stdout",
     "output_type": "stream",
     "text": [
      "SELECT user_account.id, user_account.name, user_account.fullname \n",
      "FROM user_account\n"
     ]
    }
   ],
   "source": [
    "print(select(user_table))"
   ]
  },
  {
   "cell_type": "markdown",
   "id": "269cc11a",
   "metadata": {},
   "source": [
    "Чтобы выбрать данные из отдельных столбцов с использованием подхода *Core*, доступ к объектам столбцов осуществляется с помощью `Table.c`. Предложение FROM будет сформировано как набор всех объектов *Table*."
   ]
  },
  {
   "cell_type": "code",
   "execution_count": 50,
   "id": "38725858",
   "metadata": {
    "scrolled": true
   },
   "outputs": [
    {
     "name": "stdout",
     "output_type": "stream",
     "text": [
      "SELECT user_account.name, user_account.fullname \n",
      "FROM user_account\n"
     ]
    }
   ],
   "source": [
    "print(select(user_table.c.name, user_table.c.fullname))"
   ]
  },
  {
   "cell_type": "markdown",
   "id": "5975d7bd",
   "metadata": {},
   "source": [
    "\n",
    "<a id=\"4221\"></a>\n",
    "<p style=\"font-size:125%\">4.2.2.1. Выбор сущностей и столбцов с помощью ORM</p>\n",
    "\n",
    "Выберем атрибуты класса *User*."
   ]
  },
  {
   "cell_type": "code",
   "execution_count": 51,
   "id": "1214d4ef",
   "metadata": {
    "scrolled": true
   },
   "outputs": [
    {
     "name": "stdout",
     "output_type": "stream",
     "text": [
      "SELECT user_account.id, user_account.name, user_account.fullname \n",
      "FROM user_account\n"
     ]
    }
   ],
   "source": [
    "print(select(User))"
   ]
  },
  {
   "cell_type": "markdown",
   "id": "237ae92a",
   "metadata": {},
   "source": [
    "Далее, если выполнить это выражение с помощью метода `session.execute()`, мы получим объекты строк как \n",
    "экземпляры класса *User*."
   ]
  },
  {
   "cell_type": "code",
   "execution_count": 52,
   "id": "46020c02",
   "metadata": {},
   "outputs": [
    {
     "name": "stdout",
     "output_type": "stream",
     "text": [
      "2022-05-19 11:10:16,470 INFO sqlalchemy.engine.Engine BEGIN (implicit)\n",
      "2022-05-19 11:10:16,470 INFO sqlalchemy.engine.Engine SELECT user_account.id, user_account.name, user_account.fullname \n",
      "FROM user_account\n",
      "2022-05-19 11:10:16,480 INFO sqlalchemy.engine.Engine [generated in 0.00153s] ()\n",
      "2022-05-19 11:10:16,482 INFO sqlalchemy.engine.Engine ROLLBACK\n"
     ]
    }
   ],
   "source": [
    "with Session(engine) as session:\n",
    "    row = session.execute(select(User)).first()\n",
    "    row"
   ]
  },
  {
   "cell_type": "markdown",
   "id": "80a5bcdc",
   "metadata": {},
   "source": [
    "Мы получили одну строку таблицы пользователей. К результату можно обратиться по индексу."
   ]
  },
  {
   "cell_type": "code",
   "execution_count": 53,
   "id": "f7254b56",
   "metadata": {},
   "outputs": [
    {
     "data": {
      "text/plain": [
       "User(id=1, name='tcampion', fullname='Campion Thomas')"
      ]
     },
     "execution_count": 53,
     "metadata": {},
     "output_type": "execute_result"
    }
   ],
   "source": [
    "row[0]"
   ]
  },
  {
   "cell_type": "markdown",
   "id": "a69e84b3",
   "metadata": {},
   "source": [
    "Вместо выбора всех столбцов, мы можем указать отдельные атрибуты класса."
   ]
  },
  {
   "cell_type": "code",
   "execution_count": 54,
   "id": "8ba54ff5",
   "metadata": {},
   "outputs": [
    {
     "name": "stdout",
     "output_type": "stream",
     "text": [
      "2022-05-19 11:10:16,672 INFO sqlalchemy.engine.Engine BEGIN (implicit)\n",
      "2022-05-19 11:10:16,672 INFO sqlalchemy.engine.Engine SELECT user_account.name, user_account.fullname \n",
      "FROM user_account\n",
      "2022-05-19 11:10:16,672 INFO sqlalchemy.engine.Engine [generated in 0.00183s] ()\n",
      "tcampion Campion Thomas\n",
      "2022-05-19 11:10:16,689 INFO sqlalchemy.engine.Engine ROLLBACK\n"
     ]
    }
   ],
   "source": [
    "with Session(engine) as session:\n",
    "    row = session.execute(select(User.name, User.fullname)).first()\n",
    "    print(row.name, row.fullname)"
   ]
  },
  {
   "cell_type": "markdown",
   "id": "27771346",
   "metadata": {},
   "source": [
    "Покажем применение этой техники для выбора атрибутов из двух таблиц - пользователей и адресов."
   ]
  },
  {
   "cell_type": "code",
   "execution_count": 55,
   "id": "9d1c78e6",
   "metadata": {},
   "outputs": [
    {
     "name": "stdout",
     "output_type": "stream",
     "text": [
      "2022-05-19 11:10:16,792 INFO sqlalchemy.engine.Engine BEGIN (implicit)\n",
      "2022-05-19 11:10:16,793 INFO sqlalchemy.engine.Engine SELECT user_account.name, address.id, address.email_address, address.user_id \n",
      "FROM user_account, address \n",
      "WHERE user_account.id = address.user_id ORDER BY address.id\n",
      "2022-05-19 11:10:16,794 INFO sqlalchemy.engine.Engine [generated in 0.00103s] ()\n",
      "('tcampion', Address(id=1, email_address='tcampion@aol.com'))\n",
      "('nnigrino', Address(id=2, email_address='nnigrino@aol.com'))\n",
      "('gcaccini', Address(id=3, email_address='gcaccini@aol.com'))\n",
      "('talbinoni', Address(id=4, email_address='talbinoni@aol.com'))\n",
      "('fmilano', Address(id=5, email_address='fmilano@aol.com'))\n",
      "('gbfontana', Address(id=6, email_address='gbfontana@aol.com'))\n",
      "('talbinoni', Address(id=7, email_address='talbinoni@mail.ru'))\n",
      "('fmilano', Address(id=8, email_address='fmilano@mail.ru'))\n",
      "('gbfontana', Address(id=9, email_address='gbfontana@mail.ru'))\n",
      "('fmilano', Address(id=10, email_address='fmilano@yandex.ru'))\n",
      "('gbfontana', Address(id=11, email_address='gbfontana@yandex.ru'))\n",
      "2022-05-19 11:10:16,795 INFO sqlalchemy.engine.Engine ROLLBACK\n"
     ]
    }
   ],
   "source": [
    "with Session(engine) as session:\n",
    "    result = session.execute(\n",
    "        select(User.name, Address).\\\n",
    "        where(User.id==Address.user_id).\\\n",
    "        order_by(Address.id)\\\n",
    "    ).all()\n",
    "    for row in result:\n",
    "        print(row)"
   ]
  },
  {
   "cell_type": "markdown",
   "id": "acec5fe6",
   "metadata": {},
   "source": [
    "<p style=\"font-size:125%\">4.2.2.2. Выбор строк с использованием метки</p>\n",
    "\n",
    "Метод `ColumnElement.label()`, а также одноименный метод, доступный для атрибутов ORM, создаёт метку столбца или SQL-выражения, позволяя ему иметь конкретное имя в результирующем отношении. В дальнейшем эту метку можно использовать в коде программы."
   ]
  },
  {
   "cell_type": "code",
   "execution_count": 56,
   "id": "c53a3f83",
   "metadata": {
    "scrolled": true
   },
   "outputs": [
    {
     "name": "stdout",
     "output_type": "stream",
     "text": [
      "2022-05-19 11:10:16,886 INFO sqlalchemy.engine.Engine BEGIN (implicit)\n",
      "2022-05-19 11:10:16,886 INFO sqlalchemy.engine.Engine SELECT ? || user_account.name || ? AS username, ? || user_account.fullname AS fullname \n",
      "FROM user_account ORDER BY user_account.name\n",
      "2022-05-19 11:10:16,886 INFO sqlalchemy.engine.Engine [generated in 0.00180s] ('Username: ', '\\t', 'UserFullName: ')\n",
      "Username: fmilano\t UserFullName: Da Milano Francesko\n",
      "Username: gbfontana\t UserFullName: Giovanni Battista\n",
      "Username: gcaccini\t UserFullName: Caccini Giulio\n",
      "Username: nnigrino\t UserFullName: Nigrino Niccolo\n",
      "Username: talbinoni\t UserFullName: Albinoni Thomaso\n",
      "Username: tcampion\t UserFullName: Campion Thomas\n",
      "2022-05-19 11:10:16,896 INFO sqlalchemy.engine.Engine ROLLBACK\n"
     ]
    }
   ],
   "source": [
    "from sqlalchemy import func, cast\n",
    "stmt = (\n",
    "    select(\n",
    "        (('Username: ' + user_table.c.name + '\\t').label('username'), \\\n",
    "         ('UserFullName: '+user_table.c.fullname).label('fullname')),\n",
    "    ).order_by(user_table.c.name)\n",
    ")\n",
    "\n",
    "with engine.connect() as conn:\n",
    "    for row in conn.execute(stmt):\n",
    "        print(row.username, row.fullname)"
   ]
  },
  {
   "cell_type": "raw",
   "id": "e7abc1c3",
   "metadata": {},
   "source": [
    "См. также: <a href=\"https://docs.sqlalchemy.org/en/14/tutorial/data_select.html#tutorial-order-by-label\">Сортировка и группировка с помощью меток</a>\n",
    "\n",
    "<p style=\"font-size:125%\">4.2.2.3. Селекция с использованием текстовых констант</p>\n",
    "\n",
    "Когда мы создаём объект селекции *Select* с помощью функции *select()*, мы обычно передаём ей последовательность объектов таблиц и столбцов, определенных в метаданных. В ходе селекции с помощью объектно-ориентированного подхода ORM мы передаём сопоставленные атрибуты, преставляющие столбцы. Однако, некоторые части SQL-выражения, такие как строковые константы, удобнее формировать в текстовом виде. Для этого можно использовать функцию *text()*, введенную ранее. Следующий пример иллюстрирует использование текстовой константы в запросе."
   ]
  },
  {
   "cell_type": "code",
   "execution_count": 57,
   "id": "7bbacd96",
   "metadata": {
    "scrolled": true
   },
   "outputs": [
    {
     "name": "stdout",
     "output_type": "stream",
     "text": [
      "2022-05-19 11:10:16,997 INFO sqlalchemy.engine.Engine BEGIN (implicit)\n",
      "2022-05-19 11:10:16,997 INFO sqlalchemy.engine.Engine SELECT 'текстовая константа', user_account.name \n",
      "FROM user_account \n",
      "WHERE user_account.id < ? ORDER BY user_account.name\n",
      "2022-05-19 11:10:16,998 INFO sqlalchemy.engine.Engine [generated in 0.00168s] (3,)\n",
      "[('текстовая константа', 'nnigrino'), ('текстовая константа', 'tcampion')]\n",
      "2022-05-19 11:10:16,999 INFO sqlalchemy.engine.Engine ROLLBACK\n"
     ]
    }
   ],
   "source": [
    "from sqlalchemy import text\n",
    "stmt = (\n",
    "    select(\n",
    "        text(\"'текстовая константа'\"), user_table.c.name\n",
    "    ).where(user_table.c.id < 3).order_by(user_table.c.name)\n",
    ")\n",
    "with engine.connect() as conn:\n",
    "    print(conn.execute(stmt).all())"
   ]
  },
  {
   "cell_type": "markdown",
   "id": "4baeaeb2",
   "metadata": {},
   "source": [
    "Конструкция *text()* может использоваться для буквального ввода команд SQL. Мы можем получить больше функциональности из нашего текстового фрагмента, используя конструкцию *literal_column()*. Этот объект похож на *text()*, за исключением того, что вместо произвольного текста он явно представляет один «столбец», который затем может быть помечен и на него можно ссылаться в подзапросах и других выражениях:"
   ]
  },
  {
   "cell_type": "code",
   "execution_count": 58,
   "id": "b152691c",
   "metadata": {},
   "outputs": [
    {
     "name": "stdout",
     "output_type": "stream",
     "text": [
      "2022-05-19 11:10:17,104 INFO sqlalchemy.engine.Engine BEGIN (implicit)\n",
      "2022-05-19 11:10:17,104 INFO sqlalchemy.engine.Engine SELECT 'некоторый текст' AS p, user_account.name AS q \n",
      "FROM user_account ORDER BY user_account.name\n",
      "2022-05-19 11:10:17,104 INFO sqlalchemy.engine.Engine [generated in 0.00544s] ()\n",
      "некоторый текст, fmilano\n",
      "некоторый текст, gbfontana\n",
      "некоторый текст, gcaccini\n",
      "некоторый текст, nnigrino\n",
      "некоторый текст, talbinoni\n",
      "некоторый текст, tcampion\n",
      "2022-05-19 11:10:17,122 INFO sqlalchemy.engine.Engine ROLLBACK\n"
     ]
    }
   ],
   "source": [
    "from sqlalchemy import literal_column\n",
    "stmt = (\n",
    "    select(\n",
    "        literal_column(\"'некоторый текст'\").label(\"p\"), user_table.c.name.label(\"q\")\n",
    "    ).order_by(user_table.c.name)\n",
    ")\n",
    "with engine.connect() as conn:\n",
    "    for row in conn.execute(stmt):\n",
    "        print(f\"{row.p}, {row.q}\")"
   ]
  },
  {
   "cell_type": "markdown",
   "id": "64fa61fe",
   "metadata": {},
   "source": [
    "<p style=\"font-size:150%\">4.2.3. Предложение WHERE</p>\n",
    "\n",
    "Предложение WHERE позволяет устанавливать условие (предикат) на отбор строк отношения. Используются операторы ==, !=, <, >, >=. "
   ]
  },
  {
   "cell_type": "code",
   "execution_count": 59,
   "id": "ebec3ca2",
   "metadata": {},
   "outputs": [
    {
     "name": "stdout",
     "output_type": "stream",
     "text": [
      "SELECT user_account.id, user_account.name, user_account.fullname \n",
      "FROM user_account \n",
      "WHERE user_account.name = :name_1\n"
     ]
    }
   ],
   "source": [
    "clause_1 = (user_table.c.name == 'tcampion')\n",
    "clause_2 = (address_table.c.user_id > 10)\n",
    "\n",
    "print(select(user_table).where(clause_1))"
   ]
  },
  {
   "cell_type": "markdown",
   "id": "b679905d",
   "metadata": {},
   "source": [
    "Для добавления условий, выполняющихся одновременно, метод *where()* можно повторять неограниченное число раз."
   ]
  },
  {
   "cell_type": "code",
   "execution_count": 60,
   "id": "84831fab",
   "metadata": {},
   "outputs": [
    {
     "name": "stdout",
     "output_type": "stream",
     "text": [
      "SELECT address.email_address \n",
      "FROM address, user_account \n",
      "WHERE user_account.name = :name_1 AND address.user_id = user_account.id\n"
     ]
    }
   ],
   "source": [
    "print(\n",
    "    select(address_table.c.email_address).\n",
    "    where(user_table.c.name == 'tcampion').\n",
    "    where(address_table.c.user_id == user_table.c.id)\n",
    ")"
   ]
  },
  {
   "cell_type": "markdown",
   "id": "36d21ee8",
   "metadata": {},
   "source": [
    "Также, один метод *where()* может содержать множество условий."
   ]
  },
  {
   "cell_type": "code",
   "execution_count": 61,
   "id": "3cd53b40",
   "metadata": {},
   "outputs": [
    {
     "name": "stdout",
     "output_type": "stream",
     "text": [
      "SELECT address.email_address \n",
      "FROM address, user_account \n",
      "WHERE user_account.name = :name_1 AND address.user_id = user_account.id\n"
     ]
    }
   ],
   "source": [
    "print(\n",
    "    select(address_table.c.email_address).\n",
    "    where(\n",
    "         user_table.c.name == 'tcampion',\n",
    "         address_table.c.user_id == user_table.c.id\n",
    "    )\n",
    ")"
   ]
  },
  {
   "cell_type": "markdown",
   "id": "18619261",
   "metadata": {},
   "source": [
    "Логическое сложение OR и умножение AND можно применить, если использовать <a href=\"https://docs.sqlalchemy.org/en/14/core/sqlelement.html#sqlalchemy.sql.expression\"> функции </a> *or_()* и *and_()*."
   ]
  },
  {
   "cell_type": "code",
   "execution_count": 62,
   "id": "a5923ce5",
   "metadata": {},
   "outputs": [
    {
     "name": "stdout",
     "output_type": "stream",
     "text": [
      "SELECT address.email_address \n",
      "FROM address, user_account \n",
      "WHERE (user_account.name = :name_1 OR user_account.name = :name_2) AND address.user_id = user_account.id\n"
     ]
    }
   ],
   "source": [
    "# Получить почтовые адреса пользователей с именами tcampion и nnigrino.\n",
    "from sqlalchemy import and_, or_\n",
    "print(\n",
    "    select(Address.email_address).\n",
    "    where(\n",
    "        and_(\n",
    "            or_(User.name == 'tcampion', User.name == 'nnigrino'),\n",
    "            Address.user_id == User.id\n",
    "        )\n",
    "    )\n",
    ")"
   ]
  },
  {
   "cell_type": "markdown",
   "id": "d34b4121",
   "metadata": {},
   "source": [
    "Для простых сравнений «на равенство» с одним объектом также есть популярный метод, известный как `Select.filter_by()`, который принимает аргументы ключевого слова, соответствующие ключам столбцов или именам атрибутов ORM."
   ]
  },
  {
   "cell_type": "code",
   "execution_count": 63,
   "id": "8fed981e",
   "metadata": {},
   "outputs": [
    {
     "name": "stdout",
     "output_type": "stream",
     "text": [
      "SELECT user_account.id, user_account.name, user_account.fullname \n",
      "FROM user_account \n",
      "WHERE user_account.name = :name_1 AND user_account.fullname = :fullname_1\n"
     ]
    }
   ],
   "source": [
    "print(\n",
    "    select(User).filter_by(name='tcampion', fullname='Campion Thomas')\n",
    ")"
   ]
  },
  {
   "cell_type": "markdown",
   "id": "439e5b19",
   "metadata": {},
   "source": [
    "См. также: <a href=\"https://docs.sqlalchemy.org/en/14/core/operators.html\">использовнаие операторов в SQLAlchemy</a>\n",
    "\n",
    "<p style=\"font-size:150%\">4.2.4. Предложение FROM в явном виде и соединение JOIN</p>\n",
    "\n",
    "Как мы видели ранее, предложение FROM обычно выводится на основе выражений, которые мы устанавливаем в предложении столбцов, а также других элементов Select. То есть, если мы устанавливаем один столбец из определенной таблицы в предложении COLUMNS, то эта таблица помещается в предложение FROM:"
   ]
  },
  {
   "cell_type": "code",
   "execution_count": 64,
   "id": "51947e6e",
   "metadata": {},
   "outputs": [
    {
     "name": "stdout",
     "output_type": "stream",
     "text": [
      "SELECT user_account.name \n",
      "FROM user_account\n"
     ]
    }
   ],
   "source": [
    "print(select(user_table.c.name))"
   ]
  },
  {
   "cell_type": "markdown",
   "id": "aec30b4e",
   "metadata": {},
   "source": [
    "Так же происходит, когда мы отбираем данные из столбцов, принадлежащих разным таблицам."
   ]
  },
  {
   "cell_type": "code",
   "execution_count": 65,
   "id": "0b71df25",
   "metadata": {},
   "outputs": [
    {
     "name": "stdout",
     "output_type": "stream",
     "text": [
      "SELECT user_account.name, address.email_address \n",
      "FROM user_account, address\n"
     ]
    }
   ],
   "source": [
    "print(select(user_table.c.name, address_table.c.email_address))"
   ]
  },
  {
   "cell_type": "markdown",
   "id": "5fa84fd6",
   "metadata": {},
   "source": [
    "Чтобы СОЕДИНИТЬ эти две таблицы вместе, мы обычно используем один из двух методов в Select. Первый — это метод `Select.join_from()`, который позволяет нам явно указать левую и правую стороны JOIN:"
   ]
  },
  {
   "cell_type": "code",
   "execution_count": 66,
   "id": "53ab43a1",
   "metadata": {},
   "outputs": [
    {
     "name": "stdout",
     "output_type": "stream",
     "text": [
      "SELECT user_account.name, address.email_address \n",
      "FROM user_account JOIN address ON user_account.id = address.user_id\n"
     ]
    }
   ],
   "source": [
    "print(\n",
    "    select(user_table.c.name, address_table.c.email_address).\n",
    "    join_from(user_table, address_table)\n",
    ")"
   ]
  },
  {
   "cell_type": "markdown",
   "id": "895cd8c3",
   "metadata": {},
   "source": [
    "Другим является метод `Select.join()`, который указывает только правую часть JOIN, левая сторона выводится неявно:"
   ]
  },
  {
   "cell_type": "code",
   "execution_count": 67,
   "id": "b68265b4",
   "metadata": {},
   "outputs": [
    {
     "name": "stdout",
     "output_type": "stream",
     "text": [
      "SELECT user_account.name, address.email_address \n",
      "FROM user_account JOIN address ON user_account.id = address.user_id\n"
     ]
    }
   ],
   "source": [
    "print(\n",
    "    select(user_table.c.name, address_table.c.email_address).\n",
    "    join(address_table)\n",
    ")"
   ]
  },
  {
   "cell_type": "markdown",
   "id": "41666c0c",
   "metadata": {},
   "source": [
    "В этих примерах условие соединения ON сформировано неявно. Однако, его можно указывать в явном виде.\n",
    "\n",
    "У нас также есть возможность явно добавлять элементы в предложение FROM. Для этого в следующем примере мы используем метод `Select.select_from()` чтобы указать первую таблицу соединения *user_account* и далее `Select.join()`."
   ]
  },
  {
   "cell_type": "code",
   "execution_count": 68,
   "id": "f9f71249",
   "metadata": {},
   "outputs": [
    {
     "name": "stdout",
     "output_type": "stream",
     "text": [
      "SELECT address.email_address \n",
      "FROM user_account JOIN address ON user_account.id = address.user_id\n"
     ]
    }
   ],
   "source": [
    "print(\n",
    "    select(address_table.c.email_address).\n",
    "    select_from(user_table).join(address_table)\n",
    ")"
   ]
  },
  {
   "cell_type": "markdown",
   "id": "94fa0300",
   "metadata": {},
   "source": [
    "Другой пример, когда может понадобиться использование метода *select_from()* - использование функции *count()* по всем атрибутам без указания имен таблиц и атрибутов."
   ]
  },
  {
   "cell_type": "code",
   "execution_count": 69,
   "id": "7f44b9ad",
   "metadata": {},
   "outputs": [
    {
     "name": "stdout",
     "output_type": "stream",
     "text": [
      "SELECT count(:count_2) AS count_1 \n",
      "FROM user_account\n"
     ]
    }
   ],
   "source": [
    "from sqlalchemy import func\n",
    "print (\n",
    "    select(func.count('*')).select_from(user_table)\n",
    ")"
   ]
  },
  {
   "cell_type": "markdown",
   "id": "539f1580",
   "metadata": {},
   "source": [
    "Больше примеров в <a href=\"https://docs.sqlalchemy.org/en/14/orm/queryguide.html\">ORM Querying Guide</a>\n",
    "\n",
    "<p style=\"font-size:125%\">4.2.4.1. Формирование условия соединения</p>\n",
    "\n",
    "Предыдущие примеры использования соединения JOIN показали, что конструкция Select может соединять две таблицы и автоматически создавать предложение ON. Так происходило, потому что таблица *address* содержит ограничение ForeignKeyConstraint, которое обеспечивает ссылку на таблицу *user_account*.\n",
    "\n",
    "Если левая и правая стороны соединения не имеют такого ограничения или есть несколько ограничений, нам нужно указать предложение ON напрямую. В этом случае `Select.join()`, и `Select.join_from()` принимают дополнительный аргумент для предложения ON, который задается с использованием той же механики SQL-выражения, что мы видели в предложении WHERE:"
   ]
  },
  {
   "cell_type": "code",
   "execution_count": 70,
   "id": "20320103",
   "metadata": {},
   "outputs": [
    {
     "name": "stdout",
     "output_type": "stream",
     "text": [
      "SELECT address.email_address \n",
      "FROM user_account JOIN address ON user_account.id = address.user_id\n"
     ]
    }
   ],
   "source": [
    "print(\n",
    "    select(address_table.c.email_address).\n",
    "    select_from(user_table).\n",
    "    join(address_table, user_table.c.id == address_table.c.user_id)\n",
    ")"
   ]
  },
  {
   "cell_type": "markdown",
   "id": "808e1713",
   "metadata": {},
   "source": [
    "<p style=\"font-size:125%\">4.2.4.2. Внешнее и полное соединения</p>\n",
    "\n",
    "Оба метода `Select.join()` и `Select.join_from()` принимают аргументы ключевых слов `Select.join.isouter` и `Select.join.full`, которые позволяют создавать предложения левого внешнего LEFT OUTER JOIN и полного FULL OUTER JOIN соединений:"
   ]
  },
  {
   "cell_type": "code",
   "execution_count": 71,
   "id": "96fe20db",
   "metadata": {},
   "outputs": [
    {
     "name": "stdout",
     "output_type": "stream",
     "text": [
      "SELECT user_account.id, user_account.name, user_account.fullname \n",
      "FROM user_account LEFT OUTER JOIN address ON user_account.id = address.user_id\n",
      "SELECT user_account.id, user_account.name, user_account.fullname \n",
      "FROM user_account FULL OUTER JOIN address ON user_account.id = address.user_id\n"
     ]
    }
   ],
   "source": [
    "print(\n",
    "    select(user_table).join(address_table, isouter=True)\n",
    ")\n",
    "\n",
    "print(\n",
    "    select(user_table).join(address_table, full=True)\n",
    ")"
   ]
  },
  {
   "cell_type": "markdown",
   "id": "b5bafa0e",
   "metadata": {},
   "source": [
    "Существуют также методы:\n",
    "\n",
    "`Select.outerjoin()`, эквивалентный использованию `.join(..., isouter=True)`;<br>\n",
    "`Select.outerjoin_from()`, эквивалентный использованию `join_from(..., isouter=True)`.\n",
    "\n",
    "<Table align=\"left\">\n",
    "    <tr><td bgcolor=#adb5bd></td>\n",
    "        <td style=\"text-align:left; font-size:10pt\">\n",
    "Примечание.\n",
    "\n",
    "SQLAlchemy не поддерживает команду RIGHT OUTER JOIN. Вместо этого поменяйте местами таблицы и используйте LEFT OUTER JOIN.\n",
    "        </td></tr>\n",
    "</Table>"
   ]
  },
  {
   "cell_type": "markdown",
   "id": "48860b1b",
   "metadata": {},
   "source": [
    "<p style=\"font-size:150%\">4.2.5. Предложения ORDER BY, GROUP BY, HAVING</p>\n",
    "\n",
    "<p style=\"font-size:120%\">4.2.5.1. ORDER BY</p>\n",
    "\n",
    "Для упорядочивания результатов запросов используется метод <a href=\"https://docs.sqlalchemy.org/en/14/core/selectable.html#sqlalchemy.sql.expression.Select.order_by\">` Select.order_by() `.</a>"
   ]
  },
  {
   "cell_type": "code",
   "execution_count": 72,
   "id": "77192f96",
   "metadata": {},
   "outputs": [
    {
     "name": "stdout",
     "output_type": "stream",
     "text": [
      "SELECT user_account.id, user_account.name, user_account.fullname \n",
      "FROM user_account ORDER BY user_account.name\n"
     ]
    }
   ],
   "source": [
    "print(select(user_table).order_by(user_table.c.name))"
   ]
  },
  {
   "cell_type": "markdown",
   "id": "9dc6dbd2",
   "metadata": {},
   "source": [
    "Для упорядочивания по возрастанию или убыванию использем методы `ColumnElement.asc()` или `ColumnElement.desc()`"
   ]
  },
  {
   "cell_type": "code",
   "execution_count": 73,
   "id": "b03430b5",
   "metadata": {},
   "outputs": [
    {
     "name": "stdout",
     "output_type": "stream",
     "text": [
      "SELECT user_account.id, user_account.name, user_account.fullname \n",
      "FROM user_account ORDER BY user_account.fullname DESC\n"
     ]
    }
   ],
   "source": [
    "print(select(User).order_by(User.fullname.desc()))"
   ]
  },
  {
   "cell_type": "markdown",
   "id": "a465d918",
   "metadata": {},
   "source": [
    "<p style=\"font-size:120%\">4.2.5.2. Агрегатные функции с группировкой и фильтрацией</p>\n",
    "\n",
    "Группировка в SQL позволяет вычислять значение агрегатной функции для группы строк. Агрегатная функция SQL выполняется с помощью специального конструктора *func.* Покажем это на примере вычисления количества пользователей в таблице *user_account*."
   ]
  },
  {
   "cell_type": "code",
   "execution_count": 74,
   "id": "b710c0e6",
   "metadata": {
    "scrolled": true
   },
   "outputs": [
    {
     "name": "stdout",
     "output_type": "stream",
     "text": [
      "2022-05-19 11:10:18,819 INFO sqlalchemy.engine.Engine BEGIN (implicit)\n",
      "2022-05-19 11:10:18,819 INFO sqlalchemy.engine.Engine SELECT count(user_account.id) AS count_1 \n",
      "FROM user_account\n",
      "2022-05-19 11:10:18,819 INFO sqlalchemy.engine.Engine [generated in 0.00400s] ()\n",
      "6\n",
      "2022-05-19 11:10:18,830 INFO sqlalchemy.engine.Engine ROLLBACK\n"
     ]
    }
   ],
   "source": [
    "from sqlalchemy import func\n",
    "count_fn = func.count(user_table.c.id)\n",
    "\n",
    "with engine.connect() as conn:\n",
    "    result = conn.execute(count_fn).scalar()\n",
    "    print(result)"
   ]
  },
  {
   "cell_type": "markdown",
   "id": "c65e70c1",
   "metadata": {},
   "source": [
    "Более подробно о работе с функциями: https://docs.sqlalchemy.org/en/14/tutorial/data_select.html#tutorial-functions\n",
    "\n",
    "HAVING позволяет применить фильтр к результатам группировки. Для этого используются методы `Select.group_by()` и `Select.having()`.\n",
    "\n",
    "Покажем имена и количество адресов пользователей, имеющих более одного адреса."
   ]
  },
  {
   "cell_type": "code",
   "execution_count": 75,
   "id": "13433467",
   "metadata": {
    "scrolled": true
   },
   "outputs": [
    {
     "name": "stdout",
     "output_type": "stream",
     "text": [
      "2022-05-19 11:10:18,926 INFO sqlalchemy.engine.Engine BEGIN (implicit)\n",
      "2022-05-19 11:10:18,926 INFO sqlalchemy.engine.Engine SELECT user_account.name, count(address.id) AS count \n",
      "FROM user_account JOIN address ON user_account.id = address.user_id GROUP BY user_account.name \n",
      "HAVING count(address.id) > ?\n",
      "2022-05-19 11:10:18,927 INFO sqlalchemy.engine.Engine [generated in 0.00141s] (1,)\n",
      "[('fmilano', 3), ('gbfontana', 3), ('talbinoni', 2)]\n",
      "2022-05-19 11:10:18,928 INFO sqlalchemy.engine.Engine ROLLBACK\n"
     ]
    }
   ],
   "source": [
    "with engine.connect() as conn:\n",
    "    result = conn.execute(\n",
    "        select(User.name, func.count(Address.id).label(\"count\")).\n",
    "        join(Address).\n",
    "        group_by(User.name).\n",
    "        having(func.count(Address.id) > 1)\n",
    "    )\n",
    "    print(result.all())"
   ]
  },
  {
   "cell_type": "markdown",
   "id": "c08cfc44",
   "metadata": {},
   "source": [
    "<p style=\"font-size:120%\">4.2.5.3. Использование метки для группировки и упорядочивания</p>\n",
    "\n",
    "Иногда требуется группировать или упорядочивать по результатом выражений с участием столбцов. И для того, чтобы не вводить и не вычислять выражения заново, используются метки."
   ]
  },
  {
   "cell_type": "code",
   "execution_count": 76,
   "id": "53c26b00",
   "metadata": {},
   "outputs": [
    {
     "name": "stdout",
     "output_type": "stream",
     "text": [
      "2022-05-19 11:10:19,036 INFO sqlalchemy.engine.Engine BEGIN (implicit)\n",
      "2022-05-19 11:10:19,036 INFO sqlalchemy.engine.Engine SELECT address.user_id, count(address.id) AS num_addresses \n",
      "FROM address GROUP BY address.user_id ORDER BY num_addresses DESC, address.user_id\n",
      "2022-05-19 11:10:19,041 INFO sqlalchemy.engine.Engine [generated in 0.00569s] ()\n",
      "user_id: 5, num_addresses: 3\n",
      "user_id: 6, num_addresses: 3\n",
      "user_id: 4, num_addresses: 2\n",
      "user_id: 1, num_addresses: 1\n",
      "user_id: 2, num_addresses: 1\n",
      "user_id: 3, num_addresses: 1\n",
      "2022-05-19 11:10:19,046 INFO sqlalchemy.engine.Engine ROLLBACK\n"
     ]
    }
   ],
   "source": [
    "from sqlalchemy import func, desc\n",
    "stmt = select(\n",
    "        Address.user_id,\n",
    "        func.count(Address.id).label('num_addresses')).\\\n",
    "        group_by('user_id').order_by(desc('num_addresses'), 'user_id')\n",
    "\n",
    "with engine.connect() as conn:\n",
    "    result = conn.execute(stmt)\n",
    "    for row in result:\n",
    "        print(f\"{list(row.keys())[0]}: {row.user_id}, {list(row.keys())[1]}: {row.num_addresses}\")"
   ]
  },
  {
   "cell_type": "markdown",
   "id": "f91898d4",
   "metadata": {},
   "source": [
    "<p style=\"font-size:150%\">4.2.6. Псевдонимы</p>\n",
    "\n",
    "Псевдонимы используют для сокращённой записи наименований, а также чтобы избежать конфликтов и получить верный результат в случае, когда к одной и той же таблице в одном запросе обращаются более одного раза.\n",
    "\n",
    "<p style=\"font-size:125%\">4.2.6.1. Псевдонимы в интерфйсе Core</p>\n",
    "\n",
    "В интерфейсе Core для псевдонима используется метод ` FromClause.alias()`. Покажем на примере выполнения запроса, в котором используются две таблицы *user_account* под разными псевдонимами. Найдём пары пользователей, идентификаторы которых отличаются в два раза."
   ]
  },
  {
   "cell_type": "code",
   "execution_count": 77,
   "id": "cc96662c",
   "metadata": {},
   "outputs": [
    {
     "name": "stdout",
     "output_type": "stream",
     "text": [
      "2022-05-19 11:10:19,143 INFO sqlalchemy.engine.Engine BEGIN (implicit)\n",
      "2022-05-19 11:10:19,143 INFO sqlalchemy.engine.Engine SELECT usr_1.id, usr_1.name, usr_2.id AS id_1, usr_2.name AS name_1 \n",
      "FROM user_account AS usr_1, user_account AS usr_2 \n",
      "WHERE cast(usr_2.id as real) / usr_1.id = ?\n",
      "2022-05-19 11:10:19,144 INFO sqlalchemy.engine.Engine [generated in 0.00163s] (2.0,)\n",
      "[(1, 'tcampion', 2, 'nnigrino'), (2, 'nnigrino', 4, 'talbinoni'), (3, 'gcaccini', 6, 'gbfontana')]\n",
      "2022-05-19 11:10:19,146 INFO sqlalchemy.engine.Engine ROLLBACK\n"
     ]
    },
    {
     "name": "stderr",
     "output_type": "stream",
     "text": [
      "C:\\Users\\myfri\\AppData\\Local\\Temp/ipykernel_2676/1926913873.py:7: SAWarning: SELECT statement has a cartesian product between FROM element(s) \"usr_2\" and FROM element \"usr_1\".  Apply join condition(s) between each element to resolve.\n",
      "  result = conn.execute(stmt).all()\n"
     ]
    }
   ],
   "source": [
    "usr_1 = user_table.alias('usr_1')\n",
    "usr_2 = user_table.alias('usr_2')\n",
    "stmt = select(usr_1.c.id, usr_1.c.name, usr_2.c.id, usr_2.c.name)\n",
    "stmt = stmt.where(text('cast(usr_2.id as real)') / usr_1.c.id == 2.0)\n",
    "\n",
    "with engine.connect() as conn:\n",
    "    result = conn.execute(stmt).all()\n",
    "    print(result)"
   ]
  },
  {
   "cell_type": "markdown",
   "id": "cf27a3a7",
   "metadata": {},
   "source": [
    "<p style=\"font-size:125%\">4.2.6.2. Псевдонимы в интерфйсе ORM</p>\n",
    "\n",
    "В интрефейсе ORM псевдонимы задаются с помощью функции *aliased()*. В следующем примере с помощью псевдонимов производится отбор пользователей, имеющих два определённых e-mail адреса."
   ]
  },
  {
   "cell_type": "code",
   "execution_count": 78,
   "id": "a1248d4e",
   "metadata": {},
   "outputs": [
    {
     "name": "stdout",
     "output_type": "stream",
     "text": [
      "2022-05-19 11:10:19,596 INFO sqlalchemy.engine.Engine BEGIN (implicit)\n",
      "2022-05-19 11:10:19,596 INFO sqlalchemy.engine.Engine SELECT user_account.id, user_account.name, user_account.fullname \n",
      "FROM user_account JOIN address AS address_1 ON user_account.id = address_1.user_id JOIN address AS address_2 ON user_account.id = address_2.user_id \n",
      "WHERE address_1.email_address LIKE ? AND address_2.email_address LIKE ?\n",
      "2022-05-19 11:10:19,596 INFO sqlalchemy.engine.Engine [generated in 0.00169s] ('%aol.com', '%@mail.ru')\n",
      "[(4, 'talbinoni', 'Albinoni Thomaso'), (5, 'fmilano', 'Da Milano Francesko'), (6, 'gbfontana', 'Giovanni Battista')]\n",
      "2022-05-19 11:10:19,602 INFO sqlalchemy.engine.Engine ROLLBACK\n"
     ]
    }
   ],
   "source": [
    "from sqlalchemy.orm import aliased\n",
    "address_alias_1 = aliased(Address)\n",
    "address_alias_2 = aliased(Address)\n",
    "stmt = (\n",
    "    select(User).\n",
    "    join_from(User, address_alias_1).\\\n",
    "    where(address_alias_1.email_address.like('%aol.com')).\\\n",
    "    join_from(User, address_alias_2).\\\n",
    "    where(address_alias_2.email_address.like('%@mail.ru'))\n",
    ")\n",
    "with engine.connect() as conn:\n",
    "    result = conn.execute(stmt).all()\n",
    "    print(result)"
   ]
  },
  {
   "cell_type": "markdown",
   "id": "00e2c281",
   "metadata": {},
   "source": [
    "<p style=\"font-size:150%\">4.2.7. Подзапросы и табличные выражения (ТВ)</p>\n",
    "\n",
    "Для определения подзапроса и ТВ в SQLAlchemy используются методы `Select.subquery()` и `Select.cte()`. Любой из таких объектов может использоваться в предложении FROM SQL-выражения. \n",
    "\n",
    "<p style=\"font-size:120%\">4.2.7.1. Подзапросы</p>\n",
    "\n",
    "Создадим выражение подзапроса для подсчёта числа адресов каждого пользователя. Используем метод `Select.subquery()`."
   ]
  },
  {
   "cell_type": "code",
   "execution_count": 79,
   "id": "acfe1426",
   "metadata": {},
   "outputs": [],
   "source": [
    "subq = select(\n",
    "    func.count(address_table.c.id).label(\"count\"),\n",
    "    address_table.c.user_id\n",
    ").group_by(address_table.c.user_id).subquery()"
   ]
  },
  {
   "cell_type": "markdown",
   "id": "0fb5ef36",
   "metadata": {},
   "source": [
    "Сам по себе подзапрос может быть распечатан в текстовом виде без дополнительных скобок."
   ]
  },
  {
   "cell_type": "code",
   "execution_count": 80,
   "id": "072cf92e",
   "metadata": {},
   "outputs": [
    {
     "name": "stdout",
     "output_type": "stream",
     "text": [
      "SELECT count(address.id) AS count, address.user_id \n",
      "FROM address GROUP BY address.user_id\n"
     ]
    }
   ],
   "source": [
    "print(subq)"
   ]
  },
  {
   "cell_type": "markdown",
   "id": "db6391f1",
   "metadata": {},
   "source": [
    "Объект подзапроса в SQL-выражении ведёт себя также как и любой объект таблицы."
   ]
  },
  {
   "cell_type": "code",
   "execution_count": 81,
   "id": "298d3fab",
   "metadata": {},
   "outputs": [
    {
     "name": "stdout",
     "output_type": "stream",
     "text": [
      "SELECT anon_1.user_id, anon_1.count \n",
      "FROM (SELECT count(address.id) AS count, address.user_id AS user_id \n",
      "FROM address GROUP BY address.user_id) AS anon_1\n"
     ]
    }
   ],
   "source": [
    "print(select(subq.c.user_id, subq.c.count))"
   ]
  },
  {
   "cell_type": "markdown",
   "id": "cd35a21b",
   "metadata": {},
   "source": [
    "Теперь мы можем связать подзапрос к таблице адресов с запросом *Select* к таблице пользователей."
   ]
  },
  {
   "cell_type": "code",
   "execution_count": 82,
   "id": "84703f7a",
   "metadata": {},
   "outputs": [
    {
     "name": "stdout",
     "output_type": "stream",
     "text": [
      "SELECT user_account.name, user_account.fullname, anon_1.count \n",
      "FROM user_account JOIN (SELECT count(address.id) AS count, address.user_id AS user_id \n",
      "FROM address GROUP BY address.user_id) AS anon_1 ON user_account.id = anon_1.user_id\n"
     ]
    }
   ],
   "source": [
    "stmt = select(\n",
    "   user_table.c.name,\n",
    "   user_table.c.fullname,\n",
    "   subq.c.count\n",
    ").join_from(user_table, subq)\n",
    "\n",
    "print(stmt)"
   ]
  },
  {
   "cell_type": "markdown",
   "id": "4f888859",
   "metadata": {},
   "source": [
    "В этом примере мы использовали метод `Select.join_from()` и неявное условие соединения `user_table.c.id==address_table.c.user_id`, обеспеченное ссылочной целостностью БД.\n",
    "\n",
    "<p style=\"font-size:125%\">4.2.7.2. Табличные выражения</p>\n",
    "\n",
    "Использование табличных выражений (ТВ) аналогично подзапросам с той лишь разницей, что применяется метод метод `Select.cte()`. Однако, SQL-выражение в текстовом виде имеет больше отличий. Сравните:"
   ]
  },
  {
   "cell_type": "code",
   "execution_count": 83,
   "id": "9cc6c8de",
   "metadata": {},
   "outputs": [
    {
     "name": "stdout",
     "output_type": "stream",
     "text": [
      "WITH \"A1\" AS \n",
      "(SELECT count(address.id) AS count, address.user_id AS user_id \n",
      "FROM address GROUP BY address.user_id)\n",
      " SELECT user_account.name, user_account.fullname, \"A1\".count \n",
      "FROM user_account JOIN \"A1\" ON user_account.id = \"A1\".user_id\n"
     ]
    }
   ],
   "source": [
    "subq = select(\n",
    "    func.count(address_table.c.id).label('count'),\n",
    "    address_table.c.user_id\n",
    ").group_by(address_table.c.user_id).cte('A1')\n",
    "\n",
    "stmt = select(\n",
    "   user_table.c.name,\n",
    "   user_table.c.fullname,\n",
    "   subq.c.count\n",
    ").join_from(user_table, subq)\n",
    "\n",
    "print(stmt)"
   ]
  },
  {
   "cell_type": "markdown",
   "id": "e79ed509",
   "metadata": {},
   "source": [
    "<p style=\"font-size:125%\">4.2.7.3. Подзапросы и табличные выражения в стиле ORM</p>\n",
    " \n",
    "В интерфейсе ORM функция aliased() может быть использована для связывания ORM-сущностей, таких, как классы User или Address, с каким-либо источником строк, таким, как таблица или выборка с помощью SQL-запроса.\n",
    "\n",
    "В следующем примере применим к подзапросу функцию <a href=\"https://docs.sqlalchemy.org/en/14/orm/query.html#sqlalchemy.orm.aliased\">aliased()</a>, с помощью которой свяжем имя Address с записями таблицы адресов с учётом фильтра."
   ]
  },
  {
   "cell_type": "code",
   "execution_count": 84,
   "id": "21ea5a6a",
   "metadata": {},
   "outputs": [
    {
     "name": "stdout",
     "output_type": "stream",
     "text": [
      "2022-05-19 11:10:20,320 INFO sqlalchemy.engine.Engine BEGIN (implicit)\n",
      "2022-05-19 11:10:20,328 INFO sqlalchemy.engine.Engine SELECT user_account.id, user_account.name, user_account.fullname, anon_1.id AS id_1, anon_1.email_address, anon_1.user_id \n",
      "FROM user_account JOIN (SELECT address.id AS id, address.email_address AS email_address, address.user_id AS user_id \n",
      "FROM address \n",
      "WHERE address.email_address NOT LIKE ?) AS anon_1 ON user_account.id = anon_1.user_id ORDER BY user_account.id, anon_1.id\n",
      "2022-05-19 11:10:20,329 INFO sqlalchemy.engine.Engine [generated in 0.00093s] ('%@aol.com',)\n",
      "User(id=4, name='talbinoni', fullname='Albinoni Thomaso') Address(id=7, email_address='talbinoni@mail.ru')\n",
      "User(id=5, name='fmilano', fullname='Da Milano Francesko') Address(id=8, email_address='fmilano@mail.ru')\n",
      "User(id=5, name='fmilano', fullname='Da Milano Francesko') Address(id=10, email_address='fmilano@yandex.ru')\n",
      "User(id=6, name='gbfontana', fullname='Giovanni Battista') Address(id=9, email_address='gbfontana@mail.ru')\n",
      "User(id=6, name='gbfontana', fullname='Giovanni Battista') Address(id=11, email_address='gbfontana@yandex.ru')\n",
      "2022-05-19 11:10:20,331 INFO sqlalchemy.engine.Engine ROLLBACK\n"
     ]
    }
   ],
   "source": [
    "subq = select(Address).where(~Address.email_address.like('%@aol.com')).subquery()\n",
    "address_subq = aliased(Address, subq)\n",
    "stmt = select(User, address_subq)\n",
    "stmt = stmt.join_from(User, address_subq)\n",
    "stmt = stmt.order_by(User.id, address_subq.id)\n",
    "with Session(engine) as session:\n",
    "    for user, address in session.execute(stmt):\n",
    "        print(f\"{user} {address}\")"
   ]
  },
  {
   "cell_type": "markdown",
   "id": "f5dd03b4",
   "metadata": {},
   "source": [
    "Этот же пример с использованием ТВ."
   ]
  },
  {
   "cell_type": "code",
   "execution_count": 85,
   "id": "47688875",
   "metadata": {},
   "outputs": [
    {
     "name": "stdout",
     "output_type": "stream",
     "text": [
      "2022-05-19 11:10:20,451 INFO sqlalchemy.engine.Engine BEGIN (implicit)\n",
      "2022-05-19 11:10:20,451 INFO sqlalchemy.engine.Engine WITH anon_1 AS \n",
      "(SELECT address.id AS id, address.email_address AS email_address, address.user_id AS user_id \n",
      "FROM address \n",
      "WHERE address.email_address NOT LIKE ?)\n",
      " SELECT user_account.id, user_account.name, user_account.fullname, anon_1.id AS id_1, anon_1.email_address, anon_1.user_id \n",
      "FROM user_account JOIN anon_1 ON user_account.id = anon_1.user_id ORDER BY user_account.id, anon_1.id\n",
      "2022-05-19 11:10:20,467 INFO sqlalchemy.engine.Engine [generated in 0.00368s] ('%@aol.com',)\n",
      "User(id=4, name='talbinoni', fullname='Albinoni Thomaso') Address(id=7, email_address='talbinoni@mail.ru')\n",
      "User(id=5, name='fmilano', fullname='Da Milano Francesko') Address(id=8, email_address='fmilano@mail.ru')\n",
      "User(id=5, name='fmilano', fullname='Da Milano Francesko') Address(id=10, email_address='fmilano@yandex.ru')\n",
      "User(id=6, name='gbfontana', fullname='Giovanni Battista') Address(id=9, email_address='gbfontana@mail.ru')\n",
      "User(id=6, name='gbfontana', fullname='Giovanni Battista') Address(id=11, email_address='gbfontana@yandex.ru')\n",
      "2022-05-19 11:10:20,474 INFO sqlalchemy.engine.Engine ROLLBACK\n"
     ]
    }
   ],
   "source": [
    "cte_obj = select(Address).where(~Address.email_address.like('%@aol.com')).cte()\n",
    "address_cte = aliased(Address, cte_obj)\n",
    "stmt = select(User, address_cte).join_from(User, address_cte).order_by(User.id, address_cte.id)\n",
    "with Session(engine) as session:\n",
    "    for user, address in session.execute(stmt):\n",
    "        print(f\"{user} {address}\")"
   ]
  },
  {
   "cell_type": "markdown",
   "id": "1b6ce1e9",
   "metadata": {},
   "source": [
    "<p style=\"font-size:150%\">4.2.8. Скалярные и связанные подзапросы</p>\n",
    "\n",
    "Скалярный подзапрос возвращает ноль или одну строку в одном столбце. Связанный подзапрос — это скалярный подзапрос, ссылающийся на таблицу внешнего запроса и возвращающий скаларное значение для каждой записи отношения, формируемого внешним запросом. Результат выполнения связанного скалярного запроса сказывается на значении предиката внешнего запроса. Скалярный подзапрос может использовать агрегатную функцию. Скалярный подзапрос необходимо обозначать явно с помощью метода `Select.scalar_subquery()`. В текстовом виде это обычное SQL-выражение, использующее команду SELECT с участием двух таблиц."
   ]
  },
  {
   "cell_type": "code",
   "execution_count": 86,
   "id": "93b93a76",
   "metadata": {},
   "outputs": [
    {
     "name": "stdout",
     "output_type": "stream",
     "text": [
      "(SELECT count(address.id) AS count_1 \n",
      "FROM address, user_account \n",
      "WHERE user_account.id = address.user_id)\n"
     ]
    }
   ],
   "source": [
    "subq = select(func.count(address_table.c.id)).\\\n",
    "            where(user_table.c.id == address_table.c.user_id).\\\n",
    "            scalar_subquery()\n",
    "print(subq)"
   ]
  },
  {
   "cell_type": "markdown",
   "id": "af096552",
   "metadata": {},
   "source": [
    "Объект подзапроса может участвовать в выражениях, например"
   ]
  },
  {
   "cell_type": "code",
   "execution_count": 87,
   "id": "0bb28d9f",
   "metadata": {},
   "outputs": [
    {
     "name": "stdout",
     "output_type": "stream",
     "text": [
      "(SELECT count(address.id) AS count_1 \n",
      "FROM address, user_account \n",
      "WHERE user_account.id = address.user_id) = :param_1\n"
     ]
    }
   ],
   "source": [
    "print(subq == 5)"
   ]
  },
  {
   "cell_type": "markdown",
   "id": "9a3dc16d",
   "metadata": {},
   "source": [
    "Если подзапрос к таблице *address* указать в конструкторе *Select*, а именно в перечислении столбцов вместе со столбцами таблицы *user_account*, призойдёт автоматическое связывание *user_account* с *address*, при этом таблица *user_account* не появляется в предложении FROM основного запроса."
   ]
  },
  {
   "cell_type": "code",
   "execution_count": 88,
   "id": "87ff49f0",
   "metadata": {},
   "outputs": [
    {
     "name": "stdout",
     "output_type": "stream",
     "text": [
      "SELECT user_account.name, (SELECT count(address.id) AS count_1 \n",
      "FROM address \n",
      "WHERE user_account.id = address.user_id) AS address_count \n",
      "FROM user_account\n"
     ]
    }
   ],
   "source": [
    "stmt = select(user_table.c.name, subq.label(\"address_count\"))\n",
    "print(stmt)"
   ]
  },
  {
   "cell_type": "markdown",
   "id": "bae73be9",
   "metadata": {},
   "source": [
    "Возникает ошибка, если связывание неоднозначно. В следующем примере одним из источников строк является подзапрос *subq*. Этот источник может быть связан как с *user_table*, так и с *address_table*. Поэтому возникает ошибка в ходе формирования предложения FROM SQL-выражения.\n",
    "\n",
    "```\n",
    "stmt = select(\n",
    "    user_table.c.name,\n",
    "    address_table.c.email_address,\n",
    "    subq.label(\"address_count\")\n",
    ").\\\n",
    "join_from(user_table, address_table).\\\n",
    "order_by(user_table.c.id, address_table.c.id)\n",
    "print(stmt)\n",
    "\n",
    "...\n",
    "InvalidRequestError: Select statement '<... Select object at ...>' returned\n",
    "no FROM clauses due to auto-correlation; specify correlate(<tables>) to\n",
    "control correlation manually.\n",
    "```"
   ]
  },
  {
   "cell_type": "markdown",
   "id": "4d1e84e2",
   "metadata": {},
   "source": [
    "Чтобы избежать ошибки, требуется в явном виде указать, что подзапрос *subq* связывается с таблицей *user_table*. Для связывания используем метод <a href=\"https://docs.sqlalchemy.org/en/14/core/selectable.html#sqlalchemy.sql.expression.ScalarSelect.correlate\"> `ScalarSelect.correlate()`</a> или метод <a href=\"https://docs.sqlalchemy.org/en/14/core/selectable.html#sqlalchemy.sql.expression.ScalarSelect.correlate_except\">ScalarSelect.correlate_except()</a>"
   ]
  },
  {
   "cell_type": "code",
   "execution_count": 89,
   "id": "d1df4214",
   "metadata": {},
   "outputs": [
    {
     "name": "stdout",
     "output_type": "stream",
     "text": [
      "(SELECT count(address.id) AS count_1 \n",
      "FROM address, user_account \n",
      "WHERE user_account.id = address.user_id)\n"
     ]
    }
   ],
   "source": [
    "subq = select(func.count(address_table.c.id)).\\\n",
    "            where(user_table.c.id == address_table.c.user_id).\\\n",
    "            scalar_subquery().correlate(user_table)\n",
    "print(subq)"
   ]
  },
  {
   "cell_type": "markdown",
   "id": "c5ed0e73",
   "metadata": {},
   "source": [
    "Теперь используем этот подзапрос."
   ]
  },
  {
   "cell_type": "code",
   "execution_count": 90,
   "id": "4593c4ee",
   "metadata": {},
   "outputs": [
    {
     "name": "stdout",
     "output_type": "stream",
     "text": [
      "2022-05-19 11:10:20,988 INFO sqlalchemy.engine.Engine BEGIN (implicit)\n",
      "2022-05-19 11:10:20,988 INFO sqlalchemy.engine.Engine SELECT user_account.name, address.email_address, (SELECT count(address.id) AS count_1 \n",
      "FROM address \n",
      "WHERE user_account.id = address.user_id) AS address_count \n",
      "FROM user_account JOIN address ON user_account.id = address.user_id ORDER BY user_account.id, address.id\n",
      "2022-05-19 11:10:20,989 INFO sqlalchemy.engine.Engine [generated in 0.00132s] ()\n",
      "('tcampion', 'tcampion@aol.com', 1)\n",
      "('nnigrino', 'nnigrino@aol.com', 1)\n",
      "('gcaccini', 'gcaccini@aol.com', 1)\n",
      "('talbinoni', 'talbinoni@aol.com', 2)\n",
      "('talbinoni', 'talbinoni@mail.ru', 2)\n",
      "('fmilano', 'fmilano@aol.com', 3)\n",
      "('fmilano', 'fmilano@mail.ru', 3)\n",
      "('fmilano', 'fmilano@yandex.ru', 3)\n",
      "('gbfontana', 'gbfontana@aol.com', 3)\n",
      "('gbfontana', 'gbfontana@mail.ru', 3)\n",
      "('gbfontana', 'gbfontana@yandex.ru', 3)\n",
      "2022-05-19 11:10:20,992 INFO sqlalchemy.engine.Engine ROLLBACK\n"
     ]
    }
   ],
   "source": [
    "with engine.connect() as conn:\n",
    "    result = conn.execute(\n",
    "        select(\n",
    "            user_table.c.name,\n",
    "            address_table.c.email_address,\n",
    "            subq.label(\"address_count\")\n",
    "            ).\n",
    "        join_from(user_table, address_table).\n",
    "        order_by(user_table.c.id, address_table.c.id)\n",
    "    )\n",
    "    for item in result:\n",
    "        print(item)"
   ]
  },
  {
   "cell_type": "markdown",
   "id": "2e8fc5eb",
   "metadata": {},
   "source": [
    "<p style=\"font-size:150%\">4.2.9. Объединение и операции над множествами</p>\n",
    "\n",
    "Рассмотрим работу операции объединения с помощью UNION, а также операции над множествами с помощью INTERSECT [ALL] и EXCEPT [ALL]. Для выполнения этих операций в библиотеке SQLAlchemy используются методы `union_all()`, `intersect_all()` и `except_all()`."
   ]
  },
  {
   "cell_type": "code",
   "execution_count": 91,
   "id": "47c018a0",
   "metadata": {},
   "outputs": [
    {
     "name": "stdout",
     "output_type": "stream",
     "text": [
      "2022-05-19 11:10:21,086 INFO sqlalchemy.engine.Engine BEGIN (implicit)\n",
      "2022-05-19 11:10:21,086 INFO sqlalchemy.engine.Engine SELECT user_account.id, user_account.name, user_account.fullname \n",
      "FROM user_account \n",
      "WHERE user_account.name = ? UNION ALL SELECT user_account.id, user_account.name, user_account.fullname \n",
      "FROM user_account \n",
      "WHERE user_account.name = ?\n",
      "2022-05-19 11:10:21,086 INFO sqlalchemy.engine.Engine [generated in 0.00300s] ('tcampion', 'gcaccini')\n",
      "[(1, 'tcampion', 'Campion Thomas'), (3, 'gcaccini', 'Caccini Giulio')]\n",
      "2022-05-19 11:10:21,096 INFO sqlalchemy.engine.Engine ROLLBACK\n"
     ]
    }
   ],
   "source": [
    "from sqlalchemy import union_all\n",
    "\n",
    "stmt1 = select(user_table).where(user_table.c.name == 'tcampion')\n",
    "stmt2 = select(user_table).where(user_table.c.name == 'gcaccini')\n",
    "u = union_all(stmt1, stmt2)\n",
    "\n",
    "with engine.connect() as conn:\n",
    "    result = conn.execute(u)\n",
    "    print(result.all())"
   ]
  },
  {
   "cell_type": "markdown",
   "id": "5d91022b",
   "metadata": {},
   "source": [
    "Результат объединения можно использовать в подзапросе. Для этого в следующем примере с помощью метода `SelectBase.subquery()` создадим объект подзапроса с коллекцией <a href=\"https://docs.sqlalchemy.org/en/14/core/selectable.html#sqlalchemy.sql.expression.FromClause.c\">`FromClause.c`</a>, на элементы которой можно в дальнейшем ссылаться во внешнем запросе. В следующем примере к именам пользователей из результата объединения добавим информацию об адресах."
   ]
  },
  {
   "cell_type": "code",
   "execution_count": 92,
   "id": "99671c93",
   "metadata": {},
   "outputs": [
    {
     "name": "stdout",
     "output_type": "stream",
     "text": [
      "2022-05-19 11:10:21,188 INFO sqlalchemy.engine.Engine BEGIN (implicit)\n",
      "2022-05-19 11:10:21,188 INFO sqlalchemy.engine.Engine SELECT anon_1.name, address.email_address \n",
      "FROM address JOIN (SELECT user_account.id AS id, user_account.name AS name, user_account.fullname AS fullname \n",
      "FROM user_account \n",
      "WHERE user_account.name = ? UNION ALL SELECT user_account.id AS id, user_account.name AS name, user_account.fullname AS fullname \n",
      "FROM user_account \n",
      "WHERE user_account.name = ?) AS anon_1 ON anon_1.id = address.user_id ORDER BY anon_1.name, address.email_address\n",
      "2022-05-19 11:10:21,188 INFO sqlalchemy.engine.Engine [generated in 0.00155s] ('tcampion', 'gcaccini')\n",
      "[('gcaccini', 'gcaccini@aol.com'), ('tcampion', 'tcampion@aol.com')]\n",
      "2022-05-19 11:10:21,196 INFO sqlalchemy.engine.Engine ROLLBACK\n"
     ]
    }
   ],
   "source": [
    "u_subq = u.subquery()\n",
    "stmt = (\n",
    "    select(u_subq.c.name, address_table.c.email_address).\n",
    "    join_from(address_table, u_subq).\n",
    "    order_by(u_subq.c.name, address_table.c.email_address)\n",
    ")\n",
    "with engine.connect() as conn:\n",
    "    result = conn.execute(stmt)\n",
    "    print(result.all())"
   ]
  },
  {
   "cell_type": "markdown",
   "id": "c92d0fc3",
   "metadata": {},
   "source": [
    "<p style=\"font-size:125%\">4.2.9.1. Объединение с помощью ORM</p>\n",
    "\n",
    "Составим объединение результатов двух выборок."
   ]
  },
  {
   "cell_type": "code",
   "execution_count": 93,
   "id": "3ca67762",
   "metadata": {},
   "outputs": [
    {
     "name": "stdout",
     "output_type": "stream",
     "text": [
      "2022-05-19 11:10:21,287 INFO sqlalchemy.engine.Engine BEGIN (implicit)\n",
      "2022-05-19 11:10:21,287 INFO sqlalchemy.engine.Engine SELECT anon_1.name, address.email_address \n",
      "FROM address JOIN (SELECT user_account.id AS id, user_account.name AS name, user_account.fullname AS fullname \n",
      "FROM user_account \n",
      "WHERE user_account.name = ? UNION ALL SELECT user_account.id AS id, user_account.name AS name, user_account.fullname AS fullname \n",
      "FROM user_account \n",
      "WHERE user_account.name = ?) AS anon_1 ON anon_1.id = address.user_id ORDER BY anon_1.name, address.email_address\n",
      "2022-05-19 11:10:21,287 INFO sqlalchemy.engine.Engine [cached since 0.09648s ago] ('tcampion', 'gcaccini')\n",
      "[('gcaccini', 'gcaccini@aol.com'), ('tcampion', 'tcampion@aol.com')]\n",
      "2022-05-19 11:10:21,291 INFO sqlalchemy.engine.Engine ROLLBACK\n"
     ]
    }
   ],
   "source": [
    "stmt1 = select(User).where(User.name == 'tcampion')\n",
    "stmt2 = select(User).where(User.name == 'gcaccini')\n",
    "u = union_all(stmt1, stmt2)\n",
    "\n",
    "with engine.connect() as conn:\n",
    "    result = conn.execute(stmt).all()\n",
    "    print(result)"
   ]
  },
  {
   "cell_type": "markdown",
   "id": "65aafaa2",
   "metadata": {},
   "source": [
    "Аналогичный результат получим с помощью методов `.from_statement()` и `.scalars()`."
   ]
  },
  {
   "cell_type": "code",
   "execution_count": 94,
   "id": "ede602dc",
   "metadata": {},
   "outputs": [
    {
     "name": "stdout",
     "output_type": "stream",
     "text": [
      "2022-05-19 11:10:21,388 INFO sqlalchemy.engine.Engine BEGIN (implicit)\n",
      "2022-05-19 11:10:21,388 INFO sqlalchemy.engine.Engine SELECT user_account.id, user_account.name, user_account.fullname \n",
      "FROM user_account \n",
      "WHERE user_account.name = ? UNION ALL SELECT user_account.id, user_account.name, user_account.fullname \n",
      "FROM user_account \n",
      "WHERE user_account.name = ?\n",
      "2022-05-19 11:10:21,404 INFO sqlalchemy.engine.Engine [generated in 0.00121s] ('tcampion', 'gcaccini')\n",
      "User(id=1, name='tcampion', fullname='Campion Thomas')\n",
      "User(id=3, name='gcaccini', fullname='Caccini Giulio')\n",
      "2022-05-19 11:10:21,406 INFO sqlalchemy.engine.Engine ROLLBACK\n"
     ]
    }
   ],
   "source": [
    "orm_stmt = select(User).from_statement(u)\n",
    "with Session(engine) as session:\n",
    "    for obj in session.execute(orm_stmt).scalars():\n",
    "        print(obj)"
   ]
  },
  {
   "cell_type": "markdown",
   "id": "4544f00b",
   "metadata": {},
   "source": [
    "Результат объединения также можно использовать в качестве подзапроса в стиле ORM. Следующий пример даёт такй же результат объединения, как и представленный выше."
   ]
  },
  {
   "cell_type": "code",
   "execution_count": 95,
   "id": "86a96263",
   "metadata": {},
   "outputs": [
    {
     "name": "stdout",
     "output_type": "stream",
     "text": [
      "2022-05-19 11:10:21,499 INFO sqlalchemy.engine.Engine BEGIN (implicit)\n",
      "2022-05-19 11:10:21,501 INFO sqlalchemy.engine.Engine SELECT anon_1.id, anon_1.name, anon_1.fullname \n",
      "FROM (SELECT user_account.id AS id, user_account.name AS name, user_account.fullname AS fullname \n",
      "FROM user_account \n",
      "WHERE user_account.name = ? UNION ALL SELECT user_account.id AS id, user_account.name AS name, user_account.fullname AS fullname \n",
      "FROM user_account \n",
      "WHERE user_account.name = ?) AS anon_1 ORDER BY anon_1.id\n",
      "2022-05-19 11:10:21,502 INFO sqlalchemy.engine.Engine [generated in 0.00061s] ('tcampion', 'gcaccini')\n",
      "User(id=1, name='tcampion', fullname='Campion Thomas')\n",
      "User(id=3, name='gcaccini', fullname='Caccini Giulio')\n",
      "2022-05-19 11:10:21,504 INFO sqlalchemy.engine.Engine ROLLBACK\n"
     ]
    }
   ],
   "source": [
    "user_alias = aliased(User, u.subquery())\n",
    "orm_stmt = select(user_alias).order_by(user_alias.id)\n",
    "with Session(engine) as session:\n",
    "    for obj in session.execute(orm_stmt).scalars():\n",
    "        print(obj)"
   ]
  },
  {
   "cell_type": "markdown",
   "id": "5d9707cf",
   "metadata": {},
   "source": [
    "<p style=\"font-size:150%\">4.2.10. Подзапросы существования EXISTS</p>\n",
    "\n",
    "Функция EXISTS языка SQL используется в скалярных подзапросах, возвращающих логическое значение. В следующем примере с помощью метода `SelectBase.exists()` найдём пользователей, имеющих более одного адреса."
   ]
  },
  {
   "cell_type": "code",
   "execution_count": 96,
   "id": "5bee14b4",
   "metadata": {
    "scrolled": false
   },
   "outputs": [
    {
     "name": "stdout",
     "output_type": "stream",
     "text": [
      "2022-05-19 11:10:21,603 INFO sqlalchemy.engine.Engine BEGIN (implicit)\n",
      "2022-05-19 11:10:21,603 INFO sqlalchemy.engine.Engine SELECT DISTINCT user_account.name \n",
      "FROM user_account JOIN address ON user_account.id = address.user_id \n",
      "WHERE EXISTS (SELECT address_2.id \n",
      "FROM address AS address_2 \n",
      "WHERE address_2.user_id = user_account.id AND address_2.id != address.id)\n",
      "2022-05-19 11:10:21,603 INFO sqlalchemy.engine.Engine [generated in 0.00372s] ()\n",
      "[('talbinoni',), ('fmilano',), ('gbfontana',)]\n",
      "2022-05-19 11:10:21,613 INFO sqlalchemy.engine.Engine ROLLBACK\n"
     ]
    }
   ],
   "source": [
    "address_table_2 = address_table.alias('address_2')\n",
    "\n",
    "subq = (\n",
    "    select(address_table_2.c.id)\\\n",
    "    .where(address_table_2.c.user_id == user_table.c.id)\\\n",
    "    .where(address_table_2.c.id != address_table.c.id)\\\n",
    ").exists()\n",
    "with engine.connect() as conn:\n",
    "    result = conn.execute(\n",
    "        select(user_table.c.name).distinct().join(address_table).where(subq)\n",
    "    )\n",
    "    print(result.all())"
   ]
  },
  {
   "cell_type": "markdown",
   "id": "a9d6446f",
   "metadata": {},
   "source": [
    "Подзапросы существования часто используют с отрицанием. Найдём пользователей, у которых нет адресов в домене @mail.ru"
   ]
  },
  {
   "cell_type": "code",
   "execution_count": 97,
   "id": "7fe5f6f7",
   "metadata": {},
   "outputs": [
    {
     "name": "stdout",
     "output_type": "stream",
     "text": [
      "2022-05-19 11:10:21,720 INFO sqlalchemy.engine.Engine BEGIN (implicit)\n",
      "2022-05-19 11:10:21,720 INFO sqlalchemy.engine.Engine SELECT user_account.name \n",
      "FROM user_account \n",
      "WHERE NOT (EXISTS (SELECT address.id \n",
      "FROM address \n",
      "WHERE user_account.id = address.user_id AND address.email_address LIKE ?))\n",
      "2022-05-19 11:10:21,720 INFO sqlalchemy.engine.Engine [generated in 0.00268s] ('%@mail.ru',)\n",
      "[('tcampion',), ('nnigrino',), ('gcaccini',)]\n",
      "2022-05-19 11:10:21,732 INFO sqlalchemy.engine.Engine ROLLBACK\n"
     ]
    }
   ],
   "source": [
    "subq = (\n",
    "    select(address_table.c.id).\n",
    "    where(user_table.c.id == address_table.c.user_id).\n",
    "    where(address_table.c.email_address.like(\"%@mail.ru\"))\n",
    ").exists()\n",
    "with engine.connect() as conn:\n",
    "    result = conn.execute(\n",
    "        select(user_table.c.name).where(~subq)\n",
    "    )\n",
    "    print(result.all())"
   ]
  },
  {
   "cell_type": "markdown",
   "id": "0927ee38",
   "metadata": {},
   "source": [
    "<p style=\"font-size:150%\">4.2.11. Функции SQL</p>\n",
    "\n",
    "Ранее мы уже использовали конструктор <a href=\"https://docs.sqlalchemy.org/en/14/core/sqlelement.html#sqlalchemy.sql.expression.func\">func</a> для создания объектов функций. Приведем несколько примеров использования наиболее часто встречающихся функций.\n",
    "\n",
    "- функция count(). Агрегатная функция, возвращающая число строк."
   ]
  },
  {
   "cell_type": "code",
   "execution_count": 98,
   "id": "01ffd32f",
   "metadata": {},
   "outputs": [
    {
     "name": "stdout",
     "output_type": "stream",
     "text": [
      "SELECT count(*) AS count_1 \n",
      "FROM user_account\n"
     ]
    }
   ],
   "source": [
    "print(select(func.count()).select_from(user_table))"
   ]
  },
  {
   "cell_type": "markdown",
   "id": "869cf1ca",
   "metadata": {},
   "source": [
    "- функция lower(). текстовая функция, возвращающая строку строчными буквами."
   ]
  },
  {
   "cell_type": "code",
   "execution_count": 99,
   "id": "b325e547",
   "metadata": {},
   "outputs": [
    {
     "name": "stdout",
     "output_type": "stream",
     "text": [
      "SELECT lower(:lower_2) AS lower_1\n"
     ]
    }
   ],
   "source": [
    "print(select(func.lower(\"A String With Much UPPERCASE\")))"
   ]
  },
  {
   "cell_type": "markdown",
   "id": "e494d62b",
   "metadata": {},
   "source": [
    "- Функция now(). Возвращает текущую дату и время."
   ]
  },
  {
   "cell_type": "code",
   "execution_count": 100,
   "id": "71458ccb",
   "metadata": {},
   "outputs": [
    {
     "name": "stdout",
     "output_type": "stream",
     "text": [
      "2022-05-19 11:10:22,086 INFO sqlalchemy.engine.Engine BEGIN (implicit)\n",
      "2022-05-19 11:10:22,086 INFO sqlalchemy.engine.Engine SELECT CURRENT_TIMESTAMP AS now_1\n",
      "2022-05-19 11:10:22,086 INFO sqlalchemy.engine.Engine [generated in 0.00493s] ()\n",
      "[(datetime.datetime(2022, 5, 19, 8, 10, 22),)]\n",
      "2022-05-19 11:10:22,104 INFO sqlalchemy.engine.Engine ROLLBACK\n"
     ]
    }
   ],
   "source": [
    "stmt = select(func.now())\n",
    "with engine.connect() as conn:\n",
    "    result = conn.execute(stmt)\n",
    "    print(result.all())"
   ]
  },
  {
   "cell_type": "markdown",
   "id": "13b7dd06",
   "metadata": {},
   "source": [
    "Необходимо помнить, что особенности использования функций зависят от конкретной СУБД."
   ]
  },
  {
   "cell_type": "code",
   "execution_count": 101,
   "id": "2d286123",
   "metadata": {},
   "outputs": [
    {
     "name": "stdout",
     "output_type": "stream",
     "text": [
      "SELECT now() AS now_1\n",
      "SELECT CURRENT_TIMESTAMP AS now_1 FROM DUAL\n"
     ]
    }
   ],
   "source": [
    "from sqlalchemy.dialects import postgresql\n",
    "print(select(func.now()).compile(dialect=postgresql.dialect()))\n",
    "\n",
    "from sqlalchemy.dialects import oracle\n",
    "print(select(func.now()).compile(dialect=oracle.dialect()))"
   ]
  },
  {
   "cell_type": "markdown",
   "id": "cdda8e98",
   "metadata": {},
   "source": [
    "<p style=\"font-size:125%\">4.2.11.1. Возвращаемый тип данных SQL-функции</p>\n",
    "\n",
    "Поскольку функции участвуют в выражениях со значениями столбцов, они также имеют типы данных SQL, которые описывают тип данных сгенерированного выражения SQL.\n",
    "\n",
    "Доступ к возвращаемому типу SQL-выржения любой функции SQL можно получить, как правило, в целях отладки, обратившись к атрибуту `Function.type`:"
   ]
  },
  {
   "cell_type": "code",
   "execution_count": 102,
   "id": "d5f76167",
   "metadata": {},
   "outputs": [
    {
     "name": "stdout",
     "output_type": "stream",
     "text": [
      "DATETIME\n",
      "2022-05-19 11:10:22,305 INFO sqlalchemy.engine.Engine BEGIN (implicit)\n",
      "2022-05-19 11:10:22,305 INFO sqlalchemy.engine.Engine SELECT CURRENT_TIMESTAMP AS now\n",
      "2022-05-19 11:10:22,305 INFO sqlalchemy.engine.Engine [generated in 0.00190s] ()\n",
      "What time is now: 2022-05-19 08:10:22\n",
      "2022-05-19 11:10:22,312 INFO sqlalchemy.engine.Engine ROLLBACK\n"
     ]
    }
   ],
   "source": [
    "print(func.now().type)\n",
    "\n",
    "s = select(func.now().label('now'))\n",
    "with engine.connect() as conn:\n",
    "    result = conn.execute(s).scalars()\n",
    "    for row in result:\n",
    "        print('What time is now:', row)"
   ]
  },
  {
   "cell_type": "markdown",
   "id": "cb74565a",
   "metadata": {},
   "source": [
    "Используем функцию SQLite *json_object()* для вывода результатов запроса в формате JSON."
   ]
  },
  {
   "cell_type": "code",
   "execution_count": 103,
   "id": "06f747be",
   "metadata": {},
   "outputs": [
    {
     "name": "stdout",
     "output_type": "stream",
     "text": [
      "2022-05-19 11:10:22,405 INFO sqlalchemy.engine.Engine BEGIN (implicit)\n",
      "2022-05-19 11:10:22,405 INFO sqlalchemy.engine.Engine SELECT json_object(?, user_account.id, ?, user_account.name, ?, address.email_address) AS json_object_1 \n",
      "FROM user_account JOIN address ON user_account.id = address.user_id \n",
      "WHERE user_account.id < ?\n",
      "2022-05-19 11:10:22,405 INFO sqlalchemy.engine.Engine [generated in 0.00206s] ('id', 'name', 'address', 3)\n",
      "{\"id\":1,\"name\":\"tcampion\",\"address\":\"tcampion@aol.com\"}\n",
      "{\"id\":2,\"name\":\"nnigrino\",\"address\":\"nnigrino@aol.com\"}\n",
      "2022-05-19 11:10:22,414 INFO sqlalchemy.engine.Engine ROLLBACK\n"
     ]
    }
   ],
   "source": [
    "f = func.json_object('id', user_table.c.id,\\\n",
    "                    'name', user_table.c.name,\\\n",
    "                    'address', address_table.c.email_address)\n",
    "\n",
    "stmt = select(f)\n",
    "stmt = stmt.join_from(user_table, address_table)\n",
    "stmt = stmt.where(user_table.c.id < 3)\n",
    "\n",
    "with engine.connect() as conn:\n",
    "    result = conn.execute(stmt)\n",
    "    for row in result:\n",
    "        print(row[0])"
   ]
  },
  {
   "cell_type": "markdown",
   "id": "f56c538a",
   "metadata": {},
   "source": [
    "<p style=\"font-size:125%\">4.2.11.2. Оконные функции</p>\n",
    "\n",
    "Оконная функция позволяет использовать агрегатные функции SQL особым образом, вычисляя совокупное значение по строкам, возвращаемым в группе, по мере обработки отдельных строк результата. В то время как агрегатная функция, такая как *max()*, даст максимальное значение столбца в наборе строк, использование такой же оконной функции позволяет получить максимальное значение для каждой строки.\n",
    "\n",
    "В SQL оконные функции позволяют указать строки, к которым функция должна применяться, значение «подраздела», которое рассматривает окно по различным подмножествам строк, и выражение «упорядочить по», которое указывает порядок, в котором оконная функция применяется к строкам.\n",
    "\n",
    "В SQLAlchemy все функции SQL, сгенерированные пространством имен func, включают метод `FunctionElement.over()`, который предоставляет оконную функцию или синтаксис «OVER»; полученная конструкция является конструкцией Over.\n",
    "\n",
    "Обычной функцией, используемой с оконными функциями, является функция row_number(), которая просто подсчитывает строки. Мы можем разделить это количество строк по имени пользователя, чтобы пронумеровать адреса электронной почты отдельных пользователей. В следующем примере разделим все адреса на подгруппы по имени пользователя и отсортируем в обратном порядке по адресу."
   ]
  },
  {
   "cell_type": "code",
   "execution_count": 104,
   "id": "dd949c0b",
   "metadata": {},
   "outputs": [
    {
     "name": "stdout",
     "output_type": "stream",
     "text": [
      "2022-05-19 11:10:22,521 INFO sqlalchemy.engine.Engine BEGIN (implicit)\n",
      "2022-05-19 11:10:22,521 INFO sqlalchemy.engine.Engine SELECT row_number() OVER (PARTITION BY user_account.name ORDER BY address.email_address DESC) AS anon_1, user_account.name, address.email_address \n",
      "FROM user_account JOIN address ON user_account.id = address.user_id\n",
      "2022-05-19 11:10:22,533 INFO sqlalchemy.engine.Engine [generated in 0.00529s] ()\n",
      "(1, 'fmilano', 'fmilano@yandex.ru')\n",
      "(2, 'fmilano', 'fmilano@mail.ru')\n",
      "(3, 'fmilano', 'fmilano@aol.com')\n",
      "(1, 'gbfontana', 'gbfontana@yandex.ru')\n",
      "(2, 'gbfontana', 'gbfontana@mail.ru')\n",
      "(3, 'gbfontana', 'gbfontana@aol.com')\n",
      "(1, 'gcaccini', 'gcaccini@aol.com')\n",
      "(1, 'nnigrino', 'nnigrino@aol.com')\n",
      "(1, 'talbinoni', 'talbinoni@mail.ru')\n",
      "(2, 'talbinoni', 'talbinoni@aol.com')\n",
      "(1, 'tcampion', 'tcampion@aol.com')\n",
      "2022-05-19 11:10:22,535 INFO sqlalchemy.engine.Engine ROLLBACK\n"
     ]
    }
   ],
   "source": [
    "stmt = select(\n",
    "    func.row_number().over(partition_by=user_table.c.name, \\\n",
    "                           order_by=desc(address_table.c.email_address)),\n",
    "    user_table.c.name,\n",
    "    address_table.c.email_address\n",
    ").select_from(user_table).join(address_table)\n",
    "with engine.connect() as conn:  \n",
    "    result = conn.execute(stmt)\n",
    "    for row in result:\n",
    "        print(row)"
   ]
  },
  {
   "cell_type": "markdown",
   "id": "6883ae91",
   "metadata": {},
   "source": [
    "В следующем примере мы применили три оконных функции. Первая функция возвращает порядковый номер строки, вторая функция возвращает число строк для одинаковых имен пользователей с накоплением, последняя функция ыозвращает количество строк результата."
   ]
  },
  {
   "cell_type": "code",
   "execution_count": 105,
   "id": "b8509e30",
   "metadata": {},
   "outputs": [
    {
     "name": "stdout",
     "output_type": "stream",
     "text": [
      "2022-05-19 11:10:22,717 INFO sqlalchemy.engine.Engine BEGIN (implicit)\n",
      "2022-05-19 11:10:22,717 INFO sqlalchemy.engine.Engine SELECT row_number() OVER () AS anon_1, count(*) OVER (ORDER BY user_account.name) AS anon_2, count(*) OVER () AS anon_3, user_account.name, address.email_address \n",
      "FROM user_account JOIN address ON user_account.id = address.user_id\n",
      "2022-05-19 11:10:22,717 INFO sqlalchemy.engine.Engine [generated in 0.00093s] ()\n",
      "(1, 3, 11, 'fmilano', 'fmilano@aol.com')\n",
      "(2, 3, 11, 'fmilano', 'fmilano@mail.ru')\n",
      "(3, 3, 11, 'fmilano', 'fmilano@yandex.ru')\n",
      "(4, 6, 11, 'gbfontana', 'gbfontana@aol.com')\n",
      "(5, 6, 11, 'gbfontana', 'gbfontana@mail.ru')\n",
      "(6, 6, 11, 'gbfontana', 'gbfontana@yandex.ru')\n",
      "(7, 7, 11, 'gcaccini', 'gcaccini@aol.com')\n",
      "(8, 8, 11, 'nnigrino', 'nnigrino@aol.com')\n",
      "(9, 10, 11, 'talbinoni', 'talbinoni@aol.com')\n",
      "(10, 10, 11, 'talbinoni', 'talbinoni@mail.ru')\n",
      "(11, 11, 11, 'tcampion', 'tcampion@aol.com')\n",
      "2022-05-19 11:10:22,725 INFO sqlalchemy.engine.Engine ROLLBACK\n"
     ]
    }
   ],
   "source": [
    "stmt = select(\n",
    "    func.row_number().over(),\n",
    "    func.count().over(order_by=user_table.c.name),\n",
    "    func.count().over(),\n",
    "    user_table.c.name,\n",
    "    address_table.c.email_address).select_from(user_table).join(address_table)\n",
    "\n",
    "with engine.connect() as conn:  \n",
    "    result = conn.execute(stmt)\n",
    "    for row in result:\n",
    "        print(row)"
   ]
  },
  {
   "cell_type": "markdown",
   "id": "672d71ee",
   "metadata": {},
   "source": [
    "<p style=\"font-size:125%\">4.2.11.3. Предложение FILTER</p>\n",
    "\n",
    "Многие СУБД поддерживают предложение FILTER для ограничения числа строк, на которые действует агрегатная функция."
   ]
  },
  {
   "cell_type": "code",
   "execution_count": 106,
   "id": "fc60b6fa",
   "metadata": {},
   "outputs": [
    {
     "name": "stdout",
     "output_type": "stream",
     "text": [
      "2022-05-19 11:10:22,819 INFO sqlalchemy.engine.Engine BEGIN (implicit)\n",
      "2022-05-19 11:10:22,819 INFO sqlalchemy.engine.Engine SELECT count(address.email_address) FILTER (WHERE user_account.name = ?) AS anon_1, count(address.email_address) FILTER (WHERE user_account.name = ?) AS anon_2 \n",
      "FROM user_account JOIN address ON user_account.id = address.user_id\n",
      "2022-05-19 11:10:22,819 INFO sqlalchemy.engine.Engine [generated in 0.00253s] ('fmilano', 'talbinoni')\n",
      "[(3, 2)]\n",
      "2022-05-19 11:10:22,828 INFO sqlalchemy.engine.Engine ROLLBACK\n"
     ]
    }
   ],
   "source": [
    "stmt = select(\n",
    "    func.count(address_table.c.email_address).filter(user_table.c.name == 'fmilano'),\n",
    "    func.count(address_table.c.email_address).filter(user_table.c.name == 'talbinoni')\n",
    ").select_from(user_table).join(address_table)\n",
    "with engine.connect() as conn:  \n",
    "    result = conn.execute(stmt)\n",
    "    print(result.all())"
   ]
  },
  {
   "cell_type": "markdown",
   "id": "de5c2a8f",
   "metadata": {},
   "source": [
    "[К оглавлению](#Home)\n",
    "<a id=\"43\"></a>\n",
    "<p style=\"font-size:150%; font-weight:bold\">4.3. Обновление и удаление строк с помощью Core</p>\n",
    "\n",
    "В этом разделе рассмотрим возможности интерфейса Core по обновлению и удалению данных.\n",
    "\n",
    "<p style=\"font-size:150%\">4.3.1. Обновление</p>\n",
    "\n",
    "Как правило, команда UPDATE языка SQL одновляет данные в одной таблице по условию, при этом ничего не возвращает. Однако, в некоторых СУБД релизована команда UPDATE, способная обновлять сразу несколько таблиц. Кроме того, с помощью предложения RETURNING некоторые СУБД пвозвращают обновлённые данные. Стандартная команда UPDATE применяется с помощью Core следующим образом:"
   ]
  },
  {
   "cell_type": "code",
   "execution_count": 107,
   "id": "4e30dcc5",
   "metadata": {},
   "outputs": [
    {
     "name": "stdout",
     "output_type": "stream",
     "text": [
      "UPDATE user_account SET name=:name, fullname=:fullname WHERE user_account.name = :name_1 {'name': 'rgiazotto', 'fullname': 'Giazotto Remo', 'name_1': 'talbinoni'}\n"
     ]
    }
   ],
   "source": [
    "from sqlalchemy import update\n",
    "stmt = (\n",
    "    update(user_table).where(user_table.c.name == 'talbinoni').\n",
    "    values(name = 'rgiazotto', fullname='Giazotto Remo')\n",
    ")\n",
    "print(stmt, stmt.compile().params)"
   ]
  },
  {
   "cell_type": "markdown",
   "id": "5048f2dc",
   "metadata": {},
   "source": [
    "Метод `Update.values()` управляет содержимым предложения SET команды UPDATE. Похожий метод `Insert.values()` ранее применялся нами для вставки записей. Обновляемые значения передаются в функцию с помощь имен столбцов, выступающих здесь в роли именованных  аргументов.\n",
    "\n",
    "SQLAlchemy поддерживает все основные формы команды UPDATE, в том числе, позволяет использовать SQL-выражения с участием столбцов."
   ]
  },
  {
   "cell_type": "code",
   "execution_count": 108,
   "id": "0372dcf2",
   "metadata": {},
   "outputs": [
    {
     "data": {
      "text/plain": [
       "Table('user_account', MetaData(), Column('id', Integer(), table=<user_account>, primary_key=True, nullable=False), Column('name', String(length=30), table=<user_account>), Column('fullname', String(), table=<user_account>), schema=None)"
      ]
     },
     "execution_count": 108,
     "metadata": {},
     "output_type": "execute_result"
    }
   ],
   "source": [
    "user_table"
   ]
  },
  {
   "cell_type": "code",
   "execution_count": 109,
   "id": "9d0919ab",
   "metadata": {},
   "outputs": [
    {
     "name": "stdout",
     "output_type": "stream",
     "text": [
      "UPDATE user_account SET name=(:name_1 || user_account.name)\n"
     ]
    }
   ],
   "source": [
    "stmt = (\n",
    "    update(user_table).\n",
    "    values(name=\"Username: \" + user_table.c.name)\n",
    ")\n",
    "print(stmt)"
   ]
  },
  {
   "cell_type": "markdown",
   "id": "d2525464",
   "metadata": {},
   "source": [
    "Для выполнения команды UPDATE в стиле executemany() используется функция `bindparam()`."
   ]
  },
  {
   "cell_type": "code",
   "execution_count": 110,
   "id": "743df73d",
   "metadata": {},
   "outputs": [
    {
     "name": "stdout",
     "output_type": "stream",
     "text": [
      "2022-05-19 11:10:23,255 INFO sqlalchemy.engine.Engine BEGIN (implicit)\n",
      "2022-05-19 11:10:23,255 INFO sqlalchemy.engine.Engine UPDATE user_account SET name=? WHERE user_account.name = ?\n",
      "2022-05-19 11:10:23,255 INFO sqlalchemy.engine.Engine [generated in 0.00108s] (('ed', 'jack'), ('mary', 'wendy'), ('jake', 'jim'))\n",
      "2022-05-19 11:10:23,260 INFO sqlalchemy.engine.Engine COMMIT\n"
     ]
    }
   ],
   "source": [
    "from sqlalchemy import bindparam\n",
    "stmt = (\n",
    "  update(user_table).\n",
    "  where(user_table.c.name == bindparam('oldname')).\n",
    "  values(name=bindparam('newname'))\n",
    ")\n",
    "with engine.begin() as conn:\n",
    "  conn.execute(\n",
    "      stmt,\n",
    "      [\n",
    "         {'oldname':'jack', 'newname':'ed'},\n",
    "         {'oldname':'wendy', 'newname':'mary'},\n",
    "         {'oldname':'jim', 'newname':'jake'},\n",
    "      ]\n",
    "  )"
   ]
  },
  {
   "cell_type": "markdown",
   "id": "c4d8e855",
   "metadata": {},
   "source": [
    "<p style=\"font-size:125%\">Связанное обновление</p>\n",
    "\n",
    "Команда UPDATE может использовать строки в других таблицах с помощью связанного подзапроса.\n",
    "\n",
    "```\n",
    "scalar_subq = (\n",
    "  select(address_table.c.email_address).\n",
    "  where(address_table.c.user_id == user_table.c.id).\n",
    "  order_by(address_table.c.id).\n",
    "  limit(1).\n",
    "  scalar_subquery()\n",
    ")\n",
    "update_stmt = update(user_table).values(fullname=scalar_subq)\n",
    "print(update_stmt)\n",
    "```"
   ]
  },
  {
   "cell_type": "markdown",
   "id": "ab47e23d",
   "metadata": {},
   "source": [
    "<p style=\"font-size:125%\">UPDATE ..FROM</p>\n",
    "\n",
    "Некоторые СУБД, такие, как PostgreSQL и MySQL поддерживают синтаксис \"UPDATE FROM\", который позволяет указывать дополнительные таблицы в предложении FROM. Такой синтасис будет сгенерирован неявно в случае, когда в предложении WHERE SQL-выражения появляются дополнительные таблицы.\n",
    "\n",
    "```\n",
    "update_stmt = (\n",
    "   update(user_table).\n",
    "   where(user_table.c.id == address_table.c.user_id).\n",
    "   where(address_table.c.email_address == 'nnigrino@aol.com').\n",
    "   values(fullname='Pat')\n",
    " )\n",
    "print(update_stmt)\n",
    "```"
   ]
  },
  {
   "cell_type": "markdown",
   "id": "ee956d35",
   "metadata": {},
   "source": [
    "<p style=\"font-size:125%\">Параметризованное упорядоченное обновление</p>\n",
    "\n",
    "Другой особенностью MySQL является обновление с учетом порядка параметров в предложении SET. Для этой цели в SQLAlchemy предусмотрен метод `Update.ordered_values()`, принимающий последовательность кортежей."
   ]
  },
  {
   "cell_type": "code",
   "execution_count": 111,
   "id": "0668fd43",
   "metadata": {},
   "outputs": [
    {
     "name": "stdout",
     "output_type": "stream",
     "text": [
      "UPDATE some_table SET y=:y, x=(some_table.y + :y_1)\n"
     ]
    }
   ],
   "source": [
    "update_stmt = (\n",
    "    update(some_table).\n",
    "    ordered_values(\n",
    "        (some_table.c.y, 20),\n",
    "        (some_table.c.x, some_table.c.y + 10)\n",
    "    )\n",
    ")\n",
    "print(update_stmt)"
   ]
  },
  {
   "cell_type": "markdown",
   "id": "965a5687",
   "metadata": {},
   "source": [
    "<p style=\"font-size:150%\">4.3.2. Удаление</p>\n",
    "\n",
    "Для удалния строк в SQLAlchemy предусмотрена функция delete(). Как правило, данная функция не возвращает удаленные строки, если не применяется поддерживаемое некоторыми СУБД предложение RETURNING."
   ]
  },
  {
   "cell_type": "code",
   "execution_count": 112,
   "id": "0d0ffd38",
   "metadata": {},
   "outputs": [
    {
     "name": "stdout",
     "output_type": "stream",
     "text": [
      "DELETE FROM user_account WHERE user_account.name = :name_1\n"
     ]
    }
   ],
   "source": [
    "from sqlalchemy import delete\n",
    "stmt = delete(user_table).where(user_table.c.name == 'gcaccini')\n",
    "print(stmt)"
   ]
  },
  {
   "cell_type": "markdown",
   "id": "b1264e0f",
   "metadata": {},
   "source": [
    "<p style=\"font-size:125%\">Удаление с помощью нескольких таблиц</p>\n",
    "\n",
    "Функция delete(), так же, как и update(), может использовать несколько таблиц. данная функциональность является особенностью СУБД MySQL."
   ]
  },
  {
   "cell_type": "code",
   "execution_count": 113,
   "id": "d02489e8",
   "metadata": {
    "scrolled": true
   },
   "outputs": [
    {
     "name": "stdout",
     "output_type": "stream",
     "text": [
      "DELETE FROM user_account USING user_account, address WHERE user_account.id = address.user_id AND address.email_address = %s\n"
     ]
    }
   ],
   "source": [
    "delete_stmt = (\n",
    "   delete(user_table).\n",
    "   where(user_table.c.id == address_table.c.user_id).\n",
    "   where(address_table.c.email_address == 'gcaccini@aol.com')\n",
    " )\n",
    "from sqlalchemy.dialects import mysql\n",
    "print(delete_stmt.compile(dialect=mysql.dialect()))"
   ]
  },
  {
   "cell_type": "markdown",
   "id": "3a3efbe9",
   "metadata": {},
   "source": [
    "<p style=\"font-size:150%\">4.3.3. Получение числа удалённых или обновлённых строк</p>"
   ]
  },
  {
   "cell_type": "code",
   "execution_count": 114,
   "id": "15477630",
   "metadata": {},
   "outputs": [
    {
     "name": "stdout",
     "output_type": "stream",
     "text": [
      "2022-05-19 11:10:23,798 INFO sqlalchemy.engine.Engine BEGIN (implicit)\n",
      "2022-05-19 11:10:23,814 INFO sqlalchemy.engine.Engine UPDATE user_account SET name=?, fullname=? WHERE user_account.name = ?\n",
      "2022-05-19 11:10:23,818 INFO sqlalchemy.engine.Engine [generated in 0.00096s] ('rgiazotto', 'Giazotto Remo', 'talbinoni')\n",
      "1\n",
      "2022-05-19 11:10:23,819 INFO sqlalchemy.engine.Engine COMMIT\n"
     ]
    }
   ],
   "source": [
    "stmt = (\n",
    "    update(user_table).where(user_table.c.name == 'talbinoni').\n",
    "    values(name = 'rgiazotto', fullname='Giazotto Remo')\n",
    ")\n",
    "with engine.begin() as conn:\n",
    "    result = conn.execute(stmt)\n",
    "    print(result.rowcount)"
   ]
  },
  {
   "cell_type": "markdown",
   "id": "b28d41d9",
   "metadata": {},
   "source": [
    "<p style=\"font-size:150%\">4.3.4. Предложение RETURNING в командах UPDATE и DELETE</p>\n",
    "\n",
    "Поддержка предложения RETURNING реализована с помощью методов `Update.returning()` и `Delete.returning()`. Если применить эти методы в запросах к СУБД, поддерживающей RETURNING, они вернут затронутые изменениями записи в итерируемом объекте Result."
   ]
  },
  {
   "cell_type": "code",
   "execution_count": 115,
   "id": "70083f26",
   "metadata": {},
   "outputs": [
    {
     "name": "stdout",
     "output_type": "stream",
     "text": [
      "UPDATE user_account SET fullname=:fullname WHERE user_account.name = :name_1 RETURNING user_account.id, user_account.name\n",
      "DELETE FROM user_account WHERE user_account.name = :name_1 RETURNING user_account.id, user_account.name\n"
     ]
    }
   ],
   "source": [
    "update_stmt = (\n",
    "    update(user_table).where(user_table.c.name == 'nnigrino').\n",
    "    values(fullname='Nigrino the Star').\n",
    "    returning(user_table.c.id, user_table.c.name)\n",
    ")\n",
    "print(update_stmt)\n",
    "\n",
    "\n",
    "delete_stmt = (\n",
    "    delete(user_table).where(user_table.c.name == 'nnigrino').\n",
    "    returning(user_table.c.id, user_table.c.name)\n",
    ")\n",
    "print(delete_stmt)"
   ]
  },
  {
   "cell_type": "code",
   "execution_count": 116,
   "id": "974c825f",
   "metadata": {},
   "outputs": [],
   "source": [
    "# session.close()"
   ]
  },
  {
   "cell_type": "markdown",
   "id": "be8d9834",
   "metadata": {},
   "source": [
    "<p style=\"font-size:150%; font-weight:bold\">Источники</p>\n",
    "\n",
    "Дополнительные источники информации о реализации команд UPDATE и DELETE с помощью SQLAlchemy.\n",
    "\n",
    "- <a href=\"https://docs.sqlalchemy.org/en/14/core/dml.html#sqlalchemy.sql.expression.Update\">Update</a><br>\n",
    "- <a href=\"https://docs.sqlalchemy.org/en/14/core/dml.html#sqlalchemy.sql.expression.Delete\">Delete</a><br>\n",
    "- <a href=\"https://docs.sqlalchemy.org/en/14/tutorial/orm_data_manipulation.html#tutorial-orm-enabled-update\">ORM-enabled UPDATE statements</a><br>\n",
    "- <a href=\"https://docs.sqlalchemy.org/en/14/tutorial/orm_data_manipulation.html#tutorial-orm-enabled-delete\">ORM-enabled DELETE Statements</a><br>"
   ]
  },
  {
   "cell_type": "markdown",
   "id": "1d7991cd",
   "metadata": {},
   "source": [
    "[К оглавлению](#Home)\n",
    "<a id=5></a>\n",
    "# 5. Обработка данных с помощью ORM\n",
    "\n",
    "Материал этой главы основан на следующих ранее изученных параграфах:\n",
    "\n",
    "[2.6. Выполнение сеанса ORM](#26)<br>\n",
    "[3.4. Определение метаданных таблицы с помощью ORM](#34)<br>\n",
    "[4.2.2.1. Выбор сущностей и столбцов с помощью ORM](#4221)<br>"
   ]
  },
  {
   "cell_type": "markdown",
   "id": "262b8e41",
   "metadata": {},
   "source": [
    "Далее в этой главе изучим более подробно работу SQL-команд в рамках ORM-сеанса.\n",
    "\n",
    "<br>\n",
    "\n",
    "[К оглавлению](#Home)\n",
    "<a id=51></a>\n",
    "## 5.1. Вставка строк с помощью объектно-реляционного сопоставления\n",
    "\n",
    "В объектно-реляционном сопоставлении (ОРС) вставка выполняется сеансом в рамках транзакции. Для этого мы передаём сеансу объекты классов, сопоставленных с таблицами БД, затем сессия обеспечивает передачу данных в БД с помощью процесса \"освобождения\" *flush*.\n",
    "\n",
    "### 5.1.1. Экземпляры класса представляют собой строки\n",
    "\n",
    "Воспользуемся классами, которые мы определили в разделе\n",
    "\n",
    "[3.4. Определение метаданных таблицы с помощью ORM](#34)\n",
    "\n",
    "Классы Адрес и Пользователь показывают, как должны выглядеть соответствующие таблицы. Используем эти классы для создания и управления строками внутри транзакции. Создадим объекты User, каждый из которых представляет потенциальную строку базы данных для вставки."
   ]
  },
  {
   "cell_type": "code",
   "execution_count": 117,
   "id": "6a9d4d36",
   "metadata": {},
   "outputs": [],
   "source": [
    "leopold = User(name=\"leopold\", fullname=\"Кот Леопольд\")\n",
    "motya = User(name=\"motya\", fullname=\"Мышь Мотя\")\n",
    "mitya = User(name=\"mitya\", fullname=\"Мышь Митя\")"
   ]
  },
  {
   "cell_type": "markdown",
   "id": "739471c7",
   "metadata": {},
   "source": [
    "В этом коде имена сопоставленных столбцов используются как ключевые аргументы.\n",
    "\n",
    "Так же, как и в случае использования интерфейса Core, мы не включили в этот код первичный ключ *id*, потому что мы хотели бы использовать автоматически увеличивающееся значение этого атрибута, обеспеченное СУБД SQLite. Значение этого атрибута функционалом библиотеки SQLAlchemy устанавливается  как пустое."
   ]
  },
  {
   "cell_type": "code",
   "execution_count": 118,
   "id": "364d2707",
   "metadata": {},
   "outputs": [
    {
     "data": {
      "text/plain": [
       "User(id=None, name='leopold', fullname='Кот Леопольд')"
      ]
     },
     "execution_count": 118,
     "metadata": {},
     "output_type": "execute_result"
    }
   ],
   "source": [
    "leopold"
   ]
  },
  {
   "cell_type": "markdown",
   "id": "34ae9ce1",
   "metadata": {},
   "source": [
    "В данный момент все три созданных нами объекта находятся в переходном состоянии <a href=\"https://docs.sqlalchemy.org/en/20/glossary.html#term-transient\">transient</a>. Теперь эти объекты необходимо связать с объектом сеанса, который, в свою очередь, генерирует команды вставки.\n",
    "\n",
    "### 5.1.2. Добавление объектов в сеанс\n",
    "\n",
    "Для иллюстрации всего процесса шаг за шагом создадим сначала сеанс."
   ]
  },
  {
   "cell_type": "code",
   "execution_count": 119,
   "id": "7894ac1a",
   "metadata": {},
   "outputs": [],
   "source": [
    "session = Session(engine)"
   ]
  },
  {
   "cell_type": "markdown",
   "id": "b3b137c0",
   "metadata": {},
   "source": [
    "Теперь добавим к сеансу объектыс помощью метода `Session.add()`. После вызова этого метода объекты класса Пользователя переходят в состояние ожидания - <a href=\"https://docs.sqlalchemy.org/en/20/glossary.html#term-pending\"> pending</a>."
   ]
  },
  {
   "cell_type": "code",
   "execution_count": 120,
   "id": "dc5d3eb2",
   "metadata": {},
   "outputs": [],
   "source": [
    "session.add(leopold)\n",
    "session.add(motya)\n",
    "session.add(mitya)"
   ]
  },
  {
   "cell_type": "markdown",
   "id": "737c1ee0",
   "metadata": {},
   "source": [
    "Объекты в состоянии ожидания можно увидеть в коллекции <a href=\"https://docs.sqlalchemy.org/en/20/orm/session_api.html#sqlalchemy.orm.Session.new\">Session.new</a>"
   ]
  },
  {
   "cell_type": "code",
   "execution_count": 121,
   "id": "b257e440",
   "metadata": {},
   "outputs": [
    {
     "data": {
      "text/plain": [
       "IdentitySet([User(id=None, name='leopold', fullname='Кот Леопольд'), User(id=None, name='motya', fullname='Мышь Мотя'), User(id=None, name='mitya', fullname='Мышь Митя')])"
      ]
     },
     "execution_count": 121,
     "metadata": {},
     "output_type": "execute_result"
    }
   ],
   "source": [
    "session.new"
   ]
  },
  {
   "cell_type": "markdown",
   "id": "8debed06",
   "metadata": {},
   "source": [
    "### 5.1.3. Завершение накопленных изменений\n",
    "\n",
    "Сеанс накапливает изменения, однако, не сообщает их БД пока это не станет необходимым. Процесс внесения накопленных изменений в базу данных назвали выпуском *flush*. Этот процесс запускается методом `Session.flush()`."
   ]
  },
  {
   "cell_type": "code",
   "execution_count": 122,
   "id": "04995742",
   "metadata": {
    "scrolled": true
   },
   "outputs": [
    {
     "name": "stdout",
     "output_type": "stream",
     "text": [
      "2022-05-19 11:10:25,123 INFO sqlalchemy.engine.Engine BEGIN (implicit)\n",
      "2022-05-19 11:10:25,123 INFO sqlalchemy.engine.Engine INSERT INTO user_account (name, fullname) VALUES (?, ?)\n",
      "2022-05-19 11:10:25,138 INFO sqlalchemy.engine.Engine [generated in 0.00225s] ('leopold', 'Кот Леопольд')\n",
      "2022-05-19 11:10:25,139 INFO sqlalchemy.engine.Engine INSERT INTO user_account (name, fullname) VALUES (?, ?)\n",
      "2022-05-19 11:10:25,139 INFO sqlalchemy.engine.Engine [cached since 0.00427s ago] ('motya', 'Мышь Мотя')\n",
      "2022-05-19 11:10:25,139 INFO sqlalchemy.engine.Engine INSERT INTO user_account (name, fullname) VALUES (?, ?)\n",
      "2022-05-19 11:10:25,139 INFO sqlalchemy.engine.Engine [cached since 0.005971s ago] ('mitya', 'Мышь Митя')\n"
     ]
    }
   ],
   "source": [
    "session.flush()"
   ]
  },
  {
   "cell_type": "markdown",
   "id": "c3c0d92a",
   "metadata": {},
   "source": [
    "Выполнены комады INSERT. Транзакция остаётся открытой, пока мы не выполним один из методов  `Session.commit()`, `Session.rollback()`, или `Session.close()`.\n",
    "\n",
    "В этом примере мы шаг за шагом выполнили создание сеанса, передачу объектов, перевод их в состояние ожидания и выдачу команды для БД с помощью метода `Session.flush()`. Это было нужно для демонстрации данной функциональности. Однако, на практике метод `Session.flush()` выполняется автоматически при завершении транзакции.\n",
    "\n",
    "### 5.1.4. Автоматическая генерация атрибутов первичного ключа\n",
    "\n",
    "После вставки строк созданные нами объекты находятся в состоянии постоянства — <a href=\"https://docs.sqlalchemy.org/en/20/glossary.html#term-persistent\">persistent</a> — в этом состоянии объекты ассоциированы с сеансом, в который они были загружены.\n",
    "\n",
    "Одним из эффектов выполненной в сеансе команды INSERT стало то, что атрибуты первичного ключа получили значения. Их можно распечатать, обратившись к атрибуту *id*:"
   ]
  },
  {
   "cell_type": "code",
   "execution_count": 123,
   "id": "aa337761",
   "metadata": {},
   "outputs": [
    {
     "name": "stdout",
     "output_type": "stream",
     "text": [
      "7 8 9\n"
     ]
    }
   ],
   "source": [
    "print(leopold.id, motya.id, mitya.id)"
   ]
  },
  {
   "cell_type": "markdown",
   "id": "6cf95837",
   "metadata": {},
   "source": [
    "<Table align=\"left\">\n",
    "    <tr><td bgcolor=#adb5bd></td>\n",
    "        <td style=\"text-align:left; font-size:10pt\">\n",
    "Примечание.\n",
    "\n",
    "Почему метод `Session.flush()` выполнил несколько команд INSERT по одной для каждой записи, вместо того, чтобы применить множественную вставку в стиле <a href=\"https://docs.sqlalchemy.org/en/20/tutorial/dbapi_transactions.html#tutorial-multiple-parameters\">executemany</a>? Это связано с автоувеличением идентификатора первичного ключа, а именно, с необходимостью запрминания значения  первичного ключа вставленной записи до вставки новой записи. Возможность автоувеличения значения первичного ключа предусмотрена не только в SQLIte, но и в других СУБД, поэтому реализация метода `Session.flush()` зависит как от СУБД, так и от драйвера: pysqlite,  psycopg2 и так далее.\n",
    "        </td>\n",
    "    </tr>\n",
    "</Table>"
   ]
  },
  {
   "cell_type": "markdown",
   "id": "8ebdd367",
   "metadata": {},
   "source": [
    "### 5.1.5. Карта идентичности\n",
    "\n",
    "Идентификатор первичного ключа объектов важен для сеанса, поскольку объекты теперь связаны с этим идентификатором в памяти с помощью функции, известной как карта идентификаторов. Карта идентификаторов — это хранилище в памяти, которое связывает все объекты, загруженные в данный момент в память, с идентификатором их первичного ключа. Мы можем наблюдать это, извлекая один из вышеперечисленных объектов с помощью метода `Session.get()`, который вернет запись из карты идентификации, если она присутствует локально, в противном случае выдаст SELECT:"
   ]
  },
  {
   "cell_type": "code",
   "execution_count": 124,
   "id": "835eae68",
   "metadata": {},
   "outputs": [
    {
     "data": {
      "text/plain": [
       "User(id=7, name='leopold', fullname='Кот Леопольд')"
      ]
     },
     "execution_count": 124,
     "metadata": {},
     "output_type": "execute_result"
    }
   ],
   "source": [
    "the_cat = session.get(User, 7)\n",
    "the_cat"
   ]
  },
  {
   "cell_type": "markdown",
   "id": "4d9f86f6",
   "metadata": {},
   "source": [
    "Важно знать, что карта идентичности позволяет сопоставить каждый экзепляр объекта Пайтон с определённым идентификатором в базе данных в рамках конкретной сессии. Можно показать, что переменные the_cat и leopold ссылаются на один объект:"
   ]
  },
  {
   "cell_type": "code",
   "execution_count": 125,
   "id": "fde28a03",
   "metadata": {},
   "outputs": [
    {
     "data": {
      "text/plain": [
       "True"
      ]
     },
     "execution_count": 125,
     "metadata": {},
     "output_type": "execute_result"
    }
   ],
   "source": [
    "leopold is the_cat"
   ]
  },
  {
   "cell_type": "markdown",
   "id": "24993c2c",
   "metadata": {},
   "source": [
    "Карта идентичности — важная функция, позволяющая манипулировать сложными наборами объектов в рамках транзакции без рассинхронизации.\n",
    "\n",
    "### 5.1.6. Завершение транзакции\n",
    "\n",
    "Завершим транзакцию с помощью метода `session.commit()`:"
   ]
  },
  {
   "cell_type": "code",
   "execution_count": 126,
   "id": "49ef4c11",
   "metadata": {
    "scrolled": true
   },
   "outputs": [
    {
     "name": "stdout",
     "output_type": "stream",
     "text": [
      "2022-05-19 11:10:25,622 INFO sqlalchemy.engine.Engine COMMIT\n"
     ]
    }
   ],
   "source": [
    "session.commit()"
   ]
  },
  {
   "cell_type": "markdown",
   "id": "27d658ca",
   "metadata": {},
   "source": [
    "После завершения транзакции объекты по-прежнему связаны с сеансом, и эта привязка будет сохраняться до закрытия сеанса.\n",
    "\n",
    "<Table align=\"left\">\n",
    "    <tr><td bgcolor=#adb5bd></td>\n",
    "        <td style=\"text-align:left; font-size:10pt\">\n",
    "Примечание.\n",
    "\n",
    "Важно отметить, что срок действия атрибутов объектов, с которыми мы только что работали, истек, а это означает, что когда мы в следующий раз обратимся к любым их атрибутам, сеанс начнет новую транзакцию и повторно загрузит их состояние. Эта особенность иногда приводит к пробемам как по причинам производительности, так и в том случае, когда кто-либо хочет использовать объекты после закрытия сеанса (в отсоединенном состоянии), поскольку они не будут иметь никакого состояния и не будут иметь сеанса, с помощью которого можно загрузить это состояние, что приводит к ошибкам «отсоединенного экземпляра». Поведение можно контролировать с помощью параметра `Session.expire_on_commit`. Подробнее об этом — в разделе «Закрытие сессии».\n",
    "        </td>\n",
    "    </tr>\n",
    "</Table>"
   ]
  },
  {
   "cell_type": "markdown",
   "id": "3b0e103f",
   "metadata": {},
   "source": [
    "[К оглавлению](#Home)\n",
    "<a id=52></a>\n",
    "\n",
    "## 5.2. Обновление ORM-объектов\n",
    "\n",
    "В предыдущем разделе [Обновление и удаление строк с помощью Core](#43) мы изучили конструкцию Update, которая представляет инструкцию SQL UPDATE. При использовании ORM существует два способа использования этой конструкции. Основной способ заключается в том, что он генерируется автоматически как часть рабочего процесса, используемого сеансом, где инструкция UPDATE генерируется для каждого первичного ключа, соответствующего отдельным объектам, в которых есть изменения. Вторая форма UPDATE называется «UPDATE с поддержкой ORM» и позволяет нам явно использовать конструкцию Update с сеансом; это описано в следующем параграфе.\n",
    "\n",
    "### 5.2.1. Автоматическое обновление\n",
    "\n",
    "Предположим, мы загрузили в транзакцию объект Пользователя с именем (username) *leopold*, использовав для этого методы `Select.filter_by` и `Result.scalar_one()`."
   ]
  },
  {
   "cell_type": "code",
   "execution_count": 127,
   "id": "8b60b805",
   "metadata": {
    "scrolled": true
   },
   "outputs": [
    {
     "name": "stdout",
     "output_type": "stream",
     "text": [
      "2022-05-19 11:10:25,721 INFO sqlalchemy.engine.Engine BEGIN (implicit)\n",
      "2022-05-19 11:10:25,721 INFO sqlalchemy.engine.Engine SELECT user_account.id, user_account.name, user_account.fullname \n",
      "FROM user_account \n",
      "WHERE user_account.name = ?\n",
      "2022-05-19 11:10:25,726 INFO sqlalchemy.engine.Engine [cached since 9.824s ago] ('leopold',)\n"
     ]
    }
   ],
   "source": [
    "leopold = session.execute(select(User).filter_by(name=\"leopold\")).scalar_one()"
   ]
  },
  {
   "cell_type": "markdown",
   "id": "26c35e30",
   "metadata": {},
   "source": [
    "Объект leopold действует как связь с соответствующей строкой в БД, более точно, со строкой в терминах текущей транзакции, со значением идентификатора превичного ключа 2."
   ]
  },
  {
   "cell_type": "code",
   "execution_count": 128,
   "id": "36ba1c19",
   "metadata": {},
   "outputs": [
    {
     "data": {
      "text/plain": [
       "User(id=7, name='leopold', fullname='Кот Леопольд')"
      ]
     },
     "execution_count": 128,
     "metadata": {},
     "output_type": "execute_result"
    }
   ],
   "source": [
    "leopold"
   ]
  },
  {
   "cell_type": "markdown",
   "id": "7b7900dc",
   "metadata": {},
   "source": [
    "Если изменить атрибуты этого объекта, то сеанс отследит эти изменения."
   ]
  },
  {
   "cell_type": "code",
   "execution_count": 129,
   "id": "6ca71f4e",
   "metadata": {},
   "outputs": [],
   "source": [
    "leopold.fullname = 'Кот в сапогах'"
   ]
  },
  {
   "cell_type": "markdown",
   "id": "201e6687",
   "metadata": {},
   "source": [
    "Объект появится в составе коллекции `Session.dirty`."
   ]
  },
  {
   "cell_type": "code",
   "execution_count": 130,
   "id": "8555630e",
   "metadata": {
    "scrolled": true
   },
   "outputs": [
    {
     "data": {
      "text/plain": [
       "True"
      ]
     },
     "execution_count": 130,
     "metadata": {},
     "output_type": "execute_result"
    }
   ],
   "source": [
    "leopold in session.dirty"
   ]
  },
  {
   "cell_type": "markdown",
   "id": "15003021",
   "metadata": {},
   "source": [
    "Когда Session в следующий раз сбросит данные (flush), будет выдано UPDATE, которое обновит это значение в базе данных. Как упоминалось ранее, сброс происходит автоматически до того, как мы выполним какой-либо SELECT, используя поведение, известное как автосброс. Мы можем напрямую запросить столбец User.fullname из этой строки, и мы вернем наше обновленное значение:"
   ]
  },
  {
   "cell_type": "code",
   "execution_count": 131,
   "id": "d0255358",
   "metadata": {},
   "outputs": [
    {
     "name": "stdout",
     "output_type": "stream",
     "text": [
      "2022-05-19 11:10:26,186 INFO sqlalchemy.engine.Engine UPDATE user_account SET fullname=? WHERE user_account.id = ?\n",
      "2022-05-19 11:10:26,186 INFO sqlalchemy.engine.Engine [generated in 0.00234s] ('Кот в сапогах', 7)\n",
      "2022-05-19 11:10:26,201 INFO sqlalchemy.engine.Engine SELECT user_account.fullname \n",
      "FROM user_account \n",
      "WHERE user_account.id = ?\n",
      "2022-05-19 11:10:26,201 INFO sqlalchemy.engine.Engine [generated in 0.00055s] (7,)\n",
      "Кот в сапогах\n"
     ]
    }
   ],
   "source": [
    "leopold_fullname = session.execute(\n",
    "    select(User.fullname).where(User.id == 7)\n",
    ").scalar_one()\n",
    "\n",
    "print(leopold_fullname)"
   ]
  },
  {
   "cell_type": "markdown",
   "id": "adec518b",
   "metadata": {},
   "source": [
    "В этом примере мы выполнили команду SELECT, однако, одновременно, была выполнена команда UPDATE, которая внесла ожидаемые изменения. Объект leopold более не находится в коллекции `session.dirty`."
   ]
  },
  {
   "cell_type": "code",
   "execution_count": 132,
   "id": "644d890c",
   "metadata": {},
   "outputs": [
    {
     "data": {
      "text/plain": [
       "False"
      ]
     },
     "execution_count": 132,
     "metadata": {},
     "output_type": "execute_result"
    }
   ],
   "source": [
    "leopold in session.dirty"
   ]
  },
  {
   "cell_type": "markdown",
   "id": "7fa48119",
   "metadata": {},
   "source": [
    "Однако, транзакция до сих пор не завершена, и изменения в состоянии объекта пока не отразились на состоянии БД. Неверно указанное полное имя Леопольда можно будет исправить позже, если отменить транзакцию. Но сперва внесём ещё несколько изменений в данные.\n",
    "\n",
    "### 5.2.2. Операторы UPDATE с поддержкой ORM\n",
    "Как упоминалось ранее, существует второй способ выдачи операторов UPDATE с точки зрения ORM, который известен как оператор UPDATE с поддержкой ORM. Это позволяет использовать универсальную инструкцию SQL UPDATE, которая может воздействовать на несколько строк одновременно. Например, чтобы создать ОБНОВЛЕНИЕ, которое изменит столбец User.fullname на основе значения в столбце User.name:"
   ]
  },
  {
   "cell_type": "code",
   "execution_count": 133,
   "id": "e092b65f",
   "metadata": {},
   "outputs": [
    {
     "name": "stdout",
     "output_type": "stream",
     "text": [
      "2022-05-19 11:10:26,405 INFO sqlalchemy.engine.Engine UPDATE user_account SET fullname=? WHERE user_account.name = ?\n",
      "2022-05-19 11:10:26,405 INFO sqlalchemy.engine.Engine [generated in 0.00149s] ('Кот Леопольд в сапогах', 'leopold')\n"
     ]
    },
    {
     "data": {
      "text/plain": [
       "<sqlalchemy.engine.cursor.CursorResult at 0x2144b27c7c0>"
      ]
     },
     "execution_count": 133,
     "metadata": {},
     "output_type": "execute_result"
    }
   ],
   "source": [
    "session.execute(\n",
    "    update(User).\n",
    "    where(User.name == \"leopold\").\n",
    "    values(fullname=\"Кот Леопольд в сапогах\")\n",
    ")"
   ]
  },
  {
   "cell_type": "markdown",
   "id": "c1719569",
   "metadata": {},
   "source": [
    "При вызове оператора UPDATE с поддержкой ORM используется специальная логика поиска объектов в текущем сеансе, которые соответствуют заданным критериям, чтобы они обновлялись новыми данными. Выше идентификатор объекта *leopold* был обнаружен в памяти и обновлен:"
   ]
  },
  {
   "cell_type": "code",
   "execution_count": 134,
   "id": "04c4b8a8",
   "metadata": {},
   "outputs": [
    {
     "data": {
      "text/plain": [
       "'Кот Леопольд в сапогах'"
      ]
     },
     "execution_count": 134,
     "metadata": {},
     "output_type": "execute_result"
    }
   ],
   "source": [
    "leopold.fullname"
   ]
  },
  {
   "cell_type": "markdown",
   "id": "43ce6df2",
   "metadata": {},
   "source": [
    "Дополнительно по вопросу обновления по условию в материале <a href=\"https://docs.sqlalchemy.org/en/20/orm/session_api.html#sqlalchemy.orm.Session.delete\">UPDATE and DELETE with arbitrary WHERE clause</a>\n",
    "\n",
    "## 5.3. Удаление объектов ОРС\n",
    "\n",
    "Объект ORM может быть помечен для удаления с помощью метода `Session.delete()`. Давайте загрузим из базы данных объект с идентификатором 3:"
   ]
  },
  {
   "cell_type": "code",
   "execution_count": 135,
   "id": "f5c896bd",
   "metadata": {
    "scrolled": false
   },
   "outputs": [
    {
     "name": "stdout",
     "output_type": "stream",
     "text": [
      "2022-05-19 11:10:26,620 INFO sqlalchemy.engine.Engine SELECT user_account.id AS user_account_id, user_account.name AS user_account_name, user_account.fullname AS user_account_fullname \n",
      "FROM user_account \n",
      "WHERE user_account.id = ?\n",
      "2022-05-19 11:10:26,620 INFO sqlalchemy.engine.Engine [generated in 0.00236s] (9,)\n"
     ]
    }
   ],
   "source": [
    "mitya = session.get(User, 9)"
   ]
  },
  {
   "cell_type": "markdown",
   "id": "f405ab26",
   "metadata": {},
   "source": [
    "Мы можем пометить этот объект для удаления."
   ]
  },
  {
   "cell_type": "code",
   "execution_count": 136,
   "id": "e7c80320",
   "metadata": {},
   "outputs": [],
   "source": [
    "session.delete(mitya)"
   ]
  },
  {
   "cell_type": "markdown",
   "id": "3c863cc9",
   "metadata": {},
   "source": [
    "Объект остаётся в сессии, пока мы не запустим процесс flush, который запускается, если мы выполним запрос."
   ]
  },
  {
   "cell_type": "code",
   "execution_count": 137,
   "id": "7a9ab2a4",
   "metadata": {
    "scrolled": false
   },
   "outputs": [
    {
     "name": "stdout",
     "output_type": "stream",
     "text": [
      "2022-05-19 11:10:26,838 INFO sqlalchemy.engine.Engine SELECT address.id AS address_id, address.email_address AS address_email_address, address.user_id AS address_user_id \n",
      "FROM address \n",
      "WHERE ? = address.user_id\n",
      "2022-05-19 11:10:26,838 INFO sqlalchemy.engine.Engine [generated in 0.00142s] (9,)\n",
      "2022-05-19 11:10:26,856 INFO sqlalchemy.engine.Engine DELETE FROM user_account WHERE user_account.id = ?\n",
      "2022-05-19 11:10:26,858 INFO sqlalchemy.engine.Engine [generated in 0.00120s] (9,)\n",
      "2022-05-19 11:10:26,860 INFO sqlalchemy.engine.Engine SELECT user_account.id, user_account.name, user_account.fullname \n",
      "FROM user_account \n",
      "WHERE user_account.name = ?\n",
      "2022-05-19 11:10:26,861 INFO sqlalchemy.engine.Engine [cached since 10.96s ago] ('mitya',)\n"
     ]
    }
   ],
   "source": [
    "session.execute(select(User).where(User.name == 'mitya')).first()"
   ]
  },
  {
   "cell_type": "markdown",
   "id": "cf7f15f3",
   "metadata": {},
   "source": [
    "В журнале вывода мы видим команду DELETE. Также в журнале присутствует команда SELECT к таблице *address*. Выполнение этого запроса обеспечено интерфейсом ОРС с целью поиска записей, связанных с удаляемой записью из таблицы *user*. Более подробно об удалении данных в связанных таблицах можно узнать в документации по каманде <a href=\"https://docs.sqlalchemy.org/en/20/orm/cascades.html#cascade-delete\">delete</a>."
   ]
  },
  {
   "cell_type": "markdown",
   "id": "f9daf4aa",
   "metadata": {},
   "source": [
    "Объекта *mitya* более в данной сессии не существует."
   ]
  },
  {
   "cell_type": "code",
   "execution_count": 138,
   "id": "e3b7cf12",
   "metadata": {},
   "outputs": [
    {
     "data": {
      "text/plain": [
       "False"
      ]
     },
     "execution_count": 138,
     "metadata": {},
     "output_type": "execute_result"
    }
   ],
   "source": [
    "mitya in session"
   ]
  },
  {
   "cell_type": "markdown",
   "id": "a4ecd1f7",
   "metadata": {},
   "source": [
    "Так же, как и для команды UPDATE, удаление записи из БД не произойдёт, пока мы не подтвердим текущую транзакцию."
   ]
  },
  {
   "cell_type": "markdown",
   "id": "64300e01",
   "metadata": {},
   "source": [
    "### 5.3.1. Операторы DELETE с поддержкой ORM\n",
    "\n",
    "Подобно операциям UPDATE, существует также версия DELETE с поддержкой ORM, которую мы можем проиллюстрировать, используя конструкцию *delete()* с `Session.execute()`. Она также имеет функцию, с помощью которой объекты с неистекшим сроком действия, которые соответствуют заданным критериям удаления, будут автоматически помечены как «удаленные» в сеансе:"
   ]
  },
  {
   "cell_type": "code",
   "execution_count": 139,
   "id": "fc35c8d2",
   "metadata": {},
   "outputs": [
    {
     "name": "stdout",
     "output_type": "stream",
     "text": [
      "2022-05-19 11:10:27,021 INFO sqlalchemy.engine.Engine SELECT user_account.id AS user_account_id, user_account.name AS user_account_name, user_account.fullname AS user_account_fullname \n",
      "FROM user_account \n",
      "WHERE user_account.id = ?\n",
      "2022-05-19 11:10:27,021 INFO sqlalchemy.engine.Engine [cached since 0.4082s ago] (8,)\n",
      "2022-05-19 11:10:27,039 INFO sqlalchemy.engine.Engine DELETE FROM user_account WHERE user_account.name = ?\n",
      "2022-05-19 11:10:27,039 INFO sqlalchemy.engine.Engine [generated in 0.00053s] ('motya',)\n"
     ]
    },
    {
     "data": {
      "text/plain": [
       "<sqlalchemy.engine.cursor.CursorResult at 0x2144b275dc0>"
      ]
     },
     "execution_count": 139,
     "metadata": {},
     "output_type": "execute_result"
    }
   ],
   "source": [
    "# refresh the target object for demonstration purposes\n",
    "# only, not needed for the DELETE\n",
    "motya = session.get(User, 8)\n",
    "\n",
    "session.execute(delete(User).where(User.name == \"motya\"))"
   ]
  },
  {
   "cell_type": "markdown",
   "id": "73257084",
   "metadata": {},
   "source": [
    "Объект *motya* теперь в \"удалённом\" состоянии."
   ]
  },
  {
   "cell_type": "code",
   "execution_count": 140,
   "id": "b1a6ce25",
   "metadata": {
    "scrolled": true
   },
   "outputs": [
    {
     "data": {
      "text/plain": [
       "False"
      ]
     },
     "execution_count": 140,
     "metadata": {},
     "output_type": "execute_result"
    }
   ],
   "source": [
    "motya in session"
   ]
  },
  {
   "cell_type": "markdown",
   "id": "ab556ead",
   "metadata": {},
   "source": [
    "## 5.4. Откат"
   ]
  },
  {
   "cell_type": "code",
   "execution_count": 141,
   "id": "99b65a54",
   "metadata": {},
   "outputs": [
    {
     "name": "stdout",
     "output_type": "stream",
     "text": [
      "2022-05-19 11:10:27,245 INFO sqlalchemy.engine.Engine ROLLBACK\n"
     ]
    }
   ],
   "source": [
    "session.rollback()"
   ]
  },
  {
   "cell_type": "markdown",
   "id": "b1ee1fab",
   "metadata": {},
   "source": [
    "С выдачей команды отката измененные объекты обновляют себя в соответствии с данными БД. Устаревшее состояние объекта возвращается с помощью свойства `leopold.__dict__`."
   ]
  },
  {
   "cell_type": "code",
   "execution_count": 142,
   "id": "2f16d8a6",
   "metadata": {},
   "outputs": [
    {
     "data": {
      "text/plain": [
       "{'_sa_instance_state': <sqlalchemy.orm.state.InstanceState at 0x2144b2599d0>}"
      ]
     },
     "execution_count": 142,
     "metadata": {},
     "output_type": "execute_result"
    }
   ],
   "source": [
    "leopold.__dict__"
   ]
  },
  {
   "cell_type": "markdown",
   "id": "d8cc2529",
   "metadata": {},
   "source": [
    "Обновление произойдёт после обращения к объекту."
   ]
  },
  {
   "cell_type": "code",
   "execution_count": 143,
   "id": "71038530",
   "metadata": {},
   "outputs": [
    {
     "name": "stdout",
     "output_type": "stream",
     "text": [
      "2022-05-19 11:10:27,444 INFO sqlalchemy.engine.Engine BEGIN (implicit)\n",
      "2022-05-19 11:10:27,445 INFO sqlalchemy.engine.Engine SELECT user_account.id AS user_account_id, user_account.name AS user_account_name, user_account.fullname AS user_account_fullname \n",
      "FROM user_account \n",
      "WHERE user_account.id = ?\n",
      "2022-05-19 11:10:27,446 INFO sqlalchemy.engine.Engine [cached since 0.8214s ago] (7,)\n"
     ]
    },
    {
     "data": {
      "text/plain": [
       "'Кот Леопольд'"
      ]
     },
     "execution_count": 143,
     "metadata": {},
     "output_type": "execute_result"
    }
   ],
   "source": [
    "leopold.fullname"
   ]
  },
  {
   "cell_type": "code",
   "execution_count": 144,
   "id": "0c4a70e7",
   "metadata": {
    "scrolled": true
   },
   "outputs": [
    {
     "data": {
      "text/plain": [
       "{'_sa_instance_state': <sqlalchemy.orm.state.InstanceState at 0x2144b2599d0>,\n",
       " 'fullname': 'Кот Леопольд',\n",
       " 'id': 7,\n",
       " 'name': 'leopold'}"
      ]
     },
     "execution_count": 144,
     "metadata": {},
     "output_type": "execute_result"
    }
   ],
   "source": [
    "leopold.__dict__"
   ]
  },
  {
   "cell_type": "markdown",
   "id": "520deae7",
   "metadata": {},
   "source": [
    "Проверим состояние удалённых объектов"
   ]
  },
  {
   "cell_type": "code",
   "execution_count": 145,
   "id": "399be88e",
   "metadata": {},
   "outputs": [
    {
     "data": {
      "text/plain": [
       "True"
      ]
     },
     "execution_count": 145,
     "metadata": {},
     "output_type": "execute_result"
    }
   ],
   "source": [
    "mitya in session"
   ]
  },
  {
   "cell_type": "markdown",
   "id": "df6150c6",
   "metadata": {},
   "source": [
    "И убедимся, что все данные находятся в базе данных."
   ]
  },
  {
   "cell_type": "code",
   "execution_count": 146,
   "id": "4fcbb6e7",
   "metadata": {},
   "outputs": [
    {
     "name": "stdout",
     "output_type": "stream",
     "text": [
      "2022-05-19 11:10:27,883 INFO sqlalchemy.engine.Engine SELECT user_account.id, user_account.name, user_account.fullname \n",
      "FROM user_account\n",
      "2022-05-19 11:10:27,883 INFO sqlalchemy.engine.Engine [cached since 11.41s ago] ()\n"
     ]
    },
    {
     "data": {
      "text/plain": [
       "[(User(id=1, name='tcampion', fullname='Campion Thomas'),),\n",
       " (User(id=2, name='nnigrino', fullname='Nigrino Niccolo'),),\n",
       " (User(id=3, name='gcaccini', fullname='Caccini Giulio'),),\n",
       " (User(id=4, name='rgiazotto', fullname='Giazotto Remo'),),\n",
       " (User(id=5, name='fmilano', fullname='Da Milano Francesko'),),\n",
       " (User(id=6, name='gbfontana', fullname='Giovanni Battista'),),\n",
       " (User(id=7, name='leopold', fullname='Кот Леопольд'),),\n",
       " (User(id=8, name='motya', fullname='Мышь Мотя'),),\n",
       " (User(id=9, name='mitya', fullname='Мышь Митя'),)]"
      ]
     },
     "execution_count": 146,
     "metadata": {},
     "output_type": "execute_result"
    }
   ],
   "source": [
    "session.execute(select(User)).all()"
   ]
  },
  {
   "cell_type": "markdown",
   "id": "755a0428",
   "metadata": {},
   "source": [
    "## 5.5. Завершение сеанса\n",
    "\n",
    "Так как в этой главе мы не использовали менеджер контекста для открытии сеанса, то следует его закрыть в явном виде."
   ]
  },
  {
   "cell_type": "code",
   "execution_count": 147,
   "id": "bb71ce34",
   "metadata": {},
   "outputs": [
    {
     "name": "stdout",
     "output_type": "stream",
     "text": [
      "2022-05-19 11:10:27,988 INFO sqlalchemy.engine.Engine ROLLBACK\n"
     ]
    }
   ],
   "source": [
    "session.close()"
   ]
  },
  {
   "cell_type": "markdown",
   "id": "0d1d398a",
   "metadata": {},
   "source": [
    "Закрытие сеанса, в том числе, когда мы используем его и в диспетчере контекста, сопровождается следующими действиями:\n",
    "\n",
    "- Он высвобождает все ресурсы соединения пула соединений, отменяя (например, откатывая) все транзакции, которые выполнялись.\n",
    "\n",
    "Это означает, что когда мы используем сеанс для выполнения некоторых задач только для чтения, а затем закрываем его, нам не нужно явно вызывать Session.rollback(), чтобы гарантировать откат транзакции.\n",
    "\n",
    "- Он удаляет все объекты из сеанса.\n",
    "\n",
    "Это означает, что все объекты Python, которые мы загрузили для этого сеанса теперь находятся в состоянии, известном как отсоединенное. В частности, отметим, что объекты, которые все еще находились в просроченном состоянии, например, из-за вызова Session.commit(), теперь нефункциональны, так как не содержат состояния текущей строки и не являются больше связаными с какой-либо транзакцией базы данных.\n",
    "\n",
    "Отсоединенные объекты могут быть повторно связаны с тем же самым или новым сеансом с использованием метода `Session.add()`, который восстановит их связь с конкретной строкой базы данных:"
   ]
  },
  {
   "cell_type": "markdown",
   "id": "adb6d01c",
   "metadata": {},
   "source": [
    "<Table align=\"left\">\n",
    "    <tr><td bgcolor=#adb5bd></td>\n",
    "        <td style=\"text-align:left; font-size:10pt\">\n",
    "Совет.\n",
    "\n",
    "По возможности, старайтесь избегать использования объектов в отсоединенном состоянии. Когда сессия закрыта, также очистите ссылки на все ранее прикрепленные объекты. В случаях, когда необходимы отсоединенные объекты, как правило, для немедленного отображения только что зафиксированных объектов для веб-приложения, где сеанс закрывается до отображения представления, установите для флага Session.expire_on_commit значение False.\n",
    "        </td>\n",
    "    </tr>\n",
    "</Table>"
   ]
  },
  {
   "cell_type": "markdown",
   "id": "61ffffcc",
   "metadata": {},
   "source": [
    "<a id=6></a>\n",
    "\n",
    "[К оглавлению](#Home)\n",
    "\n",
    "# 6. Обработка связанных объектов"
   ]
  },
  {
   "cell_type": "markdown",
   "id": "3b362cd5",
   "metadata": {},
   "source": [
    "Ранее в разделе [3.4.2. Объявление сопоставленных классов](#342) мы использовали конструкцию *relationship*.\n",
    "\n",
    "```\n",
    "from sqlalchemy import Table, Column, Integer, String, ForeignKey\n",
    "from sqlalchemy.orm import relationship\n",
    "class User(Base):\n",
    "    __tablename__ = 'user_account'\n",
    "    id = Column(Integer, primary_key=True)\n",
    "    name = Column(String(30))\n",
    "    fullname = Column(String)\n",
    "    addresses = relationship(\"Address\", back_populates=\"user\")\n",
    "\n",
    "class Address(Base):\n",
    "    __tablename__ = 'address'\n",
    "    id = Column(Integer, primary_key=True)\n",
    "    email_address = Column(String, nullable=False)\n",
    "    user_id = Column(Integer, ForeignKey('user_account.id'))\n",
    "    user = relationship(\"User\", back_populates=\"addresses\")\n",
    "```\n",
    "\n",
    "Внешний ключ и функция relationship() однозначно определяют отношение один ко многим между пользователями и их адресами. Если новый объект не имеет адреса, то получим пустой список, обратившись к свойству addresses."
   ]
  },
  {
   "cell_type": "code",
   "execution_count": 148,
   "id": "04c48f8c",
   "metadata": {},
   "outputs": [
    {
     "data": {
      "text/plain": [
       "[]"
      ]
     },
     "execution_count": 148,
     "metadata": {},
     "output_type": "execute_result"
    }
   ],
   "source": [
    "u1 = User(name='заяц', fullname='Заяц из НУ Погоди')\n",
    "u1.addresses"
   ]
  }
 ],
 "metadata": {
  "kernelspec": {
   "display_name": "Python 3 (ipykernel)",
   "language": "python",
   "name": "python3"
  },
  "language_info": {
   "codemirror_mode": {
    "name": "ipython",
    "version": 3
   },
   "file_extension": ".py",
   "mimetype": "text/x-python",
   "name": "python",
   "nbconvert_exporter": "python",
   "pygments_lexer": "ipython3",
   "version": "3.9.7"
  }
 },
 "nbformat": 4,
 "nbformat_minor": 5
}
