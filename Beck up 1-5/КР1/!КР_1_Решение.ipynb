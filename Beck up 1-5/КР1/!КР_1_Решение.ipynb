{
 "cells": [
  {
   "cell_type": "markdown",
   "metadata": {},
   "source": [
    "<img src=\"../Img/Python_SQL_PI.png\" style=\"width:100%\">\n",
    "\n",
    "\n",
    "<p style=\"font-size:22px;text-align:center\">Контрольная работа 1</p>\n",
    "\n",
    "<a id = Home></a>\n",
    "\n",
    "4 апреля 2022 года, пн<br>\n",
    "ПИ20-1, ПИ20-2, ПИ20-3, ПИ20-4, ПИ20-5, ПИ20-6 (4 подгруппа) <br>"
   ]
  },
  {
   "cell_type": "markdown",
   "metadata": {},
   "source": [
    "База данных \"Студенты\"\n",
    "\n",
    "```\n",
    "STUDENT\n",
    "STUDENT_ID — числовой код, идентифицирующий студента (идентификатор студента),\n",
    "SURNAME — фамилия студента,\n",
    "NAME — имя студента,\n",
    "STIPEND — стипендия, которую получает студент,\n",
    "KURS — курс, на котором учится студент,\n",
    "CITY — город, в котором живет студент,\n",
    "BIRTHDAY — дата рождения студента,\n",
    "UNIV_ID — идентификатор университета, в котором учится студент.\n",
    "\n",
    "LECTURER\n",
    "LECTURER_ID — идентификатор преподавателя,\n",
    "SURNAME — фамилия преподавателя,\n",
    "NAME — имя преподавателя,\n",
    "CITY — город, в котором живет преподаватель,\n",
    "UNIV_ID — идентификатор университета, в котором работает преподаватель\n",
    "\n",
    "SUBJECT\n",
    "SUBJ_ID — идентификатор предмета обучения,\n",
    "SUBJ_NAME — наименование предмета обучения,\n",
    "HOUR — количество часов, отводимых на изучение предмета,\n",
    "SEMESTER — семестр, в котором изучается данный предмет.\n",
    "\n",
    "UNIVERSITY\n",
    "UNIV_ID — идентификатор университета,\n",
    "UNIV_NAME — название университета,\n",
    "RATING — рейтинг университета,\n",
    "CITY — город, в котором расположен университет.\n",
    "\n",
    "EXAM_MARKS\n",
    "EXAM_ID — идентификатор экзамена,\n",
    "STUDENT_ID — идентификатор студента,\n",
    "SUBJ_ID — идентификатор предмета обучения,\n",
    "MARK — экзаменационная оценка,\n",
    "EXAM_DATE — дата экзамена.\n",
    "\n",
    "SUBJ_LECT\n",
    "LECTURER_ID — идентификатор преподавателя,\n",
    "SUBJ_ID — идентификатор предмета обучения.\n",
    "```\n",
    "\n",
    "<img src=\"../Img/Students_Schema.png\" style=\"width:79%\">"
   ]
  },
  {
   "cell_type": "code",
   "execution_count": 2,
   "metadata": {},
   "outputs": [],
   "source": [
    "from sqlalchemy import MetaData, Table, create_engine, select, and_, or_, not_, text\n",
    "from sqlalchemy.sql import func, distinct, exists\n",
    "import pandas as pd"
   ]
  },
  {
   "cell_type": "code",
   "execution_count": 3,
   "metadata": {
    "scrolled": true
   },
   "outputs": [],
   "source": [
    "engine = create_engine('sqlite+pysqlite:///../Data/Students.db')\n",
    "conn = engine.connect()"
   ]
  },
  {
   "cell_type": "code",
   "execution_count": 4,
   "metadata": {},
   "outputs": [],
   "source": [
    "metadata = MetaData() # Объект-контейнер, содержит информацию о схеме данных\n",
    "metadata.reflect(bind=engine) # Отображение БД"
   ]
  },
  {
   "cell_type": "code",
   "execution_count": 5,
   "metadata": {},
   "outputs": [
    {
     "data": {
      "text/plain": [
       "dict_keys(['city', 'exam_marks', 'student', 'university', 'subject', 'lecturer', 'subj_lect'])"
      ]
     },
     "execution_count": 5,
     "metadata": {},
     "output_type": "execute_result"
    }
   ],
   "source": [
    "# Таблицы в БД\n",
    "metadata.tables.keys()"
   ]
  },
  {
   "cell_type": "code",
   "execution_count": 6,
   "metadata": {},
   "outputs": [],
   "source": [
    "exam_marks=Table(\"exam_marks\", metadata, autoload=True, autoload_with=\"engine\")\n",
    "lecturer=Table(\"lecturer\", metadata, autoload=True, autoload_with=\"engine\")\n",
    "student=Table(\"student\", metadata, autoload=True, autoload_with=\"engine\")\n",
    "subj_lect=Table(\"subj_lect\", metadata, autoload=True, autoload_with=\"engine\")\n",
    "subject=Table(\"subject\", metadata, autoload=True, autoload_with=\"engine\")\n",
    "university=Table(\"university\", metadata, autolad=True, autolad_with=\"engine\")"
   ]
  },
  {
   "cell_type": "markdown",
   "metadata": {},
   "source": [
    "<img src=../Img/pencil.png style=\"width:190px;height:190px\">\n",
    "<p style=\"background-color:powderblue; font-size:125%; color: rebeccapurple;\">Выполните задания</p>\n",
    "<p>Выполните задания c помощью Jupyter Notebook и библиотеки SQLAlchemy</p>\n",
    "\n",
    "1. Напишите запрос для получения идентификаторов, имён, фамилий и городов студентов без определенного места жительства.\n",
    "2. Напишите запрос для получения списка учебных заведений, названия которых состоят как минимум из трех слов.\n",
    "3. Напишите запрос, выполняющий вывод количества экзаменов, сдававшихся (вне зависимости от оценки) студентами 12, 32, 55. Результат должен содержать идентификатор студента и количество сданных им экзаменов. Результат упорядочить по убыванию количества экзаменов.\n",
    "4. Для каждого дня сдачи экзаменов, сдававшихся в мае, напишите запрос, выводящий максимальные оценки, полученные по каждому предмету.\n",
    "5. Для каждого предмета напишите запрос, выводящий количество преподавателей, ведущих по нему занятия. Результат должен содержать название предмета и число преподавателей.\n",
    "6. С помощью подзапроса напишите запрос, выполняющий вывод результатов экзаменов, сданных (оценка больше 2) по предметам первого семестра. Результат должен содержать идентификатор экзамена, идентификатор предмета, дату в формате YYYY-MM-DD.\n",
    "7. Отредактируйте следующий запрос с подзапросом, чтобы найти всех студентов, имеющих только отличные оценки. Выполните данный запрос с помощью SQLAlchemy.\n",
    "```\n",
    "s = \"\"\"\n",
    "SELECT DISTINCT student_id, surname, name\n",
    "FROM student st\n",
    "WHERE 4 < (\n",
    "    SELECT min(mark) FROM exam_marks em WHERE ...\n",
    ")\n",
    "\"\"\"\n",
    "```\n",
    "8. Напишите запрос, выполняющий вывод идентификаторов, фамилий, имён студентов, средняя оценка которых превышает 3 балла на экзаменах по предметам 3 семестра.\n",
    "9. Напишите запрос, выполняющий вывод списка идентификаторов, фамилий, имён, городов студентов, имеющих только отличные оценки и проживающих в городе, не совпадающим с городом их университета.\n",
    "10. Покажите ИД экзамена, ИД студента, ИД предмета, оценку, дату для всех экзаменов, сдававшихся студентами ВГУ.\n",
    "11. Напишите запрос, показывающий, сколько круглых отличников в каждом университете.\n",
    "12. Напишите запрос, который выполняет выборку идентификаторов, имен и фамилий всех студентов, имеющих по предмету c идентификатором 10 балл ниже общего среднего балла.\n",
    "13. С помощью EXISTS Напишите запрос, выполняющий вывод количества студентов, имеющих хотя бы одну неудовлетворительную оценку и проживающих в городе, не совпадающем с городом их университета.\n",
    "14. С помощью EXISTS Напишите запрос, выполняющий вывод количества студентов, не имеющих ни одной оценки.\n",
    "15.  Напишите запрос, показывающий дату первого экзамена в 2020 году, дату последнего экзамена в 2020 году, количество дней между первым и последним экзаменом в 2020 году. Подсказка: для установки фильтра на 2020 год можно использовать оператор LIKE, например `.where(func.date(exam_marks.c.exam_date).like(\"2020-%\"))`"
   ]
  },
  {
   "cell_type": "markdown",
   "metadata": {},
   "source": [
    "<p style=\"font-size:22px;text-align:center\">Ответы на задания</p>\n",
    "\n",
    "<TABLE>\n",
    "    <tr><th style=\"text-align:center\">Задание</th>\n",
    "        <th style=\"text-align:center\">Число строк</th><th style=\"text-align:center\">Ответ</th>\n",
    "    <tr><td>1</td><td>2</td><td>[(65, 'Сергеева Фёкла', None), (96, 'Тимофеева Фаина', None)]</td></tr>\n",
    "    <tr><td>2</td><td>1</td><td>[(45, 'МГТУ им. Баумана', 372, 'Москва')]</td></tr>\n",
    "    <tr><td>3</td><td>3</td><td>[(55, 2), (12, 2), (32, 1)]</td></tr>\n",
    "    <tr><td>4</td><td>14</td><td></td></tr>\n",
    "    <tr><td>5</td><td>10</td><td></td></tr>\n",
    "    <tr><td>6</td><td>10</td><td></td></tr>\n",
    "    <tr><td>7</td><td>7</td><td></td></tr>\n",
    "    <tr><td>8</td><td>2</td><td>[(62, 'Семенова Вероника', 4.0), (99, 'Борисова Марина', 5.0)]</td></tr>\n",
    "    <tr><td>9</td><td>6</td><td></td></tr>\n",
    "    <tr><td>10</td><td>14</td><td></td></tr>\n",
    "    <tr><td>11</td><td>4</td><td>[('ВГУ', 4), ('МГТУ им. Баумана', 1), ('МГУ', 1), ('ТГУ', 1)]</td></tr>\n",
    "    <tr><td>12</td><td>3</td><td>[(12, 'Зайцева Ольга'), (15, 'Ордуханян Рафаэль'), (97, 'Вишнякова Анжела')]</td></tr>\n",
    "    <tr><td>13</td><td>1</td><td>(17,)</td></tr>\n",
    "    <tr><td>14</td><td>1</td><td>(54,)</td></tr>\n",
    "    <tr><td>15</td><td>1</td><td>297</td></tr>\n",
    "</TABLE>"
   ]
  },
  {
   "cell_type": "code",
   "execution_count": 10,
   "metadata": {},
   "outputs": [
    {
     "name": "stdout",
     "output_type": "stream",
     "text": [
      "SELECT st.student_id, st.surname || :surname_1 || st.name AS anon_1, st.city \n",
      "FROM student AS st \n",
      "WHERE st.city IS NULL {'surname_1': ' '}\n",
      "2\n"
     ]
    },
    {
     "data": {
      "text/plain": [
       "[(65, 'Сергеева Фёкла', None), (96, 'Тимофеева Фаина', None)]"
      ]
     },
     "execution_count": 10,
     "metadata": {},
     "output_type": "execute_result"
    }
   ],
   "source": [
    "# 1\n",
    "st = student.alias('st')\n",
    "s = select(st.c.student_id, st.c.surname + ' ' + st.c.name, st.c.city)\n",
    "s = s.where(st.c.city == None)\n",
    "print(s, s.compile().params)\n",
    "result = conn.execute(s).fetchall()\n",
    "print(len(result))\n",
    "result"
   ]
  },
  {
   "cell_type": "code",
   "execution_count": 153,
   "metadata": {},
   "outputs": [
    {
     "name": "stdout",
     "output_type": "stream",
     "text": [
      "SELECT university.univ_id, university.univ_name, university.rating, university.city \n",
      "FROM university \n",
      "WHERE university.univ_name LIKE :univ_name_1\n",
      "1\n"
     ]
    },
    {
     "data": {
      "text/plain": [
       "[(45, 'МГТУ им. Баумана', 372, 'Москва')]"
      ]
     },
     "execution_count": 153,
     "metadata": {},
     "output_type": "execute_result"
    }
   ],
   "source": [
    "# 2\n",
    "s = select(university)\n",
    "s = s.where(university.c.univ_name.like(\"% % %\"))\n",
    "print(s)\n",
    "result = conn.execute(s).fetchall()\n",
    "print(len(result))\n",
    "result"
   ]
  },
  {
   "cell_type": "code",
   "execution_count": 154,
   "metadata": {},
   "outputs": [
    {
     "name": "stdout",
     "output_type": "stream",
     "text": [
      "SELECT em.student_id, count(em.exam_id) AS count_1 \n",
      "FROM exam_marks AS em \n",
      "WHERE em.student_id IN ([POSTCOMPILE_student_id_1]) GROUP BY em.student_id ORDER BY count(em.exam_id) DESC\n",
      "3\n"
     ]
    },
    {
     "data": {
      "text/plain": [
       "[(55, 2), (12, 2), (32, 1)]"
      ]
     },
     "execution_count": 154,
     "metadata": {},
     "output_type": "execute_result"
    }
   ],
   "source": [
    "# 3\n",
    "em = exam_marks.alias('em')\n",
    "s = select(em.c.student_id, func.count(em.c.exam_id))\n",
    "s = s.where(em.c.student_id.in_([12,32,55]))\n",
    "s = s.group_by(em.c.student_id)\n",
    "#s = s.order_by(text(\"exam_count\"))\n",
    "s = s.order_by(func.count(em.c.exam_id).desc())\n",
    "print(s)\n",
    "result = conn.execute(s).fetchall()\n",
    "print(len(result))\n",
    "result"
   ]
  },
  {
   "cell_type": "code",
   "execution_count": 7,
   "metadata": {},
   "outputs": [
    {
     "name": "stdout",
     "output_type": "stream",
     "text": [
      "SELECT date(em.exam_date) AS date_1, em.subj_id, max(em.mark) AS max_1 \n",
      "FROM exam_marks AS em \n",
      "WHERE date(em.exam_date) LIKE :date_2 GROUP BY date(em.exam_date), em.subj_id\n",
      "14\n"
     ]
    },
    {
     "data": {
      "text/plain": [
       "[('2006-05-12', 10, 2),\n",
       " ('2019-05-26', 94, 2),\n",
       " ('2019-05-29', 10, 5),\n",
       " ('2019-05-29', 11, 1),\n",
       " ('2019-05-29', 12, 5),\n",
       " ('2019-05-29', 13, 2),\n",
       " ('2019-05-29', 22, 4),\n",
       " ('2019-05-29', 56, 5),\n",
       " ('2019-05-30', 11, 4),\n",
       " ('2020-05-26', 10, 3),\n",
       " ('2020-05-26', 12, 1),\n",
       " ('2020-05-26', 56, 4),\n",
       " ('2020-05-26', 94, 5),\n",
       " ('2020-05-27', 56, 2)]"
      ]
     },
     "execution_count": 7,
     "metadata": {},
     "output_type": "execute_result"
    }
   ],
   "source": [
    "# 4 Для каждого дня сдачи экзаменов, сдававшихся в мае, напишите запрос, \n",
    "# выводящий максимальные оценки, полученные по каждому предмету.\n",
    "em = exam_marks.alias('em')\n",
    "s = select(func.date(em.c.exam_date), em.c.subj_id, func.max(em.c.mark))\n",
    "s = s.where(func.date(em.c.exam_date).like(\"%-05-%\"))\n",
    "s = s.group_by(func.date(em.c.exam_date), em.c.subj_id)\n",
    "print(s)\n",
    "result = conn.execute(s).fetchall()\n",
    "print(len(result))\n",
    "result"
   ]
  },
  {
   "cell_type": "code",
   "execution_count": 155,
   "metadata": {},
   "outputs": [
    {
     "name": "stdout",
     "output_type": "stream",
     "text": [
      "SELECT su.subj_name, count(sl.lecturer_id) AS cnt_lecturer \n",
      "FROM subject AS su, subj_lect AS sl \n",
      "WHERE su.subj_id = sl.subj_id GROUP BY su.subj_name\n",
      "10\n"
     ]
    },
    {
     "data": {
      "text/plain": [
       "[('Анализ данных', 1),\n",
       " ('Английский язык', 3),\n",
       " ('Информатика', 5),\n",
       " ('История', 3),\n",
       " ('Математика', 1),\n",
       " ('ОБЖ', 3),\n",
       " ('Программирование на языках Python и SQL', 5),\n",
       " ('Теория вероятностей и математическая статистика', 1),\n",
       " ('Физика', 1),\n",
       " ('Физкультура', 1)]"
      ]
     },
     "execution_count": 155,
     "metadata": {},
     "output_type": "execute_result"
    }
   ],
   "source": [
    "# 5\n",
    "su = subject.alias('su')\n",
    "sl = subj_lect.alias('sl')\n",
    "\n",
    "s = select(su.c.subj_name, func.count(sl.c.lecturer_id).label(\"cnt_lecturer\"))\n",
    "s = s.where(su.c.subj_id == sl.c.subj_id)\n",
    "s = s.group_by(su.c.subj_name)\n",
    "\n",
    "print(s)\n",
    "result = conn.execute(s).fetchall()\n",
    "print(len(result))\n",
    "result"
   ]
  },
  {
   "cell_type": "code",
   "execution_count": 8,
   "metadata": {},
   "outputs": [
    {
     "name": "stdout",
     "output_type": "stream",
     "text": [
      "SELECT em.exam_id, em.subj_id, date(em.exam_date) AS date_1 \n",
      "FROM exam_marks AS em \n",
      "WHERE em.subj_id = (SELECT su.subj_id \n",
      "FROM subject AS su \n",
      "WHERE su.subj_id = em.subj_id AND su.semester = :semester_1) AND em.mark > :mark_1\n",
      "10\n"
     ]
    },
    {
     "data": {
      "text/plain": [
       "[(5, 10, '2020-05-26'),\n",
       " (9, 22, '2020-02-22'),\n",
       " (16, 10, '2019-05-29'),\n",
       " (22, 10, '2020-05-26'),\n",
       " (23, 22, '2019-05-29'),\n",
       " (28, 12, '2019-05-29'),\n",
       " (34, 10, '2000-01-23'),\n",
       " (43, 22, '2000-01-18'),\n",
       " (75, 10, '2000-01-23'),\n",
       " (238, 10, '2006-06-17')]"
      ]
     },
     "execution_count": 8,
     "metadata": {},
     "output_type": "execute_result"
    }
   ],
   "source": [
    "# 6 С помощью подзапроса напишите запрос, выполняющий вывод результатов экзаменов, сданных (оценка больше 2) \n",
    "# по предметам первого семестра. Результат должен содержать идентификатор экзамена, \n",
    "# идентификатор предмета, дату в формате YYYY-MM-DD.\n",
    "su = subject.alias('su')\n",
    "subq = select(su.c.subj_id)\n",
    "subq = subq.where(su.c.subj_id == em.c.subj_id)\n",
    "subq = subq.where(su.c.semester == 1).scalar_subquery()\n",
    "s = select(em.c.exam_id, em.c.subj_id, func.date(em.c.exam_date))\n",
    "s = s.where(em.c.subj_id == subq)\n",
    "s = s.where(em.c.mark > 2)\n",
    "print(s)\n",
    "result = conn.execute(s).fetchall()\n",
    "print(len(result))\n",
    "result"
   ]
  },
  {
   "cell_type": "code",
   "execution_count": 156,
   "metadata": {},
   "outputs": [
    {
     "name": "stdout",
     "output_type": "stream",
     "text": [
      "SELECT DISTINCT st.student_id, st.surname, st.name \n",
      "FROM student AS st \n",
      "WHERE (SELECT min(em.mark) AS min_1 \n",
      "FROM exam_marks AS em \n",
      "WHERE em.student_id = st.student_id) > :param_1 {'param_1': 4}\n",
      "7\n"
     ]
    },
    {
     "data": {
      "text/plain": [
       "[(10, 'Кузнецов', 'Борис'),\n",
       " (55, 'Белкин', 'Вадим'),\n",
       " (82, 'Лапина', 'Элеонора'),\n",
       " (88, 'Жданова', 'Ирина'),\n",
       " (91, 'Блохина', 'Ираида'),\n",
       " (92, 'Мельникова', 'Светлана'),\n",
       " (99, 'Борисова', 'Марина')]"
      ]
     },
     "execution_count": 156,
     "metadata": {},
     "output_type": "execute_result"
    }
   ],
   "source": [
    "# 7\n",
    "em = exam_marks.alias('em')\n",
    "st = student.alias('st')\n",
    "subq = select(func.min(em.c.mark))\n",
    "subq = subq.where(em.c.student_id == st.c.student_id).scalar_subquery()\n",
    "s = select(st.c.student_id.distinct(), st.c.surname, st.c.name)\n",
    "s = s.where(4 < subq)\n",
    "\n",
    "print(s, s.compile().params)\n",
    "result = conn.execute(s).fetchall()\n",
    "print(len(result))\n",
    "result"
   ]
  },
  {
   "cell_type": "code",
   "execution_count": 19,
   "metadata": {},
   "outputs": [
    {
     "name": "stdout",
     "output_type": "stream",
     "text": [
      "SELECT st.student_id, st.surname || :surname_1 || st.name AS anon_1, avg(em.mark) AS average_mark \n",
      "FROM student AS st, exam_marks AS em, subject AS su \n",
      "WHERE st.student_id = em.student_id AND em.subj_id = su.subj_id AND su.semester = :semester_1 GROUP BY st.student_id \n",
      "HAVING average_mark > 3 {'surname_1': ' ', 'semester_1': 3}\n",
      "2\n",
      "[(62, 'Семенова Вероника', 4.0), (99, 'Борисова Марина', 5.0)]\n"
     ]
    }
   ],
   "source": [
    "# 8. Напишите запрос, выполняющий вывод идентификаторов, фамилий, имён студентов, \n",
    "# средняя оценка которых превышает 3 балла на экзаменах по предметам 3 семестра.\n",
    "\n",
    "em = exam_marks.alias('em')\n",
    "st = student.alias('st')\n",
    "su = subject.alias('su')\n",
    "s = select( st.c.student_id, st.c.surname + ' ' + st.c.name, func.avg(em.c.mark).label('average_mark'))\n",
    "s = s.where(st.c.student_id == em.c.student_id)\n",
    "s = s.where(em.c.subj_id == su.c.subj_id)\n",
    "s = s.where(su.c.semester == 3)\n",
    "s = s.group_by(st.c.student_id)\n",
    "s = s.having(text(\"average_mark > 3\"))\n",
    "\n",
    "print(s, s.compile().params)\n",
    "result = conn.execute(s).fetchall()\n",
    "print(len(result))\n",
    "print(result)"
   ]
  },
  {
   "cell_type": "code",
   "execution_count": 72,
   "metadata": {},
   "outputs": [
    {
     "name": "stdout",
     "output_type": "stream",
     "text": [
      "SELECT student.student_id, student.surname, student.name, student.city \n",
      "FROM student \n",
      "WHERE (EXISTS (SELECT * \n",
      "FROM exam_marks \n",
      "WHERE exam_marks.mark IS NOT NULL AND exam_marks.student_id = student.student_id)) AND NOT (EXISTS (SELECT * \n",
      "FROM exam_marks \n",
      "WHERE exam_marks.mark < :mark_1 AND exam_marks.student_id = student.student_id)) AND student.city != (SELECT university.city \n",
      "FROM university \n",
      "WHERE university.univ_id = student.univ_id) {'mark_1': 5}\n",
      "6\n"
     ]
    },
    {
     "data": {
      "text/plain": [
       "[(10, 'Кузнецов', 'Борис', 'Брянск'),\n",
       " (82, 'Лапина', 'Элеонора', 'Джубга'),\n",
       " (88, 'Жданова', 'Ирина', 'Тверь'),\n",
       " (91, 'Блохина', 'Ираида', 'Новый Уренгой'),\n",
       " (92, 'Мельникова', 'Светлана', 'Кропоткин (Краснод.)'),\n",
       " (99, 'Борисова', 'Марина', 'Рославль')]"
      ]
     },
     "execution_count": 72,
     "metadata": {},
     "output_type": "execute_result"
    }
   ],
   "source": [
    "# 9\n",
    "# Студенты, сдававшие экзамен\n",
    "subq1 = exists().where(and_(exam_marks.c.mark != None, exam_marks.c.student_id == student.c.student_id))\n",
    "\n",
    "# Студенты, не имеющие оценок, кроме отличных\n",
    "subq2 = ~exists().where(and_(exam_marks.c.mark < 5, exam_marks.c.student_id == student.c.student_id))\n",
    "\n",
    "# Студенты проживают в городе, отличном от города университета\n",
    "subq3 = select (university.c.city)\n",
    "subq3 = subq3.where(university.c.univ_id == student.c.univ_id).scalar_subquery()\n",
    "\n",
    "s = select(student.c.student_id, student.c.surname, student.c.name, student.c.city)\n",
    "s = s.where(subq1).where(subq2).where(student.c.city != subq3)\n",
    "\n",
    "print(s, s.compile().params)\n",
    "result = conn.execute(s).fetchall()\n",
    "print(len(result))\n",
    "result"
   ]
  },
  {
   "cell_type": "code",
   "execution_count": 67,
   "metadata": {},
   "outputs": [
    {
     "name": "stdout",
     "output_type": "stream",
     "text": [
      "SELECT em.exam_id, em.student_id, em.subj_id, em.mark, date(em.exam_date) AS date_1 \n",
      "FROM exam_marks AS em, student AS st \n",
      "WHERE em.student_id = st.student_id AND st.univ_id = (SELECT univ.univ_id \n",
      "FROM university AS univ \n",
      "WHERE univ.univ_name = :univ_name_1) {'univ_name_1': 'ВГУ'}\n",
      "14\n"
     ]
    },
    {
     "data": {
      "text/plain": [
       "[(8, 116, 12, 1, '2020-05-26'),\n",
       " (11, 76, 56, 2, '2020-05-27'),\n",
       " (12, 88, 56, 5, '2019-09-02'),\n",
       " (13, 76, 12, 2, '2020-02-10'),\n",
       " (15, 62, 94, 4, '2021-06-02'),\n",
       " (17, 99, 94, 5, '2020-05-26'),\n",
       " (28, 10, 12, 5, '2019-05-29'),\n",
       " (29, 1, 43, 1, '2020-10-24'),\n",
       " (32, 65, 73, 1, '2020-02-21'),\n",
       " (75, 55, 10, 5, '2000-01-23'),\n",
       " (101, 654, 11, 4, '2019-05-30'),\n",
       " (145, 12, 10, 2, '2006-05-12'),\n",
       " (238, 12, 10, 5, '2006-06-17'),\n",
       " (639, 55, 10, None, '2019-05-29')]"
      ]
     },
     "execution_count": 67,
     "metadata": {},
     "output_type": "execute_result"
    }
   ],
   "source": [
    "#10\n",
    "em = exam_marks.alias('em')\n",
    "st = student.alias('st')\n",
    "univ = university.alias('univ')\n",
    "subq = select(univ.c.univ_id).where(univ.c.univ_name == 'ВГУ').scalar_subquery()\n",
    "s = select(em.c.exam_id, em.c.student_id, em.c.subj_id, em.c.mark, func.date(em.c.exam_date))\n",
    "s = s.where(em.c.student_id == st.c.student_id)\n",
    "s = s.where( st.c.univ_id == subq )\n",
    "print(s, s.compile().params)\n",
    "result = conn.execute(s).fetchall()\n",
    "print(len(result))\n",
    "result"
   ]
  },
  {
   "cell_type": "code",
   "execution_count": 11,
   "metadata": {},
   "outputs": [
    {
     "name": "stdout",
     "output_type": "stream",
     "text": [
      "SELECT univ.univ_name, count(st.student_id) AS count_1 \n",
      "FROM university AS univ, student AS st \n",
      "WHERE univ.univ_id = st.univ_id AND (SELECT min(em.mark) AS min_1 \n",
      "FROM exam_marks AS em \n",
      "WHERE em.student_id = st.student_id) = :param_1 GROUP BY univ.univ_name {'param_1': 5}\n",
      "4\n"
     ]
    },
    {
     "data": {
      "text/plain": [
       "[('ВГУ', 4), ('МГТУ им. Баумана', 1), ('МГУ', 1), ('ТГУ', 1)]"
      ]
     },
     "execution_count": 11,
     "metadata": {},
     "output_type": "execute_result"
    }
   ],
   "source": [
    "# 11\n",
    "univ = university.alias('univ')\n",
    "em = exam_marks.alias('em')\n",
    "st = student.alias('st')\n",
    "subq = select (func.min(em.c.mark))\n",
    "subq = subq.where(em.c.student_id == st.c.student_id).scalar_subquery()\n",
    "s = select (univ.c.univ_name, func.count(st.c.student_id))\n",
    "s = s.where (univ.c.univ_id == st.c.univ_id)\n",
    "s = s.where(5 == subq)\n",
    "s = s.group_by(univ.c.univ_name)\n",
    "print(s, s.compile().params)\n",
    "result = conn.execute(s).fetchall()\n",
    "print(len(result))\n",
    "result"
   ]
  },
  {
   "cell_type": "code",
   "execution_count": 22,
   "metadata": {},
   "outputs": [
    {
     "name": "stdout",
     "output_type": "stream",
     "text": [
      "SELECT st.student_id, st.surname || :surname_1 || st.name AS anon_1 \n",
      "FROM student AS st \n",
      "WHERE EXISTS (SELECT em.exam_id, em.student_id \n",
      "FROM exam_marks AS em \n",
      "WHERE em.mark < (SELECT avg(em2.mark) AS avg_mark \n",
      "FROM exam_marks AS em2) AND em.student_id = st.student_id AND em.subj_id = :subj_id_1)\n",
      "3\n"
     ]
    },
    {
     "data": {
      "text/plain": [
       "[(12, 'Зайцева Ольга'), (15, 'Ордуханян Рафаэль'), (97, 'Вишнякова Анжела')]"
      ]
     },
     "execution_count": 22,
     "metadata": {},
     "output_type": "execute_result"
    }
   ],
   "source": [
    "# 12\n",
    "st = student.alias('st')\n",
    "em = exam_marks.alias('em')\n",
    "em2 = exam_marks.alias('em2')\n",
    "\n",
    "subq = exists(em.c.exam_id, em.c.student_id)\n",
    "subq = subq.where(em.c.mark < select(func.avg(em2.c.mark).label('avg_mark')).scalar_subquery())\n",
    "subq = subq.where(em.c.student_id == st.c.student_id)\n",
    "subq = subq.where(em.c.subj_id == 10)\n",
    "s = select (st.c.student_id, st.c.surname + ' ' + st.c.name)\n",
    "s = s.where(subq)\n",
    "\n",
    "print(s)\n",
    "result = conn.execute(s).fetchall()\n",
    "print(len(result))\n",
    "result"
   ]
  },
  {
   "cell_type": "code",
   "execution_count": 20,
   "metadata": {},
   "outputs": [
    {
     "name": "stdout",
     "output_type": "stream",
     "text": [
      "SELECT count(st.student_id) AS count_1 \n",
      "FROM student AS st \n",
      "WHERE (EXISTS (SELECT em.exam_id \n",
      "FROM exam_marks AS em \n",
      "WHERE st.student_id = em.student_id AND em.mark < :mark_1)) AND (EXISTS (SELECT univ.univ_id \n",
      "FROM university AS univ \n",
      "WHERE univ.univ_id = st.univ_id AND st.city != univ.city))\n",
      "1\n"
     ]
    },
    {
     "data": {
      "text/plain": [
       "(17,)"
      ]
     },
     "execution_count": 20,
     "metadata": {},
     "output_type": "execute_result"
    }
   ],
   "source": [
    "# 13\n",
    "st = student.alias('st')\n",
    "em = exam_marks.alias('em')\n",
    "univ = university.alias('univ')\n",
    "subq_1 = exists(em.c.exam_id).where(st.c.student_id == em.c.student_id)\n",
    "subq_1 = subq_1.where(em.c.mark < 3)\n",
    "subq_2 = exists(univ.c.univ_id).where(univ.c.univ_id == st.c.univ_id)\n",
    "subq_2 = subq_2.where(st.c.city != univ.c.city)\n",
    "s = select ( func.count(st.c.student_id) ).where(subq_1).where(subq_2)\n",
    "print(s)\n",
    "result = conn.execute(s).fetchone()\n",
    "print(len(result))\n",
    "result"
   ]
  },
  {
   "cell_type": "code",
   "execution_count": 14,
   "metadata": {},
   "outputs": [
    {
     "name": "stdout",
     "output_type": "stream",
     "text": [
      "SELECT count(st.student_id) AS count_1 \n",
      "FROM student AS st \n",
      "WHERE NOT (EXISTS (SELECT em.mark \n",
      "FROM exam_marks AS em \n",
      "WHERE em.student_id = st.student_id))\n",
      "1\n"
     ]
    },
    {
     "data": {
      "text/plain": [
       "(54,)"
      ]
     },
     "execution_count": 14,
     "metadata": {},
     "output_type": "execute_result"
    }
   ],
   "source": [
    "# 14\n",
    "st = student.alias('st')\n",
    "em = exam_marks.alias('em')\n",
    "subq = ~exists(em.c.mark).where(em.c.student_id == st.c.student_id)\n",
    "s = select(func.count(st.c.student_id)).where(subq)\n",
    "print(s)\n",
    "result = conn.execute(s).fetchone()\n",
    "print(len(result))\n",
    "result"
   ]
  },
  {
   "cell_type": "code",
   "execution_count": 16,
   "metadata": {},
   "outputs": [
    {
     "name": "stdout",
     "output_type": "stream",
     "text": [
      "SELECT min(date(em.exam_date)) AS min_1, max(date(em.exam_date)) AS max_1, julianday(max(date(em.exam_date))) - julianday(min(date(em.exam_date))) AS anon_1 \n",
      "FROM exam_marks AS em \n",
      "WHERE date(em.exam_date) LIKE :date_1 {'date_1': '2020-%'}\n",
      "1\n"
     ]
    },
    {
     "data": {
      "text/plain": [
       "[('2020-02-10', '2020-12-03', 297.0)]"
      ]
     },
     "execution_count": 16,
     "metadata": {},
     "output_type": "execute_result"
    }
   ],
   "source": [
    "# 15\n",
    "\n",
    "em = exam_marks.alias('em')\n",
    "\n",
    "s = select(func.min(func.date(em.c.exam_date)), func.max(func.date(em.c.exam_date)), \n",
    "           func.julianday(func.max(func.date(em.c.exam_date))) - func.julianday(func.min(func.date(em.c.exam_date))))\n",
    "s = s.where(func.date(em.c.exam_date).like(\"2020-%\"))\n",
    "\n",
    "print(s, s.compile().params)\n",
    "result = conn.execute(s).fetchall()\n",
    "print(len(result))\n",
    "result"
   ]
  }
 ],
 "metadata": {
  "kernelspec": {
   "display_name": "Python 3",
   "language": "python",
   "name": "python3"
  },
  "language_info": {
   "codemirror_mode": {
    "name": "ipython",
    "version": 3
   },
   "file_extension": ".py",
   "mimetype": "text/x-python",
   "name": "python",
   "nbconvert_exporter": "python",
   "pygments_lexer": "ipython3",
   "version": "3.7.6"
  }
 },
 "nbformat": 4,
 "nbformat_minor": 5
}
