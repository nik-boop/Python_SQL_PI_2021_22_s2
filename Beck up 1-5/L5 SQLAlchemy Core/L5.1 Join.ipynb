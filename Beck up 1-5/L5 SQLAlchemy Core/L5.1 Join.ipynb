{
 "cells": [
  {
   "cell_type": "markdown",
   "id": "d9ba0397",
   "metadata": {},
   "source": [
    "<img src=\"../Img/Python_SQL_PI.png\" style=\"width:100%\">\n",
    "\n",
    "\n",
    "<p style=\"font-size:22px;text-align:center\">Семинар 5.1. Соединение таблиц. Оператор JOIN</p> \n",
    "\n",
    "<a id = Home></a>\n",
    "\n",
    "**11 апреля 2022 года, пн**<br>\n",
    "10:10 - 11:40<br>\n",
    "Щ38/509(кк) (ул. Щербаковская, 38)<br>\n",
    "ПИ20-1, ПИ20-2, ПИ20-3, ПИ20-4, ПИ20-5, ПИ20-6 (4 подгруппа)<br>\n",
    "\n",
    "11:50 - 13:20<br>\n",
    "Щ38/509(кк) (ул. Щербаковская, 38)<br>\n",
    "Поток:ПИ20-1, ПИ20-2, ПИ20-3, ПИ20-4, ПИ20-5, ПИ20-6(3 подгруппа)\n",
    "\n",
    "\n",
    "**14 апреля 2022 года, чт**<br>\n",
    "17:20 - 18:50<br>\n",
    "В4/3411(кк) (4-й Вешняковский проезд, 4)<br>\n",
    "ПИ20-1, ПИ20-2, ПИ20-3, ПИ20-4, ПИ20-5, ПИ20-6 (2 подгруппа)<br>\n",
    "\n",
    "**21 апреля 2022 года, чт**<br>\n",
    "18:55 - 20:25<br>\n",
    "В4/3411(кк) (4-й Вешняковский проезд, 4)<br>\n",
    "ПИ20-1, ПИ20-2, ПИ20-3, ПИ20-4, ПИ20-5, ПИ20-6 (1 подгруппа)<br>"
   ]
  },
  {
   "cell_type": "markdown",
   "id": "5f55c05f",
   "metadata": {},
   "source": [
    "\n",
    "```\n",
    "STUDENT\n",
    "STUDENT_ID — числовой код, идентифицирующий студента (идентификатор студента),\n",
    "SURNAME — фамилия студента,\n",
    "NAME — имя студента,\n",
    "STIPEND — стипендия, которую получает студент,\n",
    "KURS — курс, на котором учится студент,\n",
    "CITY — город, в котором живет студент,\n",
    "BIRTHDAY — дата рождения студента,\n",
    "UNIV_ID — идентификатор университета, в котором учится студент.\n",
    "\n",
    "\n",
    "LECTURER\n",
    "LECTURER_ID — идентификатор преподавателя,\n",
    "SURNAME — фамилия преподавателя,\n",
    "NAME — имя преподавателя,\n",
    "CITY — город, в котором живет преподаватель,\n",
    "UNIV_ID — идентификатор университета, в котором работает преподаватель\n",
    "\n",
    "\n",
    "SUBJECT\n",
    "SUBJ_ID — идентификатор предмета обучения,\n",
    "SUBJ_NAME — наименование предмета обучения,\n",
    "HOUR — количество часов, отводимых на изучение предмета,\n",
    "SEMESTER — семестр, в котором изучается данный предмет.\n",
    "\n",
    "\n",
    "UNIVERSITY\n",
    "UNIV_ID — идентификатор университета,\n",
    "UNIV_NAME — название университета,\n",
    "RATING — рейтинг университета,\n",
    "CITY — город, в котором расположен университет.\n",
    "\n",
    "\n",
    "EXAM_MARKS\n",
    "EXAM_ID — идентификатор экзамена,\n",
    "STUDENT_ID — идентификатор студента,\n",
    "SUBJ_ID — идентификатор предмета обучения,\n",
    "MARK — экзаменационная оценка,\n",
    "EXAM_DATE — дата экзамена.\n",
    "\n",
    "\n",
    "SUBJ_LECT\n",
    "LECTURER_ID — идентификатор преподавателя,\n",
    "SUBJ_ID — идентификатор предмета обучения.\n",
    "```\n",
    "\n",
    "<img src=\"../Img/Students_Schema.png\" style=\"width:60%\">"
   ]
  },
  {
   "cell_type": "code",
   "execution_count": 1,
   "id": "3702f0a2",
   "metadata": {},
   "outputs": [],
   "source": [
    "#! pip install sqlalchemy"
   ]
  },
  {
   "cell_type": "code",
   "execution_count": 1,
   "id": "3898c0b6",
   "metadata": {},
   "outputs": [],
   "source": [
    "from sqlalchemy import MetaData, Table, create_engine, select, and_, or_, not_\n",
    "from sqlalchemy.sql import func, distinct, exists"
   ]
  },
  {
   "cell_type": "code",
   "execution_count": 2,
   "id": "9f28c078",
   "metadata": {},
   "outputs": [],
   "source": [
    "engine = create_engine('sqlite:///../Data/Students.db')\n",
    "metadata_obj = MetaData() # Объект-контейнер, содержит информацию о схеме данных\n",
    "metadata_obj.reflect(bind=engine) # Отображение БД"
   ]
  },
  {
   "cell_type": "markdown",
   "id": "53f78da1",
   "metadata": {},
   "source": [
    "Создание объектов таблиц"
   ]
  },
  {
   "cell_type": "code",
   "execution_count": 10,
   "id": "d9596320",
   "metadata": {},
   "outputs": [],
   "source": [
    "exam_marks=Table(\"exam_marks\", metadata_obj, autoload=True, autoload_with=\"engine\")\n",
    "lecturer=Table(\"lecturer\", metadata_obj, autoload=True, autoload_with=\"engine\")\n",
    "student=Table(\"student\", metadata_obj, autoload=True, autoload_with=\"engine\")\n",
    "subj_lect=Table(\"subj_lect\", metadata_obj, autoload=True, autoload_with=\"engine\")\n",
    "subject=Table(\"subject\", metadata_obj, autoload=True, autoload_with=\"engine\")\n",
    "university=Table(\"university\", metadata_obj, autolad=True, autolad_with=\"engine\")"
   ]
  },
  {
   "cell_type": "code",
   "execution_count": 11,
   "id": "a3572e38",
   "metadata": {},
   "outputs": [],
   "source": [
    "conn=engine.connect() # Соединение"
   ]
  },
  {
   "cell_type": "markdown",
   "id": "9720d8de",
   "metadata": {},
   "source": [
    "<img src=../Img/pencil.png style=\"width:190px;height:190px\">\n",
    "<p style=\"background-color:powderblue; font-size:125%; color: rebeccapurple;\">Выполните задания</p>\n",
    "<p>Выполните задания в Jupyter Notebook</p>\n"
   ]
  },
  {
   "cell_type": "markdown",
   "id": "1fd0337c",
   "metadata": {},
   "source": [
    "# Решение"
   ]
  },
  {
   "cell_type": "code",
   "execution_count": 1,
   "id": "8ae57cac",
   "metadata": {
    "scrolled": false
   },
   "outputs": [],
   "source": [
    "# Ваш код здесь\n",
    "\n",
    "#1\n",
    "\n"
   ]
  }
 ],
 "metadata": {
  "kernelspec": {
   "display_name": "Python 3 (ipykernel)",
   "language": "python",
   "name": "python3"
  },
  "language_info": {
   "codemirror_mode": {
    "name": "ipython",
    "version": 3
   },
   "file_extension": ".py",
   "mimetype": "text/x-python",
   "name": "python",
   "nbconvert_exporter": "python",
   "pygments_lexer": "ipython3",
   "version": "3.9.7"
  }
 },
 "nbformat": 4,
 "nbformat_minor": 5
}
