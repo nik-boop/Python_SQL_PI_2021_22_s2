{
 "cells": [
  {
   "cell_type": "markdown",
   "id": "33d8a869",
   "metadata": {},
   "source": [
    "<img src=\"../Img/Python_SQL_PI.png\" style=\"width:100%\">\n",
    "\n",
    "\n",
    "<p style=\"font-size:22px;text-align:center\">Семинар 4.2. Подзапросы</p> \n",
    "\n",
    "<a id = Home></a>\n",
    "\n",
    "24 марта 2022 года, чт<br>\n",
    "Поток: ПИ20-1, ПИ20-2, ПИ20-3, ПИ20-4, ПИ20-5, ПИ20-6 (2 подгруппа)<br>\n",
    "\n",
    "\n",
    "28 марта 2022 года, пн<br>\n",
    "ПИ20-1, ПИ20-2, ПИ20-3, ПИ20-4, ПИ20-5, ПИ20-6 (3 подгруппа)<br>\n",
    "ПИ20-1, ПИ20-2, ПИ20-3, ПИ20-4, ПИ20-5, ПИ20-6 (4 подгруппа)<br>\n",
    "\n",
    "31 марта 2022 года, чт<br>\n",
    "ПИ20-1, ПИ20-2, ПИ20-3, ПИ20-4, ПИ20-5, ПИ20-6 (1 подгруппа)"
   ]
  },
  {
   "cell_type": "markdown",
   "id": "c4a958e1",
   "metadata": {},
   "source": [
    "\n",
    "```\n",
    "STUDENT\n",
    "STUDENT_ID — числовой код, идентифицирующий студента (идентификатор студента),\n",
    "SURNAME — фамилия студента,\n",
    "NAME — имя студента,\n",
    "STIPEND — стипендия, которую получает студент,\n",
    "KURS — курс, на котором учится студент,\n",
    "CITY — город, в котором живет студент,\n",
    "BIRTHDAY — дата рождения студента,\n",
    "UNIV_ID — идентификатор университета, в котором учится студент.\n",
    "\n",
    "\n",
    "LECTURER\n",
    "LECTURER_ID — идентификатор преподавателя,\n",
    "SURNAME — фамилия преподавателя,\n",
    "NAME — имя преподавателя,\n",
    "CITY — город, в котором живет преподаватель,\n",
    "UNIV_ID — идентификатор университета, в котором работает преподаватель\n",
    "\n",
    "\n",
    "SUBJECT\n",
    "SUBJ_ID — идентификатор предмета обучения,\n",
    "SUBJ_NAME — наименование предмета обучения,\n",
    "HOUR — количество часов, отводимых на изучение предмета,\n",
    "SEMESTER — семестр, в котором изучается данный предмет.\n",
    "\n",
    "\n",
    "UNIVERSITY\n",
    "UNIV_ID — идентификатор университета,\n",
    "UNIV_NAME — название университета,\n",
    "RATING — рейтинг университета,\n",
    "CITY — город, в котором расположен университет.\n",
    "\n",
    "\n",
    "EXAM_MARKS\n",
    "EXAM_ID — идентификатор экзамена,\n",
    "STUDENT_ID — идентификатор студента,\n",
    "SUBJ_ID — идентификатор предмета обучения,\n",
    "MARK — экзаменационная оценка,\n",
    "EXAM_DATE — дата экзамена.\n",
    "\n",
    "\n",
    "SUBJ_LECT\n",
    "LECTURER_ID — идентификатор преподавателя,\n",
    "SUBJ_ID — идентификатор предмета обучения.\n",
    "```\n",
    "\n",
    "<img src=\"../Img/Students_Schema.png\" style=\"width:60%\">"
   ]
  },
  {
   "cell_type": "markdown",
   "id": "03117d99",
   "metadata": {},
   "source": [
    "<img src=../Img/pencil.png style=\"width:190px;height:190px\">\n",
    "<p style=\"background-color:powderblue; font-size:125%; color: rebeccapurple;\">Выполните задания</p>\n",
    "<p>Выполните задания в Jupyter Notebook на тему \"Связанные подзапросы\"</p>\n",
    "\n",
    "1. Напишите запрос для получения списка студентов, которые учатся в своем городе.\n",
    "2. Напишите запрос для получения списка иногородних студентов (обучающихся не в своем городе), с последующей сортировкой по идентификаторам университетов и курсам.\n",
    "3. Напишите запрос для получения списка преподавателей, работающих не в своем городе, с последующей сортировкой по идентификаторам университетов и городам проживания преподавателей.\n",
    "4. Напишите запрос для получения списка предметов, на изучение которых отведено максимальное количество часов среди всех предметов, изучаемых в том же семестре. Список упорядочить по семестрам.\n",
    "5. Напишите запрос для получения списка студентов, получающих стипендию, превосходящую среднее значение стипендии на их курсе.\n",
    "6. Напишите запрос для получения списка студентов, получающих минимальную стипендию в своем университете, с последующей сортировкой по значениям идентификатора университета и стипендии.\n",
    "7. Напишите запрос для получения списка университетов, в которых учится более 5 студентов, с последующей сортировкой по рейтингам.\n",
    "8. Напишите запрос для получения списка университетов, в которых работает более 5 преподавателей, с последующей сортировкой по рейтингам университетов.\n",
    "9. Напишите запрос для получения списка отличников (студентов, получивших только отличные оценки), с последующей сортировкой по идентификаторам университетов и курсам.\n",
    "10. Напишите запрос для получения списка неуспевающих студентов (получивших хотя бы одну неудовлетворительную оценку), с последующей сортировкой по идентификаторам университетов и курсам."
   ]
  },
  {
   "cell_type": "markdown",
   "id": "bea17306",
   "metadata": {},
   "source": [
    "<p style=\"background-color:powderblue; font-size:125%; color: rebeccapurple;\">Выполните задания</p>\n",
    "<p>Выполните задания в Jupyter Notebook.</p>\n",
    "\n",
    "1. Напишите команду SELECT, использующую связанные подзапросы и выполняющую вывод имен и идентификаторов студентов, у которых стипендия совпадает с максимальным значением стипендии для города, в котором живет студент.\n",
    "6. Напишите запрос, который позволяет вывести имена и идентификаторы всех студентов, о которых точно известно, что они проживают в городе, где нет ни одного университета.\n",
    "7. Напишите два запроса, которые позволяют вывести имена и идентификаторы всех студентов, о которых точно известно, что они проживают не в том городе, где расположен их университет: один запрос с использованием связанного подзапроса, а другой с использованием соединения."
   ]
  },
  {
   "cell_type": "markdown",
   "id": "ac44930f",
   "metadata": {},
   "source": [
    "<p style=\"background-color:powderblue; font-size:125%; color: rebeccapurple;\">Выполните задания</p>\n",
    "<p>Выполните задания в Jupyter Notebook на тему \"Использование оператора EXISTS\".</p>\n",
    "\n",
    "1. Напишите запрос с EXISTS, позволяющий вывести данные обо всех студентах обучающихся в вузах, имеющих рейтинг выше 300.\n",
    "\n",
    "2. Напишите предыдущий запрос, используя соединения.\n",
    "\n",
    "3. Напишите запрос с EXISTS, выбирающий сведения о каждом студенте, для которого в городе его проживания имеется хотя бы один университет, в котором он не учится.\n",
    "\n",
    "4. Напишите запрос, выбирающий из таблицы SUBJECT данные о названиях предметов обучения, экзамены по которым сданы более чем одним студентом.\n",
    "\n",
    "5. Напишите запрос для получения списка городов проживания студентов, в которых есть хотя бы один университет."
   ]
  },
  {
   "cell_type": "code",
   "execution_count": 3,
   "id": "3a916508",
   "metadata": {},
   "outputs": [],
   "source": [
    "#! pip install sqlalchemy"
   ]
  },
  {
   "cell_type": "code",
   "execution_count": 4,
   "id": "9713cfb8",
   "metadata": {},
   "outputs": [],
   "source": [
    "from sqlalchemy import MetaData, Table, create_engine, select, and_, or_, not_\n",
    "from sqlalchemy.sql import func"
   ]
  },
  {
   "cell_type": "code",
   "execution_count": 5,
   "id": "784674a4",
   "metadata": {},
   "outputs": [],
   "source": [
    "engine = create_engine('sqlite:///../Data/Students.db')\n",
    "metadata_obj = MetaData() # Объект-контейнер, содержит информацию о схеме данных\n",
    "metadata_obj.reflect(bind=engine) # Отображение БД\n",
    "# Вызов метода reflect() приводит к включению в объект metadata_obj словаря всех таблиц БД.\n",
    "conn=engine.connect() # Соединение"
   ]
  },
  {
   "cell_type": "code",
   "execution_count": 6,
   "id": "bd3de1f1",
   "metadata": {},
   "outputs": [
    {
     "data": {
      "text/plain": [
       "dict_keys(['city', 'exam_marks', 'student', 'university', 'subject', 'lecturer', 'subj_lect'])"
      ]
     },
     "execution_count": 6,
     "metadata": {},
     "output_type": "execute_result"
    }
   ],
   "source": [
    "# Таблицы в БД\n",
    "metadata_obj.tables.keys()"
   ]
  },
  {
   "cell_type": "markdown",
   "id": "7e765e7d",
   "metadata": {},
   "source": [
    "Создание объектов таблиц"
   ]
  },
  {
   "cell_type": "code",
   "execution_count": 7,
   "id": "5c108e09",
   "metadata": {},
   "outputs": [],
   "source": [
    "exam_marks=Table(\"exam_marks\", metadata_obj, autoload=True, autoload_with=\"engine\")\n",
    "lecturer=Table(\"lecturer\", metadata_obj, autoload=True, autoload_with=\"engine\")\n",
    "student=Table(\"student\", metadata_obj, autoload=True, autoload_with=\"engine\")\n",
    "subj_lect=Table(\"subj_lect\", metadata_obj, autoload=True, autoload_with=\"engine\")\n",
    "subject=Table(\"subject\", metadata_obj, autoload=True, autoload_with=\"engine\")\n",
    "university=Table(\"university\", metadata_obj, autolad=True, autolad_with=\"engine\")"
   ]
  },
  {
   "cell_type": "markdown",
   "id": "6601fea2",
   "metadata": {},
   "source": [
    "# Решение"
   ]
  },
  {
   "cell_type": "code",
   "execution_count": 9,
   "id": "119f1111",
   "metadata": {
    "scrolled": false
   },
   "outputs": [
    {
     "name": "stdout",
     "output_type": "stream",
     "text": [
      "SELECT student.student_id, student.surname, student.name, student.stipend, student.kurs, student.city, student.birthday, student.univ_id \n",
      "FROM student \n",
      "WHERE student.city != (SELECT university.city \n",
      "FROM university \n",
      "WHERE university.univ_id = student.univ_id) ORDER BY student.univ_id, student.kurs\n",
      "79\n"
     ]
    },
    {
     "data": {
      "text/plain": [
       "[(1, 'Иванов', 'Иван', 150, 1, 'Орел', datetime.datetime(2002, 12, 3, 0, 0), 10),\n",
       " (78, 'Агафонов', 'Василий', 150, 1, 'Грозный', datetime.datetime(1994, 10, 29, 0, 0), 10),\n",
       " (99, 'Борисова', 'Марина', 150, 1, 'Рославль', datetime.datetime(1995, 8, 7, 0, 0), 10),\n",
       " (113, 'Аксенов', 'Валерий', 150, 1, 'Мурманск', datetime.datetime(1994, 10, 27, 0, 0), 10),\n",
       " (10, 'Кузнецов', 'Борис', 0, 2, 'Брянск', datetime.datetime(2001, 12, 8, 0, 0), 10),\n",
       " (12, 'Зайцева', 'Ольга', 250, 2, 'Липецк', datetime.datetime(2001, 5, 1, 0, 0), 10),\n",
       " (66, 'Некрасова', 'Вероника', 250, 2, 'Иркутск', datetime.datetime(2004, 8, 23, 0, 0), 10),\n",
       " (3, 'Петров', 'Петр', 200, 3, 'Курск', datetime.datetime(2000, 12, 1, 0, 0), 10),\n",
       " (62, 'Семенова', 'Вероника', 0, 3, 'Вологда', datetime.datetime(2003, 10, 4, 0, 0), 10),\n",
       " (88, 'Жданова', 'Ирина', 200, 3, 'Тверь', datetime.datetime(2002, 3, 2, 0, 0), 10)]"
      ]
     },
     "execution_count": 9,
     "metadata": {},
     "output_type": "execute_result"
    }
   ],
   "source": [
    "# Ваш код здесь\n",
    "\n",
    "#2\n",
    "\n",
    "\"\"\"\n",
    "Напишите запрос для получения списка иногородних студентов (обучающихся не в своем городе), \n",
    "с последующей сортировкой по идентификаторам университетов и курсам.\n",
    "\"\"\"\n",
    "\n",
    "sq = select(university.c.city)\n",
    "sq = sq.where(university.c.univ_id == student.c.univ_id).scalar_subquery()\n",
    "\n",
    "s = select(student)\n",
    "s = s.where(student.c.city != sq)\n",
    "s = s.order_by(student.c.univ_id, student.c.kurs)\n",
    "print(s)\n",
    "result = conn.execute(s).fetchall()\n",
    "print(len(result))\n",
    "result[:10]"
   ]
  },
  {
   "cell_type": "code",
   "execution_count": 11,
   "id": "016fdd14",
   "metadata": {
    "scrolled": true
   },
   "outputs": [
    {
     "name": "stdout",
     "output_type": "stream",
     "text": [
      "SELECT lecturer.lecturer_id, lecturer.surname, lecturer.name, lecturer.city, lecturer.univ_id \n",
      "FROM lecturer \n",
      "WHERE lecturer.city != (SELECT university.city \n",
      "FROM university \n",
      "WHERE university.univ_id = lecturer.univ_id) ORDER BY lecturer.univ_id, lecturer.city\n",
      "24\n"
     ]
    },
    {
     "data": {
      "text/plain": [
       "[(2, 'Зайцева', 'Юлия', 'Белгород', 10),\n",
       " (13, 'Зыкова', 'Оксана', 'Калач', 10),\n",
       " (19, 'Алексеев', 'Елисей', 'Мценск', 10),\n",
       " (328, 'Сорокин', 'Андрей', 'Орел', 10),\n",
       " (6, 'Максимова', 'Иванна', 'Сковородино', 10),\n",
       " (3, 'Мамонтова', 'Акулина', 'Троицк (Моск.)', 11),\n",
       " (20, 'Тихонов', 'Ладомир', 'Кропоткин (Краснод.)', 15),\n",
       " (22, 'Беспалов', 'Юлиан', 'Рыбинск', 15),\n",
       " (9, 'Крюкова', 'Людмила', 'Анива', 18),\n",
       " (4, 'Богданова', 'Оксана', 'Всеволожск', 18)]"
      ]
     },
     "execution_count": 11,
     "metadata": {},
     "output_type": "execute_result"
    }
   ],
   "source": [
    "'''3 Напишите запрос для получения списка преподавателей, работающих не в\n",
    "своем городе, с последующей сортировкой\n",
    "по идентификаторам университетов и городам проживания преподавателей. '''\n",
    "\n",
    "sq = select(university.c.city)\n",
    "sq = sq.where(university.c.univ_id == lecturer.c.univ_id).scalar_subquery()\n",
    "\n",
    "s = select(lecturer)\n",
    "s = s.where(lecturer.c.city != sq)\n",
    "s = s.order_by(lecturer.c.univ_id, lecturer.c.city)\n",
    "\n",
    "print(s)\n",
    "result = conn.execute(s).fetchall()\n",
    "print(len(result))\n",
    "result[:10]"
   ]
  },
  {
   "cell_type": "code",
   "execution_count": 14,
   "id": "fd2cfbd0",
   "metadata": {},
   "outputs": [
    {
     "name": "stdout",
     "output_type": "stream",
     "text": [
      "SELECT su1.subj_id, su1.subj_name, su1.hour, su1.semester \n",
      "FROM subject AS su1 \n",
      "WHERE su1.hour = (SELECT max(su2.hour) AS max_1 \n",
      "FROM subject AS su2 \n",
      "WHERE su2.semester = su1.semester)\n",
      "5\n"
     ]
    },
    {
     "data": {
      "text/plain": [
       "[(10, 'Информатика', 56, 1),\n",
       " (23, 'Теория вероятностей и математическая статистика', 72, 4),\n",
       " (43, 'Математика', 56, 2),\n",
       " (73, 'Физкультура', 34, 5),\n",
       " (94, 'Английский язык', 56, 3)]"
      ]
     },
     "execution_count": 14,
     "metadata": {},
     "output_type": "execute_result"
    }
   ],
   "source": [
    "\"\"\"\n",
    "4. Напишите запрос для получения списка предметов, на изучение которых отведено \n",
    "максимальное количество часов среди всех предметов, изучаемых в том же семестре.\n",
    "Список упорядочить по семестрам.\n",
    "\"\"\"\n",
    "\n",
    "su1 = subject.alias('su1')\n",
    "su2 = subject.alias('su2')\n",
    "\n",
    "subq = select(func.max(su2.c.hour))\n",
    "subq = subq.where(su2.c.semester == su1.c.semester).scalar_subquery()\n",
    "\n",
    "s = select(su1)\n",
    "s = s.where(su1.c.hour == subq)\n",
    "\n",
    "print(s)\n",
    "result = conn.execute(s).fetchall()\n",
    "print(len(result))\n",
    "result[:10]"
   ]
  },
  {
   "cell_type": "code",
   "execution_count": 15,
   "id": "612e7c2a",
   "metadata": {},
   "outputs": [
    {
     "name": "stdout",
     "output_type": "stream",
     "text": [
      "SELECT st1.surname, st1.name, st1.kurs, st1.stipend \n",
      "FROM student AS st1 \n",
      "WHERE st1.stipend > (SELECT avg(st2.stipend) AS avg_1 \n",
      "FROM student AS st2 \n",
      "WHERE st2.kurs = st1.kurs)\n",
      "54\n"
     ]
    },
    {
     "data": {
      "text/plain": [
       "[('Иванов', 'Иван', 1, 150),\n",
       " ('Петров', 'Петр', 3, 200),\n",
       " ('Сидоров', 'Вадим', 4, 150),\n",
       " ('Зайцева', 'Ольга', 2, 250),\n",
       " ('Белкин', 'Вадим', 5, 250),\n",
       " ('Жук', 'Оксана', 1, 250),\n",
       " ('Некрасова', 'Вероника', 2, 250),\n",
       " ('Казакова', 'Ольга', 4, 250),\n",
       " ('Миронова', 'Анна', 2, 200),\n",
       " ('Кондрат', 'Синицин', 4, 200)]"
      ]
     },
     "execution_count": 15,
     "metadata": {},
     "output_type": "execute_result"
    }
   ],
   "source": [
    "\"\"\"\n",
    "5. Напишите запрос для получения списка студентов, получающих стипендию,\n",
    "превосходящую среднее значение стипендии на их курсе.\n",
    "\"\"\"\n",
    "\n",
    "st1 = student.alias('st1')\n",
    "st2 = student.alias('st2')\n",
    "\n",
    "subq = select(func.avg(st2.c.stipend))\n",
    "subq = subq.where(st2.c.kurs == st1.c.kurs).scalar_subquery()\n",
    "\n",
    "s = select(st1.c.surname, st1.c.name, st1.c.kurs, st1.c.stipend)\n",
    "s = s.where(st1.c.stipend > subq)\n",
    "\n",
    "print(s)\n",
    "result = conn.execute(s).fetchall()\n",
    "print(len(result))\n",
    "result[:10]"
   ]
  },
  {
   "cell_type": "code",
   "execution_count": 17,
   "id": "572af196",
   "metadata": {},
   "outputs": [
    {
     "name": "stdout",
     "output_type": "stream",
     "text": [
      "SELECT st1.student_id, st1.surname, st1.name, st1.stipend, st1.kurs, st1.city, st1.birthday, st1.univ_id \n",
      "FROM student AS st1 \n",
      "WHERE st1.stipend = (SELECT min(st2.stipend) AS min_1 \n",
      "FROM student AS st2 \n",
      "WHERE st2.univ_id = st1.univ_id AND st2.stipend > :stipend_1) ORDER BY st1.univ_id, st1.stipend\n",
      "20\n"
     ]
    },
    {
     "data": {
      "text/plain": [
       "[(65, 'Сергеева', 'Фёкла', 100, 5, None, datetime.datetime(2000, 2, 19, 0, 0), 10),\n",
       " (76, 'Мельникова', 'Дарья', 100, 5, 'Архангельск', datetime.datetime(2002, 8, 1, 0, 0), 10),\n",
       " (116, 'Федоров', 'Гостомысл', 100, 4, 'Новый Уренгой', datetime.datetime(2000, 11, 16, 0, 0), 10),\n",
       " (123, 'Веселов', 'Тимур', 150, 1, 'Невинномысск', datetime.datetime(1998, 4, 28, 0, 0), 11),\n",
       " (57, 'Кудряшова', 'Вера', 100, 5, 'Нижневартовск', datetime.datetime(2002, 2, 18, 0, 0), 14),\n",
       " (63, 'Пак', 'Ирина', 100, 1, 'Магадан', datetime.datetime(2000, 8, 22, 0, 0), 15),\n",
       " (61, 'Соколова', 'Ия', 100, 1, 'Колпашево', datetime.datetime(2002, 6, 25, 0, 0), 18),\n",
       " (75, 'Игнатова', 'Зинаида', 100, 5, 'Ростов', datetime.datetime(2000, 9, 26, 0, 0), 22),\n",
       " (105, 'Антонов', 'Анатолий', 100, 1, 'Сыктывкар', datetime.datetime(1997, 4, 8, 0, 0), 22),\n",
       " (147, 'Симонов', 'Семен', 100, 5, 'Беломорск', datetime.datetime(2000, 3, 17, 0, 0), 22)]"
      ]
     },
     "execution_count": 17,
     "metadata": {},
     "output_type": "execute_result"
    }
   ],
   "source": [
    "\"\"\"\n",
    "6. Напишите запрос для получения списка студентов, \n",
    "получающих минимальную стипендию в своем университете, \n",
    "с последующей сортировкой по значениям идентификатора университета и стипендии.\n",
    "\"\"\"\n",
    "\n",
    "st1=student.alias('st1')\n",
    "st2=student.alias('st2')\n",
    "\n",
    "sb=select(func.min(st2.c.stipend))\n",
    "sb=sb.where(and_(st2.c.univ_id == st1.c.univ_id, st2.c.stipend > 0)).scalar_subquery()\n",
    "\n",
    "s = select(st1)\n",
    "s = s.where(st1.c.stipend == sb)\n",
    "s = s.order_by(st1.c.univ_id, st1.c.stipend)\n",
    "print(s)\n",
    "\n",
    "result = conn.execute(s).fetchall()\n",
    "print(len(result))\n",
    "result[:10]"
   ]
  },
  {
   "cell_type": "code",
   "execution_count": 19,
   "id": "6f017852",
   "metadata": {},
   "outputs": [
    {
     "name": "stdout",
     "output_type": "stream",
     "text": [
      "8\n"
     ]
    },
    {
     "data": {
      "text/plain": [
       "[(47, 'КФУ', None, 'Казань'),\n",
       " (10, 'ВГУ', 296, 'Воронеж'),\n",
       " (46, 'ФГБОУ \"Политех\"', 304, 'Санкт-Петербург'),\n",
       " (14, 'БГУ', 326, 'Белгород'),\n",
       " (18, 'ВГМА', 327, 'Воронеж'),\n",
       " (44, 'ФинУ', 330, 'Москва'),\n",
       " (32, 'РГУ', 416, 'Ростов'),\n",
       " (22, 'МГУ', 606, 'Москва')]"
      ]
     },
     "execution_count": 19,
     "metadata": {},
     "output_type": "execute_result"
    }
   ],
   "source": [
    "\"\"\"\n",
    "7. Напишите запрос для получения списка университетов, \n",
    "в которых учится более 5 студентов, с последующей сортировкой по рейтингам.\n",
    "\"\"\"\n",
    "\n",
    "subq = select(func.count(student.c.univ_id))\n",
    "subq = subq.where(university.c.univ_id == student.c.univ_id).scalar_subquery()\n",
    "\n",
    "s = select(university)\n",
    "s = s.where(subq > 5)\n",
    "s = s.order_by(university.c.rating)\n",
    "\n",
    "result = conn.execute(s).fetchall()\n",
    "print(len(result))\n",
    "result[:10]"
   ]
  }
 ],
 "metadata": {
  "kernelspec": {
   "display_name": "Python 3 (ipykernel)",
   "language": "python",
   "name": "python3"
  },
  "language_info": {
   "codemirror_mode": {
    "name": "ipython",
    "version": 3
   },
   "file_extension": ".py",
   "mimetype": "text/x-python",
   "name": "python",
   "nbconvert_exporter": "python",
   "pygments_lexer": "ipython3",
   "version": "3.9.7"
  }
 },
 "nbformat": 4,
 "nbformat_minor": 5
}
