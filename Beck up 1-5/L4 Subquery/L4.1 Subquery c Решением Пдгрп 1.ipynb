{
 "cells": [
  {
   "cell_type": "markdown",
   "id": "a2ba3912",
   "metadata": {},
   "source": [
    "<img src=\"../Img/Python_SQL_PI.png\" style=\"width:100%\">\n",
    "\n",
    "\n",
    "<p style=\"font-size:22px;text-align:center\">Семинар 4.1. Подзапросы</p> \n",
    "\n",
    "<a id = Home></a>\n",
    "\n",
    "17 марта 2022 года, пн<br>\n",
    "Поток: ПИ20-1, ПИ20-2, ПИ20-3, ПИ20-4, ПИ20-5, ПИ20-6 (2 подгруппа)<br>\n",
    "\n",
    "\n",
    "21 марта 2022 года, чт<br>\n",
    "ПИ20-1, ПИ20-2, ПИ20-3, ПИ20-4, ПИ20-5, ПИ20-6 (3 подгруппа)<br>\n",
    "ПИ20-1, ПИ20-2, ПИ20-3, ПИ20-4, ПИ20-5, ПИ20-6 (4 подгруппа)<br>\n",
    "\n",
    "31 марта 2022 года, чт<br>\n",
    "ПИ20-1, ПИ20-2, ПИ20-3, ПИ20-4, ПИ20-5, ПИ20-6 (1 подгруппа)"
   ]
  },
  {
   "cell_type": "markdown",
   "id": "140846a3",
   "metadata": {},
   "source": [
    "\n",
    "```\n",
    "STUDENT\n",
    "STUDENT_ID — числовой код, идентифицирующий студента (идентификатор студента),\n",
    "SURNAME — фамилия студента,\n",
    "NAME — имя студента,\n",
    "STIPEND — стипендия, которую получает студент,\n",
    "KURS — курс, на котором учится студент,\n",
    "CITY — город, в котором живет студент,\n",
    "BIRTHDAY — дата рождения студента,\n",
    "UNIV_ID — идентификатор университета, в котором учится студент.\n",
    "\n",
    "\n",
    "LECTURER\n",
    "LECTURER_ID — идентификатор преподавателя,\n",
    "SURNAME — фамилия преподавателя,\n",
    "NAME — имя преподавателя,\n",
    "CITY — город, в котором живет преподаватель,\n",
    "UNIV_ID — идентификатор университета, в котором работает преподаватель\n",
    "\n",
    "\n",
    "SUBJECT\n",
    "SUBJ_ID — идентификатор предмета обучения,\n",
    "SUBJ_NAME — наименование предмета обучения,\n",
    "HOUR — количество часов, отводимых на изучение предмета,\n",
    "SEMESTER — семестр, в котором изучается данный предмет.\n",
    "\n",
    "\n",
    "UNIVERSITY\n",
    "UNIV_ID — идентификатор университета,\n",
    "UNIV_NAME — название университета,\n",
    "RATING — рейтинг университета,\n",
    "CITY — город, в котором расположен университет.\n",
    "\n",
    "\n",
    "EXAM_MARKS\n",
    "EXAM_ID — идентификатор экзамена,\n",
    "STUDENT_ID — идентификатор студента,\n",
    "SUBJ_ID — идентификатор предмета обучения,\n",
    "MARK — экзаменационная оценка,\n",
    "EXAM_DATE — дата экзамена.\n",
    "\n",
    "\n",
    "SUBJ_LECT\n",
    "LECTURER_ID — идентификатор преподавателя,\n",
    "SUBJ_ID — идентификатор предмета обучения.\n",
    "```\n",
    "\n",
    "<img src=\"../Img/Students_Schema.png\" style=\"width:60%\">"
   ]
  },
  {
   "cell_type": "code",
   "execution_count": 1,
   "id": "87d75a97",
   "metadata": {},
   "outputs": [],
   "source": [
    "#! pip install sqlalchemy"
   ]
  },
  {
   "cell_type": "code",
   "execution_count": 39,
   "id": "11d1f701",
   "metadata": {},
   "outputs": [],
   "source": [
    "from sqlalchemy import MetaData, Table, create_engine, select, and_, or_, not_\n",
    "from sqlalchemy.sql import func, distinct, exists, text"
   ]
  },
  {
   "cell_type": "code",
   "execution_count": 2,
   "id": "d6b25ad5",
   "metadata": {},
   "outputs": [],
   "source": [
    "engine = create_engine('sqlite:///../Data/Students.db')\n",
    "metadata_obj = MetaData() # Объект-контейнер, содержит информацию о схеме данных\n",
    "metadata_obj.reflect(bind=engine) # Отображение БД\n",
    "# Вызов метода reflect() приводит к включению в объект metadata_obj словаря всех таблиц БД."
   ]
  },
  {
   "cell_type": "markdown",
   "id": "2480a07d",
   "metadata": {},
   "source": [
    "Несколько примеров получения информации о БД с помощью методов объекта ***metadata_obj***."
   ]
  },
  {
   "cell_type": "code",
   "execution_count": 3,
   "id": "0327c922",
   "metadata": {},
   "outputs": [
    {
     "data": {
      "text/plain": [
       "dict_keys(['city', 'exam_marks', 'student', 'university', 'subject', 'lecturer', 'subj_lect'])"
      ]
     },
     "execution_count": 3,
     "metadata": {},
     "output_type": "execute_result"
    }
   ],
   "source": [
    "# Таблицы в БД\n",
    "metadata_obj.tables.keys()"
   ]
  },
  {
   "cell_type": "code",
   "execution_count": 4,
   "id": "7db1390a",
   "metadata": {},
   "outputs": [
    {
     "data": {
      "text/plain": [
       "'student'"
      ]
     },
     "execution_count": 4,
     "metadata": {},
     "output_type": "execute_result"
    }
   ],
   "source": [
    "# Имя конкретной таблицы\n",
    "metadata_obj.tables['student'].name"
   ]
  },
  {
   "cell_type": "code",
   "execution_count": 5,
   "id": "d174bea6",
   "metadata": {},
   "outputs": [
    {
     "data": {
      "text/plain": [
       "['student_id',\n",
       " 'surname',\n",
       " 'name',\n",
       " 'stipend',\n",
       " 'kurs',\n",
       " 'city',\n",
       " 'birthday',\n",
       " 'univ_id']"
      ]
     },
     "execution_count": 5,
     "metadata": {},
     "output_type": "execute_result"
    }
   ],
   "source": [
    "# Столбцы конкретной таблицы\n",
    "metadata_obj.tables['student'].columns.keys()"
   ]
  },
  {
   "cell_type": "code",
   "execution_count": 6,
   "id": "a1589f11",
   "metadata": {},
   "outputs": [
    {
     "data": {
      "text/plain": [
       "Column('student_id', INTEGER(), table=<student>, primary_key=True, nullable=False)"
      ]
     },
     "execution_count": 6,
     "metadata": {},
     "output_type": "execute_result"
    }
   ],
   "source": [
    "# Информация о столбце\n",
    "metadata_obj.tables['student'].columns['student_id']"
   ]
  },
  {
   "cell_type": "code",
   "execution_count": 7,
   "id": "df3b0ad7",
   "metadata": {},
   "outputs": [
    {
     "name": "stdout",
     "output_type": "stream",
     "text": [
      "city\n",
      "subject\n",
      "university\n",
      "lecturer\n",
      "student\n",
      "exam_marks\n",
      "subj_lect\n"
     ]
    }
   ],
   "source": [
    "for t in metadata_obj.sorted_tables:\n",
    "    print(t.name)"
   ]
  },
  {
   "cell_type": "code",
   "execution_count": 8,
   "id": "d8086113",
   "metadata": {
    "scrolled": true
   },
   "outputs": [
    {
     "name": "stdout",
     "output_type": "stream",
     "text": [
      "city\n",
      "city.city_id\n",
      "city.name\n",
      "\n",
      "subject\n",
      "subject.subj_id\n",
      "subject.subj_name\n",
      "subject.hour\n",
      "subject.semester\n",
      "\n",
      "university\n",
      "university.univ_id\n",
      "university.univ_name\n",
      "university.rating\n",
      "university.city\n",
      "\n",
      "lecturer\n",
      "lecturer.lecturer_id\n",
      "lecturer.surname\n",
      "lecturer.name\n",
      "lecturer.city\n",
      "lecturer.univ_id\n",
      "\n",
      "student\n",
      "student.student_id\n",
      "student.surname\n",
      "student.name\n",
      "student.stipend\n",
      "student.kurs\n",
      "student.city\n",
      "student.birthday\n",
      "student.univ_id\n",
      "\n",
      "exam_marks\n",
      "exam_marks.exam_id\n",
      "exam_marks.student_id\n",
      "exam_marks.subj_id\n",
      "exam_marks.mark\n",
      "exam_marks.exam_date\n",
      "\n",
      "subj_lect\n",
      "subj_lect.lecturer_id\n",
      "subj_lect.subj_id\n",
      "\n"
     ]
    }
   ],
   "source": [
    "for t in metadata_obj.sorted_tables:\n",
    "    print(t.name)\n",
    "    for c in t.columns:\n",
    "        print(c)\n",
    "    print()"
   ]
  },
  {
   "cell_type": "markdown",
   "id": "bdfd962e",
   "metadata": {},
   "source": [
    "<img src=../Img/pencil.png style=\"width:190px;height:190px\">\n",
    "<p style=\"background-color:powderblue; font-size:125%; color: rebeccapurple;\">Выполните задания</p>\n",
    "<p>Выполните задания в Jupyter Notebook</p>\n",
    "\n",
    "1. С помощью подзапроса напишите запрос, выводящий список студентов, получающих максимальную стипендию, отсортировав его в алфавитном порядке по фамилиям.\n",
    "2. С помощью подзапроса напишите запрос, выводящий список студентов, получающих стипендию, превышающую среднее значение стипендии.\n",
    "3. С помощью подзапроса напишите запрос, выводящий список студентов, обучающихся в Воронеже, с последующей сортировкой по идентификаторам университетов и курсам.\n",
    "4. С помощью подзапроса напишите запрос, выводящий список предметов, на изучение которых отведено максимальное количество часов.\n",
    "5. Напишите запрос, выполняющий вывод имен и фамилий студентов, место проживания которых не совпадает с городом, в котором находится их университет.\n",
    "6. С помощью подзапроса напишите запрос, выводящий список университетов, расположенных в Москве и имеющих рейтинг больший, чем у ВГУ.\n",
    "7. С помощью связанного подзапроса напишите запрос, выполняющий вывод количества предметов, по которым экзаменовался каждый студент, сдававший более 1 предмета.\n",
    "8. С помощью связанного подзапроса покажите имена и идентификаторы студентов, у которых стипендия совпадает с максимальным значением стипендии для города студента.\n",
    "9. Напишите запрос, который позволяет вывести имена и идентификаторы всех студентов, о которых точно известно, что они проживают в городе, где нет ни одного университета.\n",
    "10. Напишите два запроса, которые позволяют вывести имена и идентификаторы всех студентов, о которых точно известно, что они проживают не в том городе, где расположен их университет: один запрос с использованием связанного подзапроса, а другой с использованием соединения.\n",
    "11. С помощью EXISTS напишите запрос, позволяющий вывести данные обо всех студентах обучающихся в вузах, имеющих рейтинг выше 300.\n",
    "12. Напишите предыдущий запрос, используя соединения.\n",
    "13. С помощью EXISTS напишите запрос, позволяющий выбрать сведения о каждом студенте, для которого в городе его проживания имеется хотя бы один университет, в котором он не учится.\n",
    "14. Напишите запрос, выбирающий из таблицы SUBJECT данные о названиях предметов обучения, экзамены по которым сданы более чем одним студентом.\n",
    "15. Напишите запрос для получения списка городов проживания студентов, в которых есть хотя бы один университет."
   ]
  },
  {
   "cell_type": "markdown",
   "id": "cb827360",
   "metadata": {},
   "source": [
    "Создание объектов таблиц"
   ]
  },
  {
   "cell_type": "code",
   "execution_count": 9,
   "id": "52e7748b",
   "metadata": {},
   "outputs": [],
   "source": [
    "exam_marks=Table(\"exam_marks\", metadata_obj, autoload=True, autoload_with=\"engine\")\n",
    "lecturer=Table(\"lecturer\", metadata_obj, autoload=True, autoload_with=\"engine\")\n",
    "student=Table(\"student\", metadata_obj, autoload=True, autoload_with=\"engine\")\n",
    "subj_lect=Table(\"subj_lect\", metadata_obj, autoload=True, autoload_with=\"engine\")\n",
    "subject=Table(\"subject\", metadata_obj, autoload=True, autoload_with=\"engine\")\n",
    "university=Table(\"university\", metadata_obj, autolad=True, autolad_with=\"engine\")"
   ]
  },
  {
   "cell_type": "code",
   "execution_count": 10,
   "id": "7a6ea4b5",
   "metadata": {},
   "outputs": [],
   "source": [
    "conn=engine.connect() # Соединение"
   ]
  },
  {
   "cell_type": "markdown",
   "id": "58721ba6",
   "metadata": {},
   "source": [
    "# Решение"
   ]
  },
  {
   "cell_type": "code",
   "execution_count": 14,
   "id": "a77fc2b3",
   "metadata": {
    "scrolled": false
   },
   "outputs": [
    {
     "name": "stdout",
     "output_type": "stream",
     "text": [
      "SELECT student.surname, student.name, strftime(:strftime_2, student.birthday) AS strftime_1, student.stipend \n",
      "FROM student \n",
      "WHERE student.stipend = (SELECT max(student.stipend) AS max_1 \n",
      "FROM student) ORDER BY student.surname\n",
      "18\n"
     ]
    },
    {
     "data": {
      "text/plain": [
       "[('Белкин', 'Вадим', '2000-01-07', 250),\n",
       " ('Блохина', 'Ираида', '1997-03-23', 250),\n",
       " ('Вячеслав', 'Пахомов', '1997-05-14', 250),\n",
       " ('Ершов', 'Митрофан', '2001-05-28', 250),\n",
       " ('Жук', 'Оксана', '2000-11-16', 250),\n",
       " ('Зайцева', 'Ольга', '2001-05-01', 250),\n",
       " ('Казакова', 'Ольга', '2000-03-29', 250),\n",
       " ('Кудряшов', 'Роман', '1997-08-26', 250),\n",
       " ('Мельникова', 'Светлана', '1998-03-24', 250),\n",
       " ('Морозов', 'Кирилл', '2000-09-29', 250)]"
      ]
     },
     "execution_count": 14,
     "metadata": {},
     "output_type": "execute_result"
    }
   ],
   "source": [
    "# Ваш код здесь\n",
    "\"\"\"\n",
    "С помощью подзапроса напишите запрос, выводящий список студентов, \n",
    "получающих максимальную стипендию, отсортировав его в алфавитном порядке по фамилиям.\n",
    "\"\"\"\n",
    "\n",
    "subq = select(func.max(student.c.stipend)).scalar_subquery()\n",
    "\n",
    "s = select(student.c.surname, student.c.name, func.strftime(\"%Y-%m-%d\",student.c.birthday), student.c.stipend)\n",
    "s = s.where(student.c.stipend == subq)\n",
    "s = s.order_by(student.c.surname)\n",
    "print(s)\n",
    "\n",
    "result = conn.execute(s).fetchall()\n",
    "print(len(result))\n",
    "result [:10]"
   ]
  },
  {
   "cell_type": "code",
   "execution_count": 15,
   "id": "0a9798e9",
   "metadata": {},
   "outputs": [
    {
     "name": "stdout",
     "output_type": "stream",
     "text": [
      "60\n"
     ]
    },
    {
     "data": {
      "text/plain": [
       "[('Иванов', 'Иван', '2002-12-03', 150),\n",
       " ('Петров', 'Петр', '2000-12-01', 200),\n",
       " ('Сидоров', 'Вадим', '1999-06-07', 150),\n",
       " ('Зайцева', 'Ольга', '2001-05-01', 250),\n",
       " ('Котов', 'Павел', '2001-02-28', 150),\n",
       " ('Белкин', 'Вадим', '2000-01-07', 250),\n",
       " ('Дуб', 'Елизавета', '2004-07-04', 150),\n",
       " ('Жук', 'Оксана', '2000-11-16', 250),\n",
       " ('Некрасова', 'Вероника', '2004-08-23', 250),\n",
       " ('Казакова', 'Ольга', '2000-03-29', 250)]"
      ]
     },
     "execution_count": 15,
     "metadata": {},
     "output_type": "execute_result"
    }
   ],
   "source": [
    "# 2\n",
    "\"\"\"\n",
    "С помощью подзапроса напишите запрос, выводящий список студентов, \n",
    "получающих стипендию, превышающую среднее значение стипендии.\n",
    "\"\"\"\n",
    "\n",
    "subq = select(func.avg(student.c.stipend)).scalar_subquery()\n",
    "\n",
    "s = select(student.c.surname, student.c.name, \n",
    "           func.strftime(\"%Y-%m-%d\", student.c.birthday), student.c.stipend)\n",
    "\n",
    "s = s.where(student.c.stipend >= subq)\n",
    "\n",
    "result = conn.execute(s).fetchall()\n",
    "print(len(result))\n",
    "result[:10]"
   ]
  },
  {
   "cell_type": "code",
   "execution_count": 20,
   "id": "a1a69b32",
   "metadata": {},
   "outputs": [
    {
     "name": "stdout",
     "output_type": "stream",
     "text": [
      "SELECT student.student_id, student.surname, student.name, student.stipend, student.kurs, student.city, student.birthday, student.univ_id \n",
      "FROM student \n",
      "WHERE student.univ_id IN (SELECT university.univ_id \n",
      "FROM university \n",
      "WHERE university.city = :city_1) ORDER BY student.univ_id, student.kurs\n",
      "23\n"
     ]
    },
    {
     "data": {
      "text/plain": [
       "[(1, 'Иванов', 'Иван', 150, 1, 'Орел', datetime.datetime(2002, 12, 3, 0, 0), 10),\n",
       " (78, 'Агафонов', 'Василий', 150, 1, 'Грозный', datetime.datetime(1994, 10, 29, 0, 0), 10),\n",
       " (99, 'Борисова', 'Марина', 150, 1, 'Рославль', datetime.datetime(1995, 8, 7, 0, 0), 10),\n",
       " (113, 'Аксенов', 'Валерий', 150, 1, 'Мурманск', datetime.datetime(1994, 10, 27, 0, 0), 10),\n",
       " (10, 'Кузнецов', 'Борис', 0, 2, 'Брянск', datetime.datetime(2001, 12, 8, 0, 0), 10),\n",
       " (12, 'Зайцева', 'Ольга', 250, 2, 'Липецк', datetime.datetime(2001, 5, 1, 0, 0), 10),\n",
       " (66, 'Некрасова', 'Вероника', 250, 2, 'Иркутск', datetime.datetime(2004, 8, 23, 0, 0), 10),\n",
       " (3, 'Петров', 'Петр', 200, 3, 'Курск', datetime.datetime(2000, 12, 1, 0, 0), 10),\n",
       " (62, 'Семенова', 'Вероника', 0, 3, 'Вологда', datetime.datetime(2003, 10, 4, 0, 0), 10),\n",
       " (88, 'Жданова', 'Ирина', 200, 3, 'Тверь', datetime.datetime(2002, 3, 2, 0, 0), 10)]"
      ]
     },
     "execution_count": 20,
     "metadata": {},
     "output_type": "execute_result"
    }
   ],
   "source": [
    "# 3\n",
    "\"\"\"\n",
    "С помощью подзапроса напишите запрос, выводящий список студентов, \n",
    "обучающихся в Воронеже, с последующей сортировкой по идентификаторам университетов и курсам.\n",
    "\"\"\"\n",
    "\n",
    "sq = select(university.c.univ_id)\n",
    "sq = sq.where(university.c.city == 'Воронеж')\n",
    "\n",
    "s = select(student)\n",
    "s = s.where(student.c.univ_id.in_(sq))\n",
    "s = s.order_by(student.c.univ_id, student.c.kurs)\n",
    "\n",
    "print(s)\n",
    "\n",
    "result = conn.execute(s).fetchall()\n",
    "print(len(result))\n",
    "result[:10]"
   ]
  },
  {
   "cell_type": "code",
   "execution_count": 19,
   "id": "cc12d789",
   "metadata": {},
   "outputs": [
    {
     "name": "stdout",
     "output_type": "stream",
     "text": [
      "SELECT student.student_id, student.surname, student.name, student.stipend, student.kurs, student.city, student.birthday, student.univ_id \n",
      "FROM student \n",
      "WHERE student.univ_id = (SELECT university.univ_id \n",
      "FROM university \n",
      "WHERE university.city = :city_1 AND university.univ_id = student.univ_id) ORDER BY student.univ_id, student.kurs\n",
      "23\n"
     ]
    },
    {
     "data": {
      "text/plain": [
       "[(1, 'Иванов', 'Иван', 150, 1, 'Орел', datetime.datetime(2002, 12, 3, 0, 0), 10),\n",
       " (78, 'Агафонов', 'Василий', 150, 1, 'Грозный', datetime.datetime(1994, 10, 29, 0, 0), 10),\n",
       " (99, 'Борисова', 'Марина', 150, 1, 'Рославль', datetime.datetime(1995, 8, 7, 0, 0), 10),\n",
       " (113, 'Аксенов', 'Валерий', 150, 1, 'Мурманск', datetime.datetime(1994, 10, 27, 0, 0), 10),\n",
       " (10, 'Кузнецов', 'Борис', 0, 2, 'Брянск', datetime.datetime(2001, 12, 8, 0, 0), 10),\n",
       " (12, 'Зайцева', 'Ольга', 250, 2, 'Липецк', datetime.datetime(2001, 5, 1, 0, 0), 10),\n",
       " (66, 'Некрасова', 'Вероника', 250, 2, 'Иркутск', datetime.datetime(2004, 8, 23, 0, 0), 10),\n",
       " (3, 'Петров', 'Петр', 200, 3, 'Курск', datetime.datetime(2000, 12, 1, 0, 0), 10),\n",
       " (62, 'Семенова', 'Вероника', 0, 3, 'Вологда', datetime.datetime(2003, 10, 4, 0, 0), 10),\n",
       " (88, 'Жданова', 'Ирина', 200, 3, 'Тверь', datetime.datetime(2002, 3, 2, 0, 0), 10)]"
      ]
     },
     "execution_count": 19,
     "metadata": {},
     "output_type": "execute_result"
    }
   ],
   "source": [
    "# 3 Var 2\n",
    "\"\"\"\n",
    "С помощью подзапроса напишите запрос, выводящий список студентов, \n",
    "обучающихся в Воронеже, с последующей сортировкой по идентификаторам университетов и курсам.\n",
    "\"\"\"\n",
    "\n",
    "sq = select(university.c.univ_id)\n",
    "sq = sq.where(university.c.city == 'Воронеж')\n",
    "sq = sq.where(university.c.univ_id == student.c.univ_id).scalar_subquery()\n",
    "\n",
    "s = select(student)\n",
    "s = s.where(student.c.univ_id == sq)\n",
    "s = s.order_by(student.c.univ_id, student.c.kurs)\n",
    "\n",
    "print(s)\n",
    "\n",
    "result = conn.execute(s).fetchall()\n",
    "print(len(result))\n",
    "result[:10]"
   ]
  },
  {
   "cell_type": "code",
   "execution_count": 21,
   "id": "3c206560",
   "metadata": {},
   "outputs": [
    {
     "name": "stdout",
     "output_type": "stream",
     "text": [
      "SELECT subject.subj_id, subject.subj_name, subject.hour, subject.semester \n",
      "FROM subject \n",
      "WHERE subject.hour = (SELECT max(subject.hour) AS max_1 \n",
      "FROM subject)\n",
      "1\n"
     ]
    },
    {
     "data": {
      "text/plain": [
       "[(23, 'Теория вероятностей и математическая статистика', 72, 4)]"
      ]
     },
     "execution_count": 21,
     "metadata": {},
     "output_type": "execute_result"
    }
   ],
   "source": [
    "# 4\n",
    "\"\"\"\n",
    "С помощью подзапроса напишите запрос, выводящий список предметов, \n",
    "на изучение которых отведено максимальное количество часов.\n",
    "\"\"\"\n",
    "\n",
    "subq = select(func.max(subject.c.hour)).scalar_subquery()\n",
    "\n",
    "s = select(subject)\n",
    "s = s.where(subject.c.hour == subq)\n",
    "\n",
    "print(s)\n",
    "\n",
    "result = conn.execute(s).fetchall()\n",
    "print(len(result))\n",
    "result"
   ]
  },
  {
   "cell_type": "code",
   "execution_count": 23,
   "id": "13e65ca8",
   "metadata": {},
   "outputs": [
    {
     "name": "stdout",
     "output_type": "stream",
     "text": [
      "SELECT student.surname, student.name \n",
      "FROM student \n",
      "WHERE student.city != (SELECT university.city \n",
      "FROM university \n",
      "WHERE university.univ_id = student.univ_id)\n",
      "79\n"
     ]
    },
    {
     "data": {
      "text/plain": [
       "[('Иванов', 'Иван'),\n",
       " ('Петров', 'Петр'),\n",
       " ('Кузнецов', 'Борис'),\n",
       " ('Зайцева', 'Ольга'),\n",
       " ('Ордуханян', 'Рафаэль'),\n",
       " ('Дуб', 'Елизавета'),\n",
       " ('Кудряшова', 'Вера'),\n",
       " ('Рожкова', 'Пелагея'),\n",
       " ('Соколова', 'Ия'),\n",
       " ('Семенова', 'Вероника')]"
      ]
     },
     "execution_count": 23,
     "metadata": {},
     "output_type": "execute_result"
    }
   ],
   "source": [
    "# 5\n",
    "\"\"\"\n",
    "Напишите запрос, выполняющий вывод имен и фамилий студентов, \n",
    "место проживания которых не совпадает с городом, в котором находится их университет.\n",
    "\"\"\"\n",
    "\n",
    "sq = select(university.c.city)\n",
    "sq = sq.where(university.c.univ_id == student.c.univ_id).scalar_subquery()\n",
    "\n",
    "s = select(student.c.surname, student.c.name)\n",
    "s = s.where(student.c.city != sq)\n",
    "\n",
    "print(s)\n",
    "\n",
    "result = conn.execute(s).fetchall()\n",
    "print(len(result))\n",
    "result[:10]"
   ]
  },
  {
   "cell_type": "code",
   "execution_count": 24,
   "id": "a041fffe",
   "metadata": {},
   "outputs": [
    {
     "name": "stdout",
     "output_type": "stream",
     "text": [
      "SELECT university.univ_name \n",
      "FROM university \n",
      "WHERE university.rating > (SELECT university.rating \n",
      "FROM university \n",
      "WHERE university.univ_name = :univ_name_1) AND university.city = :city_1\n",
      "4\n"
     ]
    },
    {
     "data": {
      "text/plain": [
       "[('МФТИ',), ('МГУ',), ('ФинУ',), ('МГТУ им. Баумана',)]"
      ]
     },
     "execution_count": 24,
     "metadata": {},
     "output_type": "execute_result"
    }
   ],
   "source": [
    "'''6. С помощью подзапроса напишите запрос, выводящий список университетов,\n",
    "расположенных в Москве и имеющих рейтинг больший, чем у ВГУ.'''\n",
    "\n",
    "sq = select(university.c.rating)\n",
    "sq = sq.where(university.c.univ_name == 'ВГУ').scalar_subquery()\n",
    "\n",
    "s = select(university.c.univ_name)\n",
    "s = s.where(and_(university.c.rating > sq, university.c.city=='Москва'))\n",
    "\n",
    "print(s)\n",
    "\n",
    "result = conn.execute(s).fetchall()\n",
    "print(len(result))\n",
    "result"
   ]
  },
  {
   "cell_type": "code",
   "execution_count": 29,
   "id": "4cc20547",
   "metadata": {
    "scrolled": true
   },
   "outputs": [
    {
     "name": "stdout",
     "output_type": "stream",
     "text": [
      "SELECT exam_marks.student_id, count(exam_marks.subj_id) AS count_1 \n",
      "FROM exam_marks GROUP BY exam_marks.student_id \n",
      "HAVING count(exam_marks.subj_id) > :count_2\n",
      "6\n"
     ]
    },
    {
     "data": {
      "text/plain": [
       "[(12, 2), (55, 2), (76, 2), (85, 2), (101, 2), (128, 2)]"
      ]
     },
     "execution_count": 29,
     "metadata": {},
     "output_type": "execute_result"
    }
   ],
   "source": [
    "# 7\n",
    "\"\"\"\n",
    "С помощью связанного подзапроса напишите запрос, выполняющий вывод количества предметов, \n",
    "по которым экзаменовался каждый студент, сдававший более 1 предмета.\n",
    "\"\"\"\n",
    "\n",
    "s = select(exam_marks.c.student_id, func.count(exam_marks.c.subj_id))\n",
    "s = s.group_by(exam_marks.c.student_id)\n",
    "s = s.having(func.count(exam_marks.c.subj_id)>1)\n",
    "\n",
    "print(s)\n",
    "\n",
    "result = conn.execute(s).fetchall()\n",
    "print(len(result))\n",
    "result"
   ]
  },
  {
   "cell_type": "code",
   "execution_count": 31,
   "id": "ad8a3716",
   "metadata": {},
   "outputs": [
    {
     "name": "stdout",
     "output_type": "stream",
     "text": [
      "SELECT st1.student_id, st1.surname, st1.name, st1.city \n",
      "FROM student AS st1 \n",
      "WHERE st1.stipend = (SELECT max(st2.stipend) AS max_1 \n",
      "FROM student AS st2 \n",
      "WHERE st2.city = st1.city)\n",
      "73\n"
     ]
    },
    {
     "data": {
      "text/plain": [
       "[(12, 'Зайцева', 'Ольга', 'Липецк'),\n",
       " (55, 'Белкин', 'Вадим', 'Воронеж'),\n",
       " (56, 'Дуб', 'Елизавета', 'Усть-Кут'),\n",
       " (57, 'Кудряшова', 'Вера', 'Нижневартовск'),\n",
       " (58, 'Журавлева', 'Вера', 'Новосибирск'),\n",
       " (60, 'Рожкова', 'Пелагея', 'Рубцовск'),\n",
       " (61, 'Соколова', 'Ия', 'Колпашево'),\n",
       " (62, 'Семенова', 'Вероника', 'Вологда'),\n",
       " (64, 'Жук', 'Оксана', 'Воркута'),\n",
       " (66, 'Некрасова', 'Вероника', 'Иркутск')]"
      ]
     },
     "execution_count": 31,
     "metadata": {},
     "output_type": "execute_result"
    }
   ],
   "source": [
    "# 8\n",
    "\"\"\"\n",
    "С помощью связанного подзапроса покажите имена и идентификаторы студентов, \n",
    "у которых стипендия совпадает с максимальным значением стипендии для города студента.\n",
    "\"\"\"\n",
    "\n",
    "st1 = student.alias('st1') # внешний\n",
    "st2 = student.alias('st2') # внутренний\n",
    "\n",
    "subq = select(func.max(st2.c.stipend))\n",
    "subq = subq.where(st2.c.city == st1.c.city).scalar_subquery()\n",
    "\n",
    "s = select(st1.c.student_id, st1.c.surname, st1.c.name, st1.c.city)\n",
    "s = s.where(st1.c.stipend == subq)\n",
    "\n",
    "print(s)\n",
    "\n",
    "result = conn.execute(s).fetchall()\n",
    "print(len(result))\n",
    "result[:10]"
   ]
  },
  {
   "cell_type": "code",
   "execution_count": 35,
   "id": "f39afd94",
   "metadata": {},
   "outputs": [
    {
     "name": "stdout",
     "output_type": "stream",
     "text": [
      "SELECT student.name, student.student_id, student.city \n",
      "FROM student \n",
      "WHERE (student.city NOT IN (SELECT university.city \n",
      "FROM university)) AND student.city IS NOT NULL\n",
      "77\n"
     ]
    },
    {
     "data": {
      "text/plain": [
       "[('Иван', 1, 'Орел'),\n",
       " ('Петр', 3, 'Курск'),\n",
       " ('Борис', 10, 'Брянск'),\n",
       " ('Ольга', 12, 'Липецк'),\n",
       " ('Рафаэль', 15, 'Липецк'),\n",
       " ('Елизавета', 56, 'Усть-Кут'),\n",
       " ('Вера', 57, 'Нижневартовск'),\n",
       " ('Пелагея', 60, 'Рубцовск'),\n",
       " ('Ия', 61, 'Колпашево'),\n",
       " ('Вероника', 62, 'Вологда')]"
      ]
     },
     "execution_count": 35,
     "metadata": {},
     "output_type": "execute_result"
    }
   ],
   "source": [
    "# 9\n",
    "\"\"\"\n",
    "Напишите запрос, который позволяет вывести имена и идентификаторы всех студентов, \n",
    "о которых точно известно, что они проживают в городе, где нет ни одного университета.\n",
    "\"\"\"\n",
    "\n",
    "cities_w_univ = select(university.c.city) # города, где есть университеты\n",
    "\n",
    "s = select(student.c.name, student.c.student_id, student.c.city) \\\n",
    ".filter(student.c.city.not_in(cities_w_univ)) \\\n",
    ".filter(student.c.city.isnot(None))\n",
    "\n",
    "print(s)\n",
    "\n",
    "result = conn.execute(s).fetchall()\n",
    "print(len(result))\n",
    "result[:10]"
   ]
  },
  {
   "cell_type": "code",
   "execution_count": 44,
   "id": "b6590a40",
   "metadata": {},
   "outputs": [
    {
     "name": "stdout",
     "output_type": "stream",
     "text": [
      "79\n"
     ]
    },
    {
     "data": {
      "text/plain": [
       "[(1, 'Иванов', 'Иван', 10, 'Орел'),\n",
       " (3, 'Петров', 'Петр', 10, 'Курск'),\n",
       " (10, 'Кузнецов', 'Борис', 10, 'Брянск'),\n",
       " (12, 'Зайцева', 'Ольга', 10, 'Липецк'),\n",
       " (15, 'Ордуханян', 'Рафаэль', 18, 'Липецк'),\n",
       " (56, 'Дуб', 'Елизавета', 48, 'Усть-Кут'),\n",
       " (57, 'Кудряшова', 'Вера', 14, 'Нижневартовск'),\n",
       " (60, 'Рожкова', 'Пелагея', 48, 'Рубцовск'),\n",
       " (61, 'Соколова', 'Ия', 18, 'Колпашево'),\n",
       " (62, 'Семенова', 'Вероника', 10, 'Вологда')]"
      ]
     },
     "execution_count": 44,
     "metadata": {},
     "output_type": "execute_result"
    }
   ],
   "source": [
    "# 10\n",
    "\"\"\"Напишите два запроса, которые позволяют вывести имена и идентификаторы всех студентов,\n",
    "о которых точно известно, что они проживают не в том городе,\n",
    "где расположен их университет: один запрос с использованием связанного подзапроса, \n",
    "а другой с использованием соединения.\"\"\"\n",
    "\n",
    "subq = select(university.c.city)\n",
    "subq = subq.where(student.c.univ_id == university.c.univ_id).scalar_subquery()\n",
    "\n",
    "s = select(student.c.student_id, student.c.surname, student.c.name, \\\n",
    "          student.c.univ_id, student.c.city)\n",
    "s = s.where(student.c.city != subq)\n",
    "\n",
    "result = conn.execute(s).fetchall()\n",
    "print(len(result))\n",
    "result[:10]"
   ]
  },
  {
   "cell_type": "code",
   "execution_count": 47,
   "id": "9c935806",
   "metadata": {},
   "outputs": [
    {
     "name": "stdout",
     "output_type": "stream",
     "text": [
      "SELECT student.name, student.surname, student.univ_id \n",
      "FROM student \n",
      "WHERE EXISTS (SELECT university.univ_id, university.univ_name, university.rating, university.city \n",
      "FROM university \n",
      "WHERE university.univ_id = student.univ_id AND university.rating > :rating_1)\n",
      "63\n"
     ]
    },
    {
     "data": {
      "text/plain": [
       "[('Вадим', 'Сидоров', 22),\n",
       " ('Рафаэль', 'Ордуханян', 18),\n",
       " ('Павел', 'Котов', 14),\n",
       " ('Вера', 'Кудряшова', 14),\n",
       " ('Вера', 'Журавлева', 11),\n",
       " ('Ия', 'Соколова', 18),\n",
       " ('Ирина', 'Пак', 15),\n",
       " ('Ольга', 'Казакова', 44),\n",
       " ('Елена', 'Шубина', 45),\n",
       " ('Анна', 'Миронова', 46)]"
      ]
     },
     "execution_count": 47,
     "metadata": {},
     "output_type": "execute_result"
    }
   ],
   "source": [
    "# 11\n",
    "\"\"\"\n",
    "С помощью EXISTS напишите запрос, позволяющий вывести данные обо всех студентах \n",
    "обучающихся в вузах, имеющих рейтинг выше 300.\n",
    "\"\"\"\n",
    "\n",
    "subq = exists(university).where(university.c.univ_id == student.c.univ_id)\n",
    "subq = subq.where(university.c.rating > 300)\n",
    "\n",
    "s = select(student.c.name, student.c.surname, student.c.univ_id)\n",
    "s = s.where(subq)\n",
    "\n",
    "print(s)\n",
    "\n",
    "result = conn.execute(s).fetchall()\n",
    "print(len(result))\n",
    "result[:10]"
   ]
  },
  {
   "cell_type": "code",
   "execution_count": 49,
   "id": "ed6f9eb6",
   "metadata": {},
   "outputs": [
    {
     "name": "stdout",
     "output_type": "stream",
     "text": [
      "SELECT student.name, student.surname, student.univ_id \n",
      "FROM student, university \n",
      "WHERE student.univ_id = university.univ_id AND university.rating > :rating_1\n",
      "63\n"
     ]
    },
    {
     "data": {
      "text/plain": [
       "[('Вадим', 'Сидоров', 22),\n",
       " ('Рафаэль', 'Ордуханян', 18),\n",
       " ('Павел', 'Котов', 14),\n",
       " ('Вера', 'Кудряшова', 14),\n",
       " ('Вера', 'Журавлева', 11),\n",
       " ('Ия', 'Соколова', 18),\n",
       " ('Ирина', 'Пак', 15),\n",
       " ('Ольга', 'Казакова', 44),\n",
       " ('Елена', 'Шубина', 45),\n",
       " ('Анна', 'Миронова', 46)]"
      ]
     },
     "execution_count": 49,
     "metadata": {},
     "output_type": "execute_result"
    }
   ],
   "source": [
    "# 12\n",
    "\"\"\"\n",
    "Напишите предыдущий запрос, используя соединения.\n",
    "\"\"\"\n",
    "\n",
    "s = select(student.c.name, student.c.surname, student.c.univ_id)\n",
    "s = s.where(student.c.univ_id == university.c.univ_id)\n",
    "s = s.where(university.c.rating > 300)\n",
    "\n",
    "print(s)\n",
    "\n",
    "result = conn.execute(s).fetchall()\n",
    "print(len(result))\n",
    "result[:10]"
   ]
  },
  {
   "cell_type": "code",
   "execution_count": 53,
   "id": "21acc519",
   "metadata": {},
   "outputs": [
    {
     "name": "stdout",
     "output_type": "stream",
     "text": [
      "8\n"
     ]
    },
    {
     "data": {
      "text/plain": [
       "[(6, 'Сидоров', 'Вадим', 150, 4, 'Москва', datetime.datetime(1999, 6, 7, 0, 0), 22),\n",
       " (55, 'Белкин', 'Вадим', 250, 5, 'Воронеж', datetime.datetime(2000, 1, 7, 0, 0), 10),\n",
       " (75, 'Игнатова', 'Зинаида', 100, 5, 'Ростов', datetime.datetime(2000, 9, 26, 0, 0), 22),\n",
       " (200, 'Баранов', 'Александр', 220, 2, 'Москва', datetime.datetime(2001, 8, 18, 0, 0), 44),\n",
       " (207, 'Миронова', 'Федор', 200, 3, 'Москва', datetime.datetime(2002, 4, 15, 0, 0), 45),\n",
       " (265, 'Павлов', 'Андрей', 0, 3, 'Воронеж', datetime.datetime(2000, 11, 5, 0, 0), 10),\n",
       " (276, 'Петров', 'Антон', 200, 4, 'Ульяновск', datetime.datetime(2001, 8, 5, 0, 0), 22),\n",
       " (654, 'Лукин', 'Артем', 200, 3, 'Воронеж', datetime.datetime(2001, 12, 1, 0, 0), 10)]"
      ]
     },
     "execution_count": 53,
     "metadata": {},
     "output_type": "execute_result"
    }
   ],
   "source": [
    "# 13\n",
    "\"\"\"\n",
    "С помощью EXISTS напишите запрос, позволяющий выбрать сведения о каждом студенте,\n",
    "для которого в городе его проживания имеется хотя бы один университет, в котором он не учится.\n",
    "\"\"\"\n",
    "\n",
    "subq = exists().where(and_(university.c.univ_id != student.c.univ_id, \n",
    "                           student.c.city == university.c.city))\n",
    "\n",
    "s = select(student)\n",
    "s = s.where(subq)\n",
    "\n",
    "result = conn.execute(s).fetchall()\n",
    "print(len(result))\n",
    "result[:]"
   ]
  },
  {
   "cell_type": "code",
   "execution_count": 67,
   "id": "757bc0c4",
   "metadata": {},
   "outputs": [
    {
     "name": "stdout",
     "output_type": "stream",
     "text": [
      "SELECT DISTINCT su.subj_id, su.subj_name \n",
      "FROM subject AS su \n",
      "WHERE (SELECT count(em.student_id) AS count_1 \n",
      "FROM exam_marks AS em \n",
      "WHERE su.subj_id = em.subj_id) > :param_1\n",
      "9\n"
     ]
    },
    {
     "data": {
      "text/plain": [
       "[(12, 'Анализ данных'),\n",
       " (94, 'Английский язык'),\n",
       " (10, 'Информатика'),\n",
       " (56, 'История'),\n",
       " (43, 'Математика'),\n",
       " (13, 'ОБЖ'),\n",
       " (11, 'Программирование на языках Python и SQL'),\n",
       " (22, 'Физика'),\n",
       " (73, 'Физкультура')]"
      ]
     },
     "execution_count": 67,
     "metadata": {},
     "output_type": "execute_result"
    }
   ],
   "source": [
    "# 14\n",
    "\"\"\"\n",
    "Напишите запрос, выбирающий из таблицы SUBJECT данные о названиях предметов обучения,\n",
    "экзамены по которым сданы более чем одним студентом.\n",
    "\"\"\"\n",
    "em = exam_marks.alias('em')\n",
    "su = subject.alias('su')\n",
    "\n",
    "subq = select(func.count(em.c.student_id))\n",
    "subq = subq.where(su.c.subj_id == em.c.subj_id).scalar_subquery()\n",
    "\n",
    "s = select(distinct(su.c.subj_id), su.c.subj_name)\n",
    "s = s.where(subq > 1)\n",
    "\n",
    "print(s)\n",
    "\n",
    "result = conn.execute(s).fetchall()\n",
    "print(len(result))\n",
    "result[:]"
   ]
  },
  {
   "cell_type": "code",
   "execution_count": 69,
   "id": "a8c50202",
   "metadata": {},
   "outputs": [
    {
     "name": "stdout",
     "output_type": "stream",
     "text": [
      "6\n",
      "SELECT DISTINCT student.city \n",
      "FROM student \n",
      "WHERE student.city IN (SELECT university.city \n",
      "FROM university)\n"
     ]
    },
    {
     "data": {
      "text/plain": [
       "[('Москва',),\n",
       " ('Белгород',),\n",
       " ('Воронеж',),\n",
       " ('Новосибирск',),\n",
       " ('Ростов',),\n",
       " ('Ульяновск',)]"
      ]
     },
     "execution_count": 69,
     "metadata": {},
     "output_type": "execute_result"
    }
   ],
   "source": [
    "# 15\n",
    "\n",
    "\"\"\"\n",
    "Напишите запрос для получения списка городов проживания студентов, \n",
    "в которых есть хотя бы один университет.\n",
    "\"\"\"\n",
    "\n",
    "sub = select(university.c.city) # города, где есть университеты\n",
    "\n",
    "s = select(distinct(student.c.city)).filter(student.c.city.in_(sub))\n",
    "res = conn.execute(s).fetchall()\n",
    "print(len(res))\n",
    "print(s)\n",
    "res"
   ]
  }
 ],
 "metadata": {
  "kernelspec": {
   "display_name": "Python 3 (ipykernel)",
   "language": "python",
   "name": "python3"
  },
  "language_info": {
   "codemirror_mode": {
    "name": "ipython",
    "version": 3
   },
   "file_extension": ".py",
   "mimetype": "text/x-python",
   "name": "python",
   "nbconvert_exporter": "python",
   "pygments_lexer": "ipython3",
   "version": "3.9.7"
  }
 },
 "nbformat": 4,
 "nbformat_minor": 5
}
