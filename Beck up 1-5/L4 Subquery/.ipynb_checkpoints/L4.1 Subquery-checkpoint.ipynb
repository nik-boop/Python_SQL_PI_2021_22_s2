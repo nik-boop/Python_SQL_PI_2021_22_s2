{
 "cells": [
  {
   "cell_type": "markdown",
   "id": "e06e61f2",
   "metadata": {},
   "source": [
    "<img src=\"../Img/Python_SQL_PI.png\" style=\"width:100%\">\n",
    "\n",
    "\n",
    "<p style=\"font-size:22px;text-align:center\">Семинар 4.1. Подзапросы</p> \n",
    "\n",
    "<a id = Home></a>\n",
    "\n",
    "17 марта 2022 года, пн<br>\n",
    "Поток: ПИ20-1, ПИ20-2, ПИ20-3, ПИ20-4, ПИ20-5, ПИ20-6 (2 подгруппа)<br>\n",
    "\n",
    "\n",
    "21 марта 2022 года, чт<br>\n",
    "ПИ20-1, ПИ20-2, ПИ20-3, ПИ20-4, ПИ20-5, ПИ20-6 (3 подгруппа)<br>\n",
    "ПИ20-1, ПИ20-2, ПИ20-3, ПИ20-4, ПИ20-5, ПИ20-6 (4 подгруппа)<br>\n",
    "\n",
    "31 марта 2022 года, чт<br>\n",
    "ПИ20-1, ПИ20-2, ПИ20-3, ПИ20-4, ПИ20-5, ПИ20-6 (1 подгруппа)"
   ]
  },
  {
   "cell_type": "markdown",
   "id": "0a5e8196",
   "metadata": {},
   "source": [
    "\n",
    "```\n",
    "STUDENT\n",
    "STUDENT_ID — числовой код, идентифицирующий студента (идентификатор студента),\n",
    "SURNAME — фамилия студента,\n",
    "NAME — имя студента,\n",
    "STIPEND — стипендия, которую получает студент,\n",
    "KURS — курс, на котором учится студент,\n",
    "CITY — город, в котором живет студент,\n",
    "BIRTHDAY — дата рождения студента,\n",
    "UNIV_ID — идентификатор университета, в котором учится студент.\n",
    "\n",
    "\n",
    "LECTURER\n",
    "LECTURER_ID — идентификатор преподавателя,\n",
    "SURNAME — фамилия преподавателя,\n",
    "NAME — имя преподавателя,\n",
    "CITY — город, в котором живет преподаватель,\n",
    "UNIV_ID — идентификатор университета, в котором работает преподаватель\n",
    "\n",
    "\n",
    "SUBJECT\n",
    "SUBJ_ID — идентификатор предмета обучения,\n",
    "SUBJ_NAME — наименование предмета обучения,\n",
    "HOUR — количество часов, отводимых на изучение предмета,\n",
    "SEMESTER — семестр, в котором изучается данный предмет.\n",
    "\n",
    "\n",
    "UNIVERSITY\n",
    "UNIV_ID — идентификатор университета,\n",
    "UNIV_NAME — название университета,\n",
    "RATING — рейтинг университета,\n",
    "CITY — город, в котором расположен университет.\n",
    "\n",
    "\n",
    "EXAM_MARKS\n",
    "EXAM_ID — идентификатор экзамена,\n",
    "STUDENT_ID — идентификатор студента,\n",
    "SUBJ_ID — идентификатор предмета обучения,\n",
    "MARK — экзаменационная оценка,\n",
    "EXAM_DATE — дата экзамена.\n",
    "\n",
    "\n",
    "SUBJ_LECT\n",
    "LECTURER_ID — идентификатор преподавателя,\n",
    "SUBJ_ID — идентификатор предмета обучения.\n",
    "```\n",
    "\n",
    "<img src=\"../Img/Students_Schema.png\" style=\"width:60%\">"
   ]
  },
  {
   "cell_type": "markdown",
   "id": "58943f25",
   "metadata": {},
   "source": [
    "<img src=../Img/pencil.png style=\"width:190px;height:190px\">\n",
    "<p style=\"background-color:powderblue; font-size:125%; color: rebeccapurple;\">Выполните задания</p>\n",
    "<p>Выполните задания в Jupyter Notebook</p>\n",
    "\n",
    "1. С помощью подзапроса напишите запрос, выводящий список студентов, получающих максимальную стипендию, отсортировав его в алфавитном порядке по фамилиям.\n",
    "2. С помощью подзапроса напишите запрос, выводящий список студентов, получающих стипендию, превышающую среднее значение стипендии.\n",
    "3. С помощью подзапроса напишите запрос, выводящий список студентов, обучающихся в Воронеже, с последующей сортировкой по идентификаторам университетов и курсам.\n",
    "4. С помощью подзапроса напишите запрос, выводящий список предметов, на изучение которых отведено максимальное количество часов.\n",
    "5. Напишите запрос, выполняющий вывод имен и фамилий студентов, место проживания которых не совпадает с городом, в котором находится их университет.\n",
    "6. С помощью подзапроса напишите запрос, выводящий список университетов, расположенных в Москве и имеющих рейтинг больший, чем у ВГУ.\n",
    "7. С помощью EXISTS напишите запрос, который выполняет выборку имен всех студентов, имеющих по предмету c идентификатором 10 балл ниже общего среднего балла."
   ]
  },
  {
   "cell_type": "code",
   "execution_count": 1,
   "id": "814d30ba",
   "metadata": {},
   "outputs": [],
   "source": [
    "#! pip install sqlalchemy"
   ]
  },
  {
   "cell_type": "code",
   "execution_count": 2,
   "id": "11ccc0da",
   "metadata": {},
   "outputs": [],
   "source": [
    "from sqlalchemy import MetaData, Table, create_engine, select, and_, or_, not_\n",
    "from sqlalchemy.sql import func"
   ]
  },
  {
   "cell_type": "code",
   "execution_count": 3,
   "id": "1d663e3b",
   "metadata": {},
   "outputs": [],
   "source": [
    "engine = create_engine('sqlite:///../Data/Students.db')\n",
    "metadata_obj = MetaData() # Объект-контейнер, содержит информацию о схеме данных\n",
    "metadata_obj.reflect(bind=engine) # Отображение БД\n",
    "# Вызов метода reflect() приводит к включению в объект metadata_obj словаря всех таблиц БД."
   ]
  },
  {
   "cell_type": "markdown",
   "id": "746b221c",
   "metadata": {},
   "source": [
    "Несколько примеров получения информации о БД с помощью методов объекта ***metadata_obj***."
   ]
  },
  {
   "cell_type": "code",
   "execution_count": 4,
   "id": "8258ca66",
   "metadata": {},
   "outputs": [
    {
     "data": {
      "text/plain": [
       "dict_keys(['city', 'exam_marks', 'student', 'university', 'subject', 'lecturer', 'subj_lect'])"
      ]
     },
     "execution_count": 4,
     "metadata": {},
     "output_type": "execute_result"
    }
   ],
   "source": [
    "# Таблицы в БД\n",
    "metadata_obj.tables.keys()"
   ]
  },
  {
   "cell_type": "code",
   "execution_count": 5,
   "id": "5effd6c9",
   "metadata": {},
   "outputs": [
    {
     "data": {
      "text/plain": [
       "'student'"
      ]
     },
     "execution_count": 5,
     "metadata": {},
     "output_type": "execute_result"
    }
   ],
   "source": [
    "# Имя конкретной таблицы\n",
    "metadata_obj.tables['student'].name"
   ]
  },
  {
   "cell_type": "code",
   "execution_count": 6,
   "id": "cc59d135",
   "metadata": {},
   "outputs": [
    {
     "data": {
      "text/plain": [
       "['student_id',\n",
       " 'surname',\n",
       " 'name',\n",
       " 'stipend',\n",
       " 'kurs',\n",
       " 'city',\n",
       " 'birthday',\n",
       " 'univ_id']"
      ]
     },
     "execution_count": 6,
     "metadata": {},
     "output_type": "execute_result"
    }
   ],
   "source": [
    "# Столбцы конкретной таблицы\n",
    "metadata_obj.tables['student'].columns.keys()"
   ]
  },
  {
   "cell_type": "code",
   "execution_count": 7,
   "id": "93edafd2",
   "metadata": {},
   "outputs": [
    {
     "data": {
      "text/plain": [
       "Column('student_id', INTEGER(), table=<student>, primary_key=True, nullable=False)"
      ]
     },
     "execution_count": 7,
     "metadata": {},
     "output_type": "execute_result"
    }
   ],
   "source": [
    "# Информация о столбце\n",
    "metadata_obj.tables['student'].columns['student_id']"
   ]
  },
  {
   "cell_type": "code",
   "execution_count": 8,
   "id": "81f678f0",
   "metadata": {},
   "outputs": [
    {
     "name": "stdout",
     "output_type": "stream",
     "text": [
      "city\n",
      "subject\n",
      "university\n",
      "lecturer\n",
      "student\n",
      "exam_marks\n",
      "subj_lect\n"
     ]
    }
   ],
   "source": [
    "for t in metadata_obj.sorted_tables:\n",
    "    print(t.name)"
   ]
  },
  {
   "cell_type": "code",
   "execution_count": 9,
   "id": "1105a4cb",
   "metadata": {
    "scrolled": true
   },
   "outputs": [
    {
     "name": "stdout",
     "output_type": "stream",
     "text": [
      "city\n",
      "city.city_id\n",
      "city.name\n",
      "\n",
      "subject\n",
      "subject.subj_id\n",
      "subject.subj_name\n",
      "subject.hour\n",
      "subject.semester\n",
      "\n",
      "university\n",
      "university.univ_id\n",
      "university.univ_name\n",
      "university.rating\n",
      "university.city\n",
      "\n",
      "lecturer\n",
      "lecturer.lecturer_id\n",
      "lecturer.surname\n",
      "lecturer.name\n",
      "lecturer.city\n",
      "lecturer.univ_id\n",
      "\n",
      "student\n",
      "student.student_id\n",
      "student.surname\n",
      "student.name\n",
      "student.stipend\n",
      "student.kurs\n",
      "student.city\n",
      "student.birthday\n",
      "student.univ_id\n",
      "\n",
      "exam_marks\n",
      "exam_marks.exam_id\n",
      "exam_marks.student_id\n",
      "exam_marks.subj_id\n",
      "exam_marks.mark\n",
      "exam_marks.exam_date\n",
      "\n",
      "subj_lect\n",
      "subj_lect.lecturer_id\n",
      "subj_lect.subj_id\n",
      "\n"
     ]
    }
   ],
   "source": [
    "for t in metadata_obj.sorted_tables:\n",
    "    print(t.name)\n",
    "    for c in t.columns:\n",
    "        print(c)\n",
    "    print()"
   ]
  },
  {
   "cell_type": "markdown",
   "id": "243ba7f1",
   "metadata": {},
   "source": [
    "Создание объектов таблиц"
   ]
  },
  {
   "cell_type": "code",
   "execution_count": 10,
   "id": "d42af7cb",
   "metadata": {},
   "outputs": [],
   "source": [
    "exam_marks=Table(\"exam_marks\", metadata_obj, autoload=True, autoload_with=\"engine\")\n",
    "lecturer=Table(\"lecturer\", metadata_obj, autoload=True, autoload_with=\"engine\")\n",
    "student=Table(\"student\", metadata_obj, autoload=True, autoload_with=\"engine\")\n",
    "subj_lect=Table(\"subj_lect\", metadata_obj, autoload=True, autoload_with=\"engine\")\n",
    "subject=Table(\"subject\", metadata_obj, autoload=True, autoload_with=\"engine\")\n",
    "university=Table(\"university\", metadata_obj, autolad=True, autolad_with=\"engine\")"
   ]
  },
  {
   "cell_type": "markdown",
   "id": "21b8597e",
   "metadata": {},
   "source": [
    "# Решение"
   ]
  },
  {
   "cell_type": "code",
   "execution_count": 11,
   "id": "6c7f76fc",
   "metadata": {},
   "outputs": [],
   "source": [
    "conn=engine.connect() # Соединение"
   ]
  },
  {
   "cell_type": "code",
   "execution_count": 1,
   "id": "20e253ec",
   "metadata": {
    "scrolled": false
   },
   "outputs": [],
   "source": [
    "# Ваш код здесь\n",
    "\n",
    "#1\n",
    "\n"
   ]
  },
  {
   "cell_type": "markdown",
   "id": "3e5658d9",
   "metadata": {},
   "source": [
    "# Домашнее задание"
   ]
  },
  {
   "cell_type": "markdown",
   "id": "49993c88",
   "metadata": {},
   "source": [
    "1. Выполнить отображение БД Chinook\n",
    "\n",
    "<img src=\"../Img/chinook_ERD.png\" style=\"width:100%\">\n",
    "\n",
    "2. Выполнить запросы с помощью подзапросов.\n",
    "\n",
    "2.1. С помощью подзапроса составьте запрос, выполняющий вывод информации о счетах клиентов из Бразилии. Результат должен содержать данные из таблицы Invoice: идентификатор счета, идентификатор клиента, дату выставления счета, адрес (BillingAddress), город (BillingCity) и страну (Billing Country) плательщика. Информацию о стране клиента (Brazil) получите в подзапросе из таблицы Customer (столбец Country).\n",
    "\n",
    "2.2. С помощью подзапроса покажите фамилию, имя, должность сотрудников, подчиняющихся сотруднику Nancy Edwards.\n",
    "\n",
    "2.3. С помощью подзапроса покажите идентификатор, название, длительность в минутах трэков в жанре *Classical* продолжительностью более 8 минут.\n",
    "\n",
    "2.4. С помощью подзапроса покажите альбомы, в составе которых более 25 трэков.\n",
    "\n",
    "2.5. С помощью подзапроса покажите жанры, в составе которых имеются трэки, длящиеся более 18 минут.\n",
    "\n",
    "2.6. С помощью подзапроса покажите артистов (Artist), исполняющих произведения в жанре *Classical*.\n",
    "\n",
    "2.7. С помощью подзапроса найдите артистов (Artist), записавших альбомы, в которых более 20 произведений.\n",
    "\n",
    "2.8. С помощью подзапроса найдите сотрудников, подчиняющихся рукводителю, проживающему с подчинённым в одном городе."
   ]
  }
 ],
 "metadata": {
  "kernelspec": {
   "display_name": "Python 3 (ipykernel)",
   "language": "python",
   "name": "python3"
  },
  "language_info": {
   "codemirror_mode": {
    "name": "ipython",
    "version": 3
   },
   "file_extension": ".py",
   "mimetype": "text/x-python",
   "name": "python",
   "nbconvert_exporter": "python",
   "pygments_lexer": "ipython3",
   "version": "3.9.7"
  }
 },
 "nbformat": 4,
 "nbformat_minor": 5
}
