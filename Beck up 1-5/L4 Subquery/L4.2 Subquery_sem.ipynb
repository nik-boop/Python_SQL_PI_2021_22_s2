{
 "cells": [
  {
   "cell_type": "markdown",
   "id": "c3789fc7",
   "metadata": {},
   "source": [
    "<img src=\"../Img/Python_SQL_PI.png\" style=\"width:100%\">\n",
    "\n",
    "\n",
    "<p style=\"font-size:22px;text-align:center\">Семинар 4.2. Подзапросы</p> \n",
    "\n",
    "<a id = Home></a>\n",
    "\n",
    "24 марта 2022 года, чт<br>\n",
    "Поток: ПИ20-1, ПИ20-2, ПИ20-3, ПИ20-4, ПИ20-5, ПИ20-6 (2 подгруппа)<br>\n",
    "\n",
    "\n",
    "28 марта 2022 года, пн<br>\n",
    "ПИ20-1, ПИ20-2, ПИ20-3, ПИ20-4, ПИ20-5, ПИ20-6 (3 подгруппа)<br>\n",
    "ПИ20-1, ПИ20-2, ПИ20-3, ПИ20-4, ПИ20-5, ПИ20-6 (4 подгруппа)<br>\n",
    "\n",
    "31 марта 2022 года, чт<br>\n",
    "ПИ20-1, ПИ20-2, ПИ20-3, ПИ20-4, ПИ20-5, ПИ20-6 (1 подгруппа)"
   ]
  },
  {
   "cell_type": "markdown",
   "id": "e342dad9",
   "metadata": {},
   "source": [
    "\n",
    "```\n",
    "STUDENT\n",
    "STUDENT_ID — числовой код, идентифицирующий студента (идентификатор студента),\n",
    "SURNAME — фамилия студента,\n",
    "NAME — имя студента,\n",
    "STIPEND — стипендия, которую получает студент,\n",
    "KURS — курс, на котором учится студент,\n",
    "CITY — город, в котором живет студент,\n",
    "BIRTHDAY — дата рождения студента,\n",
    "UNIV_ID — идентификатор университета, в котором учится студент.\n",
    "\n",
    "\n",
    "LECTURER\n",
    "LECTURER_ID — идентификатор преподавателя,\n",
    "SURNAME — фамилия преподавателя,\n",
    "NAME — имя преподавателя,\n",
    "CITY — город, в котором живет преподаватель,\n",
    "UNIV_ID — идентификатор университета, в котором работает преподаватель\n",
    "\n",
    "\n",
    "SUBJECT\n",
    "SUBJ_ID — идентификатор предмета обучения,\n",
    "SUBJ_NAME — наименование предмета обучения,\n",
    "HOUR — количество часов, отводимых на изучение предмета,\n",
    "SEMESTER — семестр, в котором изучается данный предмет.\n",
    "\n",
    "\n",
    "UNIVERSITY\n",
    "UNIV_ID — идентификатор университета,\n",
    "UNIV_NAME — название университета,\n",
    "RATING — рейтинг университета,\n",
    "CITY — город, в котором расположен университет.\n",
    "\n",
    "\n",
    "EXAM_MARKS\n",
    "EXAM_ID — идентификатор экзамена,\n",
    "STUDENT_ID — идентификатор студента,\n",
    "SUBJ_ID — идентификатор предмета обучения,\n",
    "MARK — экзаменационная оценка,\n",
    "EXAM_DATE — дата экзамена.\n",
    "\n",
    "\n",
    "SUBJ_LECT\n",
    "LECTURER_ID — идентификатор преподавателя,\n",
    "SUBJ_ID — идентификатор предмета обучения.\n",
    "```\n",
    "\n",
    "<img src=\"../Img/Students_Schema.png\" style=\"width:60%\">"
   ]
  },
  {
   "cell_type": "markdown",
   "id": "8d208556",
   "metadata": {},
   "source": [
    "<img src=../Img/pencil.png style=\"width:190px;height:190px\">\n",
    "<p style=\"background-color:powderblue; font-size:125%; color: rebeccapurple;\">Выполните задания</p>\n",
    "<p>Выполните задания в Jupyter Notebook на тему \"Связанные подзапросы\"</p>\n",
    "\n",
    "1. Напишите запрос для получения списка студентов, которые учатся в своем городе.\n",
    "2. Напишите запрос для получения списка иногородних студентов (обучающихся не в своем городе), с последующей сортировкой по идентификаторам университетов и курсам.\n",
    "3. Напишите запрос для получения списка преподавателей, работающих не в своем городе, с последующей сортировкой по идентификаторам университетов и городам проживания преподавателей.\n",
    "4. Напишите запрос для получения списка предметов, на изучение которых отведено максимальное количество часов среди всех предметов, изучаемых в том же семестре. Список упорядочить по семестрам.\n",
    "5. Напишите запрос для получения списка студентов, получающих стипендию, превосходящую среднее значение стипендии на их курсе.\n",
    "6. Напишите запрос для получения списка студентов, получающих минимальную стипендию в своем университете, с последующей сортировкой по значениям идентификатора университета и стипендии.\n",
    "7. Напишите запрос для получения списка университетов, в которых учится более 50 студентов, с последующей сортировкой по рейтингам.\n",
    "8. Напишите запрос для получения списка университетов, в которых работает более 5 преподавателей, с последующей сортировкой по рейтингам университетов.\n",
    "9. Напишите запрос для получения списка отличников (студентов, получивших только отличные оценки), с последующей сортировкой по идентификаторам университетов и курсам.\n",
    "10. Напишите запрос для получения списка неуспевающих студентов (получивших хотя бы одну неудовлетворительную оценку), с последующей сортировкой по идентификаторам университетов и курсам."
   ]
  },
  {
   "cell_type": "markdown",
   "id": "e2c96424",
   "metadata": {},
   "source": [
    "# Решение 1"
   ]
  },
  {
   "cell_type": "code",
   "execution_count": 11,
   "id": "2bdf0b5b",
   "metadata": {},
   "outputs": [
    {
     "name": "stdout",
     "output_type": "stream",
     "text": [
      "SELECT st.surname, st.name, st.city, st.univ_id \n",
      "FROM student AS st \n",
      "WHERE st.city = (SELECT u.city \n",
      "FROM university AS u \n",
      "WHERE u.univ_id = st.univ_id)\n",
      "9\n"
     ]
    },
    {
     "data": {
      "text/plain": [
       "[('Сидоров', 'Вадим', 'Москва', 22),\n",
       " ('Котов', 'Павел', 'Белгород', 14),\n",
       " ('Белкин', 'Вадим', 'Воронеж', 10),\n",
       " ('Журавлева', 'Вера', 'Новосибирск', 11),\n",
       " ('Баранов', 'Александр', 'Москва', 44),\n",
       " ('Петрова', 'Екатерина', 'Белгород', 14),\n",
       " ('Миронова', 'Федор', 'Москва', 45),\n",
       " ('Павлов', 'Андрей', 'Воронеж', 10),\n",
       " ('Лукин', 'Артем', 'Воронеж', 10)]"
      ]
     },
     "execution_count": 11,
     "metadata": {},
     "output_type": "execute_result"
    }
   ],
   "source": [
    "#1 Напишите запрос для получения списка студентов, которые учатся в своем городе.\n",
    "st = student.alias('st')\n",
    "u = university.alias('u')\n",
    "\n",
    "sq = select(u.c.city)\n",
    "sq = sq.where(u.c.univ_id == st.c.univ_id).scalar_subquery()\n",
    "\n",
    "s = select(st.c.surname, st.c.name, st.c.city, st.c.univ_id)\n",
    "s = s.where(st.c.city == sq)\n",
    "\n",
    "print(s)\n",
    "rezult = conn.execute(s).fetchall()\n",
    "print(len(rezult))\n",
    "rezult"
   ]
  },
  {
   "cell_type": "code",
   "execution_count": null,
   "id": "8ad22d13",
   "metadata": {},
   "outputs": [],
   "source": [
    "# 2 Напишите запрос для получения списка иногородних студентов (обучающихся не в своем городе),\n",
    "# с последующей сортировкой по идентификаторам университетов и курсам.\n",
    "st = student.alias('st')\n",
    "u = university.alias('u')\n",
    "\n",
    "sq = select(u.c.city)\n",
    "sq = sq.where(u.c.univ_id == st.c.univ_id).scalar_subquery()\n",
    "\n",
    "s = select(st.c.surname, st.c.name, st.c.city, st.c.univ_id, st.c.kurs)\n",
    "s = s.where(st.c.city == sq)\n",
    "s = s.order_by(st.c.univ_id, st.c.kurs)\n",
    "\n",
    "print(s)\n",
    "rezult = conn.execute(s).fetchall()\n",
    "print(len(rezult))\n",
    "rezult"
   ]
  },
  {
   "cell_type": "code",
   "execution_count": 14,
   "id": "860ebd9f",
   "metadata": {},
   "outputs": [
    {
     "name": "stdout",
     "output_type": "stream",
     "text": [
      "SELECT le.surname, le.name, le.city, le.univ_id \n",
      "FROM lecturer AS le \n",
      "WHERE le.city != (SELECT u.city \n",
      "FROM university AS u \n",
      "WHERE u.univ_id = le.univ_id) ORDER BY le.univ_id\n",
      "24\n"
     ]
    },
    {
     "data": {
      "text/plain": [
       "[('Зайцева', 'Юлия', 'Белгород', 10),\n",
       " ('Максимова', 'Иванна', 'Сковородино', 10),\n",
       " ('Зыкова', 'Оксана', 'Калач', 10),\n",
       " ('Алексеев', 'Елисей', 'Мценск', 10),\n",
       " ('Сорокин', 'Андрей', 'Орел', 10),\n",
       " ('Мамонтова', 'Акулина', 'Троицк (Моск.)', 11),\n",
       " ('Тихонов', 'Ладомир', 'Кропоткин (Краснод.)', 15),\n",
       " ('Беспалов', 'Юлиан', 'Рыбинск', 15),\n",
       " ('Богданова', 'Оксана', 'Всеволожск', 18),\n",
       " ('Ситникова', 'Светлана', 'Сорочинск', 18),\n",
       " ('Крюкова', 'Людмила', 'Анива', 18),\n",
       " ('Артемьева', 'Майя', 'Курск', 18),\n",
       " ('Сафонов', 'Будимир', 'Киржач', 18),\n",
       " ('Дорофеев', 'Прокофий', 'Санкт-Петербург', 32),\n",
       " ('Беляков', 'Мефодий', 'Рославль', 32),\n",
       " ('Волков', 'Михаил', 'Черусти', 45),\n",
       " ('Сафонова', 'Лукия', 'Смоленск', 46),\n",
       " ('Стрелков', 'Руслан', 'Королев', 46),\n",
       " ('Зимин', 'Юлиан', 'Черский', 46),\n",
       " ('Куликова', 'Ираида', 'Городовиковск', 47),\n",
       " ('Кудрявцева', 'Анна', 'Петушки', 47),\n",
       " ('Брагина', 'Нинель', 'Кижи', 48),\n",
       " ('Дмитриева', 'Оксана', 'Шарья', 48),\n",
       " ('Елисеев', 'Виссарион', 'Курганинск', 48)]"
      ]
     },
     "execution_count": 14,
     "metadata": {},
     "output_type": "execute_result"
    }
   ],
   "source": [
    "# 3 Напишите запрос для получения списка преподавателей, работающих не в своем городе,\n",
    "# с последующей сортировкой по идентификаторам университетов и городам проживания преподавателей.\n",
    "le = lecturer.alias('le')\n",
    "u = university.alias('u')\n",
    "\n",
    "\n",
    "sq = select(u.c.city)\n",
    "sq = sq.where(u.c.univ_id == le.c.univ_id).scalar_subquery()\n",
    "\n",
    "s = select(le.c.surname, le.c.name, le.c.city, le.c.univ_id)\n",
    "s = s.where(le.c.city != sq)\n",
    "s = s.order_by(le.c.univ_id)\n",
    "\n",
    "print(s)\n",
    "rezult = conn.execute(s).fetchall()\n",
    "print(len(rezult))\n",
    "rezult"
   ]
  },
  {
   "cell_type": "code",
   "execution_count": 19,
   "id": "e43cbcc6",
   "metadata": {},
   "outputs": [
    {
     "name": "stdout",
     "output_type": "stream",
     "text": [
      "SELECT sjt1.subj_id, sjt1.subj_name, sjt1.hour, sjt1.semester \n",
      "FROM subject AS sjt1 \n",
      "WHERE sjt1.hour = (SELECT max(sjt2.hour) AS max_1 \n",
      "FROM subject AS sjt2 \n",
      "WHERE sjt2.semester = sjt1.semester) ORDER BY sjt1.semester\n",
      "5\n"
     ]
    },
    {
     "data": {
      "text/plain": [
       "[(10, 'Информатика', 56, 1),\n",
       " (43, 'Математика', 56, 2),\n",
       " (94, 'Английский язык', 56, 3),\n",
       " (23, 'Теория вероятностей и математическая статистика', 72, 4),\n",
       " (73, 'Физкультура', 34, 5)]"
      ]
     },
     "execution_count": 19,
     "metadata": {},
     "output_type": "execute_result"
    }
   ],
   "source": [
    "# 4 Напишите запрос для получения списка предметов,\n",
    "# на изучение которых отведено максимальное количество часов среди всех предметов,\n",
    "# изучаемых в том же семестре. Список упорядочить по семестрам.\n",
    "sjt1 = subject.alias('sjt1')\n",
    "sjt2 = subject.alias('sjt2')\n",
    "\n",
    "\n",
    "sq = select(func.max(sjt2.c.hour))\n",
    "sq = sq.where(sjt2.c.semester == sjt1.c.semester).scalar_subquery()\n",
    "\n",
    "s = select(sjt1)\n",
    "s = s.where(sjt1.c.hour == sq)\n",
    "s = s.order_by(sjt1.c.semester)\n",
    "\n",
    "print(s)\n",
    "rezult = conn.execute(s).fetchall()\n",
    "print(len(rezult))\n",
    "rezult"
   ]
  },
  {
   "cell_type": "code",
   "execution_count": 22,
   "id": "673d3aec",
   "metadata": {},
   "outputs": [
    {
     "name": "stdout",
     "output_type": "stream",
     "text": [
      "SELECT st1.student_id, st1.surname, st1.name, st1.stipend, st1.kurs, st1.city, st1.birthday, st1.univ_id \n",
      "FROM student AS st1 \n",
      "WHERE st1.stipend > (SELECT avg(st2.stipend) AS avg_1 \n",
      "FROM student AS st2 \n",
      "WHERE st2.kurs = st1.kurs)\n",
      "54\n"
     ]
    },
    {
     "data": {
      "text/plain": [
       "[(1, 'Иванов', 'Иван', 150, 1, 'Орел', datetime.datetime(2002, 12, 3, 0, 0), 10),\n",
       " (3, 'Петров', 'Петр', 200, 3, 'Курск', datetime.datetime(2000, 12, 1, 0, 0), 10),\n",
       " (6, 'Сидоров', 'Вадим', 150, 4, 'Москва', datetime.datetime(1999, 6, 7, 0, 0), 22),\n",
       " (12, 'Зайцева', 'Ольга', 250, 2, 'Липецк', datetime.datetime(2001, 5, 1, 0, 0), 10),\n",
       " (55, 'Белкин', 'Вадим', 250, 5, 'Воронеж', datetime.datetime(2000, 1, 7, 0, 0), 10),\n",
       " (64, 'Жук', 'Оксана', 250, 1, 'Воркута', datetime.datetime(2000, 11, 16, 0, 0), 47),\n",
       " (66, 'Некрасова', 'Вероника', 250, 2, 'Иркутск', datetime.datetime(2004, 8, 23, 0, 0), 10),\n",
       " (68, 'Казакова', 'Ольга', 250, 4, 'Кемерово', datetime.datetime(2000, 3, 29, 0, 0), 44),\n",
       " (70, 'Миронова', 'Анна', 200, 2, 'Владикавказ', datetime.datetime(2000, 10, 8, 0, 0), 46),\n",
       " (71, 'Кондрат', 'Синицин', 200, 4, 'Ишим', datetime.datetime(2001, 2, 23, 0, 0), 18),\n",
       " (72, 'Пономарева', 'Алина', 250, 2, 'Ангарск', datetime.datetime(2002, 10, 7, 0, 0), 48),\n",
       " (78, 'Агафонов', 'Василий', 150, 1, 'Грозный', datetime.datetime(1994, 10, 29, 0, 0), 10),\n",
       " (82, 'Лапина', 'Элеонора', 150, 3, 'Джубга', datetime.datetime(1997, 11, 23, 0, 0), 45),\n",
       " (83, 'Сорокина', 'Ирина', 200, 3, 'Усмань', datetime.datetime(1993, 9, 28, 0, 0), 48),\n",
       " (85, 'Казакова', 'Мария', 150, 4, 'Нальчик', datetime.datetime(1994, 2, 18, 0, 0), 32),\n",
       " (86, 'Жукова', 'Фекла', 150, 3, 'Магадан', datetime.datetime(1998, 10, 6, 0, 0), 46),\n",
       " (88, 'Жданова', 'Ирина', 200, 3, 'Тверь', datetime.datetime(2002, 3, 2, 0, 0), 10),\n",
       " (89, 'Валерия', 'Овчинникова', 200, 5, 'Улан-Удэ', datetime.datetime(2000, 6, 15, 0, 0), 18),\n",
       " (91, 'Блохина', 'Ираида', 250, 3, 'Новый Уренгой', datetime.datetime(1997, 3, 23, 0, 0), 22),\n",
       " (92, 'Мельникова', 'Светлана', 250, 4, 'Кропоткин (Краснод.)', datetime.datetime(1998, 3, 24, 0, 0), 15),\n",
       " (95, 'Сорокина', 'Валерия', 150, 1, 'Енисейск', datetime.datetime(1995, 3, 1, 0, 0), 45),\n",
       " (96, 'Тимофеева', 'Фаина', 150, 3, None, datetime.datetime(1999, 8, 1, 0, 0), 45),\n",
       " (97, 'Вишнякова', 'Анжела', 200, 2, 'Иваново', datetime.datetime(2002, 2, 10, 0, 0), 46),\n",
       " (99, 'Борисова', 'Марина', 150, 1, 'Рославль', datetime.datetime(1995, 8, 7, 0, 0), 10),\n",
       " (101, 'Калашников', 'Евгений', 200, 2, 'Калининград', datetime.datetime(1998, 2, 27, 0, 0), 48),\n",
       " (103, 'Трофимов', 'Владислав', 250, 5, 'Верхоянск', datetime.datetime(1995, 3, 24, 0, 0), 11),\n",
       " (107, 'Морозов', 'Кирилл', 250, 2, 'Кропоткин (Краснод.)', datetime.datetime(2000, 9, 29, 0, 0), 44),\n",
       " (108, 'Назаров', 'Икром', 150, 4, 'Саянск', datetime.datetime(2001, 12, 15, 0, 0), 47),\n",
       " (110, 'Суханов', 'Константин', 250, 3, 'Курск', datetime.datetime(1996, 11, 22, 0, 0), 14),\n",
       " (112, 'Захаров', 'Софон', 150, 3, 'Мурманск', datetime.datetime(1994, 3, 19, 0, 0), 46),\n",
       " (113, 'Аксенов', 'Валерий', 150, 1, 'Мурманск', datetime.datetime(1994, 10, 27, 0, 0), 10),\n",
       " (114, 'Панов', 'Арсений', 250, 1, 'Геленджик', datetime.datetime(1996, 12, 23, 0, 0), 32),\n",
       " (118, 'Кондратьев', 'Николай', 150, 3, 'Ханты-Мансийск', datetime.datetime(1999, 10, 28, 0, 0), 14),\n",
       " (123, 'Веселов', 'Тимур', 150, 1, 'Невинномысск', datetime.datetime(1998, 4, 28, 0, 0), 11),\n",
       " (125, 'Пономарев', 'Варфоромей', 200, 4, 'Улан-Удэ', datetime.datetime(2000, 12, 15, 0, 0), 44),\n",
       " (130, 'Кудряшов', 'Роман', 250, 4, 'Нижний Новгород', datetime.datetime(1997, 8, 26, 0, 0), 32),\n",
       " (131, 'Ковалев', 'Ефим', 200, 2, 'Волгоград', datetime.datetime(1995, 11, 28, 0, 0), 47),\n",
       " (133, 'Жуковский', 'Юрий', 150, 4, 'Сургут (Хант.)', datetime.datetime(1996, 5, 30, 0, 0), 22),\n",
       " (136, 'Ефимов', 'Яков', 200, 1, 'Тимашевск', datetime.datetime(2000, 9, 23, 0, 0), 32),\n",
       " (137, 'Кулаков', 'Феофан', 150, 3, 'Волоколамск', datetime.datetime(2001, 3, 14, 0, 0), 46),\n",
       " (139, 'Журавлев', 'Фома', 200, 2, 'Улан-Удэ', datetime.datetime(1997, 7, 12, 0, 0), 18),\n",
       " (141, 'Ершов', 'Митрофан', 250, 5, 'Пятигорск', datetime.datetime(2001, 5, 28, 0, 0), 22),\n",
       " (146, 'Русаков', 'Давид', 250, 2, 'Байкальск', datetime.datetime(1998, 8, 7, 0, 0), 47),\n",
       " (149, 'Вячеслав', 'Пахомов', 250, 3, 'Игарка', datetime.datetime(1997, 5, 14, 0, 0), 14),\n",
       " (200, 'Баранов', 'Александр', 220, 2, 'Москва', datetime.datetime(2001, 8, 18, 0, 0), 44),\n",
       " (201, 'Архипов', 'Андрей', 180, 1, 'Орел', datetime.datetime(2000, 1, 28, 0, 0), 22),\n",
       " (202, 'Владимиров', 'Анатолий', 200, 2, 'Курск', datetime.datetime(2003, 5, 21, 0, 0), 14),\n",
       " (203, 'Петрова', 'Екатерина', 250, 4, 'Белгород', datetime.datetime(2001, 5, 21, 0, 0), 14),\n",
       " (204, 'Петров', 'Вадим', 250, 2, 'Брянск', datetime.datetime(2002, 5, 21, 0, 0), 44),\n",
       " (205, 'Иванова', 'Мария', 200, 1, 'Липецк', datetime.datetime(2002, 4, 11, 0, 0), 32),\n",
       " (206, 'Киселев', 'Владимир', 210, 2, 'Орел', datetime.datetime(2003, 2, 10, 0, 0), 44),\n",
       " (207, 'Миронова', 'Федор', 200, 3, 'Москва', datetime.datetime(2002, 4, 15, 0, 0), 45),\n",
       " (276, 'Петров', 'Антон', 200, 4, 'Ульяновск', datetime.datetime(2001, 8, 5, 0, 0), 22),\n",
       " (654, 'Лукин', 'Артем', 200, 3, 'Воронеж', datetime.datetime(2001, 12, 1, 0, 0), 10)]"
      ]
     },
     "execution_count": 22,
     "metadata": {},
     "output_type": "execute_result"
    }
   ],
   "source": [
    "# 5 Напишите запрос для получения списка студентов,\n",
    "# получающих стипендию, превосходящую среднее значение стипендии на их курсе\n",
    "st1 = student.alias('st1')\n",
    "st2 = student.alias('st2')\n",
    "\n",
    "\n",
    "sq = select(func.avg(st2.c.stipend))\n",
    "sq = sq.where(st2.c.kurs == st1.c.kurs).scalar_subquery()\n",
    "\n",
    "s = select(st1)\n",
    "s = s.where(st1.c.stipend > sq)\n",
    "\n",
    "print(s)\n",
    "rezult = conn.execute(s).fetchall()\n",
    "print(len(rezult))\n",
    "rezult"
   ]
  },
  {
   "cell_type": "code",
   "execution_count": 27,
   "id": "ae479d49",
   "metadata": {},
   "outputs": [
    {
     "name": "stdout",
     "output_type": "stream",
     "text": [
      "SELECT st1.student_id, st1.surname, st1.name, st1.stipend, st1.kurs, st1.city, st1.birthday, st1.univ_id \n",
      "FROM student AS st1 \n",
      "WHERE st1.stipend = (SELECT min(st2.stipend) AS min_1 \n",
      "FROM student AS st2 \n",
      "WHERE st2.kurs = st1.kurs) AND st1.stipend > :stipend_1 ORDER BY st1.univ_id, st1.stipend\n",
      "6\n"
     ]
    },
    {
     "data": {
      "text/plain": [
       "[(65, 'Сергеева', 'Фёкла', 100, 5, None, datetime.datetime(2000, 2, 19, 0, 0), 10),\n",
       " (76, 'Мельникова', 'Дарья', 100, 5, 'Архангельск', datetime.datetime(2002, 8, 1, 0, 0), 10),\n",
       " (57, 'Кудряшова', 'Вера', 100, 5, 'Нижневартовск', datetime.datetime(2002, 2, 18, 0, 0), 14),\n",
       " (75, 'Игнатова', 'Зинаида', 100, 5, 'Ростов', datetime.datetime(2000, 9, 26, 0, 0), 22),\n",
       " (147, 'Симонов', 'Семен', 100, 5, 'Беломорск', datetime.datetime(2000, 3, 17, 0, 0), 22),\n",
       " (73, 'Одинцова', 'Лидия', 100, 5, 'Верхний Баскунчак', datetime.datetime(2002, 3, 7, 0, 0), 44)]"
      ]
     },
     "execution_count": 27,
     "metadata": {},
     "output_type": "execute_result"
    }
   ],
   "source": [
    "# 6 Напишите запрос для получения списка студентов,\n",
    "# получающих минимальную стипендию в своем университете,\n",
    "# с последующей сортировкой по значениям идентификатора университета и стипендии.\n",
    "st1 = student.alias('st1')\n",
    "st2 = student.alias('st2')\n",
    "\n",
    "\n",
    "sq = select(func.min(st2.c.stipend))\n",
    "sq = sq.where(st2.c.kurs == st1.c.kurs).scalar_subquery()\n",
    "\n",
    "s = select(st1)\n",
    "s = s.where(st1.c.stipend == sq, st1.c.stipend > 0)\n",
    "s = s.order_by(st1.c.univ_id, st1.c.stipend)\n",
    "\n",
    "print(s)\n",
    "rezult = conn.execute(s).fetchall()\n",
    "print(len(rezult))\n",
    "rezult"
   ]
  },
  {
   "cell_type": "code",
   "execution_count": 38,
   "id": "b665fdb6",
   "metadata": {},
   "outputs": [
    {
     "name": "stdout",
     "output_type": "stream",
     "text": [
      "SELECT u.univ_id, u.univ_name, u.rating, u.city \n",
      "FROM university AS u \n",
      "WHERE (SELECT count(st.name) AS count_1 \n",
      "FROM student AS st \n",
      "WHERE st.univ_id = u.univ_id) > :param_1 ORDER BY u.rating\n",
      "5\n"
     ]
    },
    {
     "data": {
      "text/plain": [
       "[(10, 'ВГУ', 296, 'Воронеж'),\n",
       " (46, 'ФГБОУ \"Политех\"', 304, 'Санкт-Петербург'),\n",
       " (14, 'БГУ', 326, 'Белгород'),\n",
       " (44, 'ФинУ', 330, 'Москва'),\n",
       " (22, 'МГУ', 606, 'Москва')]"
      ]
     },
     "execution_count": 38,
     "metadata": {},
     "output_type": "execute_result"
    }
   ],
   "source": [
    "# 7  Напишите запрос для получения списка университетов,\n",
    "# в которых учится более 50 студентов, с последующей сортировкой по рейтингам.\n",
    "st = student.alias('st')\n",
    "u = university.alias('u')\n",
    "\n",
    "\n",
    "sq = select(func.count(st.c.name))\n",
    "sq = sq.where(st.c.univ_id == u.c.univ_id).scalar_subquery()\n",
    "\n",
    "s = select(u)\n",
    "s = s.where(sq > 7)\n",
    "s = s.order_by(u.c.rating)\n",
    "\n",
    "print(s)\n",
    "rezult = conn.execute(s).fetchall()\n",
    "print(len(rezult))\n",
    "rezult"
   ]
  },
  {
   "cell_type": "code",
   "execution_count": 45,
   "id": "8205a419",
   "metadata": {},
   "outputs": [
    {
     "name": "stdout",
     "output_type": "stream",
     "text": [
      "SELECT u.univ_id, u.univ_name, u.rating, u.city \n",
      "FROM university AS u \n",
      "WHERE (SELECT count(lc.name) AS count_1 \n",
      "FROM lecturer AS lc \n",
      "WHERE lc.univ_id = u.univ_id) > :param_1 ORDER BY u.rating\n",
      "1\n"
     ]
    },
    {
     "data": {
      "text/plain": [
       "[(10, 'ВГУ', 296, 'Воронеж')]"
      ]
     },
     "execution_count": 45,
     "metadata": {},
     "output_type": "execute_result"
    }
   ],
   "source": [
    "# 8  Напишите запрос для получения списка университетов,\n",
    "# в которых работает более 5 преподавателей, с последующей сортировкой по рейтингам университетов.\n",
    "lc = lecturer.alias('lc')\n",
    "u = university.alias('u')\n",
    "\n",
    "\n",
    "sq = select(func.count(lc.c.name))\n",
    "sq = sq.where(lc.c.univ_id == u.c.univ_id).scalar_subquery()\n",
    "\n",
    "s = select(u)\n",
    "s = s.where(sq > 5)\n",
    "s = s.order_by(u.c.rating)\n",
    "\n",
    "print(s)\n",
    "rezult = conn.execute(s).fetchall()\n",
    "print(len(rezult))\n",
    "rezult"
   ]
  },
  {
   "cell_type": "code",
   "execution_count": 46,
   "id": "59088722",
   "metadata": {
    "scrolled": true
   },
   "outputs": [
    {
     "name": "stdout",
     "output_type": "stream",
     "text": [
      "SELECT st.student_id, st.surname, st.name, st.stipend, st.kurs, st.city, st.birthday, st.univ_id \n",
      "FROM student AS st \n",
      "WHERE (SELECT avg(em.mark) AS avg_1 \n",
      "FROM exam_marks AS em \n",
      "WHERE em.student_id = st.student_id) = :param_1 ORDER BY st.univ_id, st.kurs\n",
      "7\n"
     ]
    },
    {
     "data": {
      "text/plain": [
       "[(99, 'Борисова', 'Марина', 150, 1, 'Рославль', datetime.datetime(1995, 8, 7, 0, 0), 10),\n",
       " (10, 'Кузнецов', 'Борис', 0, 2, 'Брянск', datetime.datetime(2001, 12, 8, 0, 0), 10),\n",
       " (88, 'Жданова', 'Ирина', 200, 3, 'Тверь', datetime.datetime(2002, 3, 2, 0, 0), 10),\n",
       " (55, 'Белкин', 'Вадим', 250, 5, 'Воронеж', datetime.datetime(2000, 1, 7, 0, 0), 10),\n",
       " (92, 'Мельникова', 'Светлана', 250, 4, 'Кропоткин (Краснод.)', datetime.datetime(1998, 3, 24, 0, 0), 15),\n",
       " (91, 'Блохина', 'Ираида', 250, 3, 'Новый Уренгой', datetime.datetime(1997, 3, 23, 0, 0), 22),\n",
       " (82, 'Лапина', 'Элеонора', 150, 3, 'Джубга', datetime.datetime(1997, 11, 23, 0, 0), 45)]"
      ]
     },
     "execution_count": 46,
     "metadata": {},
     "output_type": "execute_result"
    }
   ],
   "source": [
    "# 9  Напишите запрос для получения списка отличников (студентов, получивших только отличные оценки),\n",
    "# с последующей сортировкой по идентификаторам университетов и курсам.\n",
    "st = student.alias('st')\n",
    "em = exam_marks.alias('em')\n",
    "\n",
    "\n",
    "sq = select(func.avg(em.c.mark))\n",
    "sq = sq.where(em.c.student_id == st.c.student_id).scalar_subquery()\n",
    "\n",
    "s = select(st)\n",
    "s = s.where(sq == 5)\n",
    "s = s.order_by(st.c.univ_id, st.c.kurs)\n",
    "\n",
    "print(s)\n",
    "rezult = conn.execute(s).fetchall()\n",
    "print(len(rezult))\n",
    "rezult"
   ]
  },
  {
   "cell_type": "code",
   "execution_count": 47,
   "id": "65ef0922",
   "metadata": {},
   "outputs": [
    {
     "name": "stdout",
     "output_type": "stream",
     "text": [
      "SELECT st.student_id, st.surname, st.name, st.stipend, st.kurs, st.city, st.birthday, st.univ_id \n",
      "FROM student AS st \n",
      "WHERE (SELECT min(em.mark) AS min_1 \n",
      "FROM exam_marks AS em \n",
      "WHERE em.student_id = st.student_id) < :param_1 ORDER BY st.univ_id, st.kurs\n",
      "18\n"
     ]
    },
    {
     "data": {
      "text/plain": [
       "[(1, 'Иванов', 'Иван', 150, 1, 'Орел', datetime.datetime(2002, 12, 3, 0, 0), 10),\n",
       " (12, 'Зайцева', 'Ольга', 250, 2, 'Липецк', datetime.datetime(2001, 5, 1, 0, 0), 10),\n",
       " (116, 'Федоров', 'Гостомысл', 100, 4, 'Новый Уренгой', datetime.datetime(2000, 11, 16, 0, 0), 10),\n",
       " (65, 'Сергеева', 'Фёкла', 100, 5, None, datetime.datetime(2000, 2, 19, 0, 0), 10),\n",
       " (76, 'Мельникова', 'Дарья', 100, 5, 'Архангельск', datetime.datetime(2002, 8, 1, 0, 0), 10),\n",
       " (123, 'Веселов', 'Тимур', 150, 1, 'Невинномысск', datetime.datetime(1998, 4, 28, 0, 0), 11),\n",
       " (126, 'Жуков', 'Пров', 0, 3, 'Кыштым', datetime.datetime(1998, 9, 11, 0, 0), 11),\n",
       " (103, 'Трофимов', 'Владислав', 250, 5, 'Верхоянск', datetime.datetime(1995, 3, 24, 0, 0), 11),\n",
       " (110, 'Суханов', 'Константин', 250, 3, 'Курск', datetime.datetime(1996, 11, 22, 0, 0), 14),\n",
       " (149, 'Вячеслав', 'Пахомов', 250, 3, 'Игарка', datetime.datetime(1997, 5, 14, 0, 0), 14),\n",
       " (15, 'Ордуханян', 'Рафаэль', 120, 1, 'Липецк', datetime.datetime(2003, 6, 1, 0, 0), 18),\n",
       " (77, 'Мишина', 'Светлана', 150, 2, 'Рыльск', datetime.datetime(1997, 5, 22, 0, 0), 18),\n",
       " (79, 'Афанасьева', 'Анжелика', 0, 2, 'Уфа', datetime.datetime(1996, 11, 22, 0, 0), 32),\n",
       " (85, 'Казакова', 'Мария', 150, 4, 'Нальчик', datetime.datetime(1994, 2, 18, 0, 0), 32),\n",
       " (73, 'Одинцова', 'Лидия', 100, 5, 'Верхний Баскунчак', datetime.datetime(2002, 3, 7, 0, 0), 44),\n",
       " (97, 'Вишнякова', 'Анжела', 200, 2, 'Иваново', datetime.datetime(2002, 2, 10, 0, 0), 46),\n",
       " (101, 'Калашников', 'Евгений', 200, 2, 'Калининград', datetime.datetime(1998, 2, 27, 0, 0), 48),\n",
       " (83, 'Сорокина', 'Ирина', 200, 3, 'Усмань', datetime.datetime(1993, 9, 28, 0, 0), 48)]"
      ]
     },
     "execution_count": 47,
     "metadata": {},
     "output_type": "execute_result"
    }
   ],
   "source": [
    "# 10  Напишите запрос для получения списка неуспевающих студентов (получивших хотя бы одну неудовлетворительную оценку),\n",
    "# с последующей сортировкой по идентификаторам университетов и курсам.\n",
    "st = student.alias('st')\n",
    "em = exam_marks.alias('em')\n",
    "\n",
    "\n",
    "sq = select(func.min(em.c.mark))\n",
    "sq = sq.where(em.c.student_id == st.c.student_id).scalar_subquery()\n",
    "\n",
    "s = select(st)\n",
    "s = s.where(sq < 3)\n",
    "s = s.order_by(st.c.univ_id, st.c.kurs)\n",
    "\n",
    "print(s)\n",
    "rezult = conn.execute(s).fetchall()\n",
    "print(len(rezult))\n",
    "rezult"
   ]
  },
  {
   "cell_type": "code",
   "execution_count": null,
   "id": "ddfec119",
   "metadata": {},
   "outputs": [],
   "source": [
    "# 10  Напишите запрос для получения списка неуспевающих студентов (получивших хотя бы одну неудовлетворительную оценку),\n",
    "# с последующей сортировкой по идентификаторам университетов и курсам.\n",
    "st = student.alias('st')\n",
    "em = exam_marks.alias('em')\n",
    "\n",
    "\n",
    "sq = select(func.min(em.c.mark))\n",
    "sq = sq.where(em.c.student_id == st.c.student_id).scalar_subquery()\n",
    "\n",
    "s = select(st)\n",
    "s = s.where(sq < 3)\n",
    "s = s.order_by(st.c.univ_id, st.c.kurs)\n",
    "\n",
    "print(s)\n",
    "rezult = conn.execute(s).fetchall()\n",
    "print(len(rezult))\n",
    "rezult"
   ]
  },
  {
   "cell_type": "markdown",
   "id": "5883682d",
   "metadata": {},
   "source": [
    "<p style=\"background-color:powderblue; font-size:125%; color: rebeccapurple;\">Выполните задания</p>\n",
    "<p>Выполните задания в Jupyter Notebook на тему \"Связанные подзапросы в Having\".</p>\n",
    "\n",
    "1. Напишите команду SELECT, использующую связанные подзапросы и выполняющую вывод имен и идентификаторов студентов, у которых стипендия совпадает с максимальным значением стипендии для города, в котором живет студент.\n",
    "6. Напишите запрос, который позволяет вывести имена и идентификаторы всех студентов, о которых точно известно, что они проживают в городе, где нет ни одного университета.\n",
    "7. Напишите два запроса, которые позволяют вывести имена и идентификаторы всех студентов, о которых точно известно, что они проживают не в том городе, где расположен их университет: один запрос с использованием связанного подзапроса, а другой с использованием соединения."
   ]
  },
  {
   "cell_type": "markdown",
   "id": "33bdbadc",
   "metadata": {},
   "source": [
    "<p style=\"background-color:powderblue; font-size:125%; color: rebeccapurple;\">Выполните задания</p>\n",
    "<p>Выполните задания в Jupyter Notebook на тему \"Использование оператора EXISTS\".</p>\n",
    "\n",
    "1. Напишите запрос с EXISTS, позволяющий вывести данные обо всех студентах обучающихся в вузах, имеющих рейтинг выше 300.\n",
    "\n",
    "2. Напишите предыдущий запрос, используя соединения.\n",
    "\n",
    "3. Напишите запрос с EXISTS, выбирающий сведения о каждом студенте, для которого в городе его проживания имеется хотя бы один университет, в котором он не учится.\n",
    "\n",
    "4. Напишите запрос, выбирающий из таблицы SUBJECT данные о названиях предметов обучения, экзамены по которым сданы более чем одним студентом.\n",
    "\n",
    "5. Напишите запрос для получения списка городов проживания студентов, в которых есть хотя бы один университет."
   ]
  },
  {
   "cell_type": "code",
   "execution_count": 1,
   "id": "157e5d41",
   "metadata": {},
   "outputs": [],
   "source": [
    "#! pip install sqlalchemy"
   ]
  },
  {
   "cell_type": "code",
   "execution_count": 17,
   "id": "c6a7d2b2",
   "metadata": {},
   "outputs": [],
   "source": [
    "from sqlalchemy import MetaData, Table, create_engine, select, and_, or_, not_\n",
    "from sqlalchemy.sql import func"
   ]
  },
  {
   "cell_type": "code",
   "execution_count": 2,
   "id": "21c6d156",
   "metadata": {},
   "outputs": [],
   "source": [
    "engine = create_engine('sqlite:///../Data/Students.db')\n",
    "metadata_obj = MetaData() # Объект-контейнер, содержит информацию о схеме данных\n",
    "metadata_obj.reflect(bind=engine) # Отображение БД\n",
    "# Вызов метода reflect() приводит к включению в объект metadata_obj словаря всех таблиц БД.\n",
    "conn=engine.connect() # Соединение"
   ]
  },
  {
   "cell_type": "code",
   "execution_count": 3,
   "id": "42f122f4",
   "metadata": {},
   "outputs": [
    {
     "data": {
      "text/plain": [
       "dict_keys(['city', 'exam_marks', 'student', 'university', 'subject', 'lecturer', 'subj_lect'])"
      ]
     },
     "execution_count": 3,
     "metadata": {},
     "output_type": "execute_result"
    }
   ],
   "source": [
    "# Таблицы в БД\n",
    "metadata_obj.tables.keys()"
   ]
  },
  {
   "cell_type": "markdown",
   "id": "eb452bf9",
   "metadata": {},
   "source": [
    "Создание объектов таблиц"
   ]
  },
  {
   "cell_type": "code",
   "execution_count": 6,
   "id": "e86593a9",
   "metadata": {},
   "outputs": [],
   "source": [
    "exam_marks=Table(\"exam_marks\", metadata_obj, autoload=True, autoload_with=\"engine\")\n",
    "lecturer=Table(\"lecturer\", metadata_obj, autoload=True, autoload_with=\"engine\")\n",
    "student=Table(\"student\", metadata_obj, autoload=True, autoload_with=\"engine\")\n",
    "subj_lect=Table(\"subj_lect\", metadata_obj, autoload=True, autoload_with=\"engine\")\n",
    "subject=Table(\"subject\", metadata_obj, autoload=True, autoload_with=\"engine\")\n",
    "university=Table(\"university\", metadata_obj, autolad=True, autolad_with=\"engine\")"
   ]
  },
  {
   "cell_type": "markdown",
   "id": "4f0287f8",
   "metadata": {},
   "source": [
    "# Решение"
   ]
  },
  {
   "cell_type": "code",
   "execution_count": 11,
   "id": "f760b09d",
   "metadata": {},
   "outputs": [],
   "source": []
  },
  {
   "cell_type": "code",
   "execution_count": 1,
   "id": "f0e2378d",
   "metadata": {
    "scrolled": false
   },
   "outputs": [],
   "source": [
    "# Ваш код здесь\n",
    "\n",
    "#1\n",
    "\n"
   ]
  },
  {
   "cell_type": "markdown",
   "id": "d65fe873",
   "metadata": {},
   "source": [
    "# Домашнее задание"
   ]
  }
 ],
 "metadata": {
  "kernelspec": {
   "display_name": "Python 3 (ipykernel)",
   "language": "python",
   "name": "python3"
  },
  "language_info": {
   "codemirror_mode": {
    "name": "ipython",
    "version": 3
   },
   "file_extension": ".py",
   "mimetype": "text/x-python",
   "name": "python",
   "nbconvert_exporter": "python",
   "pygments_lexer": "ipython3",
   "version": "3.9.7"
  }
 },
 "nbformat": 4,
 "nbformat_minor": 5
}
