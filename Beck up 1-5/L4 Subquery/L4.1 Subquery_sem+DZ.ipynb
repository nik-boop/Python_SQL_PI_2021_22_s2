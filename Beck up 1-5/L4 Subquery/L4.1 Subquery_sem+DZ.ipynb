{
 "cells": [
  {
   "cell_type": "markdown",
   "id": "b49555f0",
   "metadata": {},
   "source": [
    "<img src=\"../Img/Python_SQL_PI.png\" style=\"width:100%\">\n",
    "\n",
    "\n",
    "<p style=\"font-size:22px;text-align:center\">Семинар 4.1. Подзапросы</p> \n",
    "\n",
    "<a id = Home></a>\n",
    "\n",
    "17 марта 2022 года, пн<br>\n",
    "Поток: ПИ20-1, ПИ20-2, ПИ20-3, ПИ20-4, ПИ20-5, ПИ20-6 (2 подгруппа)<br>\n",
    "\n",
    "\n",
    "21 марта 2022 года, чт<br>\n",
    "ПИ20-1, ПИ20-2, ПИ20-3, ПИ20-4, ПИ20-5, ПИ20-6 (3 подгруппа)<br>\n",
    "ПИ20-1, ПИ20-2, ПИ20-3, ПИ20-4, ПИ20-5, ПИ20-6 (4 подгруппа)<br>\n",
    "\n",
    "31 марта 2022 года, чт<br>\n",
    "ПИ20-1, ПИ20-2, ПИ20-3, ПИ20-4, ПИ20-5, ПИ20-6 (1 подгруппа)"
   ]
  },
  {
   "cell_type": "markdown",
   "id": "50ec7a1a",
   "metadata": {},
   "source": [
    "\n",
    "```\n",
    "STUDENT\n",
    "STUDENT_ID — числовой код, идентифицирующий студента (идентификатор студента),\n",
    "SURNAME — фамилия студента,\n",
    "NAME — имя студента,\n",
    "STIPEND — стипендия, которую получает студент,\n",
    "KURS — курс, на котором учится студент,\n",
    "CITY — город, в котором живет студент,\n",
    "BIRTHDAY — дата рождения студента,\n",
    "UNIV_ID — идентификатор университета, в котором учится студент.\n",
    "\n",
    "\n",
    "LECTURER\n",
    "LECTURER_ID — идентификатор преподавателя,\n",
    "SURNAME — фамилия преподавателя,\n",
    "NAME — имя преподавателя,\n",
    "CITY — город, в котором живет преподаватель,\n",
    "UNIV_ID — идентификатор университета, в котором работает преподаватель\n",
    "\n",
    "\n",
    "SUBJECT\n",
    "SUBJ_ID — идентификатор предмета обучения,\n",
    "SUBJ_NAME — наименование предмета обучения,\n",
    "HOUR — количество часов, отводимых на изучение предмета,\n",
    "SEMESTER — семестр, в котором изучается данный предмет.\n",
    "\n",
    "\n",
    "UNIVERSITY\n",
    "UNIV_ID — идентификатор университета,\n",
    "UNIV_NAME — название университета,\n",
    "RATING — рейтинг университета,\n",
    "CITY — город, в котором расположен университет.\n",
    "\n",
    "\n",
    "EXAM_MARKS\n",
    "EXAM_ID — идентификатор экзамена,\n",
    "STUDENT_ID — идентификатор студента,\n",
    "SUBJ_ID — идентификатор предмета обучения,\n",
    "MARK — экзаменационная оценка,\n",
    "EXAM_DATE — дата экзамена.\n",
    "\n",
    "\n",
    "SUBJ_LECT\n",
    "LECTURER_ID — идентификатор преподавателя,\n",
    "SUBJ_ID — идентификатор предмета обучения.\n",
    "```\n",
    "\n",
    "<img src=\"../Img/Students_Schema.png\" style=\"width:60%\">"
   ]
  },
  {
   "cell_type": "markdown",
   "id": "fdf551d9",
   "metadata": {},
   "source": [
    "<img src=../Img/pencil.png style=\"width:190px;height:190px\">\n",
    "<p style=\"background-color:powderblue; font-size:125%; color: rebeccapurple;\">Выполните задания</p>\n",
    "<p>Выполните задания в Jupyter Notebook</p>\n",
    "\n",
    "1. С помощью подзапроса напишите запрос, выводящий список студентов, получающих максимальную стипендию, отсортировав его в алфавитном порядке по фамилиям.\n",
    "2. С помощью подзапроса напишите запрос, выводящий список студентов, получающих стипендию, превышающую среднее значение стипендии.\n",
    "3. С помощью подзапроса напишите запрос, выводящий список студентов, обучающихся в Воронеже, с последующей сортировкой по идентификаторам университетов и курсам.\n",
    "4. С помощью подзапроса напишите запрос, выводящий список предметов, на изучение которых отведено максимальное количество часов.\n",
    "5. Напишите запрос, выполняющий вывод имен и фамилий студентов, место проживания которых не совпадает с городом, в котором находится их университет.\n",
    "6. С помощью подзапроса напишите запрос, выводящий список университетов, расположенных в Москве и имеющих рейтинг больший, чем у ВГУ."
   ]
  },
  {
   "cell_type": "code",
   "execution_count": 1,
   "id": "bd703fb5",
   "metadata": {},
   "outputs": [],
   "source": [
    "#! pip install sqlalchemy"
   ]
  },
  {
   "cell_type": "code",
   "execution_count": 8,
   "id": "1eca5803",
   "metadata": {},
   "outputs": [],
   "source": [
    "import sqlite3\n",
    "conn2 = sqlite3.connect(r\"Lect_Students.db\")\n",
    "def select_all_tables(conn, sql_sent):\n",
    "    \n",
    "    cursor = conn.execute(sql_sent)\n",
    "    \n",
    "    rows = cursor.fetchall()\n",
    "    \n",
    "    if len(rows) == 0:\n",
    "        print(\"По такому запросу данных в БД нет.\")\n",
    "        return 0\n",
    "    \n",
    "    len_elm = [max([len(str(row[el])) for row in rows]) for el in range(len(rows[0]))]\n",
    "    answer_len = 4+(len(len_elm)-1)*3+sum(len_elm)\n",
    "    \n",
    "    print(\"—\"*answer_len)\n",
    "        \n",
    "    for index in range(len(rows)):\n",
    "        row = rows[index]\n",
    "        print(\"|\", end='')\n",
    "        for elem in range(len(row)):\n",
    "            print(\" \" + str(row[elem]).ljust(len_elm[elem]) + \" |\", end='')\n",
    "        print()\n",
    "    print(\"—\"*answer_len)"
   ]
  },
  {
   "cell_type": "code",
   "execution_count": 7,
   "id": "838ac58a",
   "metadata": {},
   "outputs": [],
   "source": [
    "from sqlalchemy import MetaData, Table, create_engine, select, and_, or_, not_\n",
    "from sqlalchemy.sql import func"
   ]
  },
  {
   "cell_type": "code",
   "execution_count": 8,
   "id": "43c73927",
   "metadata": {},
   "outputs": [],
   "source": [
    "engine = create_engine('sqlite:///../Data/Students.db')\n",
    "metadata_obj = MetaData() # Объект-контейнер, содержит информацию о схеме данных\n",
    "metadata_obj.reflect(bind=engine) # Отображение БД\n",
    "# Вызов метода reflect() приводит к включению в объект metadata_obj словаря всех таблиц БД."
   ]
  },
  {
   "cell_type": "markdown",
   "id": "d1ac920a",
   "metadata": {},
   "source": [
    "Несколько примеров получения информации о БД с помощью методов объекта ***metadata_obj***."
   ]
  },
  {
   "cell_type": "code",
   "execution_count": 9,
   "id": "6e528112",
   "metadata": {},
   "outputs": [
    {
     "data": {
      "text/plain": [
       "dict_keys(['city', 'exam_marks', 'student', 'university', 'subject', 'lecturer', 'subj_lect'])"
      ]
     },
     "execution_count": 9,
     "metadata": {},
     "output_type": "execute_result"
    }
   ],
   "source": [
    "# Таблицы в БД\n",
    "metadata_obj.tables.keys()"
   ]
  },
  {
   "cell_type": "code",
   "execution_count": 10,
   "id": "4ba88c74",
   "metadata": {},
   "outputs": [
    {
     "data": {
      "text/plain": [
       "'student'"
      ]
     },
     "execution_count": 10,
     "metadata": {},
     "output_type": "execute_result"
    }
   ],
   "source": [
    "# Имя конкретной таблицы\n",
    "metadata_obj.tables['student'].name"
   ]
  },
  {
   "cell_type": "code",
   "execution_count": 11,
   "id": "3a140f55",
   "metadata": {},
   "outputs": [
    {
     "data": {
      "text/plain": [
       "['student_id',\n",
       " 'surname',\n",
       " 'name',\n",
       " 'stipend',\n",
       " 'kurs',\n",
       " 'city',\n",
       " 'birthday',\n",
       " 'univ_id']"
      ]
     },
     "execution_count": 11,
     "metadata": {},
     "output_type": "execute_result"
    }
   ],
   "source": [
    "# Столбцы конкретной таблицы\n",
    "metadata_obj.tables['student'].columns.keys()"
   ]
  },
  {
   "cell_type": "code",
   "execution_count": 12,
   "id": "ddaa1d7b",
   "metadata": {},
   "outputs": [
    {
     "data": {
      "text/plain": [
       "Column('student_id', INTEGER(), table=<student>, primary_key=True, nullable=False)"
      ]
     },
     "execution_count": 12,
     "metadata": {},
     "output_type": "execute_result"
    }
   ],
   "source": [
    "# Информация о столбце\n",
    "metadata_obj.tables['student'].columns['student_id']"
   ]
  },
  {
   "cell_type": "code",
   "execution_count": 13,
   "id": "2bfd867e",
   "metadata": {},
   "outputs": [
    {
     "name": "stdout",
     "output_type": "stream",
     "text": [
      "city\n",
      "subject\n",
      "university\n",
      "lecturer\n",
      "student\n",
      "exam_marks\n",
      "subj_lect\n"
     ]
    }
   ],
   "source": [
    "for t in metadata_obj.sorted_tables:\n",
    "    print(t.name)"
   ]
  },
  {
   "cell_type": "code",
   "execution_count": 14,
   "id": "f544eb88",
   "metadata": {
    "scrolled": true
   },
   "outputs": [
    {
     "name": "stdout",
     "output_type": "stream",
     "text": [
      "city\n",
      "city.city_id\n",
      "city.name\n",
      "\n",
      "subject\n",
      "subject.subj_id\n",
      "subject.subj_name\n",
      "subject.hour\n",
      "subject.semester\n",
      "\n",
      "university\n",
      "university.univ_id\n",
      "university.univ_name\n",
      "university.rating\n",
      "university.city\n",
      "\n",
      "lecturer\n",
      "lecturer.lecturer_id\n",
      "lecturer.surname\n",
      "lecturer.name\n",
      "lecturer.city\n",
      "lecturer.univ_id\n",
      "\n",
      "student\n",
      "student.student_id\n",
      "student.surname\n",
      "student.name\n",
      "student.stipend\n",
      "student.kurs\n",
      "student.city\n",
      "student.birthday\n",
      "student.univ_id\n",
      "\n",
      "exam_marks\n",
      "exam_marks.exam_id\n",
      "exam_marks.student_id\n",
      "exam_marks.subj_id\n",
      "exam_marks.mark\n",
      "exam_marks.exam_date\n",
      "\n",
      "subj_lect\n",
      "subj_lect.lecturer_id\n",
      "subj_lect.subj_id\n",
      "\n"
     ]
    }
   ],
   "source": [
    "for t in metadata_obj.sorted_tables:\n",
    "    print(t.name)\n",
    "    for c in t.columns:\n",
    "        print(c)\n",
    "    print()"
   ]
  },
  {
   "cell_type": "markdown",
   "id": "45f63180",
   "metadata": {},
   "source": [
    "Создание объектов таблиц"
   ]
  },
  {
   "cell_type": "code",
   "execution_count": 17,
   "id": "5f6e0957",
   "metadata": {},
   "outputs": [],
   "source": [
    "exam_marks=Table(\"exam_marks\", metadata_obj, autoload=True, autoload_with=\"engine\")\n",
    "lecturer=Table(\"lecturer\", metadata_obj, autoload=True, autoload_with=\"engine\")\n",
    "student=Table(\"student\", metadata_obj, autoload=True, autoload_with=\"engine\")\n",
    "subj_lect=Table(\"subj_lect\", metadata_obj, autoload=True, autoload_with=\"engine\")\n",
    "subject=Table(\"subject\", metadata_obj, autoload=True, autoload_with=\"engine\")\n",
    "university=Table(\"university\", metadata_obj, autolad=True, autolad_with=\"engine\")"
   ]
  },
  {
   "cell_type": "markdown",
   "id": "2000589e",
   "metadata": {},
   "source": [
    "# Решение"
   ]
  },
  {
   "cell_type": "code",
   "execution_count": 16,
   "id": "24e85a7b",
   "metadata": {},
   "outputs": [],
   "source": [
    "conn=engine.connect() # Соединение"
   ]
  },
  {
   "cell_type": "code",
   "execution_count": 50,
   "id": "43f684bd",
   "metadata": {
    "scrolled": false
   },
   "outputs": [
    {
     "name": "stdout",
     "output_type": "stream",
     "text": [
      "SELECT student.student_id, student.surname, student.name, student.stipend, student.kurs, student.city, student.birthday, student.univ_id \n",
      "FROM student \n",
      "WHERE student.stipend = (SELECT max(student.stipend) AS max_1 \n",
      "FROM student) ORDER BY student.surname\n",
      "18\n",
      "—————————————————————————————————————————————————————————————————————————————————————————————\n",
      "| 55  | Белкин     | Вадим      | 250 | 5 | Воронеж              | 2000-01-07 00:00:00 | 10 |\n",
      "| 91  | Блохина    | Ираида     | 250 | 3 | Новый Уренгой        | 1997-03-23 00:00:00 | 22 |\n",
      "| 149 | Вячеслав   | Пахомов    | 250 | 3 | Игарка               | 1997-05-14 00:00:00 | 14 |\n",
      "| 141 | Ершов      | Митрофан   | 250 | 5 | Пятигорск            | 2001-05-28 00:00:00 | 22 |\n",
      "| 64  | Жук        | Оксана     | 250 | 1 | Воркута              | 2000-11-16 00:00:00 | 47 |\n",
      "| 12  | Зайцева    | Ольга      | 250 | 2 | Липецк               | 2001-05-01 00:00:00 | 10 |\n",
      "| 68  | Казакова   | Ольга      | 250 | 4 | Кемерово             | 2000-03-29 00:00:00 | 44 |\n",
      "| 130 | Кудряшов   | Роман      | 250 | 4 | Нижний Новгород      | 1997-08-26 00:00:00 | 32 |\n",
      "| 92  | Мельникова | Светлана   | 250 | 4 | Кропоткин (Краснод.) | 1998-03-24 00:00:00 | 15 |\n",
      "| 107 | Морозов    | Кирилл     | 250 | 2 | Кропоткин (Краснод.) | 2000-09-29 00:00:00 | 44 |\n",
      "| 66  | Некрасова  | Вероника   | 250 | 2 | Иркутск              | 2004-08-23 00:00:00 | 10 |\n",
      "| 114 | Панов      | Арсений    | 250 | 1 | Геленджик            | 1996-12-23 00:00:00 | 32 |\n",
      "| 204 | Петров     | Вадим      | 250 | 2 | Брянск               | 2002-05-21 00:00:00 | 44 |\n",
      "| 203 | Петрова    | Екатерина  | 250 | 4 | Белгород             | 2001-05-21 00:00:00 | 14 |\n",
      "| 72  | Пономарева | Алина      | 250 | 2 | Ангарск              | 2002-10-07 00:00:00 | 48 |\n",
      "| 146 | Русаков    | Давид      | 250 | 2 | Байкальск            | 1998-08-07 00:00:00 | 47 |\n",
      "| 110 | Суханов    | Константин | 250 | 3 | Курск                | 1996-11-22 00:00:00 | 14 |\n",
      "| 103 | Трофимов   | Владислав  | 250 | 5 | Верхоянск            | 1995-03-24 00:00:00 | 11 |\n",
      "—————————————————————————————————————————————————————————————————————————————————————————————\n"
     ]
    }
   ],
   "source": [
    "# Ваш код здесь\n",
    "\n",
    "'''\n",
    "1 С помощью подзапроса напишите запрос,\n",
    "выводящий список студентов, получающих максимальную стипендию, отсортировав его в алфавитном порядке по фамилиям.\n",
    "'''\n",
    "sq = select(func.max(student.c.stipend)).scalar_subquery()\n",
    "\n",
    "s = select(student)\n",
    "s = s.where(student.c.stipend == sq)\n",
    "s = s.order_by(student.c.surname)\n",
    "\n",
    "print(s)\n",
    "\n",
    "\n",
    "result = conn.execute(s).fetchall()\n",
    "print(len(result))\n",
    "select_all_tables(conn, s)"
   ]
  },
  {
   "cell_type": "code",
   "execution_count": null,
   "id": "8172384c",
   "metadata": {},
   "outputs": [],
   "source": [
    "SELECT * FROM student\n",
    "    where stipend = (\n",
    "    select max(stipend) from student)\n",
    "    order by surname;"
   ]
  },
  {
   "cell_type": "code",
   "execution_count": 43,
   "id": "aa8b029c",
   "metadata": {},
   "outputs": [
    {
     "name": "stdout",
     "output_type": "stream",
     "text": [
      "SELECT student.surname, student.name, date(student.birthday) AS date_1, student.stipend \n",
      "FROM student \n",
      "WHERE student.stipend > (SELECT avg(student.stipend) AS avg_1 \n",
      "FROM student) ORDER BY student.surname\n",
      "60\n",
      "———————————————————————————————————————————————\n",
      "| Агафонов   | Василий     | 1994-10-29 | 150 |\n",
      "| Аксенов    | Валерий     | 1994-10-27 | 150 |\n",
      "| Архипов    | Андрей      | 2000-01-28 | 180 |\n",
      "| Баранов    | Александр   | 2001-08-18 | 220 |\n",
      "| Белкин     | Вадим       | 2000-01-07 | 250 |\n",
      "| Блохина    | Ираида      | 1997-03-23 | 250 |\n",
      "| Борисова   | Марина      | 1995-08-07 | 150 |\n",
      "| Валерия    | Овчинникова | 2000-06-15 | 200 |\n",
      "| Веселов    | Тимур       | 1998-04-28 | 150 |\n",
      "| Вишнякова  | Анжела      | 2002-02-10 | 200 |\n",
      "| Владимиров | Анатолий    | 2003-05-21 | 200 |\n",
      "| Вячеслав   | Пахомов     | 1997-05-14 | 250 |\n",
      "| Гуляев     | Кузьма      | 1999-10-13 | 150 |\n",
      "| Дуб        | Елизавета   | 2004-07-04 | 150 |\n",
      "| Ершов      | Митрофан    | 2001-05-28 | 250 |\n",
      "| Ефимов     | Яков        | 2000-09-23 | 200 |\n",
      "| Жданова    | Ирина       | 2002-03-02 | 200 |\n",
      "| Жук        | Оксана      | 2000-11-16 | 250 |\n",
      "| Жукова     | Фекла       | 1998-10-06 | 150 |\n",
      "| Жуковский  | Юрий        | 1996-05-30 | 150 |\n",
      "| Журавлев   | Фома        | 1997-07-12 | 200 |\n",
      "| Зайцева    | Ольга       | 2001-05-01 | 250 |\n",
      "| Захаров    | Софон       | 1994-03-19 | 150 |\n",
      "| Иванов     | Иван        | 2002-12-03 | 150 |\n",
      "| Иванова    | Мария       | 2002-04-11 | 200 |\n",
      "| Казакова   | Ольга       | 2000-03-29 | 250 |\n",
      "| Казакова   | Мария       | 1994-02-18 | 150 |\n",
      "| Калашников | Евгений     | 1998-02-27 | 200 |\n",
      "| Киселев    | Владимир    | 2003-02-10 | 210 |\n",
      "| Ковалев    | Ефим        | 1995-11-28 | 200 |\n",
      "| Кондрат    | Синицин     | 2001-02-23 | 200 |\n",
      "| Кондратьев | Николай     | 1999-10-28 | 150 |\n",
      "| Котов      | Павел       | 2001-02-28 | 150 |\n",
      "| Кудряшов   | Роман       | 1997-08-26 | 250 |\n",
      "| Кулаков    | Феофан      | 2001-03-14 | 150 |\n",
      "| Лапина     | Элеонора    | 1997-11-23 | 150 |\n",
      "| Лукин      | Артем       | 2001-12-01 | 200 |\n",
      "| Мельникова | Светлана    | 1998-03-24 | 250 |\n",
      "| Миронова   | Анна        | 2000-10-08 | 200 |\n",
      "| Миронова   | Федор       | 2002-04-15 | 200 |\n",
      "| Мишина     | Светлана    | 1997-05-22 | 150 |\n",
      "| Морозов    | Кирилл      | 2000-09-29 | 250 |\n",
      "| Назаров    | Икром       | 2001-12-15 | 150 |\n",
      "| Некрасова  | Вероника    | 2004-08-23 | 250 |\n",
      "| Панов      | Арсений     | 1996-12-23 | 250 |\n",
      "| Петров     | Петр        | 2000-12-01 | 200 |\n",
      "| Петров     | Вадим       | 2002-05-21 | 250 |\n",
      "| Петров     | Антон       | 2001-08-05 | 200 |\n",
      "| Петрова    | Екатерина   | 2001-05-21 | 250 |\n",
      "| Пономарев  | Варфоромей  | 2000-12-15 | 200 |\n",
      "| Пономарева | Алина       | 2002-10-07 | 250 |\n",
      "| Русаков    | Давид       | 1998-08-07 | 250 |\n",
      "| Сидоров    | Вадим       | 1999-06-07 | 150 |\n",
      "| Ситников   | Викентий    | 2003-10-05 | 150 |\n",
      "| Сорокина   | Ирина       | 1993-09-28 | 200 |\n",
      "| Сорокина   | Валерия     | 1995-03-01 | 150 |\n",
      "| Суханов    | Константин  | 1996-11-22 | 250 |\n",
      "| Тимофеева  | Фаина       | 1999-08-01 | 150 |\n",
      "| Трофимов   | Владислав   | 1995-03-24 | 250 |\n",
      "| Ширяев     | Андрей      | 1997-09-13 | 150 |\n",
      "———————————————————————————————————————————————\n"
     ]
    }
   ],
   "source": [
    "'''\n",
    "2 С помощью подзапроса напишите запрос,\n",
    "выводящий список студентов, получающих стипендию, превышающую среднее значение стипендии.\n",
    "'''\n",
    "sq = select(func.avg(student.c.stipend)).scalar_subquery()\n",
    "\n",
    "s = select(student.c.surname, student.c.name, func.date(student.c.birthday), student.c.stipend)\n",
    "s = s.where(student.c.stipend > sq)\n",
    "s = s.order_by(student.c.surname)\n",
    "\n",
    "print(s)\n",
    "\n",
    "\n",
    "result = conn.execute(s).fetchall()\n",
    "print(len(result))\n",
    "select_all_tables(conn, s)"
   ]
  },
  {
   "cell_type": "code",
   "execution_count": null,
   "id": "952e64ac",
   "metadata": {},
   "outputs": [],
   "source": [
    "SELECT surname, name, birthday, stipend FROM student\n",
    "    where stipend > (\n",
    "    select avg(stipend) from student)\n",
    "    order by surname;"
   ]
  },
  {
   "cell_type": "code",
   "execution_count": 45,
   "id": "15f45f10",
   "metadata": {},
   "outputs": [
    {
     "name": "stdout",
     "output_type": "stream",
     "text": [
      "SELECT student.student_id, student.surname, student.name, student.stipend, student.kurs, student.city, student.birthday, student.univ_id \n",
      "FROM student \n",
      "WHERE student.univ_id IN (SELECT university.univ_id \n",
      "FROM university \n",
      "WHERE university.city = :city_1) ORDER BY student.univ_id\n",
      "22\n",
      "———————————————————————————————————————————————————————————————————————————————————————\n",
      "| 1   | Иванов     | Иван        | 150 | 1 | Орел          | 2002-12-03 00:00:00 | 10 |\n",
      "| 3   | Петров     | Петр        | 200 | 3 | Курск         | 2000-12-01 00:00:00 | 10 |\n",
      "| 10  | Кузнецов   | Борис       | 0   | 2 | Брянск        | 2001-12-08 00:00:00 | 10 |\n",
      "| 12  | Зайцева    | Ольга       | 250 | 2 | Липецк        | 2001-05-01 00:00:00 | 10 |\n",
      "| 55  | Белкин     | Вадим       | 250 | 5 | Воронеж       | 2000-01-07 00:00:00 | 10 |\n",
      "| 62  | Семенова   | Вероника    | 0   | 3 | Вологда       | 2003-10-04 00:00:00 | 10 |\n",
      "| 65  | Сергеева   | Фёкла       | 100 | 5 | None          | 2000-02-19 00:00:00 | 10 |\n",
      "| 66  | Некрасова  | Вероника    | 250 | 2 | Иркутск       | 2004-08-23 00:00:00 | 10 |\n",
      "| 76  | Мельникова | Дарья       | 100 | 5 | Архангельск   | 2002-08-01 00:00:00 | 10 |\n",
      "| 78  | Агафонов   | Василий     | 150 | 1 | Грозный       | 1994-10-29 00:00:00 | 10 |\n",
      "| 88  | Жданова    | Ирина       | 200 | 3 | Тверь         | 2002-03-02 00:00:00 | 10 |\n",
      "| 99  | Борисова   | Марина      | 150 | 1 | Рославль      | 1995-08-07 00:00:00 | 10 |\n",
      "| 113 | Аксенов    | Валерий     | 150 | 1 | Мурманск      | 1994-10-27 00:00:00 | 10 |\n",
      "| 116 | Федоров    | Гостомысл   | 100 | 4 | Новый Уренгой | 2000-11-16 00:00:00 | 10 |\n",
      "| 265 | Павлов     | Андрей      | 0   | 3 | Воронеж       | 2000-11-05 00:00:00 | 10 |\n",
      "| 654 | Лукин      | Артем       | 200 | 3 | Воронеж       | 2001-12-01 00:00:00 | 10 |\n",
      "| 61  | Соколова   | Ия          | 100 | 1 | Колпашево     | 2002-06-25 00:00:00 | 18 |\n",
      "| 71  | Кондрат    | Синицин     | 200 | 4 | Ишим          | 2001-02-23 00:00:00 | 18 |\n",
      "| 77  | Мишина     | Светлана    | 150 | 2 | Рыльск        | 1997-05-22 00:00:00 | 18 |\n",
      "| 89  | Валерия    | Овчинникова | 200 | 5 | Улан-Удэ      | 2000-06-15 00:00:00 | 18 |\n",
      "| 124 | Юдин       | Савва       | 0   | 2 | Усинск        | 2001-12-02 00:00:00 | 18 |\n",
      "| 139 | Журавлев   | Фома        | 200 | 2 | Улан-Удэ      | 1997-07-12 00:00:00 | 18 |\n",
      "———————————————————————————————————————————————————————————————————————————————————————\n"
     ]
    }
   ],
   "source": [
    "'''\n",
    "3 С помощью подзапроса напишите запрос,\n",
    "выводящий список студентов, обучающихся в Воронеже, с последующей сортировкой по идентификаторам университетов и курсам.\n",
    "'''\n",
    "sq = select(university.c.univ_id).scalar_subquery()\n",
    "sq = sq.where(university.c.city == \"Воронеж\")\n",
    "\n",
    "s = select(student)\n",
    "s = s.where(student.c.univ_id.in_(sq))\n",
    "s = s.order_by(student.c.univ_id)\n",
    "\n",
    "print(s)\n",
    "\n",
    "\n",
    "result = conn.execute(s).fetchall()\n",
    "print(len(result))\n",
    "select_all_tables(conn, s)"
   ]
  },
  {
   "cell_type": "code",
   "execution_count": null,
   "id": "7662e172",
   "metadata": {},
   "outputs": [],
   "source": [
    "SELECT * FROM student\n",
    "    where univ_id in (\n",
    "    select univ_id from university where city = 'Воронеж')\n",
    "    order by univ_id;"
   ]
  },
  {
   "cell_type": "code",
   "execution_count": 48,
   "id": "8428a1db",
   "metadata": {},
   "outputs": [
    {
     "name": "stdout",
     "output_type": "stream",
     "text": [
      "SELECT student.student_id, student.surname, student.name, student.stipend, student.kurs, student.city, student.birthday, student.univ_id \n",
      "FROM student \n",
      "WHERE student.univ_id != (SELECT university.city \n",
      "FROM university \n",
      "WHERE university.univ_id = student.univ_id) ORDER BY student.univ_id\n",
      "89\n",
      "——————————————————————————————————————————————————————————————————————————————————————————————\n",
      "| 1   | Иванов     | Иван        | 150 | 1 | Орел                 | 2002-12-03 00:00:00 | 10 |\n",
      "| 3   | Петров     | Петр        | 200 | 3 | Курск                | 2000-12-01 00:00:00 | 10 |\n",
      "| 10  | Кузнецов   | Борис       | 0   | 2 | Брянск               | 2001-12-08 00:00:00 | 10 |\n",
      "| 12  | Зайцева    | Ольга       | 250 | 2 | Липецк               | 2001-05-01 00:00:00 | 10 |\n",
      "| 55  | Белкин     | Вадим       | 250 | 5 | Воронеж              | 2000-01-07 00:00:00 | 10 |\n",
      "| 62  | Семенова   | Вероника    | 0   | 3 | Вологда              | 2003-10-04 00:00:00 | 10 |\n",
      "| 65  | Сергеева   | Фёкла       | 100 | 5 | None                 | 2000-02-19 00:00:00 | 10 |\n",
      "| 66  | Некрасова  | Вероника    | 250 | 2 | Иркутск              | 2004-08-23 00:00:00 | 10 |\n",
      "| 76  | Мельникова | Дарья       | 100 | 5 | Архангельск          | 2002-08-01 00:00:00 | 10 |\n",
      "| 78  | Агафонов   | Василий     | 150 | 1 | Грозный              | 1994-10-29 00:00:00 | 10 |\n",
      "| 88  | Жданова    | Ирина       | 200 | 3 | Тверь                | 2002-03-02 00:00:00 | 10 |\n",
      "| 99  | Борисова   | Марина      | 150 | 1 | Рославль             | 1995-08-07 00:00:00 | 10 |\n",
      "| 113 | Аксенов    | Валерий     | 150 | 1 | Мурманск             | 1994-10-27 00:00:00 | 10 |\n",
      "| 116 | Федоров    | Гостомысл   | 100 | 4 | Новый Уренгой        | 2000-11-16 00:00:00 | 10 |\n",
      "| 265 | Павлов     | Андрей      | 0   | 3 | Воронеж              | 2000-11-05 00:00:00 | 10 |\n",
      "| 654 | Лукин      | Артем       | 200 | 3 | Воронеж              | 2001-12-01 00:00:00 | 10 |\n",
      "| 58  | Журавлева  | Вера        | 0   | 4 | Новосибирск          | 2003-06-14 00:00:00 | 11 |\n",
      "| 103 | Трофимов   | Владислав   | 250 | 5 | Верхоянск            | 1995-03-24 00:00:00 | 11 |\n",
      "| 123 | Веселов    | Тимур       | 150 | 1 | Невинномысск         | 1998-04-28 00:00:00 | 11 |\n",
      "| 126 | Жуков      | Пров        | 0   | 3 | Кыштым               | 1998-09-11 00:00:00 | 11 |\n",
      "| 32  | Котов      | Павел       | 150 | 5 | Белгород             | 2001-02-28 00:00:00 | 14 |\n",
      "| 57  | Кудряшова  | Вера        | 100 | 5 | Нижневартовск        | 2002-02-18 00:00:00 | 14 |\n",
      "| 90  | Костина    | Кира        | 0   | 4 | Устюжна              | 1995-07-15 00:00:00 | 14 |\n",
      "| 110 | Суханов    | Константин  | 250 | 3 | Курск                | 1996-11-22 00:00:00 | 14 |\n",
      "| 118 | Кондратьев | Николай     | 150 | 3 | Ханты-Мансийск       | 1999-10-28 00:00:00 | 14 |\n",
      "| 135 | Комаров    | Ипат        | 0   | 1 | Нерчинск             | 2000-07-17 00:00:00 | 14 |\n",
      "| 149 | Вячеслав   | Пахомов     | 250 | 3 | Игарка               | 1997-05-14 00:00:00 | 14 |\n",
      "| 202 | Владимиров | Анатолий    | 200 | 2 | Курск                | 2003-05-21 00:00:00 | 14 |\n",
      "| 203 | Петрова    | Екатерина   | 250 | 4 | Белгород             | 2001-05-21 00:00:00 | 14 |\n",
      "| 63  | Пак        | Ирина       | 100 | 1 | Магадан              | 2000-08-22 00:00:00 | 15 |\n",
      "| 92  | Мельникова | Светлана    | 250 | 4 | Кропоткин (Краснод.) | 1998-03-24 00:00:00 | 15 |\n",
      "| 61  | Соколова   | Ия          | 100 | 1 | Колпашево            | 2002-06-25 00:00:00 | 18 |\n",
      "| 71  | Кондрат    | Синицин     | 200 | 4 | Ишим                 | 2001-02-23 00:00:00 | 18 |\n",
      "| 77  | Мишина     | Светлана    | 150 | 2 | Рыльск               | 1997-05-22 00:00:00 | 18 |\n",
      "| 89  | Валерия    | Овчинникова | 200 | 5 | Улан-Удэ             | 2000-06-15 00:00:00 | 18 |\n",
      "| 124 | Юдин       | Савва       | 0   | 2 | Усинск               | 2001-12-02 00:00:00 | 18 |\n",
      "| 139 | Журавлев   | Фома        | 200 | 2 | Улан-Удэ             | 1997-07-12 00:00:00 | 18 |\n",
      "| 6   | Сидоров    | Вадим       | 150 | 4 | Москва               | 1999-06-07 00:00:00 | 22 |\n",
      "| 74  | Гуляева    | Рукижат     | 0   | 3 | Невельск (Сахалин)   | 2002-07-23 00:00:00 | 22 |\n",
      "| 75  | Игнатова   | Зинаида     | 100 | 5 | Ростов               | 2000-09-26 00:00:00 | 22 |\n",
      "| 91  | Блохина    | Ираида      | 250 | 3 | Новый Уренгой        | 1997-03-23 00:00:00 | 22 |\n",
      "| 105 | Антонов    | Анатолий    | 100 | 1 | Сыктывкар            | 1997-04-08 00:00:00 | 22 |\n",
      "| 133 | Жуковский  | Юрий        | 150 | 4 | Сургут (Хант.)       | 1996-05-30 00:00:00 | 22 |\n",
      "| 141 | Ершов      | Митрофан    | 250 | 5 | Пятигорск            | 2001-05-28 00:00:00 | 22 |\n",
      "| 147 | Симонов    | Семен       | 100 | 5 | Беломорск            | 2000-03-17 00:00:00 | 22 |\n",
      "| 201 | Архипов    | Андрей      | 180 | 1 | Орел                 | 2000-01-28 00:00:00 | 22 |\n",
      "| 276 | Петров     | Антон       | 200 | 4 | Ульяновск            | 2001-08-05 00:00:00 | 22 |\n",
      "| 79  | Афанасьева | Анжелика    | 0   | 2 | Уфа                  | 1996-11-22 00:00:00 | 32 |\n",
      "| 85  | Казакова   | Мария       | 150 | 4 | Нальчик              | 1994-02-18 00:00:00 | 32 |\n",
      "| 94  | Васильева  | Оксана      | 0   | 1 | Кизилюрт             | 1994-05-14 00:00:00 | 32 |\n",
      "| 114 | Панов      | Арсений     | 250 | 1 | Геленджик            | 1996-12-23 00:00:00 | 32 |\n",
      "| 130 | Кудряшов   | Роман       | 250 | 4 | Нижний Новгород      | 1997-08-26 00:00:00 | 32 |\n",
      "| 136 | Ефимов     | Яков        | 200 | 1 | Тимашевск            | 2000-09-23 00:00:00 | 32 |\n",
      "| 205 | Иванова    | Мария       | 200 | 1 | Липецк               | 2002-04-11 00:00:00 | 32 |\n",
      "| 68  | Казакова   | Ольга       | 250 | 4 | Кемерово             | 2000-03-29 00:00:00 | 44 |\n",
      "| 73  | Одинцова   | Лидия       | 100 | 5 | Верхний Баскунчак    | 2002-03-07 00:00:00 | 44 |\n",
      "| 80  | Фролова    | Василиса    | 100 | 3 | Кисловодск           | 1999-06-02 00:00:00 | 44 |\n",
      "| 104 | Бирюков    | Герасим     | 0   | 4 | Жуковский            | 1999-10-16 00:00:00 | 44 |\n",
      "| 107 | Морозов    | Кирилл      | 250 | 2 | Кропоткин (Краснод.) | 2000-09-29 00:00:00 | 44 |\n",
      "| 125 | Пономарев  | Варфоромей  | 200 | 4 | Улан-Удэ             | 2000-12-15 00:00:00 | 44 |\n",
      "| 148 | Гуляев     | Кузьма      | 150 | 5 | Корсаков             | 1999-10-13 00:00:00 | 44 |\n",
      "| 200 | Баранов    | Александр   | 220 | 2 | Москва               | 2001-08-18 00:00:00 | 44 |\n",
      "| 204 | Петров     | Вадим       | 250 | 2 | Брянск               | 2002-05-21 00:00:00 | 44 |\n",
      "| 206 | Киселев    | Владимир    | 210 | 2 | Орел                 | 2003-02-10 00:00:00 | 44 |\n",
      "| 69  | Шубина     | Елена       | 0   | 2 | Камень-на-Оби        | 2002-08-24 00:00:00 | 45 |\n",
      "| 82  | Лапина     | Элеонора    | 150 | 3 | Джубга               | 1997-11-23 00:00:00 | 45 |\n",
      "| 95  | Сорокина   | Валерия     | 150 | 1 | Енисейск             | 1995-03-01 00:00:00 | 45 |\n",
      "| 96  | Тимофеева  | Фаина       | 150 | 3 | None                 | 1999-08-01 00:00:00 | 45 |\n",
      "| 207 | Миронова   | Федор       | 200 | 3 | Москва               | 2002-04-15 00:00:00 | 45 |\n",
      "| 70  | Миронова   | Анна        | 200 | 2 | Владикавказ          | 2000-10-08 00:00:00 | 46 |\n",
      "| 86  | Жукова     | Фекла       | 150 | 3 | Магадан              | 1998-10-06 00:00:00 | 46 |\n",
      "| 97  | Вишнякова  | Анжела      | 200 | 2 | Иваново              | 2002-02-10 00:00:00 | 46 |\n",
      "| 112 | Захаров    | Софон       | 150 | 3 | Мурманск             | 1994-03-19 00:00:00 | 46 |\n",
      "| 121 | Воронова   | Антонина    | 0   | 4 | Усть-Джегута         | 1999-02-04 00:00:00 | 46 |\n",
      "| 128 | Васильев   | Матвей      | 100 | 1 | Чебоксары            | 2000-07-18 00:00:00 | 46 |\n",
      "| 137 | Кулаков    | Феофан      | 150 | 3 | Волоколамск          | 2001-03-14 00:00:00 | 46 |\n",
      "| 140 | Ширяев     | Андрей      | 150 | 2 | Джубга               | 1997-09-13 00:00:00 | 46 |\n",
      "| 144 | Ситников   | Викентий    | 150 | 5 | Иркутск              | 2003-10-05 00:00:00 | 46 |\n",
      "| 64  | Жук        | Оксана      | 250 | 1 | Воркута              | 2000-11-16 00:00:00 | 47 |\n",
      "| 108 | Назаров    | Икром       | 150 | 4 | Саянск               | 2001-12-15 00:00:00 | 47 |\n",
      "| 117 | Лазарев    | Константин  | 100 | 2 | Славянск-на-Кубани   | 1998-05-22 00:00:00 | 47 |\n",
      "| 131 | Ковалев    | Ефим        | 200 | 2 | Волгоград            | 1995-11-28 00:00:00 | 47 |\n",
      "| 143 | Бирюков    | Мартин      | 100 | 4 | Курганинск           | 2000-11-14 00:00:00 | 47 |\n",
      "| 146 | Русаков    | Давид       | 250 | 2 | Байкальск            | 1998-08-07 00:00:00 | 47 |\n",
      "| 56  | Дуб        | Елизавета   | 150 | 2 | Усть-Кут             | 2004-07-04 00:00:00 | 48 |\n",
      "| 60  | Рожкова    | Пелагея     | 0   | 3 | Рубцовск             | 2001-09-15 00:00:00 | 48 |\n",
      "| 72  | Пономарева | Алина       | 250 | 2 | Ангарск              | 2002-10-07 00:00:00 | 48 |\n",
      "| 83  | Сорокина   | Ирина       | 200 | 3 | Усмань               | 1993-09-28 00:00:00 | 48 |\n",
      "| 101 | Калашников | Евгений     | 200 | 2 | Калининград          | 1998-02-27 00:00:00 | 48 |\n",
      "——————————————————————————————————————————————————————————————————————————————————————————————\n"
     ]
    }
   ],
   "source": [
    "'''\n",
    "5 Напишите запрос, выполняющий вывод имен и фамилий студентов,\n",
    "место проживания которых не совпадает с городом, в котором находится их университет.\n",
    "'''\n",
    "sq = select(university.c.city)\n",
    "sq = sq.where(university.c.univ_id == student.c.univ_id).scalar_subquery()\n",
    "\n",
    "\n",
    "s = select(student)\n",
    "s = s.where(student.c.univ_id != sq)\n",
    "s = s.order_by(student.c.univ_id)\n",
    "\n",
    "print(s)\n",
    "\n",
    "\n",
    "result = conn.execute(s).fetchall()\n",
    "print(len(result))\n",
    "select_all_tables(conn, s)"
   ]
  },
  {
   "cell_type": "code",
   "execution_count": null,
   "id": "327cf506",
   "metadata": {},
   "outputs": [],
   "source": []
  },
  {
   "cell_type": "markdown",
   "id": "822f825f",
   "metadata": {},
   "source": [
    "# Домашнее задание"
   ]
  },
  {
   "cell_type": "markdown",
   "id": "4ed1f5df",
   "metadata": {},
   "source": [
    "1. Выполнить отображение БД Chinook\n",
    "\n",
    "<img src=\"../Img/chinook_ERD.png\" style=\"width:100%\">\n",
    "\n",
    "2. Выполнить запросы с помощью подзапросов.\n",
    "\n",
    "2.1. Составьте запрос, выполняющий вывод информации о счетах клиентов из Бразилии. Результат должен содержать фамилию и имя клиента, идентификатор счета, дату выставления счета, название страны плательщика (Billing Country).\n",
    "\n",
    "2.2. Покажите сотрудников, подчиняющихся сотруднику *Nancy Edwards*.\n",
    "\n",
    "2.3. Покажите трэки в жанре *Classical*, длящиеся более 8 минут.\n",
    "\n",
    "2.4. Покажите альбомы, в составе которых более 25 трэков.\n",
    "\n",
    "2.5. Покажите жанры, в составе которых имеются трэки, длящиеся более 18 минут.\n",
    "\n",
    "2.6. Покажите артистов в жанре *Classical*.\n",
    "\n",
    "2.7. Найдите артистов, записавших альбомы, в которых более 20 произведений."
   ]
  },
  {
   "cell_type": "code",
   "execution_count": 1,
   "id": "e9f5c3bb",
   "metadata": {},
   "outputs": [],
   "source": [
    "from sqlalchemy import MetaData, Table, create_engine, select, and_, or_, not_\n",
    "from sqlalchemy.sql import func"
   ]
  },
  {
   "cell_type": "code",
   "execution_count": 2,
   "id": "0e1f47db",
   "metadata": {},
   "outputs": [],
   "source": [
    "engine = create_engine('sqlite:///../Data/Chinook_Sqlite.sqlite')\n",
    "metadata_obj = MetaData() # Объект-контейнер, содержит информацию о схеме данных\n",
    "metadata_obj.reflect(bind=engine) # Отображение БД\n",
    "# Вызов метода reflect() приводит к включению в объект metadata_obj словаря всех таблиц БД."
   ]
  },
  {
   "cell_type": "code",
   "execution_count": 25,
   "id": "4ce0f5ce",
   "metadata": {},
   "outputs": [],
   "source": [
    "employee=Table(\"Employee\", metadata_obj, autoload=True, autoload_with=\"engine\")\n",
    "customer = Table(\"Customer\", metadata_obj, autoload=True, autoload_with=\"engine\")\n",
    "invoice = Table(\"Invoice\", metadata_obj, autoload=True, autoload_with=\"engine\")\n",
    "genre=Table(\"Genre\", metadata_obj, autoload=True, autoload_with=\"engine\")\n",
    "track=Table(\"Track\", metadata_obj, autoload=True, autoload_with=\"engine\")\n",
    "album = Table(\"Album\", metadata_obj, autoload=True, autoload_with=\"engine\")\n",
    "artist = Table(\"Artist\", metadata_obj, autoload=True, autoload_with=\"engine\")\n",
    "#university=Table(\"university\", metadata_obj, autolad=True, autolad_with=\"engine\")"
   ]
  },
  {
   "cell_type": "code",
   "execution_count": 6,
   "id": "8798043c",
   "metadata": {},
   "outputs": [],
   "source": [
    "conn=engine.connect() # Соединение"
   ]
  },
  {
   "cell_type": "code",
   "execution_count": null,
   "id": "89fc50f2",
   "metadata": {},
   "outputs": [],
   "source": [
    "def select_all_tables(conn, sql_sent):\n",
    "    \n",
    "    cursor = conn.execute(sql_sent)\n",
    "    \n",
    "    rows = cursor.fetchall()\n",
    "    \n",
    "    if len(rows) == 0:\n",
    "        print(\"По такому запросу данных в БД нет.\")\n",
    "        return 0\n",
    "    \n",
    "    len_elm = [max([len(str(row[el])) for row in rows]) for el in range(len(rows[0]))]\n",
    "    answer_len = 4+(len(len_elm)-1)*3+sum(len_elm)\n",
    "    \n",
    "    print(\"—\"*answer_len)\n",
    "        \n",
    "    for index in range(len(rows)):\n",
    "        row = rows[index]\n",
    "        print(\"|\", end='')\n",
    "        for elem in range(len(row)):\n",
    "            print(\" \" + str(row[elem]).ljust(len_elm[elem]) + \" |\", end='')\n",
    "        print()\n",
    "    print(\"—\"*answer_len)"
   ]
  },
  {
   "cell_type": "code",
   "execution_count": null,
   "id": "8fbdc568",
   "metadata": {},
   "outputs": [],
   "source": [
    "'''\n",
    "Покажите сотрудников, подчиняющихся сотруднику Nancy Edwards.\n",
    "'''\n",
    "\n",
    "SELECT * FROM Employee\n",
    "where ReportsTo = (\n",
    "    select EmployeeId from Employee where LastName = 'Edwards' and FirstName = 'Nancy')\n",
    "    order by EmployeeId;"
   ]
  },
  {
   "cell_type": "code",
   "execution_count": 11,
   "id": "428ef431",
   "metadata": {
    "scrolled": false
   },
   "outputs": [
    {
     "name": "stdout",
     "output_type": "stream",
     "text": [
      "SELECT \"Employee\".\"EmployeeId\", \"Employee\".\"LastName\", \"Employee\".\"FirstName\" \n",
      "FROM \"Employee\" \n",
      "WHERE \"Employee\".\"ReportsTo\" = (SELECT \"Employee\".\"EmployeeId\" \n",
      "FROM \"Employee\" \n",
      "WHERE \"Employee\".\"LastName\" = :LastName_1) ORDER BY \"Employee\".\"EmployeeId\"\n",
      "3\n",
      "——————————————————————————\n",
      "| 3 | Peacock | Jane     |\n",
      "| 4 | Park    | Margaret |\n",
      "| 5 | Johnson | Steve    |\n",
      "——————————————————————————\n"
     ]
    }
   ],
   "source": [
    "sq = select(employee.c.EmployeeId)\n",
    "sq = sq.where(employee.c.LastName == 'Edwards' and employee.c.FirstName == 'Nancy').scalar_subquery()\n",
    "\n",
    "\n",
    "s = select(employee.c.EmployeeId, employee.c.LastName, employee.c.FirstName)\n",
    "s = s.where(employee.c.ReportsTo == sq)\n",
    "s = s.order_by(employee.c.EmployeeId)\n",
    "\n",
    "print(s)\n",
    "\n",
    "\n",
    "result = conn.execute(s).fetchall()\n",
    "print(len(result))\n",
    "select_all_tables(conn, s)"
   ]
  },
  {
   "cell_type": "code",
   "execution_count": null,
   "id": "32ff5d4d",
   "metadata": {},
   "outputs": [],
   "source": [
    "'''\n",
    "Покажите трэки в жанре Classical, длящиеся более 8 минут.\n",
    "'''\n",
    "\n",
    "SELECT * FROM Track\n",
    "where GenreId = (\n",
    "    select GenreId from Genre where Name = 'Classical') and Milliseconds > 60*8*1000\n",
    "    order by GenreId;"
   ]
  },
  {
   "cell_type": "code",
   "execution_count": 27,
   "id": "f8ef3d6b",
   "metadata": {
    "scrolled": false
   },
   "outputs": [
    {
     "name": "stdout",
     "output_type": "stream",
     "text": [
      "SELECT \"Track\".\"TrackId\", \"Track\".\"Milliseconds\" \n",
      "FROM \"Track\" \n",
      "WHERE \"Track\".\"GenreId\" = (SELECT \"Genre\".\"GenreId\" \n",
      "FROM \"Genre\" \n",
      "WHERE \"Genre\".\"Name\" = :Name_1) AND \"Track\".\"Milliseconds\" > :Milliseconds_1 ORDER BY \"Track\".\"GenreId\"\n",
      "11\n",
      "—————————————————\n",
      "| 3404 | 501503 |\n",
      "| 3410 | 582029 |\n",
      "| 3423 | 522099 |\n",
      "| 3425 | 596519 |\n",
      "| 3432 | 545203 |\n",
      "| 3434 | 560342 |\n",
      "| 3440 | 483133 |\n",
      "| 3445 | 526696 |\n",
      "| 3446 | 561967 |\n",
      "| 3485 | 567494 |\n",
      "| 3498 | 493573 |\n",
      "—————————————————\n"
     ]
    }
   ],
   "source": [
    "sq = select(genre.c.GenreId)\n",
    "sq = sq.where(genre.c.Name == 'Classical').scalar_subquery()\n",
    "\n",
    "\n",
    "s = select(track.c.TrackId, track.c.Milliseconds)\n",
    "s = s.where(track.c.GenreId == sq, track.c.Milliseconds > 480000)\n",
    "s = s.order_by(track.c.GenreId)\n",
    "\n",
    "print(s)\n",
    "\n",
    "\n",
    "result = conn.execute(s).fetchall()\n",
    "print(len(result))\n",
    "select_all_tables(conn, s)"
   ]
  },
  {
   "cell_type": "code",
   "execution_count": null,
   "id": "1064ce1c",
   "metadata": {},
   "outputs": [],
   "source": [
    "'''\n",
    "Покажите альбомы, в составе которых более 25 трэков.\n",
    "'''"
   ]
  },
  {
   "cell_type": "code",
   "execution_count": 29,
   "id": "584b9dec",
   "metadata": {},
   "outputs": [
    {
     "name": "stdout",
     "output_type": "stream",
     "text": [
      "SELECT \"Album\".\"AlbumId\", \"Album\".\"Title\", \"Album\".\"ArtistId\" \n",
      "FROM \"Album\" \n",
      "WHERE (SELECT count(\"Track\".\"TrackId\") AS count_1 \n",
      "FROM \"Track\" \n",
      "WHERE \"Track\".\"AlbumId\" = \"Album\".\"AlbumId\") > :param_1 ORDER BY \"Album\".\"AlbumId\"\n",
      "4\n",
      "——————————————————————————————\n",
      "| 23  | Minha Historia | 17  |\n",
      "| 73  | Unplugged      | 81  |\n",
      "| 141 | Greatest Hits  | 100 |\n",
      "| 229 | Lost, Season 3 | 149 |\n",
      "——————————————————————————————\n"
     ]
    }
   ],
   "source": [
    "\n",
    "sq = select(func.count(track.c.TrackId))\n",
    "sq = sq.where(track.c.AlbumId == album.c.AlbumId).scalar_subquery()\n",
    "\n",
    "\n",
    "s = select(album)\n",
    "s = s.where(sq > 25)\n",
    "s = s.order_by(album.c.AlbumId)\n",
    "\n",
    "print(s)\n",
    "\n",
    "\n",
    "result = conn.execute(s).fetchall()\n",
    "print(len(result))\n",
    "select_all_tables(conn, s)"
   ]
  },
  {
   "cell_type": "code",
   "execution_count": null,
   "id": "96edab47",
   "metadata": {},
   "outputs": [],
   "source": [
    "'''\n",
    "Покажите жанры, в составе которых имеются трэки, длящиеся более 18 минут.\n",
    "'''"
   ]
  },
  {
   "cell_type": "code",
   "execution_count": 30,
   "id": "131b638d",
   "metadata": {},
   "outputs": [
    {
     "name": "stdout",
     "output_type": "stream",
     "text": [
      "SELECT \"Genre\".\"GenreId\", \"Genre\".\"Name\" \n",
      "FROM \"Genre\" \n",
      "WHERE \"Genre\".\"GenreId\" IN (SELECT \"Track\".\"GenreId\" \n",
      "FROM \"Track\" \n",
      "WHERE \"Track\".\"Milliseconds\" > :Milliseconds_1) ORDER BY \"Genre\".\"GenreId\"\n",
      "6\n",
      "—————————————————————————\n",
      "| 1  | Rock             |\n",
      "| 18 | Science Fiction  |\n",
      "| 19 | TV Shows         |\n",
      "| 20 | Sci Fi & Fantasy |\n",
      "| 21 | Drama            |\n",
      "| 22 | Comedy           |\n",
      "—————————————————————————\n"
     ]
    }
   ],
   "source": [
    "\n",
    "sq = select(track.c.GenreId)\n",
    "sq = sq.where(track.c.Milliseconds > (1000 * 60 * 18)).scalar_subquery()\n",
    "\n",
    "\n",
    "s = select(genre)\n",
    "s = s.where(genre.c.GenreId.in_(sq))\n",
    "s = s.order_by(genre.c.GenreId)\n",
    "\n",
    "print(s)\n",
    "\n",
    "\n",
    "result = conn.execute(s).fetchall()\n",
    "print(len(result))\n",
    "select_all_tables(conn, s)"
   ]
  },
  {
   "cell_type": "code",
   "execution_count": null,
   "id": "a5661142",
   "metadata": {},
   "outputs": [],
   "source": [
    "'''\n",
    "Покажите артистов в жанре Classical.\n",
    "'''"
   ]
  },
  {
   "cell_type": "code",
   "execution_count": 32,
   "id": "1b621d77",
   "metadata": {},
   "outputs": [
    {
     "name": "stdout",
     "output_type": "stream",
     "text": [
      "SELECT \"Artist\".\"ArtistId\", \"Artist\".\"Name\" \n",
      "FROM \"Artist\" \n",
      "WHERE \"Artist\".\"Name\" = (SELECT \"Track\".\"Composer\" \n",
      "FROM \"Track\" \n",
      "WHERE \"Track\".\"Composer\" = \"Artist\".\"Name\") ORDER BY \"Artist\".\"ArtistId\"\n",
      "47\n",
      "———————————————————————————————\n",
      "| 1   | AC/DC                 |\n",
      "| 7   | Apocalyptica          |\n",
      "| 10  | Billy Cobham          |\n",
      "| 12  | Black Sabbath         |\n",
      "| 14  | Bruce Dickinson       |\n",
      "| 15  | Buddy Guy             |\n",
      "| 16  | Caetano Veloso        |\n",
      "| 17  | Chico Buarque         |\n",
      "| 19  | Cidade Negra          |\n",
      "| 24  | Marcos Valle          |\n",
      "| 27  | Gilberto Gil          |\n",
      "| 34  | Nando Reis            |\n",
      "| 42  | Milton Nascimento     |\n",
      "| 46  | Jorge Ben             |\n",
      "| 50  | Metallica             |\n",
      "| 51  | Queen                 |\n",
      "| 54  | Green Day             |\n",
      "| 55  | David Coverdale       |\n",
      "| 56  | Gonzaguinha           |\n",
      "| 59  | Santana               |\n",
      "| 68  | Miles Davis           |\n",
      "| 80  | Djavan                |\n",
      "| 81  | Eric Clapton          |\n",
      "| 82  | Faith No More         |\n",
      "| 84  | Foo Fighters          |\n",
      "| 91  | James Brown           |\n",
      "| 94  | Jimi Hendrix          |\n",
      "| 97  | João Suplicy          |\n",
      "| 100 | Lenny Kravitz         |\n",
      "| 101 | Lulu Santos           |\n",
      "| 104 | Marvin Gaye           |\n",
      "| 108 | Mônica Marianno       |\n",
      "| 110 | Nirvana               |\n",
      "| 118 | Pearl Jam             |\n",
      "| 124 | R.E.M.                |\n",
      "| 127 | Red Hot Chili Peppers |\n",
      "| 132 | Soundgarden           |\n",
      "| 138 | The Clash             |\n",
      "| 143 | The Tea Party         |\n",
      "| 145 | Tim Maia              |\n",
      "| 146 | Titãs                 |\n",
      "| 150 | U2                    |\n",
      "| 152 | Van Halen             |\n",
      "| 199 | Karsh Kale            |\n",
      "| 202 | Aaron Goldberg        |\n",
      "| 205 | Chris Cornell         |\n",
      "| 240 | Gustav Mahler         |\n",
      "———————————————————————————————\n"
     ]
    }
   ],
   "source": [
    "\n",
    "sq = select(track.c.Composer)\n",
    "sq = sq.where(track.c.Composer == artist.c.Name and genre.c.Name == \"Classical\").scalar_subquery()\n",
    "\n",
    "\n",
    "s = select(artist)\n",
    "s = s.where(artist.c.Name == sq)\n",
    "s = s.order_by(artist.c.ArtistId)\n",
    "\n",
    "print(s)\n",
    "\n",
    "\n",
    "result = conn.execute(s).fetchall()\n",
    "print(len(result))\n",
    "select_all_tables(conn, s)"
   ]
  },
  {
   "cell_type": "code",
   "execution_count": null,
   "id": "bc0691c1",
   "metadata": {},
   "outputs": [],
   "source": [
    "'''\n",
    "Найдите артистов, записавших альбомы, в которых более 20 произведений.\n",
    "'''\n",
    "SELECT * FROM Artist\n",
    "where Artist.ArtistId in (\n",
    "    SELECT Album.ArtistId from Album\n",
    "    WHERE (\n",
    "        select count(*) from Track \n",
    "        WHERE Track.AlbumId = Album.AlbumId)>25) "
   ]
  },
  {
   "cell_type": "code",
   "execution_count": 36,
   "id": "d94e2605",
   "metadata": {},
   "outputs": [
    {
     "name": "stdout",
     "output_type": "stream",
     "text": [
      "SELECT \"Artist\".\"ArtistId\", \"Artist\".\"Name\" \n",
      "FROM \"Artist\" \n",
      "WHERE \"Artist\".\"ArtistId\" IN (SELECT \"Album\".\"ArtistId\" \n",
      "FROM \"Album\" \n",
      "WHERE (SELECT count(\"Track\".\"TrackId\") AS count_1 \n",
      "FROM \"Track\" \n",
      "WHERE \"Track\".\"AlbumId\" = \"Album\".\"AlbumId\") > :param_1) ORDER BY \"Artist\".\"ArtistId\"\n",
      "4\n",
      "———————————————————————\n",
      "| 17  | Chico Buarque |\n",
      "| 81  | Eric Clapton  |\n",
      "| 100 | Lenny Kravitz |\n",
      "| 149 | Lost          |\n",
      "———————————————————————\n"
     ]
    }
   ],
   "source": [
    "sq2 = select(func.count(track.c.TrackId))\n",
    "sq2 = sq2.where(track.c.AlbumId == album.c.AlbumId).scalar_subquery()\n",
    "\n",
    "sq = select(album.c.ArtistId)\n",
    "sq = sq.where(sq2 > 25).scalar_subquery()\n",
    "\n",
    "s = select(artist)\n",
    "s = s.where(artist.c.ArtistId.in_(sq))\n",
    "s = s.order_by(artist.c.ArtistId)\n",
    "\n",
    "print(s)\n",
    "\n",
    "\n",
    "result = conn.execute(s).fetchall()\n",
    "print(len(result))\n",
    "select_all_tables(conn, s)"
   ]
  }
 ],
 "metadata": {
  "kernelspec": {
   "display_name": "Python 3 (ipykernel)",
   "language": "python",
   "name": "python3"
  },
  "language_info": {
   "codemirror_mode": {
    "name": "ipython",
    "version": 3
   },
   "file_extension": ".py",
   "mimetype": "text/x-python",
   "name": "python",
   "nbconvert_exporter": "python",
   "pygments_lexer": "ipython3",
   "version": "3.9.7"
  }
 },
 "nbformat": 4,
 "nbformat_minor": 5
}
