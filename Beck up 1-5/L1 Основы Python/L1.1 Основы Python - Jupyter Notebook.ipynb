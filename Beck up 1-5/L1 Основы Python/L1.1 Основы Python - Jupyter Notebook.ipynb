{
 "cells": [
  {
   "cell_type": "markdown",
   "metadata": {},
   "source": [
    "<img src=\"../Img/Python_SQL_PI.png\" style=\"width:100%\">\n",
    "\n",
    "\n",
    "<p style=\"font-size:22px;text-align:center\">Лекция 1. Основы программирования на языке Python</p> \n",
    "\n",
    "<p style=\"font-size:22px;text-align:center\">Часть I. Программирование в среде Jupyter Notebook</p>\n",
    "\n",
    "10 февраля 2022 года<br>\n",
    "Поток: ПИ20-1, ПИ20-2, ПИ20-3<br>\n",
    "\n",
    "14 февраля 2022 года<br>\n",
    "Поток: ПИ20-4, ПИ20-5, ПИ20-6<br>\n",
    "\n",
    "Преподаватель: доцент Департамента анализа данных и машинного обучения Смирнов Михаил Викторович"
   ]
  },
  {
   "cell_type": "markdown",
   "metadata": {},
   "source": [
    "# 1. Выбор рабочей среды программирования\n",
    "Изучение курса проводим в интерактивной среде программирования iPython. Сегодня существует множество реализаций iPython. Самыми известными явлются Юпитер Ноутбук, Гугл колаб, Repl.it Для освоения курса достаточно выбрать какую-либо одну рабочую среду. В этом курсе мы будем использовать Юпитер Ноутбук."
   ]
  },
  {
   "cell_type": "markdown",
   "metadata": {},
   "source": [
    "## 1.1. Юпитер Ноутбук\n",
    "\n",
    "Юпитер Ноутбук - это интерактивная среда iPython (http://ipython.org/), использующая технологию \"чтение-оценка-вывод\" (read-evaluate-print-loop REPL).\n",
    "\n",
    "Установка Юпитер Ноутбук\n",
    "https://jupyter.readthedocs.io/en/latest/install/notebook-classic.html\n",
    "\n",
    "Для освоения и работы с ноутбуком iPython, рекомендуется пакет программ Анаконда (Anaconda).\n",
    "\n",
    "https://www.anaconda.com/products/individual\n",
    "\n",
    "Анаконда содержит Пайтон, Юпитер ноутбук и другие часто используемые приложения для научных вычислений и обработки данных.\n",
    "\n",
    "Порядок установки и запуска интерктивной среды Юпитер ноутбук\n",
    "\n",
    "1. Загрузить Анаконда\n",
    "2. Установить Анаконда\n",
    "3. Запустить Юпитер ноутбук. Для этого использовать команду меню, либо консольную команду\n",
    "\n",
    "    => jupyter notebook"
   ]
  },
  {
   "cell_type": "markdown",
   "metadata": {},
   "source": [
    "## 1.2. Google Colab\n",
    "Google Colab, также известный как Colab Laboratory, представляет собой среду Jupyter, предоставляемую и поддерживаемую Google. Не требует установки. Требуется учетная запись Google. Для начала работы наберите в поисковой строке \"Google Colab\" или перейдите по ссылке _colab.research.google.com_"
   ]
  },
  {
   "cell_type": "markdown",
   "metadata": {},
   "source": [
    "## 1.3. Repl.it\n",
    "Интерактивная среда Repl доступна по адресу https://repl.it. Требуется регистрация.\n",
    "\n",
    "## 1.4. Другие решения\n",
    "Kaggle, Яндекс, ..."
   ]
  },
  {
   "cell_type": "markdown",
   "metadata": {},
   "source": [
    "# 2. Основные синтаксические конструкции Python\n",
    "## 2.1. Арифметические операторы +, -, /, //, %, **"
   ]
  },
  {
   "cell_type": "code",
   "execution_count": 2,
   "metadata": {},
   "outputs": [
    {
     "name": "stdout",
     "output_type": "stream",
     "text": [
      "5\n",
      "-5\n",
      "77\n",
      "2.0\n",
      "2\n",
      "1\n",
      "8\n",
      "3.0\n",
      "13\n"
     ]
    }
   ],
   "source": [
    "print(2+3) # Сложение\n",
    "\n",
    "print(2-7) # Вычитание\n",
    "\n",
    "print(11*7) # Умножение\n",
    "\n",
    "print(6/3) # Деление\n",
    "\n",
    "print(9//4) # Целочисленное деление\n",
    "\n",
    "print(9%4) # Деление по модулю\n",
    "\n",
    "print(2**3) # Возведение в степень\n",
    "\n",
    "print(9**(1/2)) # Вычисление корня\n",
    "\n",
    "print(abs(-13)) # Модуль числа"
   ]
  },
  {
   "cell_type": "markdown",
   "metadata": {},
   "source": [
    "Пример. Найти значение выражения \n",
    "$$\n",
    "8^5 \\cdot \\sqrt{36}\n",
    "$$"
   ]
  },
  {
   "cell_type": "markdown",
   "metadata": {},
   "source": [
    "$ \\int{x^2}{\\ dx} $\n",
    "\n",
    "$$\\int x^2 \\, dx $$\n",
    "\n",
    "$$\\int\\limits_a^b{x^3}{dx}$$"
   ]
  },
  {
   "cell_type": "code",
   "execution_count": 3,
   "metadata": {},
   "outputs": [
    {
     "data": {
      "text/plain": [
       "196608.0"
      ]
     },
     "execution_count": 3,
     "metadata": {},
     "output_type": "execute_result"
    }
   ],
   "source": [
    "# Оператор возведения в степень ** имеет высший приоритет по сравнению с оператором умножения *\n",
    "# Не обязательно использовать print(), если команда в ячейке одна.\n",
    "8**5*36**(1/2)"
   ]
  },
  {
   "cell_type": "markdown",
   "metadata": {},
   "source": [
    "Пример на использование операторов /, //, %."
   ]
  },
  {
   "cell_type": "code",
   "execution_count": 5,
   "metadata": {},
   "outputs": [
    {
     "name": "stdout",
     "output_type": "stream",
     "text": [
      "3.8333333333333335\n",
      "3\n",
      "5\n"
     ]
    }
   ],
   "source": [
    "print(23/6)\n",
    "print(23//6)\n",
    "print(23%6)"
   ]
  },
  {
   "cell_type": "markdown",
   "metadata": {},
   "source": [
    "## 2.2. Операторы присваивания"
   ]
  },
  {
   "cell_type": "markdown",
   "metadata": {},
   "source": [
    "Оператор = присваивает значение правого операнда левому."
   ]
  },
  {
   "cell_type": "code",
   "execution_count": 1,
   "metadata": {},
   "outputs": [],
   "source": [
    "a = 10\n",
    "b = 25\n",
    "student_name = 'Кристина'\n",
    "student_group_name = 'У-1'"
   ]
  },
  {
   "cell_type": "markdown",
   "metadata": {},
   "source": [
    "С переменными можно выполнять математические операции. Результат можно присваивать новой переменной."
   ]
  },
  {
   "cell_type": "code",
   "execution_count": 7,
   "metadata": {},
   "outputs": [
    {
     "name": "stdout",
     "output_type": "stream",
     "text": [
      "35 1.0 350\n"
     ]
    }
   ],
   "source": [
    "c = a + b\n",
    "d = (a + b) / c\n",
    "e = a * c\n",
    "print(c, d, e)"
   ]
  },
  {
   "cell_type": "markdown",
   "metadata": {},
   "source": [
    "Оператор += прибавляет значение правого операнда к левому и присваивает эту сумму левому операнду"
   ]
  },
  {
   "cell_type": "code",
   "execution_count": 8,
   "metadata": {},
   "outputs": [
    {
     "name": "stdout",
     "output_type": "stream",
     "text": [
      "4\n"
     ]
    }
   ],
   "source": [
    "f = 1\n",
    "f += 3\n",
    "print(f)"
   ]
  },
  {
   "cell_type": "markdown",
   "metadata": {},
   "source": [
    "Строки также можно складывать"
   ]
  },
  {
   "cell_type": "code",
   "execution_count": 2,
   "metadata": {},
   "outputs": [
    {
     "data": {
      "text/plain": [
       "'Студент Кристина из группы У-1'"
      ]
     },
     "execution_count": 2,
     "metadata": {},
     "output_type": "execute_result"
    }
   ],
   "source": [
    "p='Студент '+student_name+' из группы '\n",
    "p+=student_group_name\n",
    "p"
   ]
  },
  {
   "cell_type": "markdown",
   "metadata": {},
   "source": [
    "Правила наименования переменных\n",
    "\n",
    "    имена переменных не должны повторять уже встроенные в Python имена, например, print, str, in и т.д.;\n",
    "    имена переменных могут содержать только буквы, цифры и нижнее подчёркивание;\n",
    "    имена переменных не должны начинаться с цифры;\n",
    "    желательно, чтобы имена переменных выражали суть переменной и не были слишком длинными."
   ]
  },
  {
   "cell_type": "markdown",
   "metadata": {},
   "source": [
    "## 2.3.Типы int, float и str"
   ]
  },
  {
   "cell_type": "markdown",
   "metadata": {},
   "source": [
    "Пусть в классе 20 студентов. Создадим переменную student_count и передадим ей это значение."
   ]
  },
  {
   "cell_type": "code",
   "execution_count": 1,
   "metadata": {},
   "outputs": [],
   "source": [
    "student_count = 20 # Это целое число или int"
   ]
  },
  {
   "cell_type": "markdown",
   "metadata": {},
   "source": [
    "Теперь измерим температуру в комнате. Пусть она составляет 20.4 градуса"
   ]
  },
  {
   "cell_type": "code",
   "execution_count": 2,
   "metadata": {},
   "outputs": [],
   "source": [
    "room_t = 20.4 # Это вещественное число или float"
   ]
  },
  {
   "cell_type": "markdown",
   "metadata": {},
   "source": [
    "Целому числу соответствует тип _int_, вещественному числу _float_, а строке _str_. Понять, к какому типу относится переменная помогает функция _type()_."
   ]
  },
  {
   "cell_type": "code",
   "execution_count": 3,
   "metadata": {},
   "outputs": [
    {
     "data": {
      "text/plain": [
       "int"
      ]
     },
     "execution_count": 3,
     "metadata": {},
     "output_type": "execute_result"
    }
   ],
   "source": [
    "type(student_count)"
   ]
  },
  {
   "cell_type": "code",
   "execution_count": 5,
   "metadata": {},
   "outputs": [
    {
     "data": {
      "text/plain": [
       "str"
      ]
     },
     "execution_count": 5,
     "metadata": {},
     "output_type": "execute_result"
    }
   ],
   "source": [
    "student_name=\"Анна\"\n",
    "type(student_name)"
   ]
  },
  {
   "cell_type": "markdown",
   "metadata": {},
   "source": [
    "Если указать дробную часть, то переменная будет вещественного типа, даже если дробная чсть равна нулю."
   ]
  },
  {
   "cell_type": "code",
   "execution_count": 6,
   "metadata": {},
   "outputs": [
    {
     "data": {
      "text/plain": [
       "float"
      ]
     },
     "execution_count": 6,
     "metadata": {},
     "output_type": "execute_result"
    }
   ],
   "source": [
    "i = 25.0\n",
    "type(i)"
   ]
  },
  {
   "cell_type": "markdown",
   "metadata": {},
   "source": [
    "Чтобы перевести переменную из одного типа в другой, можно воспользоваться соответствующими функциями str(), int(), float()"
   ]
  },
  {
   "cell_type": "code",
   "execution_count": 7,
   "metadata": {},
   "outputs": [
    {
     "data": {
      "text/plain": [
       "'20'"
      ]
     },
     "execution_count": 7,
     "metadata": {},
     "output_type": "execute_result"
    }
   ],
   "source": [
    "x = str(student_count) # аргумент функции - число, значение - строка.\n",
    "x"
   ]
  },
  {
   "cell_type": "markdown",
   "metadata": {},
   "source": [
    "Важно\n",
    "\n",
    "- если хотя бы одна из переменных принадлежит к типу _float_, результат вычисления получит тип _float_;\n",
    "- при операции деления результат всегда _float,_ даже если оба числа _int._"
   ]
  },
  {
   "cell_type": "code",
   "execution_count": 27,
   "metadata": {},
   "outputs": [
    {
     "data": {
      "text/plain": [
       "float"
      ]
     },
     "execution_count": 27,
     "metadata": {},
     "output_type": "execute_result"
    }
   ],
   "source": [
    "type(student_count/2) # Целое число делим на целое, получаем вещественное."
   ]
  },
  {
   "cell_type": "markdown",
   "metadata": {},
   "source": [
    "Строковые переменные можно умножать на число"
   ]
  },
  {
   "cell_type": "code",
   "execution_count": 8,
   "metadata": {
    "scrolled": false
   },
   "outputs": [
    {
     "data": {
      "text/plain": [
       "'@fa.ru@fa.ru@fa.ru@fa.ru@fa.ru@fa.ru@fa.ru@fa.ru'"
      ]
     },
     "execution_count": 8,
     "metadata": {},
     "output_type": "execute_result"
    }
   ],
   "source": [
    "'@fa.ru'*8"
   ]
  },
  {
   "cell_type": "markdown",
   "metadata": {},
   "source": [
    "### Функция len()\n",
    "\n",
    "С помощью функции _len()_ можно узнать длину слова, или даже целого предложения"
   ]
  },
  {
   "cell_type": "code",
   "execution_count": 9,
   "metadata": {},
   "outputs": [
    {
     "data": {
      "text/plain": [
       "55"
      ]
     },
     "execution_count": 9,
     "metadata": {},
     "output_type": "execute_result"
    }
   ],
   "source": [
    "new_message = 'Пусть этот день дарит тебе только положительные эмоции!'\n",
    "len(new_message)"
   ]
  },
  {
   "cell_type": "markdown",
   "metadata": {},
   "source": [
    "## 2.4. Операторы сравнения. Условные операторы _if - elif - else_"
   ]
  },
  {
   "cell_type": "markdown",
   "metadata": {},
   "source": [
    "Проверим, является ли число в переменной a четным. Если да, то остаток от деления числа на два равен нулю. "
   ]
  },
  {
   "cell_type": "code",
   "execution_count": 10,
   "metadata": {},
   "outputs": [
    {
     "name": "stdout",
     "output_type": "stream",
     "text": [
      "Число нечетное\n"
     ]
    }
   ],
   "source": [
    "a = 5\n",
    "if a % 2 == 0: # Внимание! Используется двойное равно '=='.\n",
    "  print('Число чётное.')\n",
    "else:\n",
    "  print('Число нечетное')"
   ]
  },
  {
   "cell_type": "markdown",
   "metadata": {},
   "source": [
    "Для сравнения объектов между собой используются операторы:\n",
    "```\n",
    "    > больше;\n",
    "    >= больше или равно;\n",
    "    < меньше;\n",
    "    <= меньше или равно;\n",
    "    != не равно;\n",
    "    == равно.\n",
    "```"
   ]
  },
  {
   "cell_type": "code",
   "execution_count": 11,
   "metadata": {},
   "outputs": [
    {
     "data": {
      "text/plain": [
       "False"
      ]
     },
     "execution_count": 11,
     "metadata": {},
     "output_type": "execute_result"
    }
   ],
   "source": [
    "7 > 25 # Это ложь"
   ]
  },
  {
   "cell_type": "code",
   "execution_count": 12,
   "metadata": {},
   "outputs": [
    {
     "data": {
      "text/plain": [
       "bool"
      ]
     },
     "execution_count": 12,
     "metadata": {},
     "output_type": "execute_result"
    }
   ],
   "source": [
    "b = (7>25) # Переменная b логического типа.\n",
    "type(b)"
   ]
  },
  {
   "cell_type": "markdown",
   "metadata": {},
   "source": [
    "Пример. Пусть имеется выборка, для которой определены нижняя и верхняя граница допустимых значений. Все, что выходит за пределы границ считается выбросом. Проверим, является ли число $a$ выбросом."
   ]
  },
  {
   "cell_type": "code",
   "execution_count": 13,
   "metadata": {},
   "outputs": [
    {
     "name": "stdout",
     "output_type": "stream",
     "text": [
      "Выброс вверх\n"
     ]
    }
   ],
   "source": [
    "a = 15\n",
    "border_top = 10\n",
    "border_bottom = 2\n",
    "if a > border_top:\n",
    "  print('Выброс вверх')\n",
    "elif a < border_bottom:\n",
    "  print('Выброс вниз')\n",
    "else:\n",
    "  print('Значение в пределах установленных границ')"
   ]
  },
  {
   "cell_type": "markdown",
   "metadata": {},
   "source": [
    "Важно!<br>\n",
    "- После операторов _if, elif_ и _else_ ставят двоеточие и отступ.\n",
    "\n",
    "Пример. Проверим, содержится ли твердый знак в слове \"СловоCТвердымЗнаком\". Сделать это поможет оператор членства _in_."
   ]
  },
  {
   "cell_type": "code",
   "execution_count": 17,
   "metadata": {},
   "outputs": [
    {
     "name": "stdout",
     "output_type": "stream",
     "text": [
      "Есть твердый знак\n"
     ]
    }
   ],
   "source": [
    "word='СловоCТвердымЗнакомъ'\n",
    "if 'ъ' in word:\n",
    "  print('Есть твердый знак')\n",
    "else:\n",
    "  print('Нет твердого знака')"
   ]
  },
  {
   "cell_type": "markdown",
   "metadata": {},
   "source": [
    "Часто для проверки наличия символов в строке требуется изменить вид строки, чтобы все буквы проверяемой строки были строчными или ПРОПИСНЫМИ. Такую задачу помогают выполнить методы _lower(), upper()_."
   ]
  },
  {
   "cell_type": "code",
   "execution_count": 18,
   "metadata": {},
   "outputs": [
    {
     "data": {
      "text/plain": [
       "'автоэлектростеклоподъёмники'"
      ]
     },
     "execution_count": 18,
     "metadata": {},
     "output_type": "execute_result"
    }
   ],
   "source": [
    "word = 'аВтоэЛеКТрОСтеКлопОдЪёМНики'\n",
    "word.lower()"
   ]
  },
  {
   "cell_type": "markdown",
   "metadata": {},
   "source": [
    "_lower()_ и _upper()_ часто используют для поиска подстроки в строке независимо от регистра букв."
   ]
  },
  {
   "cell_type": "code",
   "execution_count": 19,
   "metadata": {},
   "outputs": [
    {
     "name": "stdout",
     "output_type": "stream",
     "text": [
      "Есть подстрока\n"
     ]
    }
   ],
   "source": [
    "phrase = 'Аз есмь Царь'\n",
    "letter_to_find = 'аз'\n",
    "\n",
    "if letter_to_find in phrase.lower():\n",
    "  print('Есть подстрока')\n",
    "else:\n",
    "  print('Такой подстроки нет')"
   ]
  },
  {
   "cell_type": "markdown",
   "metadata": {},
   "source": [
    "## 2.5. Логические операторы _and, or_"
   ]
  },
  {
   "cell_type": "markdown",
   "metadata": {},
   "source": [
    "Логические операторы _and_ и _or_ используются, если несколько условий надо проверить одновременно. Пусть имеется инвестиционный портфель, который характеризуется параметрами доходности _r_, волатильности _sigma_ и коэффициентом _beta_. При определенных значениях этих параметров инвестиция считается надежной."
   ]
  },
  {
   "cell_type": "code",
   "execution_count": 20,
   "metadata": {
    "scrolled": true
   },
   "outputs": [
    {
     "name": "stdout",
     "output_type": "stream",
     "text": [
      "Надежная инвестиция\n"
     ]
    }
   ],
   "source": [
    "r = 25; sigma = 12; beta = 1\n",
    "if r >= 25 and sigma <= 12 or beta > 2.5:\n",
    "  print('Надежная инвестиция')\n",
    "else:\n",
    "  print('Плохой портфель')"
   ]
  },
  {
   "cell_type": "markdown",
   "metadata": {},
   "source": [
    "# 3. Циклы"
   ]
  },
  {
   "cell_type": "markdown",
   "metadata": {},
   "source": [
    "## 3.1. Цикл со счетчиком\n",
    "<img src=\"../Img/for.png\">\n",
    "На этом рисунке I – счетчик цикла, A - начальное значение счетчика, B – его конечное значение, N – шаг цикла. Шаг может быть отрицательным."
   ]
  },
  {
   "cell_type": "code",
   "execution_count": 21,
   "metadata": {},
   "outputs": [
    {
     "name": "stdout",
     "output_type": "stream",
     "text": [
      "0 1 2 3 4 5 6 7 8 9 \n",
      "50 60 70 80 90 100 110 120 130 140 \n",
      "1000 900 800 700 600 500 400 300 200 100 "
     ]
    }
   ],
   "source": [
    "for i in range(0, 10):\n",
    "  print(i, end=' ') # Параметр end=' ' заменяет для функции print() символ перевода строки на пробел.\n",
    "print()\n",
    "\n",
    "for i in range(50, 150, 10):\n",
    "  print(i, end=' ')\n",
    "print()\n",
    "\n",
    "for i in range(1000, 0, -100):\n",
    "  print(i, end=' ')"
   ]
  },
  {
   "cell_type": "markdown",
   "metadata": {},
   "source": [
    "Конструкция _range()_ создает целочисленную последовательность (арифметическую прогрессию). В следующем примере рассчитаем сумму квадратных корней чисел из диапазона чисел от $n_1$ до $n_2$."
   ]
  },
  {
   "cell_type": "code",
   "execution_count": 57,
   "metadata": {},
   "outputs": [
    {
     "name": "stdout",
     "output_type": "stream",
     "text": [
      "49.41\n"
     ]
    }
   ],
   "source": [
    "n1, n2 = 20, 30 # Множественное присваивание\n",
    "\n",
    "square_sum = 0\n",
    "for i in range(n1, n2):\n",
    "  square_sum += i**(1/2)\n",
    "print(round(square_sum,2)) # Ответ округлим до двух десятичных знаков"
   ]
  },
  {
   "cell_type": "markdown",
   "metadata": {},
   "source": [
    "В циклах используются операторы _break_ и _continue_. Оператор _break_ позволяет прервать цикл при возникновении внешнего фактора. Оператор _continue_ позволяет пропустить часть цикла при возникновении внешнего фактора и перейти к следующей итерации цикла.\n",
    "\n",
    "Задача. Найти все числа в диапазоне от $𝑛_1$ до $𝑛_2$, кратные пяти, но не кратные трем."
   ]
  },
  {
   "cell_type": "code",
   "execution_count": 62,
   "metadata": {},
   "outputs": [
    {
     "name": "stdout",
     "output_type": "stream",
     "text": [
      "5, 10, 20, 25, 35, 40, 50, 55, 65, 70, 80, 85, 95, 100, "
     ]
    }
   ],
   "source": [
    "n1, n2 = 0, 100\n",
    "for i in range(n1,n2+1):\n",
    "    if i%3 == 0:\n",
    "        continue\n",
    "    if i%5 == 0:\n",
    "        print(i, end=\", \")"
   ]
  },
  {
   "cell_type": "markdown",
   "metadata": {},
   "source": [
    "Цикл _for_ может также содержать оператор _else,_ который выполняется после завешения работы цикла, если он не был прерван. Следующий пример на использование в цикле операторов _break_ и _else_."
   ]
  },
  {
   "cell_type": "code",
   "execution_count": 63,
   "metadata": {},
   "outputs": [
    {
     "name": "stdout",
     "output_type": "stream",
     "text": [
      "Буквы 'a' в строке нет\n"
     ]
    }
   ],
   "source": [
    "for i in 'Hello world!':\n",
    "  if i == 'a':\n",
    "    break\n",
    "else: # этот оператор else относится к циклу for\n",
    "  print('Буквы \\'a\\' в строке нет')"
   ]
  },
  {
   "cell_type": "markdown",
   "metadata": {},
   "source": [
    "Вот еще пример с циклом _for_ и оператором членства _in_. Эта программа находит и выводит на печать число гласных и согласных букв."
   ]
  },
  {
   "cell_type": "code",
   "execution_count": 22,
   "metadata": {},
   "outputs": [
    {
     "name": "stdout",
     "output_type": "stream",
     "text": [
      "В слове \"электроугли\" гласных букв 5, согласных 6.\n"
     ]
    }
   ],
   "source": [
    "word = 'Электроугли'.lower()\n",
    "vovels = 0\n",
    "consonants = 0\n",
    "vovel_letters = ['а','е','и','о','у','ы','э','ю','я']\n",
    "for letter in word:\n",
    "  if letter in vovel_letters:\n",
    "    vovels+=1\n",
    "  else:\n",
    "    consonants+=1\n",
    "print(f'В слове \"{word}\" гласных букв {vovels}, согласных {consonants}.')"
   ]
  },
  {
   "cell_type": "markdown",
   "metadata": {},
   "source": [
    "## 3.2. Цикл _while_\n",
    "\n",
    "Цикл while («пока») выполняется, пока проверяемое условие истинно. Условие записывается до тела цикла и проверяется до выполнения тела цикла. Как правило, цикл while используется, когда невозможно определить точное значение количества проходов исполнения цикла.\n",
    "\n",
    "Предположим, мы положили деньги в банк под 6% годовых. Через сколько лет деньги удвоятся?\n"
   ]
  },
  {
   "cell_type": "code",
   "execution_count": 23,
   "metadata": {
    "scrolled": true
   },
   "outputs": [
    {
     "name": "stdout",
     "output_type": "stream",
     "text": [
      "Деньги удвоятся через 12 лет\n"
     ]
    }
   ],
   "source": [
    "money = 1\n",
    "year = 0\n",
    "p = 1.06\n",
    "\n",
    "while money < 2:\n",
    "  money *= p\n",
    "  year += 1\n",
    "else:\n",
    "  print('Деньги удвоятся через', year, 'лет')"
   ]
  },
  {
   "cell_type": "markdown",
   "metadata": {},
   "source": [
    "Далее: Лекция 1, часть II \"Структуры данных\"."
   ]
  }
 ],
 "metadata": {
  "kernelspec": {
   "display_name": "Python 3",
   "language": "python",
   "name": "python3"
  },
  "language_info": {
   "codemirror_mode": {
    "name": "ipython",
    "version": 3
   },
   "file_extension": ".py",
   "mimetype": "text/x-python",
   "name": "python",
   "nbconvert_exporter": "python",
   "pygments_lexer": "ipython3",
   "version": "3.8.8"
  }
 },
 "nbformat": 4,
 "nbformat_minor": 4
}
