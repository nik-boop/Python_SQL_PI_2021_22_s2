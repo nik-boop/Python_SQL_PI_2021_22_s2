{
 "cells": [
  {
   "cell_type": "markdown",
   "metadata": {},
   "source": [
    "<img src=\"../Img/Python_SQL_PI.png\" style=\"width:100%\">\n",
    "\n",
    "\n",
    "<p style=\"font-size:22px;text-align:center\">Лекция 1. Основы программирования на языке Python</p>\n",
    "\n",
    "<p style=\"font-size:22px;text-align:center\">Часть II. Структуры данных языка Python</p>\n",
    "\n",
    "10 февраля 2022 года<br>\n",
    "Поток: ПИ20-1, ПИ20-2, ПИ20-3<br>\n",
    "\n",
    "14 февраля 2022 года<br>\n",
    "Поток: ПИ20-4, ПИ20-5, ПИ20-6<br>\n",
    "\n",
    "Преподаватель: доцент Департамента анализа данных и машинного обучения Смирнов Михаил Викторович"
   ]
  },
  {
   "cell_type": "markdown",
   "metadata": {},
   "source": [
    "<a id=Ref></a>\n",
    "# Оглавление\n",
    "\n",
    "[1. Строки](#Str)<br>\n",
    "[2. Списки](#Lst)<br>\n",
    "[3. Словари](#Dct)<br>\n",
    "[4. Кортежи](#Tpl)<br>\n",
    "[5. Множества](#Set)<br>\n",
    "[Задания](#Tsk)"
   ]
  },
  {
   "cell_type": "markdown",
   "metadata": {},
   "source": [
    "<a id=Str></a>\n",
    "[Оглавление](#Ref)|| [=>](#Lst)\n",
    "# 1. Cтроки\n",
    "На этой лекции продолжим изучение свойств строковых переменных и приемов работы с ними.\n",
    "\n",
    "Строковая величина в Python - это неизменяемый набор символов в формате Unicode. \n",
    "\n",
    "Минимальная строка - пустая:"
   ]
  },
  {
   "cell_type": "code",
   "execution_count": 1,
   "metadata": {},
   "outputs": [
    {
     "name": "stdout",
     "output_type": "stream",
     "text": [
      "\n"
     ]
    }
   ],
   "source": [
    "s = ''\n",
    "print(s)"
   ]
  },
  {
   "cell_type": "markdown",
   "metadata": {},
   "source": [
    "Допустимое количество элементов в строке зависит от технических характеристик компьютера. В  Python можно обрабатывать строки, объемом в несколько десятков гигабайт.\n",
    "\n",
    "Нам уже известно, что:\n",
    "- строки можно складывать друг с другом.\n"
   ]
  },
  {
   "cell_type": "code",
   "execution_count": 2,
   "metadata": {},
   "outputs": [
    {
     "data": {
      "text/plain": [
       "'Строка 1, Строка 2'"
      ]
     },
     "execution_count": 2,
     "metadata": {},
     "output_type": "execute_result"
    }
   ],
   "source": [
    "'Строка 1' + ', ' + 'Строка 2'"
   ]
  },
  {
   "cell_type": "markdown",
   "metadata": {},
   "source": [
    "- можно умножать на число."
   ]
  },
  {
   "cell_type": "code",
   "execution_count": 3,
   "metadata": {},
   "outputs": [
    {
     "data": {
      "text/plain": [
       "'@fa.ru, @fa.ru, @fa.ru, @fa.ru, @fa.ru, @fa.ru, @fa.ru, @fa.ru, @fa.ru, @fa.ru, '"
      ]
     },
     "execution_count": 3,
     "metadata": {},
     "output_type": "execute_result"
    }
   ],
   "source": [
    "'@fa.ru, '*10"
   ]
  },
  {
   "cell_type": "markdown",
   "metadata": {},
   "source": [
    "- переводить в верхний и нижний регистры"
   ]
  },
  {
   "cell_type": "code",
   "execution_count": 4,
   "metadata": {},
   "outputs": [
    {
     "data": {
      "text/plain": [
       "'СТРОКАподстрока'"
      ]
     },
     "execution_count": 4,
     "metadata": {},
     "output_type": "execute_result"
    }
   ],
   "source": [
    "'строка'.upper() + 'ПОДСТРОКА'.lower()"
   ]
  },
  {
   "cell_type": "markdown",
   "metadata": {},
   "source": [
    "- функция `len()` позволяет узнать, сколько символов в строке."
   ]
  },
  {
   "cell_type": "code",
   "execution_count": 5,
   "metadata": {},
   "outputs": [
    {
     "data": {
      "text/plain": [
       "30"
      ]
     },
     "execution_count": 5,
     "metadata": {},
     "output_type": "execute_result"
    }
   ],
   "source": [
    "len('Сколько символов в этой строке')"
   ]
  },
  {
   "cell_type": "markdown",
   "metadata": {},
   "source": [
    "Рассмотрим другие возможности для работы со строками.\n",
    "### Опреатор _in_\n",
    "Позволяет ответить на вопрос, содержит ли строка подстроку: да или нет."
   ]
  },
  {
   "cell_type": "code",
   "execution_count": 6,
   "metadata": {},
   "outputs": [
    {
     "data": {
      "text/plain": [
       "True"
      ]
     },
     "execution_count": 6,
     "metadata": {},
     "output_type": "execute_result"
    }
   ],
   "source": [
    "'просп.' in 'г. Москва, Ленинградский просп., 49'"
   ]
  },
  {
   "cell_type": "markdown",
   "metadata": {},
   "source": [
    "По символам строки можно пройти в цикле. Строка - итерируемый объект. Итерируемый объект - это объект, позволяющий поочередно перебирать составляющие его элементы."
   ]
  },
  {
   "cell_type": "code",
   "execution_count": 7,
   "metadata": {},
   "outputs": [
    {
     "name": "stdout",
     "output_type": "stream",
     "text": [
      "г,., ,М,о,с,к,в,а,,, ,Л,е,н,и,н,г,р,а,д,с,к,и,й, ,п,р,о,с,п,.,,, ,4,9,"
     ]
    }
   ],
   "source": [
    "s = 'г. Москва, Ленинградский просп., 49'\n",
    "for symbol in s:\n",
    "    print(symbol, end=',')"
   ]
  },
  {
   "cell_type": "markdown",
   "metadata": {},
   "source": [
    "Найдем, сколько знаков препинания в строке _s._"
   ]
  },
  {
   "cell_type": "code",
   "execution_count": 8,
   "metadata": {},
   "outputs": [
    {
     "name": "stdout",
     "output_type": "stream",
     "text": [
      "4\n"
     ]
    }
   ],
   "source": [
    "s = 'г. Москва, Ленинградский просп., 49'\n",
    "k = 0 # счетчик\n",
    "for symbol in s:\n",
    "    if symbol in '.,':\n",
    "        k+=1\n",
    "print(k)"
   ]
  },
  {
   "cell_type": "markdown",
   "metadata": {},
   "source": [
    "### Метод _find()_\n",
    "Иногда важно не только установить факт наличия подстроки в составе строки, но и определить, где находится подстрока. В этом случае можно воспользоваться методом _.find()._ Могут быть указаны необязательные параметры _start_ и _end_ - индексы символов начала и конца поиска. Если эти параметры не указаны, то поиск ведется по всей строке. \n",
    "```\n",
    "number=search_here.find(find_me, sart, end)\n",
    "```\n",
    "Метод _find_ возвращает индекс позиции, с которой начинается искомая подстрока. Если подстрока не найдена, метод возвращает -1.\n",
    "\n",
    "Найдем позицию первой и второй запятых в строке _s._"
   ]
  },
  {
   "cell_type": "code",
   "execution_count": 9,
   "metadata": {},
   "outputs": [
    {
     "name": "stdout",
     "output_type": "stream",
     "text": [
      "9 31\n"
     ]
    }
   ],
   "source": [
    "s = 'г. Москва, Ленинградский просп., 49'\n",
    "c1 = s.find(',')\n",
    "c2 = s.find(',',c1+1)\n",
    "print(c1, c2)"
   ]
  },
  {
   "cell_type": "markdown",
   "metadata": {},
   "source": [
    "### Метод _count()_"
   ]
  },
  {
   "cell_type": "markdown",
   "metadata": {},
   "source": [
    "Для подсчёта количества вхождений подстроки в строку используется метод _count()._\n",
    "```\n",
    "number=search_here.count(find_me, sart, end)\n",
    "```\n",
    "Cколько раз без учета регистра встречается подстрока \"толк\" в скороговорке \"Толком толковать, да без толку расперетолковывать\"?"
   ]
  },
  {
   "cell_type": "code",
   "execution_count": 10,
   "metadata": {},
   "outputs": [
    {
     "data": {
      "text/plain": [
       "4"
      ]
     },
     "execution_count": 10,
     "metadata": {},
     "output_type": "execute_result"
    }
   ],
   "source": [
    "\"Толком толковать, да без толку расперетолковывать\".lower().count(\"толк\")"
   ]
  },
  {
   "cell_type": "markdown",
   "metadata": {},
   "source": [
    "### Метод _strip()_\n",
    "Удаляет начальные и конечные пробелы."
   ]
  },
  {
   "cell_type": "code",
   "execution_count": 11,
   "metadata": {},
   "outputs": [
    {
     "data": {
      "text/plain": [
       "'Здравствуй, мир!'"
      ]
     },
     "execution_count": 11,
     "metadata": {},
     "output_type": "execute_result"
    }
   ],
   "source": [
    "b = \"   Здравствуй, мир!\"\n",
    "b.strip()"
   ]
  },
  {
   "cell_type": "markdown",
   "metadata": {},
   "source": [
    "### Метод _replace()_"
   ]
  },
  {
   "cell_type": "markdown",
   "metadata": {},
   "source": [
    "Часто случается так, что числовые данные поступают в текстовом формате, и при этом у дробных чисел в качестве десятичного разделителя используется не точка, а запятая. Перевести такое «число» в формат _float_ на Python невозможно: интерпретатор прервёт выполнение программы и выдаст сообщение об ошибке. Для корректного преобразования такой строки в вещественное число заменим использующуюся в качестве разделителя запятую на точку. Это можно сделать с помощью метода _replace()._"
   ]
  },
  {
   "cell_type": "code",
   "execution_count": 12,
   "metadata": {},
   "outputs": [
    {
     "data": {
      "text/plain": [
       "'Привет, мир!'"
      ]
     },
     "execution_count": 12,
     "metadata": {},
     "output_type": "execute_result"
    }
   ],
   "source": [
    "b = \"Здравствуй, мир!\"\n",
    "b.replace(\"Здравствуй\", \"Привет\")"
   ]
  },
  {
   "cell_type": "markdown",
   "metadata": {},
   "source": [
    "Задание.<br>\n",
    "Имеется строка \"На берегу моря был камень\". С помощью метода _replace()_ напишите код, который преобразует ее в строку \"На берегу океана был дом\"."
   ]
  },
  {
   "cell_type": "markdown",
   "metadata": {},
   "source": [
    "### Метод *zfill()*\n",
    "\n",
    "Синтаксис: `string.zfill(len)`\n",
    "\n",
    "Метод *zfill()* добавляет нули к началу строки до достижения указанной длины строки."
   ]
  },
  {
   "cell_type": "code",
   "execution_count": 4,
   "metadata": {},
   "outputs": [
    {
     "name": "stdout",
     "output_type": "stream",
     "text": [
      "000Привет!\n",
      "Добро пожаловать!\n",
      "000010.000\n"
     ]
    }
   ],
   "source": [
    "a = \"Привет!\"\n",
    "b = \"Добро пожаловать!\"\n",
    "c = \"10.000\"\n",
    "\n",
    "print(a.zfill(10))\n",
    "print(b.zfill(10))\n",
    "print(c.zfill(10))"
   ]
  },
  {
   "cell_type": "markdown",
   "metadata": {},
   "source": [
    "### Индексы и срезы"
   ]
  },
  {
   "cell_type": "markdown",
   "metadata": {},
   "source": [
    "- Первый элемент строки имеет индекс 0.\n",
    "- Возможно использование отрицательных индексов.\n",
    "- Элементы строки можно отбирать с помощью среза: `string[start:end:step]`\n",
    "- Шаг `step` может быть отрицательным."
   ]
  },
  {
   "cell_type": "code",
   "execution_count": 13,
   "metadata": {},
   "outputs": [
    {
     "data": {
      "text/plain": [
       "'рав'"
      ]
     },
     "execution_count": 13,
     "metadata": {},
     "output_type": "execute_result"
    }
   ],
   "source": [
    "b = \"Здравствуй, мир!\"\n",
    "b[2:5]"
   ]
  },
  {
   "cell_type": "code",
   "execution_count": 14,
   "metadata": {},
   "outputs": [
    {
     "data": {
      "text/plain": [
       "'bdfhj'"
      ]
     },
     "execution_count": 14,
     "metadata": {},
     "output_type": "execute_result"
    }
   ],
   "source": [
    "b = 'abcdefghij'\n",
    "b[1::2]"
   ]
  },
  {
   "cell_type": "code",
   "execution_count": 15,
   "metadata": {},
   "outputs": [
    {
     "data": {
      "text/plain": [
       "'jihgfe'"
      ]
     },
     "execution_count": 15,
     "metadata": {},
     "output_type": "execute_result"
    }
   ],
   "source": [
    "b[-1:3:-1]"
   ]
  },
  {
   "cell_type": "markdown",
   "metadata": {},
   "source": [
    "### Построчное чтение файла"
   ]
  },
  {
   "cell_type": "code",
   "execution_count": 3,
   "metadata": {},
   "outputs": [
    {
     "name": "stdout",
     "output_type": "stream",
     "text": [
      "Айдамиров Магомед Султанович\n",
      "Альбеков Исхан Магомедович\n",
      "Белоус Ирина Евгеньевна\n",
      "Васильев Иван Сергеевич\n",
      "Ветохин Илья Дмитриевич\n",
      "Гасанов Саид Бахтиярович\n",
      "Грюнер Георгий Андреевич\n",
      "Дащук Никита Алексеевич\n",
      "Дуденко Богдан Андреевич\n",
      "Кантарович Марк-Авив Максимович\n",
      "Карпеков Михаил Ильич\n",
      "Митин Алексей Романович\n",
      "Потапов Илья Максимович\n",
      "Садеев Асхат Маратович\n",
      "Смыслова Александра Максимовна\n",
      "Филиппова Ксения Дмитриевна\n",
      "Широков Кирилл Алексеевич\n",
      "Шмелева Анастасия Алексеевна\n",
      "Всего 18 студентов\n"
     ]
    }
   ],
   "source": [
    "f=open('./Data/Студенты.csv', encoding='cp1251')\n",
    "k=0\n",
    "for line in f:\n",
    "    k+=1\n",
    "    print(line, end='')\n",
    "print('Всего', k, 'студентов')"
   ]
  },
  {
   "cell_type": "markdown",
   "metadata": {},
   "source": [
    "### Поиск с помощью регулярных выражений\n",
    "\n",
    "Документация по модулю _re:_ https://docs.python.org/3.7/library/re.html<br>\n",
    "Дополнительно: статья о регулярных выражениях https://habr.com/ru/post/349860/"
   ]
  },
  {
   "cell_type": "markdown",
   "metadata": {},
   "source": [
    "Импорт модуля регулярных выражений"
   ]
  },
  {
   "cell_type": "code",
   "execution_count": 3,
   "metadata": {},
   "outputs": [],
   "source": [
    "import re"
   ]
  },
  {
   "cell_type": "markdown",
   "metadata": {},
   "source": [
    "Создание шаблона"
   ]
  },
  {
   "cell_type": "code",
   "execution_count": 4,
   "metadata": {},
   "outputs": [],
   "source": [
    "pattern=re.compile('[А-Я][а-я]*на')"
   ]
  },
  {
   "cell_type": "markdown",
   "metadata": {},
   "source": [
    "Методы регулярных выражений\n",
    "```\n",
    "match - ищет символы по шаблону в начале строки, возвращает объект или None\n",
    "search - ищет символы по шаблону во всей строке, возвращает объект или None\n",
    "findall - ищет символы по шаблону во всей строке, возвращает список значений\n",
    "```"
   ]
  },
  {
   "cell_type": "markdown",
   "metadata": {},
   "source": [
    "Применим шаблон"
   ]
  },
  {
   "cell_type": "code",
   "execution_count": 1,
   "metadata": {},
   "outputs": [],
   "source": [
    "s = 'Филиппова Ксения Дмитриевна'"
   ]
  },
  {
   "cell_type": "code",
   "execution_count": 5,
   "metadata": {},
   "outputs": [],
   "source": [
    "pattern.match(s)"
   ]
  },
  {
   "cell_type": "code",
   "execution_count": 6,
   "metadata": {},
   "outputs": [
    {
     "data": {
      "text/plain": [
       "<re.Match object; span=(17, 27), match='Дмитриевна'>"
      ]
     },
     "execution_count": 6,
     "metadata": {},
     "output_type": "execute_result"
    }
   ],
   "source": [
    "pattern.search(s)"
   ]
  },
  {
   "cell_type": "code",
   "execution_count": 7,
   "metadata": {},
   "outputs": [
    {
     "data": {
      "text/plain": [
       "['Дмитриевна']"
      ]
     },
     "execution_count": 7,
     "metadata": {},
     "output_type": "execute_result"
    }
   ],
   "source": [
    "pattern.findall(s)"
   ]
  },
  {
   "cell_type": "code",
   "execution_count": 8,
   "metadata": {},
   "outputs": [
    {
     "name": "stdout",
     "output_type": "stream",
     "text": [
      "[]\n",
      "0\n"
     ]
    }
   ],
   "source": [
    "s = 'Митин Алексей Романович'\n",
    "print(pattern.findall(s))\n",
    "print(len(pattern.findall(s)))"
   ]
  },
  {
   "cell_type": "markdown",
   "metadata": {},
   "source": [
    "Распечатаем только имена девушек, заодно посчитаем сколько их."
   ]
  },
  {
   "cell_type": "code",
   "execution_count": 11,
   "metadata": {},
   "outputs": [
    {
     "name": "stdout",
     "output_type": "stream",
     "text": [
      "Фамилия1 Виктория Анатольевна\n",
      "Фамилия2 Кристина Михайловна\n",
      "Фамилия3 Виолетта Дмитриевна\n",
      "Фамилия4 Елена Александровна\n",
      "Фамилия9 Ирина Алексеевна\n",
      "---\n",
      "Всего студентов:  10\n",
      "Юношей:  5\n",
      "Девушек:  5\n"
     ]
    }
   ],
   "source": [
    "f = open('../Data/Студенты.csv', encoding='utf8')\n",
    "n, fe = 0, 0 # Счетчики: n - всех студентов, fe - девушек\n",
    "for line in f:\n",
    "    n += 1\n",
    "    if len(pattern.findall(line)) != 0:\n",
    "        fe += 1\n",
    "        print(line, end='')\n",
    "print('---')\n",
    "print('Всего студентов: ', n)\n",
    "print('Юношей: ', n-fe)\n",
    "print('Девушек: ', fe)"
   ]
  },
  {
   "cell_type": "markdown",
   "metadata": {},
   "source": [
    "### Метод _split()_\n",
    "Разделяет строку на элементы списка по разделителю. Если разделитель не указан, то в качестве разделителя используется символ пробела."
   ]
  },
  {
   "cell_type": "code",
   "execution_count": 14,
   "metadata": {},
   "outputs": [
    {
     "name": "stdout",
     "output_type": "stream",
     "text": [
      "['Я', 'студент', 'Финансового', 'университета']\n"
     ]
    }
   ],
   "source": [
    "s = \"Я студент Финансового университета\"\n",
    "list1 = s.split()\n",
    "print(list1)"
   ]
  },
  {
   "cell_type": "markdown",
   "metadata": {},
   "source": [
    "В следующем примере укажем, что разделителем является дефис."
   ]
  },
  {
   "cell_type": "code",
   "execution_count": 15,
   "metadata": {},
   "outputs": [
    {
     "name": "stdout",
     "output_type": "stream",
     "text": [
      "['Рахат', 'лукум']\n"
     ]
    }
   ],
   "source": [
    "s = \"Рахат-лукум\"\n",
    "list1 = s.split(\"-\")\n",
    "print(list1)"
   ]
  },
  {
   "cell_type": "markdown",
   "metadata": {},
   "source": [
    "### Метод _join()_\n",
    "Соединяет элементы итерируемого объекта."
   ]
  },
  {
   "cell_type": "code",
   "execution_count": 16,
   "metadata": {},
   "outputs": [
    {
     "name": "stdout",
     "output_type": "stream",
     "text": [
      "Рахат-лукум\n"
     ]
    }
   ],
   "source": [
    "list1 = [\"Рахат\", \"лукум\"]\n",
    "s = \"-\".join(list1)\n",
    "print(s)"
   ]
  },
  {
   "cell_type": "markdown",
   "metadata": {},
   "source": [
    "### Методы работы со строками"
   ]
  },
  {
   "cell_type": "code",
   "execution_count": 12,
   "metadata": {},
   "outputs": [
    {
     "name": "stdout",
     "output_type": "stream",
     "text": [
      "Method  \tDescription\n",
      "capitalize()  \tConverts the first character to upper case\n",
      "casefold()  \tConverts string into lower case\n",
      "center()  \tReturns a centered string\n",
      "count()  \tReturns the number of times a specified value occurs in a string\n",
      "encode()  \tReturns an encoded version of the string\n",
      "endswith()  \tReturns true if the string ends with the specified value\n",
      "expandtabs()  \tSets the tab size of the string\n",
      "find()  \tSearches the string for a specified value and returns the position of where it was found\n",
      "format()  \tFormats specified values in a string\n",
      "format_map()  \tFormats specified values in a string\n",
      "index()  \tSearches the string for a specified value and returns the position of where it was found\n",
      "isalnum()  \tReturns True if all characters in the string are alphanumeric\n",
      "isalpha()  \tReturns True if all characters in the string are in the alphabet\n",
      "isdecimal()  \tReturns True if all characters in the string are decimals\n",
      "isdigit()  \tReturns True if all characters in the string are digits\n",
      "isidentifier()  \tReturns True if the string is an identifier\n",
      "islower()  \tReturns True if all characters in the string are lower case\n",
      "isnumeric()  \tReturns True if all characters in the string are numeric\n",
      "isprintable()  \tReturns True if all characters in the string are printable\n",
      "isspace()  \tReturns True if all characters in the string are whitespaces\n",
      "istitle()  \tReturns True if the string follows the rules of a title\n",
      "isupper()  \tReturns True if all characters in the string are upper case\n",
      "join()  \tJoins the elements of an iterable to the end of the string\n",
      "ljust()  \tReturns a left justified version of the string\n",
      "lower()  \tConverts a string into lower case\n",
      "lstrip()  \tReturns a left trim version of the string\n",
      "maketrans()  \tReturns a translation table to be used in translations\n",
      "partition()  \tReturns a tuple where the string is parted into three parts\n",
      "replace()  \tReturns a string where a specified value is replaced with a specified value\n",
      "rfind()  \tSearches the string for a specified value and returns the last position of where it was found\n",
      "rindex()  \tSearches the string for a specified value and returns the last position of where it was found\n",
      "rjust()  \tReturns a right justified version of the string\n",
      "rpartition()  \tReturns a tuple where the string is parted into three parts\n",
      "rsplit()  \tSplits the string at the specified separator, and returns a list\n",
      "rstrip()  \tReturns a right trim version of the string\n",
      "split()  \tSplits the string at the specified separator, and returns a list\n",
      "splitlines()  \tSplits the string at line breaks and returns a list\n",
      "startswith()  \tReturns true if the string starts with the specified value\n",
      "strip()  \tReturns a trimmed version of the string\n",
      "swapcase()  \tSwaps cases, lower case becomes upper case and vice versa\n",
      "title()  \tConverts the first character of each word to upper case\n",
      "translate()  \tReturns a translated string\n",
      "upper()  \tConverts a string into upper case\n",
      "zfill()  \tFills the string with a specified number of 0 values at the beginning\n"
     ]
    }
   ],
   "source": [
    "with open(\"../Data/Strings methods.csv\") as f:\n",
    "    content=f.readlines()\n",
    "for item in content:\n",
    "    print(item.replace(\";\",\"  \\t\"),end=\"\")"
   ]
  },
  {
   "cell_type": "markdown",
   "metadata": {},
   "source": [
    "<a id=Lst></a>\n",
    "[ <= ](#Str)|| [Оглавление](#Ref) ||[ => ](#Dct)\n",
    "# 2. Списки\n",
    "Список в Python - это упорядоченная изменяемая коллекция объектов произвольных типов"
   ]
  },
  {
   "cell_type": "code",
   "execution_count": 17,
   "metadata": {
    "scrolled": true
   },
   "outputs": [
    {
     "name": "stdout",
     "output_type": "stream",
     "text": [
      "['яблоко', 'банан', 'вишня']\n"
     ]
    }
   ],
   "source": [
    "list1 = [\"яблоко\", \"банан\", \"вишня\"]\n",
    "print(list1)"
   ]
  },
  {
   "cell_type": "markdown",
   "metadata": {},
   "source": [
    "Элементы списка упорядочены, изменяемы и допускают повторяющиеся значения. Элементы списка проиндексированы, первый элемент имеет индекс [0], второй элемент - индекс [1] и т. д. При добавлении новых элементов, они помещаются в конец списка."
   ]
  },
  {
   "cell_type": "markdown",
   "metadata": {},
   "source": [
    "### Функция _len()_\n",
    "Чтобы определить, сколько элементов в списке."
   ]
  },
  {
   "cell_type": "code",
   "execution_count": 18,
   "metadata": {},
   "outputs": [
    {
     "name": "stdout",
     "output_type": "stream",
     "text": [
      "3\n"
     ]
    }
   ],
   "source": [
    "list1 = [\"яблоко\", \"банан\", \"вишня\"]\n",
    "print(len(list1))"
   ]
  },
  {
   "cell_type": "markdown",
   "metadata": {},
   "source": [
    "Элементы списка могут быть любого типа данных"
   ]
  },
  {
   "cell_type": "code",
   "execution_count": 19,
   "metadata": {},
   "outputs": [],
   "source": [
    "list1 = [\"яблоко\", \"банан\", \"вишня\"]\n",
    "list2 = [1, 5, 7, 9, 3]\n",
    "list3 = [True, False, False]"
   ]
  },
  {
   "cell_type": "markdown",
   "metadata": {},
   "source": [
    "Список может содержать разные типы данных"
   ]
  },
  {
   "cell_type": "code",
   "execution_count": 20,
   "metadata": {},
   "outputs": [
    {
     "data": {
      "text/plain": [
       "['abc', 34, True, 40, 'студент']"
      ]
     },
     "execution_count": 20,
     "metadata": {},
     "output_type": "execute_result"
    }
   ],
   "source": [
    "list1=[\"abc\", 34, True, 40, \"студент\"]\n",
    "list1"
   ]
  },
  {
   "cell_type": "markdown",
   "metadata": {},
   "source": [
    "### _type()_\n",
    "Если _lst1_ - список, то об этом можно узнать с помощью функции _type()_"
   ]
  },
  {
   "cell_type": "code",
   "execution_count": 21,
   "metadata": {},
   "outputs": [
    {
     "data": {
      "text/plain": [
       "list"
      ]
     },
     "execution_count": 21,
     "metadata": {},
     "output_type": "execute_result"
    }
   ],
   "source": [
    "type(list1)"
   ]
  },
  {
   "cell_type": "markdown",
   "metadata": {},
   "source": [
    "### Конструктор _list()_\n",
    "Помещает данные в список, если они хранятся в другой структуре, например, создает список из кортежа."
   ]
  },
  {
   "cell_type": "code",
   "execution_count": 22,
   "metadata": {},
   "outputs": [
    {
     "name": "stdout",
     "output_type": "stream",
     "text": [
      "['яблоко', 'банан', 'вишня']\n"
     ]
    }
   ],
   "source": [
    "list1 = list((\"яблоко\", \"банан\", \"вишня\")) # двойные круглые скобки\n",
    "print(list1)"
   ]
  },
  {
   "cell_type": "markdown",
   "metadata": {},
   "source": [
    "### Индексы и срезы\n",
    "Доступ к элементам списка осуществляется по индексу."
   ]
  },
  {
   "cell_type": "code",
   "execution_count": 23,
   "metadata": {},
   "outputs": [
    {
     "name": "stdout",
     "output_type": "stream",
     "text": [
      "банан\n",
      "манго\n",
      "['яблоко', 'вишня', 'киви', 'манго']\n",
      "['банан', 'апельсин', 'дыня']\n",
      "['вишня', 'апельсин', 'киви']\n",
      "['киви', 'апельсин', 'вишня']\n"
     ]
    }
   ],
   "source": [
    "list1 = [\"яблоко\", \"банан\", \"вишня\", \"апельсин\", \"киви\", \"дыня\", \"манго\"]\n",
    "print(list1[1])\n",
    "print(list1[-1])\n",
    "print(list1[::2])\n",
    "print(list1[1::2])\n",
    "print(list1[2:5])\n",
    "print(list1[-3:-6:-1])"
   ]
  },
  {
   "cell_type": "markdown",
   "metadata": {},
   "source": [
    "### Проверка на наличие в списке"
   ]
  },
  {
   "cell_type": "code",
   "execution_count": 24,
   "metadata": {},
   "outputs": [
    {
     "name": "stdout",
     "output_type": "stream",
     "text": [
      "Да, 'яблоко' в списке фруктов\n"
     ]
    }
   ],
   "source": [
    "list1 = [\"яблоко\", \"банан\", \"вишня\"]\n",
    "if \"яблоко\" in list1:\n",
    "  print(\"Да, 'яблоко' в списке фруктов\") "
   ]
  },
  {
   "cell_type": "markdown",
   "metadata": {},
   "source": [
    "### Замена элементов списка"
   ]
  },
  {
   "cell_type": "code",
   "execution_count": 25,
   "metadata": {},
   "outputs": [
    {
     "data": {
      "text/plain": [
       "['яблоко', 'черная смородина', 'вишня']"
      ]
     },
     "execution_count": 25,
     "metadata": {},
     "output_type": "execute_result"
    }
   ],
   "source": [
    "list1 = [\"яблоко\", \"банан\", \"вишня\"]\n",
    "list1[1] = \"черная смородина\"\n",
    "list1"
   ]
  },
  {
   "cell_type": "markdown",
   "metadata": {},
   "source": [
    "### Замена диапазона значений"
   ]
  },
  {
   "cell_type": "code",
   "execution_count": 26,
   "metadata": {},
   "outputs": [
    {
     "data": {
      "text/plain": [
       "['яблоко', 'банан', 'виноград', 'груша', 'манго']"
      ]
     },
     "execution_count": 26,
     "metadata": {},
     "output_type": "execute_result"
    }
   ],
   "source": [
    "list1 = [\"яблоко\", \"банан\", \"вишня\", \"апельсин\", \"киви\", \"дыня\", \"манго\"]\n",
    "list1[2:6] = [\"виноград\", \"груша\"]\n",
    "list1"
   ]
  },
  {
   "cell_type": "markdown",
   "metadata": {},
   "source": [
    "### Метод _insert()_"
   ]
  },
  {
   "cell_type": "code",
   "execution_count": 27,
   "metadata": {},
   "outputs": [
    {
     "data": {
      "text/plain": [
       "['яблоко', 'банан', 'грейпфрут', 'вишня']"
      ]
     },
     "execution_count": 27,
     "metadata": {},
     "output_type": "execute_result"
    }
   ],
   "source": [
    "list1 = [\"яблоко\", \"банан\", \"вишня\"]\n",
    "list1.insert(2,\"грейпфрут\")\n",
    "list1"
   ]
  },
  {
   "cell_type": "markdown",
   "metadata": {},
   "source": [
    "### Метод _append()_"
   ]
  },
  {
   "cell_type": "code",
   "execution_count": 28,
   "metadata": {},
   "outputs": [
    {
     "data": {
      "text/plain": [
       "['яблоко', 'банан', 'вишня', 'черешня']"
      ]
     },
     "execution_count": 28,
     "metadata": {},
     "output_type": "execute_result"
    }
   ],
   "source": [
    "list1 = [\"яблоко\", \"банан\", \"вишня\"]\n",
    "list1.append(\"черешня\")\n",
    "list1"
   ]
  },
  {
   "cell_type": "markdown",
   "metadata": {},
   "source": [
    "### Метод _extend()_"
   ]
  },
  {
   "cell_type": "markdown",
   "metadata": {},
   "source": [
    "Чтобы добавить элементы из другого списка в текущий список."
   ]
  },
  {
   "cell_type": "code",
   "execution_count": 29,
   "metadata": {},
   "outputs": [
    {
     "data": {
      "text/plain": [
       "['яблоко', 'банан', 'вишня', 'калина', 'рябина', 'облепиха']"
      ]
     },
     "execution_count": 29,
     "metadata": {},
     "output_type": "execute_result"
    }
   ],
   "source": [
    "list1 = [\"яблоко\", \"банан\", \"вишня\"]\n",
    "list2 = [\"калина\", \"рябина\", \"облепиха\"]\n",
    "list1.extend(list2)\n",
    "list1"
   ]
  },
  {
   "cell_type": "markdown",
   "metadata": {},
   "source": [
    "### Методы _remove(), pop(), clear()_"
   ]
  },
  {
   "cell_type": "code",
   "execution_count": 30,
   "metadata": {},
   "outputs": [
    {
     "name": "stdout",
     "output_type": "stream",
     "text": [
      "['яблоко', 'банан', 'апельсин', 'киви', 'дыня', 'манго']\n"
     ]
    }
   ],
   "source": [
    "list1 = [\"яблоко\", \"банан\", \"вишня\", \"апельсин\", \"киви\", \"дыня\", \"манго\"]\n",
    "list1.remove(\"вишня\")\n",
    "print(list1)"
   ]
  },
  {
   "cell_type": "code",
   "execution_count": 31,
   "metadata": {},
   "outputs": [
    {
     "name": "stdout",
     "output_type": "stream",
     "text": [
      "['яблоко', 'банан', 'апельсин', 'киви', 'дыня', 'манго']\n"
     ]
    }
   ],
   "source": [
    "list1 = [\"яблоко\", \"банан\", \"вишня\", \"апельсин\", \"киви\", \"дыня\", \"манго\"]\n",
    "list1.pop(2)\n",
    "print(list1)"
   ]
  },
  {
   "cell_type": "code",
   "execution_count": 32,
   "metadata": {},
   "outputs": [
    {
     "name": "stdout",
     "output_type": "stream",
     "text": [
      "['яблоко', 'банан', 'вишня', 'апельсин', 'киви', 'дыня']\n"
     ]
    }
   ],
   "source": [
    "list1 = [\"яблоко\", \"банан\", \"вишня\", \"апельсин\", \"киви\", \"дыня\", \"манго\"]\n",
    "list1.pop()\n",
    "print(list1)"
   ]
  },
  {
   "cell_type": "code",
   "execution_count": 33,
   "metadata": {},
   "outputs": [
    {
     "name": "stdout",
     "output_type": "stream",
     "text": [
      "[]\n"
     ]
    }
   ],
   "source": [
    "list1.clear()\n",
    "print(list1)"
   ]
  },
  {
   "cell_type": "markdown",
   "metadata": {},
   "source": [
    "### Метод _sort()_"
   ]
  },
  {
   "cell_type": "code",
   "execution_count": 34,
   "metadata": {},
   "outputs": [
    {
     "name": "stdout",
     "output_type": "stream",
     "text": [
      "['апельсин', 'банан', 'вишня', 'дыня', 'киви', 'манго', 'яблоко']\n"
     ]
    }
   ],
   "source": [
    "list1 = [\"яблоко\", \"банан\", \"вишня\", \"апельсин\", \"киви\", \"дыня\", \"манго\"]\n",
    "list1.sort()\n",
    "print(list1)"
   ]
  },
  {
   "cell_type": "code",
   "execution_count": 35,
   "metadata": {},
   "outputs": [
    {
     "name": "stdout",
     "output_type": "stream",
     "text": [
      "['яблоко', 'манго', 'киви', 'дыня', 'вишня', 'банан', 'апельсин']\n"
     ]
    }
   ],
   "source": [
    "list1 = [\"яблоко\", \"банан\", \"вишня\", \"апельсин\", \"киви\", \"дыня\", \"манго\"]\n",
    "list1.sort(reverse = True)\n",
    "print(list1)"
   ]
  },
  {
   "cell_type": "markdown",
   "metadata": {},
   "source": [
    "<a id=Dct></a>\n",
    "[ <= ](#Lst) || [Оглавление] || [=>](#Set)\n",
    "\n",
    "# 3. Словари\n",
    "\n",
    "Словарь - упорядоченная изменяемая коллекция. Каждым элементом словаря является пара ключ - значение."
   ]
  },
  {
   "cell_type": "code",
   "execution_count": 36,
   "metadata": {},
   "outputs": [],
   "source": [
    "dict1 = {\n",
    "  \"brand\": \"Ford\",\n",
    "  \"model\": \"Mustang\",\n",
    "  \"year\": 1964\n",
    "}"
   ]
  },
  {
   "cell_type": "markdown",
   "metadata": {},
   "source": [
    "К значениям словаря можно обращаться по ключу."
   ]
  },
  {
   "cell_type": "code",
   "execution_count": 37,
   "metadata": {},
   "outputs": [
    {
     "data": {
      "text/plain": [
       "'Ford'"
      ]
     },
     "execution_count": 37,
     "metadata": {},
     "output_type": "execute_result"
    }
   ],
   "source": [
    "dict1['brand']"
   ]
  },
  {
   "cell_type": "markdown",
   "metadata": {},
   "source": [
    "В словарях не допускаются дупликаты"
   ]
  },
  {
   "cell_type": "code",
   "execution_count": 38,
   "metadata": {},
   "outputs": [
    {
     "data": {
      "text/plain": [
       "{'brand': 'Ford', 'model': 'Mustang', 'year': 2020}"
      ]
     },
     "execution_count": 38,
     "metadata": {},
     "output_type": "execute_result"
    }
   ],
   "source": [
    "dict1 = {\n",
    "  \"brand\": \"Ford\",\n",
    "  \"model\": \"Mustang\",\n",
    "  \"year\": 1964,\n",
    "  \"year\": 2020\n",
    "}\n",
    "dict1"
   ]
  },
  {
   "cell_type": "markdown",
   "metadata": {},
   "source": [
    "Значениями могут быть данные любых типов"
   ]
  },
  {
   "cell_type": "code",
   "execution_count": 39,
   "metadata": {},
   "outputs": [],
   "source": [
    "dict1 = {\n",
    "  \"brand\": \"Ford\",\n",
    "  \"electric\": False,\n",
    "  \"year\": 1964,\n",
    "  \"colors\": [\"красный\", \"белый\", \"голубой\"]\n",
    "}"
   ]
  },
  {
   "cell_type": "markdown",
   "metadata": {},
   "source": [
    "### Метод _keys()_"
   ]
  },
  {
   "cell_type": "code",
   "execution_count": 40,
   "metadata": {},
   "outputs": [
    {
     "data": {
      "text/plain": [
       "dict_keys(['brand', 'electric', 'year', 'colors'])"
      ]
     },
     "execution_count": 40,
     "metadata": {},
     "output_type": "execute_result"
    }
   ],
   "source": [
    "dict1.keys()"
   ]
  },
  {
   "cell_type": "markdown",
   "metadata": {},
   "source": [
    "### Метод _values()_"
   ]
  },
  {
   "cell_type": "code",
   "execution_count": 41,
   "metadata": {},
   "outputs": [
    {
     "data": {
      "text/plain": [
       "dict_values(['Ford', False, 1964, ['красный', 'белый', 'голубой']])"
      ]
     },
     "execution_count": 41,
     "metadata": {},
     "output_type": "execute_result"
    }
   ],
   "source": [
    "dict1.values()"
   ]
  },
  {
   "cell_type": "markdown",
   "metadata": {},
   "source": [
    "### Метод _items()_"
   ]
  },
  {
   "cell_type": "code",
   "execution_count": 42,
   "metadata": {},
   "outputs": [
    {
     "data": {
      "text/plain": [
       "dict_items([('brand', 'Ford'), ('electric', False), ('year', 1964), ('colors', ['красный', 'белый', 'голубой'])])"
      ]
     },
     "execution_count": 42,
     "metadata": {},
     "output_type": "execute_result"
    }
   ],
   "source": [
    "dict1.items()"
   ]
  },
  {
   "cell_type": "markdown",
   "metadata": {},
   "source": [
    "### Проверка на наличие ключа в словаре"
   ]
  },
  {
   "cell_type": "code",
   "execution_count": 43,
   "metadata": {},
   "outputs": [
    {
     "name": "stdout",
     "output_type": "stream",
     "text": [
      "1964\n"
     ]
    }
   ],
   "source": [
    "if 'year' in dict1:\n",
    "    print(dict1['year'])\n",
    "else:\n",
    "    print('Такого ключа нет')"
   ]
  },
  {
   "cell_type": "markdown",
   "metadata": {},
   "source": [
    "### Изменение значений словаря"
   ]
  },
  {
   "cell_type": "code",
   "execution_count": 44,
   "metadata": {},
   "outputs": [
    {
     "name": "stdout",
     "output_type": "stream",
     "text": [
      "{'brand': 'Ford', 'model': 'Mustang', 'year': 2018}\n"
     ]
    }
   ],
   "source": [
    "dict1 = {\n",
    "  \"brand\": \"Ford\",\n",
    "  \"model\": \"Mustang\",\n",
    "  \"year\": 1964\n",
    "}\n",
    "dict1[\"year\"] = 2018\n",
    "\n",
    "print(dict1)"
   ]
  },
  {
   "cell_type": "markdown",
   "metadata": {},
   "source": [
    "### Метод _pop()_\n",
    "Метод _pop()_ удаляет элемент словаря по имени ключа"
   ]
  },
  {
   "cell_type": "code",
   "execution_count": 45,
   "metadata": {},
   "outputs": [
    {
     "name": "stdout",
     "output_type": "stream",
     "text": [
      "{'model': 'Mustang', 'year': 1964}\n"
     ]
    }
   ],
   "source": [
    "dict1 = {\n",
    "  \"brand\": \"Ford\",\n",
    "  \"model\": \"Mustang\",\n",
    "  \"year\": 1964\n",
    "}\n",
    "dict1.pop(\"brand\")\n",
    "print(dict1)"
   ]
  },
  {
   "cell_type": "markdown",
   "metadata": {},
   "source": [
    "### Метод _clear()_ опустошает словарь"
   ]
  },
  {
   "cell_type": "code",
   "execution_count": 46,
   "metadata": {},
   "outputs": [
    {
     "name": "stdout",
     "output_type": "stream",
     "text": [
      "{}\n"
     ]
    }
   ],
   "source": [
    "dict1.clear()\n",
    "print(dict1)"
   ]
  },
  {
   "cell_type": "markdown",
   "metadata": {},
   "source": [
    "### Проход по словарю в цикле"
   ]
  },
  {
   "cell_type": "markdown",
   "metadata": {},
   "source": [
    "Распечатать имена всех ключей"
   ]
  },
  {
   "cell_type": "code",
   "execution_count": 47,
   "metadata": {},
   "outputs": [
    {
     "name": "stdout",
     "output_type": "stream",
     "text": [
      "brand\n",
      "model\n",
      "year\n"
     ]
    }
   ],
   "source": [
    "dict1 = {\n",
    "  \"brand\": \"Ford\",\n",
    "  \"model\": \"Mustang\",\n",
    "  \"year\": 1964\n",
    "}\n",
    "for x in dict1:\n",
    "    print(x)"
   ]
  },
  {
   "cell_type": "markdown",
   "metadata": {},
   "source": [
    "Распечатать все значения"
   ]
  },
  {
   "cell_type": "code",
   "execution_count": 48,
   "metadata": {},
   "outputs": [
    {
     "name": "stdout",
     "output_type": "stream",
     "text": [
      "Ford\n",
      "Mustang\n",
      "1964\n"
     ]
    }
   ],
   "source": [
    "for x in dict1:\n",
    "    print(dict1[x])"
   ]
  },
  {
   "cell_type": "markdown",
   "metadata": {},
   "source": [
    "### Методы _keys()_ и _values()_\n",
    "Для доступа к именам ключей и значениям можно также использовать методы _keys()_ и _values()_"
   ]
  },
  {
   "cell_type": "code",
   "execution_count": 49,
   "metadata": {},
   "outputs": [
    {
     "name": "stdout",
     "output_type": "stream",
     "text": [
      "brand\n",
      "model\n",
      "year\n"
     ]
    }
   ],
   "source": [
    "for x in dict1.keys():\n",
    "    print(x)"
   ]
  },
  {
   "cell_type": "code",
   "execution_count": 50,
   "metadata": {},
   "outputs": [
    {
     "name": "stdout",
     "output_type": "stream",
     "text": [
      "Ford\n",
      "Mustang\n",
      "1964\n"
     ]
    }
   ],
   "source": [
    "for x in dict1.values():\n",
    "    print(x)"
   ]
  },
  {
   "cell_type": "markdown",
   "metadata": {},
   "source": [
    "### Метод _items()_\n",
    "Метод _items()_ используется для доступа как к именам ключей, так и значениям"
   ]
  },
  {
   "cell_type": "code",
   "execution_count": 51,
   "metadata": {},
   "outputs": [
    {
     "name": "stdout",
     "output_type": "stream",
     "text": [
      "brand Ford\n",
      "model Mustang\n",
      "year 1964\n"
     ]
    }
   ],
   "source": [
    "for x, y in dict1.items():\n",
    "    print(x, y)"
   ]
  },
  {
   "cell_type": "markdown",
   "metadata": {},
   "source": [
    "Словари можно вкладывать друг в друга"
   ]
  },
  {
   "cell_type": "code",
   "execution_count": 52,
   "metadata": {
    "scrolled": true
   },
   "outputs": [
    {
     "name": "stdout",
     "output_type": "stream",
     "text": [
      "{'car1': {'model': 'Ford', 'brand': 'Mustang', 'year': 1996}, 'car2': {'model': 'Lada', 'brand': 'Granta', 'year': 2020}}\n"
     ]
    }
   ],
   "source": [
    "park = {\n",
    "    'car1' : {\n",
    "        'model' : 'Ford',\n",
    "        'brand' : 'Mustang',\n",
    "        'year' : 1996\n",
    "    },\n",
    "    'car2' : {\n",
    "        'model' : 'Lada',\n",
    "        'brand' : 'Granta',\n",
    "        'year' : 2020\n",
    "    }\n",
    "}\n",
    "print(park)"
   ]
  },
  {
   "cell_type": "markdown",
   "metadata": {},
   "source": [
    "<a id=Tpl></a>\n",
    "[ <= ](#Dct) || [Оглавление](#Ref) || [ => ](#Set)\n",
    "## 4. Кортежи\n",
    "\n",
    "Кортеж - это упорядоченная неизменяемая коллекция. Для создания кортежа используются круглые скобки."
   ]
  },
  {
   "cell_type": "code",
   "execution_count": 53,
   "metadata": {},
   "outputs": [
    {
     "name": "stdout",
     "output_type": "stream",
     "text": [
      "('рябина', 'шиповник', 'облепиха')\n"
     ]
    }
   ],
   "source": [
    "t1 = (\"рябина\", \"шиповник\", \"облепиха\")\n",
    "print(t1)"
   ]
  },
  {
   "cell_type": "markdown",
   "metadata": {},
   "source": [
    "Элементы кортежа упорядочены, неизменяемы и допускают повторяющиеся значения. Элементы кортежа индексируются, первый элемент имеет индекс [0], второй элемент имеет индекс [1] и т. д. \n",
    "\n",
    "Когда говорят, что кортежи упорядочены, это означает, что элементы имеют определенный порядок, и этот порядок не изменяется.\n",
    "\n",
    "Кортежи неизменяемы, то есть мы не можем изменять, добавлять или удалять элементы после создания кортежа.\n",
    "\n",
    "Поскольку кортежи индексируются, они могут иметь элементы с одинаковыми значениями."
   ]
  },
  {
   "cell_type": "code",
   "execution_count": 54,
   "metadata": {
    "scrolled": false
   },
   "outputs": [
    {
     "name": "stdout",
     "output_type": "stream",
     "text": [
      "('рябина', 'шиповник', 'облепиха', 'рябина', 'шиповник')\n"
     ]
    }
   ],
   "source": [
    "t1 = (\"рябина\", \"шиповник\", \"облепиха\", \"рябина\", \"шиповник\")\n",
    "print(t1)"
   ]
  },
  {
   "cell_type": "markdown",
   "metadata": {},
   "source": [
    "Чтобы создать кортеж из одного элемента, необходимо добавить запятую, иначе Python не распознает его как кортеж."
   ]
  },
  {
   "cell_type": "code",
   "execution_count": 55,
   "metadata": {},
   "outputs": [
    {
     "name": "stdout",
     "output_type": "stream",
     "text": [
      "<class 'tuple'>\n",
      "<class 'str'>\n"
     ]
    }
   ],
   "source": [
    "t1 = (\"рябина\",)\n",
    "print(type(t1))\n",
    "\n",
    "#Не кортеж\n",
    "t2 = (\"рябина\")\n",
    "print(type(t2))"
   ]
  },
  {
   "cell_type": "markdown",
   "metadata": {},
   "source": [
    "Кортеж может содержать разные данные разных типов"
   ]
  },
  {
   "cell_type": "code",
   "execution_count": 56,
   "metadata": {},
   "outputs": [],
   "source": [
    "t1 = (\"xy\", 43, True, \"40\")"
   ]
  },
  {
   "cell_type": "markdown",
   "metadata": {},
   "source": [
    "### Конструктор *tuple()*\n",
    "Конструктор *tuple()* используется для создания кортежей"
   ]
  },
  {
   "cell_type": "code",
   "execution_count": 57,
   "metadata": {
    "scrolled": true
   },
   "outputs": [
    {
     "name": "stdout",
     "output_type": "stream",
     "text": [
      "('рябина', 'шиповник', 'облепих')\n"
     ]
    }
   ],
   "source": [
    "t1 = tuple([\"рябина\", \"шиповник\", \"облепих\"])\n",
    "print(t1)"
   ]
  },
  {
   "cell_type": "markdown",
   "metadata": {},
   "source": [
    "### Доступ к элементам кортежа"
   ]
  },
  {
   "cell_type": "code",
   "execution_count": 58,
   "metadata": {},
   "outputs": [
    {
     "name": "stdout",
     "output_type": "stream",
     "text": [
      "шиповник\n",
      "смородина\n",
      "('смородина', 'облепиха')\n"
     ]
    }
   ],
   "source": [
    "t1 = tuple([\"рябина\", \"шиповник\", \"облепиха\", \"смородина\"])\n",
    "print(t1[1])\n",
    "print(t1[-1])\n",
    "print(t1[-1:1:-1])"
   ]
  },
  {
   "cell_type": "markdown",
   "metadata": {},
   "source": [
    "<a id=Set></a>\n",
    "[ <= ](#Tpl) || [Оглавление](#Ref) || [ => ](#Tsk)\n",
    "## 5. Множества\n",
    "\n",
    "Множество - это неупорядоченная и неиндексированная коллекция. Элементы множества неупорядочены, неизменяемы и не допускают повторяющихся значений. На элемент множества нельзя сослаться по индексу. Мы не можем изменять значения элементов множества, но можем добавлять новые элементы. В множестве не может быть двух элементов с одинаковыми значениями. Для множества используются фигурные скобки."
   ]
  },
  {
   "cell_type": "markdown",
   "metadata": {},
   "source": [
    "Элементы множества могут быть любого типа"
   ]
  },
  {
   "cell_type": "code",
   "execution_count": 59,
   "metadata": {},
   "outputs": [
    {
     "data": {
      "text/plain": [
       "{3, 6, 9, True, 'a', 'b', 'c', 'u'}"
      ]
     },
     "execution_count": 59,
     "metadata": {},
     "output_type": "execute_result"
    }
   ],
   "source": [
    "set1={\"a\",\"b\",\"c\",\"u\",3,6,9,True}\n",
    "set1"
   ]
  },
  {
   "cell_type": "markdown",
   "metadata": {},
   "source": [
    "Дупликаты в множествах не допускаются"
   ]
  },
  {
   "cell_type": "code",
   "execution_count": 60,
   "metadata": {},
   "outputs": [
    {
     "data": {
      "text/plain": [
       "{'a', 'v'}"
      ]
     },
     "execution_count": 60,
     "metadata": {},
     "output_type": "execute_result"
    }
   ],
   "source": [
    "set1={\"a\",\"v\",\"a\"}\n",
    "set1"
   ]
  },
  {
   "cell_type": "markdown",
   "metadata": {},
   "source": [
    "Тип данных - множество"
   ]
  },
  {
   "cell_type": "code",
   "execution_count": 61,
   "metadata": {},
   "outputs": [
    {
     "name": "stdout",
     "output_type": "stream",
     "text": [
      "<class 'set'>\n"
     ]
    }
   ],
   "source": [
    "print(type(set1))"
   ]
  },
  {
   "cell_type": "markdown",
   "metadata": {},
   "source": [
    "### Конструктор *set()*\n",
    "Конструктор *set()* используется для создания множества. Создадим множество из кортежа."
   ]
  },
  {
   "cell_type": "code",
   "execution_count": 62,
   "metadata": {},
   "outputs": [
    {
     "name": "stdout",
     "output_type": "stream",
     "text": [
      "{'банан', 'яблоко', 'черешня'}\n"
     ]
    }
   ],
   "source": [
    "my_set=set((\"яблоко\",\"банан\",\"черешня\")) # ! Двойные круглые скобки\n",
    "print(my_set)"
   ]
  },
  {
   "cell_type": "markdown",
   "metadata": {},
   "source": [
    "Используем конструктор для создания множества из строки"
   ]
  },
  {
   "cell_type": "code",
   "execution_count": 63,
   "metadata": {},
   "outputs": [
    {
     "name": "stdout",
     "output_type": "stream",
     "text": [
      "{'и', 'к', 'т', 'с', 'а'}\n"
     ]
    }
   ],
   "source": [
    "set1=set('статистика')\n",
    "print(set1)"
   ]
  },
  {
   "cell_type": "markdown",
   "metadata": {},
   "source": [
    "### Метод *add()* \n",
    "Метод *add()* используется для добавления элементов множества"
   ]
  },
  {
   "cell_type": "code",
   "execution_count": 64,
   "metadata": {},
   "outputs": [
    {
     "name": "stdout",
     "output_type": "stream",
     "text": [
      "{'орел', 'куропатка', 'лев', 'человек'}\n"
     ]
    }
   ],
   "source": [
    "set2={\"человек\",\"лев\",\"орел\"}\n",
    "set2.add(\"куропатка\")\n",
    "print(set2)"
   ]
  },
  {
   "cell_type": "markdown",
   "metadata": {},
   "source": [
    "### Метод *update()*"
   ]
  },
  {
   "cell_type": "code",
   "execution_count": 66,
   "metadata": {},
   "outputs": [
    {
     "name": "stdout",
     "output_type": "stream",
     "text": [
      "{'орел', 'куропатка', 'лев', 'морская звезда', 'рогатый олень', 'человек'}\n"
     ]
    }
   ],
   "source": [
    "set1={\"человек\",\"лев\",\"орел\",\"куропатка\"}\n",
    "set2={\"рогатый олень\", \"морская звезда\"}\n",
    "set1.update(set2)\n",
    "print(set1)"
   ]
  },
  {
   "cell_type": "markdown",
   "metadata": {},
   "source": [
    "### Удаление элементов множества с помощью *remove()* и *discard()*"
   ]
  },
  {
   "cell_type": "code",
   "execution_count": 42,
   "metadata": {},
   "outputs": [
    {
     "name": "stdout",
     "output_type": "stream",
     "text": [
      "{'куропатка', 'лев', 'человек'}\n"
     ]
    }
   ],
   "source": [
    "set1={\"человек\",\"лев\",\"орел\",\"куропатка\"}\n",
    "set1.remove(\"орел\")\n",
    "print(set1)"
   ]
  },
  {
   "cell_type": "code",
   "execution_count": 43,
   "metadata": {},
   "outputs": [
    {
     "name": "stdout",
     "output_type": "stream",
     "text": [
      "{'куропатка', 'орел', 'человек'}\n"
     ]
    }
   ],
   "source": [
    "set1={\"человек\",\"лев\",\"орел\",\"куропатка\"}\n",
    "set1.discard(\"лев\")\n",
    "print(set1)"
   ]
  },
  {
   "cell_type": "markdown",
   "metadata": {},
   "source": [
    "Если удаляемый элемент отсутствует, метод *remove()* приводит к ошибке. Метод *discard()* не приводит к ошибке."
   ]
  },
  {
   "cell_type": "code",
   "execution_count": 44,
   "metadata": {},
   "outputs": [
    {
     "name": "stdout",
     "output_type": "stream",
     "text": [
      "{'куропатка', 'лев', 'орел', 'человек'}\n"
     ]
    }
   ],
   "source": [
    "set1={\"человек\",\"лев\",\"орел\",\"куропатка\"}\n",
    "set1.discard(\"утка\")\n",
    "print(set1)"
   ]
  },
  {
   "cell_type": "markdown",
   "metadata": {},
   "source": [
    "### Метод *pop()*\n",
    "Удаляет последний элемент множества. Возвращает удаленный элелемент. Так как элементы множества неупорядочены, не известно, какой элемент будет удален."
   ]
  },
  {
   "cell_type": "code",
   "execution_count": 46,
   "metadata": {},
   "outputs": [
    {
     "name": "stdout",
     "output_type": "stream",
     "text": [
      "куропатка\n"
     ]
    }
   ],
   "source": [
    "set1={\"человек\",\"лев\",\"орел\",\"куропатка\"}\n",
    "element=set1.pop()\n",
    "print(element)"
   ]
  },
  {
   "cell_type": "markdown",
   "metadata": {},
   "source": [
    "### Метод *clear()*\n",
    "Метод *clear()* очищает множество"
   ]
  },
  {
   "cell_type": "code",
   "execution_count": 47,
   "metadata": {},
   "outputs": [
    {
     "name": "stdout",
     "output_type": "stream",
     "text": [
      "set()\n"
     ]
    }
   ],
   "source": [
    "set1={\"человек\",\"лев\",\"орел\",\"куропатка\"}\n",
    "set1.clear()\n",
    "print(set1)"
   ]
  },
  {
   "cell_type": "markdown",
   "metadata": {},
   "source": [
    "### Команда *del*\n",
    "Команда *del* удаляет множество"
   ]
  },
  {
   "cell_type": "code",
   "execution_count": null,
   "metadata": {},
   "outputs": [],
   "source": [
    "set1={\"человек\",\"лев\",\"орел\",\"куропатка\"}\n",
    "del set1\n",
    "print(set1) # Приводит к ошибке, так как множество set1 не существует"
   ]
  },
  {
   "cell_type": "markdown",
   "metadata": {},
   "source": [
    "### Цикл по элементам множества"
   ]
  },
  {
   "cell_type": "code",
   "execution_count": 49,
   "metadata": {},
   "outputs": [
    {
     "name": "stdout",
     "output_type": "stream",
     "text": [
      "куропатка\n",
      "лев\n",
      "орел\n",
      "человек\n"
     ]
    }
   ],
   "source": [
    "set1={\"человек\",\"лев\",\"орел\",\"куропатка\"}\n",
    "for x in set1:\n",
    "    print(x)"
   ]
  },
  {
   "cell_type": "markdown",
   "metadata": {},
   "source": [
    "### Объединение двух множеств\n",
    "Для объединения двух множеств используются методы *update()* и *union()*. Метод *update()* добавляет к множеству элементы другого множества. Метод *union()* создает новое множество из двух объединяемых множеств."
   ]
  },
  {
   "cell_type": "code",
   "execution_count": 50,
   "metadata": {
    "scrolled": true
   },
   "outputs": [
    {
     "name": "stdout",
     "output_type": "stream",
     "text": [
      "{1, 2, 3, 'c', 'a', 'b'}\n"
     ]
    }
   ],
   "source": [
    "set1 = {\"a\", \"b\" , \"c\"}\n",
    "set2 = {1, 2, 3}\n",
    "\n",
    "set3 = set1.union(set2)\n",
    "print(set3) "
   ]
  },
  {
   "cell_type": "markdown",
   "metadata": {},
   "source": [
    "### Метод *intersection_update()*\n",
    "Возвращает элементы, присутствующие в обоих множествах"
   ]
  },
  {
   "cell_type": "code",
   "execution_count": 51,
   "metadata": {},
   "outputs": [
    {
     "name": "stdout",
     "output_type": "stream",
     "text": [
      "{'бор'}\n"
     ]
    }
   ],
   "source": [
    "x = {\"бериллий\", \"бор\", \"углерод\"}\n",
    "y = {\"лес\", \"бор\", \"роща\"}\n",
    "\n",
    "x.intersection_update(y)\n",
    "\n",
    "print(x) "
   ]
  },
  {
   "cell_type": "markdown",
   "metadata": {},
   "source": [
    "### Метод *symmetric_difference_update()*\n",
    "Находит неповторяющиеся элементы в обоих множествах"
   ]
  },
  {
   "cell_type": "code",
   "execution_count": 52,
   "metadata": {},
   "outputs": [
    {
     "name": "stdout",
     "output_type": "stream",
     "text": [
      "{'роща', 'бериллий', 'углерод', 'лес'}\n"
     ]
    }
   ],
   "source": [
    "x = {\"бериллий\", \"бор\", \"углерод\"}\n",
    "y = {\"лес\", \"бор\", \"роща\"}\n",
    "\n",
    "x.symmetric_difference_update(y)\n",
    "\n",
    "print(x) "
   ]
  },
  {
   "cell_type": "markdown",
   "metadata": {},
   "source": [
    "<a id=Tsk></a>\n",
    "[ <= ](#Set) || [Оглавление](#Ref) || [ => ](#Sol)\n",
    "# Задания"
   ]
  },
  {
   "cell_type": "markdown",
   "metadata": {},
   "source": [
    "1. Распечатать второе значение списка."
   ]
  },
  {
   "cell_type": "code",
   "execution_count": 64,
   "metadata": {},
   "outputs": [],
   "source": [
    "fruits = [\"яблоко\", \"банан\", \"вишня\"]\n",
    "# Ваш код здесь\n"
   ]
  },
  {
   "cell_type": "markdown",
   "metadata": {},
   "source": [
    "2. Поменять значение \"яблоко\" на \"киви\"."
   ]
  },
  {
   "cell_type": "code",
   "execution_count": 65,
   "metadata": {},
   "outputs": [],
   "source": [
    "fruits = [\"яблоко\", \"банан\", \"вишня\"]\n",
    "# Ваш код здесь\n"
   ]
  },
  {
   "cell_type": "markdown",
   "metadata": {},
   "source": [
    "3. Добавить к списку \"апельсин\"."
   ]
  },
  {
   "cell_type": "code",
   "execution_count": 66,
   "metadata": {},
   "outputs": [],
   "source": [
    "fruits = [\"яблоко\", \"банан\", \"вишня\"]\n",
    "# Ваш код здесь\n"
   ]
  },
  {
   "cell_type": "markdown",
   "metadata": {},
   "source": [
    "4. В имеющийся список _fruits_ вставить элемент \"лимон\" на вторую позицию."
   ]
  },
  {
   "cell_type": "code",
   "execution_count": 67,
   "metadata": {},
   "outputs": [],
   "source": [
    "fruits = [\"яблоко\", \"банан\", \"вишня\"]\n",
    "# Ваш код здесь\n"
   ]
  },
  {
   "cell_type": "markdown",
   "metadata": {},
   "source": [
    "5. Из списка _fruits_ удалить элемент \"банан\"."
   ]
  },
  {
   "cell_type": "code",
   "execution_count": 68,
   "metadata": {},
   "outputs": [],
   "source": [
    "fruits = [\"яблоко\", \"банан\", \"вишня\"]\n",
    "# Ваш код здесь\n"
   ]
  },
  {
   "cell_type": "markdown",
   "metadata": {},
   "source": [
    "6. Имеется строка `'SIX, SEVEN, EIGHT, NINE, TEN'`. Инвертировать последовательность слов, разделенных запятыми. Ожидается результат: `'TEN, NINE, EIGHT, SEVEN, SIX'`."
   ]
  },
  {
   "cell_type": "code",
   "execution_count": 69,
   "metadata": {},
   "outputs": [],
   "source": [
    "s = \"SIX, SEVEN, EIGHT, NINE, TEN\"\n",
    "# Ваш код здесь"
   ]
  },
  {
   "cell_type": "markdown",
   "metadata": {},
   "source": [
    "7. В строке, содержащей последовательность слов, обозначающих числа\n",
    "```\n",
    "'НОЛЬ,ОДИН,ДВА,ТРИ,ЧЕТЫРЕ,ПЯТЬ,ШЕСТЬ,СЕМЬ,ВОСЕМЬ,ДЕВЯТЬ'\n",
    "```\n",
    "удалить слова, обозначающие нечетные числа. Ответ представить в виде строки."
   ]
  },
  {
   "cell_type": "code",
   "execution_count": 70,
   "metadata": {},
   "outputs": [],
   "source": [
    "s='НОЛЬ,ОДИН,ДВА,ТРИ,ЧЕТЫРЕ,ПЯТЬ,ШЕСТЬ,СЕМЬ,ВОСЕМЬ,ДЕВЯТЬ'\n",
    "# Ваш код здесь"
   ]
  },
  {
   "cell_type": "markdown",
   "metadata": {},
   "source": [
    "8. Дана статистика расходов на рекламную кампанию по каналу ('source'), расходам ('cost') и прибыли от рекламы ('profit').\n",
    "```\n",
    "ads = [\n",
    "    {'cost':98, 'source':'vk', 'profit':150},\n",
    "    {'cost':153, 'source':'yandex', 'profit':270},\n",
    "    {'cost':110, 'source':'facebook', 'profit':201}\n",
    "]\n",
    "```\n",
    "Найти канал, обеспечивший максимальную эффективность = прибыль/расходы. Распечатать название канала и значение эффективности, округленное до двух десятичных знаков."
   ]
  },
  {
   "cell_type": "code",
   "execution_count": 71,
   "metadata": {},
   "outputs": [],
   "source": [
    "ads = [\n",
    "    {'cost':98, 'source':'vk', 'profit':150},\n",
    "    {'cost':153, 'source':'yandex', 'profit':270},\n",
    "    {'cost':110, 'source':'facebook', 'profit':201}\n",
    "]\n",
    "\n",
    "# Ваш код здесь"
   ]
  },
  {
   "cell_type": "markdown",
   "metadata": {},
   "source": [
    "9. Представить данные Задачи 8 в табличном виде, вывести эффективность в отдельный столбец и найти максимально эффективную организацию, оперируя данными таблицы."
   ]
  },
  {
   "cell_type": "markdown",
   "metadata": {},
   "source": [
    "10. На языке Markdown написать формулу y = Интеграл от a до b от x квадрат dx"
   ]
  },
  {
   "cell_type": "markdown",
   "metadata": {},
   "source": [
    "<a id=Sol></a>\n",
    "[Оглавление](#Ref)\n",
    "# Решения"
   ]
  },
  {
   "cell_type": "code",
   "execution_count": 72,
   "metadata": {},
   "outputs": [
    {
     "data": {
      "text/plain": [
       "'банан'"
      ]
     },
     "execution_count": 72,
     "metadata": {},
     "output_type": "execute_result"
    }
   ],
   "source": [
    "# 1\n",
    "\n",
    "fruits = [\"яблоко\", \"банан\", \"вишня\"]\n",
    "fruits[1]"
   ]
  },
  {
   "cell_type": "code",
   "execution_count": 73,
   "metadata": {},
   "outputs": [
    {
     "name": "stdout",
     "output_type": "stream",
     "text": [
      "['киви', 'банан', 'вишня']\n"
     ]
    }
   ],
   "source": [
    "# 2\n",
    "\n",
    "fruits = [\"яблоко\", \"банан\", \"вишня\"]\n",
    "fruits[0] = \"киви\"\n",
    "print(fruits)"
   ]
  },
  {
   "cell_type": "code",
   "execution_count": 74,
   "metadata": {},
   "outputs": [],
   "source": [
    "# 3\n",
    "\n",
    "fruits = [\"яблоко\", \"банан\", \"вишня\"]\n",
    "fruits.append(\"апельсин\")"
   ]
  },
  {
   "cell_type": "code",
   "execution_count": 75,
   "metadata": {},
   "outputs": [
    {
     "data": {
      "text/plain": [
       "['яблоко', 'лимон', 'банан', 'вишня']"
      ]
     },
     "execution_count": 75,
     "metadata": {},
     "output_type": "execute_result"
    }
   ],
   "source": [
    "# 4\n",
    "\n",
    "fruits = [\"яблоко\", \"банан\", \"вишня\"]\n",
    "fruits.insert(1, \"лимон\")\n",
    "fruits"
   ]
  },
  {
   "cell_type": "code",
   "execution_count": 76,
   "metadata": {},
   "outputs": [
    {
     "data": {
      "text/plain": [
       "['яблоко', 'вишня']"
      ]
     },
     "execution_count": 76,
     "metadata": {},
     "output_type": "execute_result"
    }
   ],
   "source": [
    "# 5\n",
    "\n",
    "fruits = [\"яблоко\", \"банан\", \"вишня\"]\n",
    "fruits.remove(\"банан\")\n",
    "fruits"
   ]
  },
  {
   "cell_type": "code",
   "execution_count": 77,
   "metadata": {},
   "outputs": [
    {
     "name": "stdout",
     "output_type": "stream",
     "text": [
      "TEN, NINE, EIGHT, SEVEN, SIX\n"
     ]
    }
   ],
   "source": [
    "# 6\n",
    "\n",
    "s = \"SIX, SEVEN, EIGHT, NINE, TEN\"\n",
    "list1 = s.split(\", \")[::-1]\n",
    "s = \", \".join(list1)\n",
    "print(s)"
   ]
  },
  {
   "cell_type": "code",
   "execution_count": 78,
   "metadata": {},
   "outputs": [
    {
     "data": {
      "text/plain": [
       "'НОЛЬ,ДВА,ЧЕТЫРЕ,ШЕСТЬ,ВОСЕМЬ'"
      ]
     },
     "execution_count": 78,
     "metadata": {},
     "output_type": "execute_result"
    }
   ],
   "source": [
    "# 7\n",
    "\n",
    "s = 'НОЛЬ,ОДИН,ДВА,ТРИ,ЧЕТЫРЕ,ПЯТЬ,ШЕСТЬ,СЕМЬ,ВОСЕМЬ,ДЕВЯТЬ'\n",
    "list1 = s.split(\",\")[::2]\n",
    "s = \",\".join(list1)\n",
    "s"
   ]
  },
  {
   "cell_type": "code",
   "execution_count": 21,
   "metadata": {},
   "outputs": [
    {
     "name": "stdout",
     "output_type": "stream",
     "text": [
      "facebook 1.83\n"
     ]
    }
   ],
   "source": [
    "# 8\n",
    "\n",
    "# Вариант решения 1\n",
    "ads = [\n",
    " {'cost':98, 'source':'vk', 'profit':150},\n",
    " {'cost':153, 'source':'yandex', 'profit':270},\n",
    " {'cost':110, 'source':'facebook', 'profit':201}\n",
    "]\n",
    "\n",
    "max_efficiency = 0\n",
    "best_source = \"\"\n",
    "\n",
    "for x in ads:\n",
    "    efficiency = x['profit']/x['cost']\n",
    "    if efficiency > max_efficiency:\n",
    "        max_efficiency = efficiency\n",
    "        best_source = x['source']\n",
    "\n",
    "print(best_source, round(max_efficiency,2))"
   ]
  },
  {
   "cell_type": "code",
   "execution_count": 2,
   "metadata": {},
   "outputs": [
    {
     "data": {
      "text/plain": [
       "('facebook', 1.8272727272727274)"
      ]
     },
     "execution_count": 2,
     "metadata": {},
     "output_type": "execute_result"
    }
   ],
   "source": [
    "# 8\n",
    "\n",
    "# Вариант решения 2\n",
    "\n",
    "ads = [\n",
    "{'cost':98, 'source':'vk', 'profit':150},\n",
    "{'cost':153, 'source':'yandex', 'profit':270},\n",
    "{'cost':110, 'source':'facebook', 'profit':201}\n",
    "]\n",
    "\n",
    "\n",
    "# Ваш код здесь\n",
    "ads.sort(key=lambda d: d['profit']/d['cost'], reverse=True)\n",
    "ads[0]['source'], ads[0]['profit']/ads[0]['cost']"
   ]
  },
  {
   "cell_type": "code",
   "execution_count": 3,
   "metadata": {},
   "outputs": [
    {
     "name": "stdout",
     "output_type": "stream",
     "text": [
      "Самая эффективная организация\n",
      "Название организации: facebook. Эффективность организации: 1.83\n"
     ]
    }
   ],
   "source": [
    "# 8\n",
    "\n",
    "# Вариант решения 3\n",
    "\n",
    "ads = [\n",
    "{'cost':98, 'source':'vk', 'profit':150},\n",
    "{'cost':153, 'source':'yandex', 'profit':270},\n",
    "{'cost':110, 'source':'facebook', 'profit':201}\n",
    "]\n",
    "\n",
    "result = []\n",
    "\n",
    "for i in range(len(ads)):\n",
    "    result.append(ads[i]['profit']/ads[i]['cost'])\n",
    "    k = result.index(max(result))\n",
    "print(f\"Самая эффективная организация\\nНазвание организации: {ads[k]['source']}. Эффективность организации: {round(result[k],2)}\")"
   ]
  },
  {
   "cell_type": "code",
   "execution_count": 6,
   "metadata": {},
   "outputs": [
    {
     "name": "stdout",
     "output_type": "stream",
     "text": [
      "   cost    source  profit  efficiency\n",
      "0    98        vk     150    1.530612\n",
      "1   153    yandex     270    1.764706\n",
      "2   110  facebook     201    1.827273\n",
      "Канал facebook, 1.8272727272727274\n"
     ]
    }
   ],
   "source": [
    "# 9\n",
    "\n",
    "import pandas as pd\n",
    "\n",
    "ads = [\n",
    "{'cost':98, 'source':'vk', 'profit':150},\n",
    "{'cost':153, 'source':'yandex', 'profit':270},\n",
    "{'cost':110, 'source':'facebook', 'profit':201}\n",
    "]\n",
    "\n",
    "df = pd.DataFrame(ads)\n",
    "df = df.assign(efficiency = df.profit / df.cost)\n",
    "sorted_df = df.sort_values(by='efficiency')\n",
    "print(sorted_df)\n",
    "print(f\"Канал {sorted_df.iloc[-1,1]}, {sorted_df.iloc[-1,-1]}\")"
   ]
  },
  {
   "cell_type": "markdown",
   "metadata": {},
   "source": [
    "Задание 10. Решение.\n",
    "\n",
    "$$ \\int \\limits _a^b {x^2} {dx} $$"
   ]
  }
 ],
 "metadata": {
  "kernelspec": {
   "display_name": "Python 3",
   "language": "python",
   "name": "python3"
  },
  "language_info": {
   "codemirror_mode": {
    "name": "ipython",
    "version": 3
   },
   "file_extension": ".py",
   "mimetype": "text/x-python",
   "name": "python",
   "nbconvert_exporter": "python",
   "pygments_lexer": "ipython3",
   "version": "3.8.8"
  }
 },
 "nbformat": 4,
 "nbformat_minor": 4
}
