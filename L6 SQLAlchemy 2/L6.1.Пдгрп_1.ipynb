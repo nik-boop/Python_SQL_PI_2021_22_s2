{
 "cells": [
  {
   "cell_type": "markdown",
   "id": "31963a08",
   "metadata": {},
   "source": [
    "<img src=\"../Img/Python_SQL_PI.png\" style=\"width:100%\">\n",
    "\n",
    "\n",
    "<p style=\"font-size:160%;text-align:center\">Семинар 6.1. Соединение таблиц с помощью оператора LEFT OUTER JOIN</p> \n",
    "\n",
    "<a id = Home></a>\n",
    "\n",
    "**21 апреля 2022 года, чт**<br>\n",
    "5-я пара, 15:40 - 17:10<br>\n",
    "В4/3411(кк) (4-й Вешняковский проезд, 4)<br>\n",
    "ПИ20-1, ПИ20-2, ПИ20-3, ПИ20-4, ПИ20-5, ПИ20-6 (2 подгруппа)<br>\n",
    "\n",
    "\n",
    "**25 апреля 2022 года, пн**<br>\n",
    "2-я пара, 10:10 - 11:40<br>\n",
    "Щ38/509(кк) (ул. Щербаковская, 38)<br>\n",
    "ПИ20-1, ПИ20-2, ПИ20-3, ПИ20-4, ПИ20-5, ПИ20-6 (4 подгруппа)<br>\n",
    "\n",
    "3-я пара, 11:50 - 13:20<br>\n",
    "Щ38/509(кк) (ул. Щербаковская, 38)<br>\n",
    "Поток:ПИ20-1, ПИ20-2, ПИ20-3, ПИ20-4, ПИ20-5, ПИ20-6 (3 подгруппа)\n",
    "\n",
    "\n",
    "**28 апреля 2022 года, чт**<br>\n",
    "6-я пара, 17:20 - 18:50<br>\n",
    "В4/3411(кк) (4-й Вешняковский проезд, 4)<br>\n",
    "ПИ20-1, ПИ20-2, ПИ20-3, ПИ20-4, ПИ20-5, ПИ20-6 (1 подгруппа)<br>\n",
    "\n",
    "\n"
   ]
  },
  {
   "cell_type": "markdown",
   "id": "f6575b35",
   "metadata": {},
   "source": [
    "\n",
    "```\n",
    "STUDENT\n",
    "STUDENT_ID — числовой код, идентифицирующий студента (идентификатор студента),\n",
    "SURNAME — фамилия студента,\n",
    "NAME — имя студента,\n",
    "STIPEND — стипендия, которую получает студент,\n",
    "KURS — курс, на котором учится студент,\n",
    "CITY — город, в котором живет студент,\n",
    "BIRTHDAY — дата рождения студента,\n",
    "UNIV_ID — идентификатор университета, в котором учится студент.\n",
    "\n",
    "\n",
    "LECTURER\n",
    "LECTURER_ID — идентификатор преподавателя,\n",
    "SURNAME — фамилия преподавателя,\n",
    "NAME — имя преподавателя,\n",
    "CITY — город, в котором живет преподаватель,\n",
    "UNIV_ID — идентификатор университета, в котором работает преподаватель\n",
    "\n",
    "\n",
    "SUBJECT\n",
    "SUBJ_ID — идентификатор предмета обучения,\n",
    "SUBJ_NAME — наименование предмета обучения,\n",
    "HOUR — количество часов, отводимых на изучение предмета,\n",
    "SEMESTER — семестр, в котором изучается данный предмет.\n",
    "\n",
    "\n",
    "UNIVERSITY\n",
    "UNIV_ID — идентификатор университета,\n",
    "UNIV_NAME — название университета,\n",
    "RATING — рейтинг университета,\n",
    "CITY — город, в котором расположен университет.\n",
    "\n",
    "\n",
    "EXAM_MARKS\n",
    "EXAM_ID — идентификатор экзамена,\n",
    "STUDENT_ID — идентификатор студента,\n",
    "SUBJ_ID — идентификатор предмета обучения,\n",
    "MARK — экзаменационная оценка,\n",
    "EXAM_DATE — дата экзамена.\n",
    "\n",
    "\n",
    "SUBJ_LECT\n",
    "LECTURER_ID — идентификатор преподавателя,\n",
    "SUBJ_ID — идентификатор предмета обучения.\n",
    "```\n",
    "\n",
    "<img src=\"../Img/Students_Schema.png\" style=\"width:60%\">"
   ]
  },
  {
   "cell_type": "code",
   "execution_count": 2,
   "id": "b43644d8",
   "metadata": {},
   "outputs": [],
   "source": [
    "#! pip install sqlalchemy"
   ]
  },
  {
   "cell_type": "code",
   "execution_count": 3,
   "id": "37e97907",
   "metadata": {},
   "outputs": [],
   "source": [
    "from sqlalchemy import MetaData, Table, create_engine, select, and_, or_, not_, text\n",
    "from sqlalchemy.sql import func, distinct, exists"
   ]
  },
  {
   "cell_type": "code",
   "execution_count": 4,
   "id": "eb4393e8",
   "metadata": {},
   "outputs": [],
   "source": [
    "engine = create_engine('sqlite:///../Data/Students.db')\n",
    "metadata_obj = MetaData() # Объект-контейнер, содержит информацию о схеме данных\n",
    "metadata_obj.reflect(bind=engine) # Отображение БД"
   ]
  },
  {
   "cell_type": "markdown",
   "id": "3797f17f",
   "metadata": {},
   "source": [
    "Создание объектов таблиц"
   ]
  },
  {
   "cell_type": "code",
   "execution_count": 5,
   "id": "6e812caf",
   "metadata": {},
   "outputs": [],
   "source": [
    "exam_marks=Table(\"exam_marks\", metadata_obj, autoload=True, autoload_with=\"engine\")\n",
    "lecturer=Table(\"lecturer\", metadata_obj, autoload=True, autoload_with=\"engine\")\n",
    "student=Table(\"student\", metadata_obj, autoload=True, autoload_with=\"engine\")\n",
    "subj_lect=Table(\"subj_lect\", metadata_obj, autoload=True, autoload_with=\"engine\")\n",
    "subject=Table(\"subject\", metadata_obj, autoload=True, autoload_with=\"engine\")\n",
    "university=Table(\"university\", metadata_obj, autolad=True, autolad_with=\"engine\")"
   ]
  },
  {
   "cell_type": "code",
   "execution_count": 6,
   "id": "5e0c68fe",
   "metadata": {},
   "outputs": [],
   "source": [
    "conn=engine.connect() # Соединение"
   ]
  },
  {
   "cell_type": "markdown",
   "id": "fb742d9f",
   "metadata": {},
   "source": [
    "<img src=../Img/pencil.png style=\"width:190px;height:190px\">\n",
    "<p style=\"background-color:powderblue; font-size:125%; color: rebeccapurple;\">Выполните задания</p>\n",
    "<p>Выполните задания с помощью соедиинения таблиц в Jupyter Notebook </p>\n",
    "\n",
    "1. Напишите запрос, который выполняет вывод фамилий студентов, сдавших экзамены, вместе с идентификаторами сданных ими предметов обучения. Отсортируйте результат по фамилии студента.\n",
    "\n",
    "2. Напишите запрос, который выполняет выборку фамилий всех студентов, с указанием для студентов, сдававших экзамены, идентификаторов предметов обучения. Отсортируйте результат по фамилии студента.\n",
    "\n",
    "3. Напишите запрос, который выполняет вывод фамилий студентов, сдавших экзамены, вместе с наименованиями каждого сданного ими предмета обучения. Отсортируйте результат по фамилии студента.\n",
    "\n",
    "4. Напишите запрос на выдачу списка всех студентов. Для студентов, сдававших экзамены, укажите названия соответствующих предметов обучения. Отсортируйте результат по фамилии студента.\n",
    "\n",
    "5. Напишите запрос на выдачу названий всех предметов, по которым студенты получили только хорошие (4 и 5) оценки. В выходных данных должны быть приведены фамилии студентов, названия предметов и оценка. Отсортируйте результат по фамилии студента.\n",
    "\n",
    "6. Напишите запрос, который выполняет вывод списка университетов с рейтингом, превышающим 300, вместе со значением максимального размера стипендии, получаемой студентами в этих университетах. Результат должен содержать название университета, значение рейтинга, значение макисмальной стипендии. Отсортируйте по значению максимальной стипендии.\n",
    "\n",
    "7. Напишите запрос на выдачу списка студентов (в алфавитном порядке фамилий) вместе со значением рейтинга университета, где каждый из них учится, включив в список и тех студентов, место учебы которых в базе данных не указано.\n",
    "\n",
    "8. Напишите запрос для получения списка всех университетов вместе с фамилиями студентов, в них обучающихся. Отдельным запросом получите записи, расширяющие данный список по сравнению с тем, который был бы получен внутренним соединением. Выполните такой отдельный запрос двумя способами: с помощью оператора EXISTS() и без.\n",
    "\n",
    "9. Напишите запрос для получения списка всех студентов вместе с названиями университетов, в которых они учатся. Отдельным запросом получите записи, расширяющие данный список по сравнению с тем, который был бы получен внутренним соединением.\n",
    "\n",
    "10. Напишите запрос для получения списка всех университетов вместе с фамилиями преподавателей, в них работающих. Отдельным запросом получите записи, расширяющие данный список по сравнению с тем, который был бы получен внутренним соединением.\n",
    "\n",
    "11. Напишите запрос для получения списка всех преподавателей вместе с университетами, в которых они работают. Есть ли отличие списка от того, который был бы получен внутренним соединением? Подтвердите отдельным запросом ваш вывод.\n",
    "\n",
    "12. Напишите запрос для получения списка всех студентов и оценок, полученных ими на экзаменах. Отдельным запросом получите записи, расширяющие данный список по сравнению с тем, который был бы получен внутренним соединением.\n",
    "\n",
    "13. Напишите запрос для получения списка всех экзаменационных оценок вместе с фамилиями получивших их студентов. Есть ли отличие списка от того, который был бы получен внутренним соединением? Подтвердите отдельным запросом ваш вывод.\n",
    "\n",
    "14. Напишите запрос для получения полного списка предметов с соответствующими экзаменационными оценками. Есть ли отличие списка от того, который был бы получен внутренним соединением? Подтвердите отдельным запросом ваш вывод.\n",
    "\n",
    "15. Напишите запрос для получения полного списка оценок вместе с названиями предметов, по которым они получены. Есть ли отличие списка от того, который был бы получен внутренним соединением? Подтвердите отдельным запросом ваш вывод."
   ]
  },
  {
   "cell_type": "markdown",
   "id": "5002382e",
   "metadata": {},
   "source": [
    "# Решение"
   ]
  },
  {
   "cell_type": "code",
   "execution_count": 7,
   "id": "60777279",
   "metadata": {},
   "outputs": [],
   "source": [
    "st = student.alias('st')\n",
    "em = exam_marks.alias('em')\n",
    "u = university.alias('u')\n",
    "l = lecturer.alias('l')\n",
    "sl = subj_lect.alias('sl')\n",
    "su = subject.alias('su')"
   ]
  },
  {
   "cell_type": "code",
   "execution_count": 9,
   "id": "59941c96",
   "metadata": {
    "scrolled": true
   },
   "outputs": [
    {
     "name": "stdout",
     "output_type": "stream",
     "text": [
      "SELECT st.surname, em.exam_id \n",
      "FROM student AS st JOIN exam_marks AS em ON st.student_id = em.student_id \n",
      "WHERE em.mark > :mark_1 ORDER BY st.surname\n",
      "26\n"
     ]
    },
    {
     "data": {
      "text/plain": [
       "[('Антонов', 22),\n",
       " ('Белкин', 75),\n",
       " ('Блохина', 9),\n",
       " ('Борисова', 17),\n",
       " ('Васильев', 19),\n",
       " ('Васильев', 27),\n",
       " ('Жданова', 12),\n",
       " ('Жук', 3),\n",
       " ('Зайцева', 238),\n",
       " ('Казакова', 2)]"
      ]
     },
     "execution_count": 9,
     "metadata": {},
     "output_type": "execute_result"
    }
   ],
   "source": [
    "\"\"\" 1.Напишите запрос, который выполняет вывод фамилий студентов, \n",
    "сдавших экзамены, вместе с идентификаторами сданных ими предметов обучения. \n",
    "Отсортируйте результат по фамилии студента.\"\"\"\n",
    "\n",
    "s = select(st.c.surname, em.c.exam_id)\n",
    "s = s.join_from(st, em)\n",
    "s = s.where(em.c.mark>2)\n",
    "s = s.order_by(st.c.surname)\n",
    "\n",
    "print(s)\n",
    "result = conn.execute(s).fetchall()\n",
    "print(len(result))\n",
    "result[:10]"
   ]
  },
  {
   "cell_type": "code",
   "execution_count": 11,
   "id": "6da42468",
   "metadata": {},
   "outputs": [
    {
     "name": "stdout",
     "output_type": "stream",
     "text": [
      "SELECT st.surname, em.exam_id \n",
      "FROM student AS st LEFT OUTER JOIN exam_marks AS em ON st.student_id = em.student_id ORDER BY st.surname\n",
      "100\n"
     ]
    },
    {
     "data": {
      "text/plain": [
       "[('Агафонов', None),\n",
       " ('Аксенов', None),\n",
       " ('Антонов', 22),\n",
       " ('Архипов', None),\n",
       " ('Афанасьева', 7),\n",
       " ('Баранов', None),\n",
       " ('Белкин', 75),\n",
       " ('Белкин', 639),\n",
       " ('Бирюков', None),\n",
       " ('Бирюков', None)]"
      ]
     },
     "execution_count": 11,
     "metadata": {},
     "output_type": "execute_result"
    }
   ],
   "source": [
    "\"\"\"\n",
    "2. Напишите запрос, который выполняет выборку фамилий всех студентов, \n",
    "с указанием для студентов, сдававших экзамены, идентификаторов предметов обучения. \n",
    "Отсортируйте результат по фамилии студента.\n",
    "\"\"\"\n",
    "\n",
    "s = select(st.c.surname, em.c.exam_id)\n",
    "s = s.join_from(st, em, isouter=True)\n",
    "s = s.order_by(st.c.surname)\n",
    "\n",
    "print(s)\n",
    "result = conn.execute(s).fetchall()\n",
    "print(len(result))\n",
    "result[:10]"
   ]
  },
  {
   "cell_type": "code",
   "execution_count": 13,
   "id": "5e7b3611",
   "metadata": {},
   "outputs": [
    {
     "name": "stdout",
     "output_type": "stream",
     "text": [
      "SELECT st.surname, su.subj_name \n",
      "FROM student AS st JOIN exam_marks AS em ON st.student_id = em.student_id JOIN subject AS su ON su.subj_id = em.subj_id \n",
      "WHERE em.mark > :mark_1 ORDER BY st.surname\n",
      "26\n"
     ]
    },
    {
     "data": {
      "text/plain": [
       "[('Антонов', 'Информатика'),\n",
       " ('Белкин', 'Информатика'),\n",
       " ('Блохина', 'Физика'),\n",
       " ('Борисова', 'Английский язык'),\n",
       " ('Васильев', 'Физкультура'),\n",
       " ('Васильев', 'ОБЖ'),\n",
       " ('Жданова', 'История'),\n",
       " ('Жук', 'Физкультура'),\n",
       " ('Зайцева', 'Информатика'),\n",
       " ('Казакова', 'Физкультура')]"
      ]
     },
     "execution_count": 13,
     "metadata": {},
     "output_type": "execute_result"
    }
   ],
   "source": [
    "\"\"\"\n",
    "3. Напишите запрос, который выполняет вывод фамилий студентов, \n",
    "сдавших экзамены, вместе с наименованиями каждого сданного ими предмета обучения. Отсортируйте результат по фамилии студента.\n",
    "\"\"\"\n",
    "s = select(st.c.surname, su.c.subj_name)\n",
    "s = s.join_from(st, em).join(su)\n",
    "s = s.where(em.c.mark>2)\n",
    "s = s.order_by(st.c.surname)\n",
    "\n",
    "print(s)\n",
    "result = conn.execute(s).fetchall()\n",
    "print(len(result))\n",
    "result[:10]"
   ]
  },
  {
   "cell_type": "code",
   "execution_count": 15,
   "id": "87011ab1",
   "metadata": {
    "scrolled": true
   },
   "outputs": [
    {
     "name": "stdout",
     "output_type": "stream",
     "text": [
      "SELECT st.surname, su.subj_name \n",
      "FROM student AS st LEFT OUTER JOIN exam_marks AS em ON st.student_id = em.student_id LEFT OUTER JOIN subject AS su ON su.subj_id = em.subj_id ORDER BY st.surname\n",
      "100\n"
     ]
    },
    {
     "data": {
      "text/plain": [
       "[('Агафонов', None),\n",
       " ('Аксенов', None),\n",
       " ('Антонов', 'Информатика'),\n",
       " ('Архипов', None),\n",
       " ('Афанасьева', 'Анализ данных'),\n",
       " ('Баранов', None),\n",
       " ('Белкин', 'Информатика'),\n",
       " ('Белкин', 'Информатика'),\n",
       " ('Бирюков', None),\n",
       " ('Бирюков', None)]"
      ]
     },
     "execution_count": 15,
     "metadata": {},
     "output_type": "execute_result"
    }
   ],
   "source": [
    "\"\"\"\n",
    "4. Напишите запрос на выдачу списка всех студентов.\n",
    "Для студентов, сдававших экзамены, укажите названия\n",
    "соответствующих предметов обучения. Отсортируйте результат по фамилии студента\n",
    "\"\"\"\n",
    "\n",
    "s = select(st.c.surname, su.c.subj_name)\n",
    "s = s.join_from(st, em, isouter=True).join(su, isouter=True)\n",
    "s = s.order_by(st.c.surname)\n",
    "print(s)\n",
    "result = conn.execute(s).fetchall()\n",
    "print(len(result))\n",
    "result[:10]"
   ]
  },
  {
   "cell_type": "code",
   "execution_count": 17,
   "id": "557eb20f",
   "metadata": {
    "scrolled": true
   },
   "outputs": [
    {
     "name": "stdout",
     "output_type": "stream",
     "text": [
      "SELECT st.surname, su.subj_name, em.mark \n",
      "FROM student AS st JOIN exam_marks AS em ON st.student_id = em.student_id JOIN subject AS su ON su.subj_id = em.subj_id \n",
      "WHERE em.mark IN ([POSTCOMPILE_mark_1]) ORDER BY st.surname\n",
      "20\n"
     ]
    },
    {
     "data": {
      "text/plain": [
       "[('Белкин', 'Информатика', 5),\n",
       " ('Блохина', 'Физика', 5),\n",
       " ('Борисова', 'Английский язык', 5),\n",
       " ('Васильев', 'ОБЖ', 5),\n",
       " ('Жданова', 'История', 5),\n",
       " ('Жук', 'Физкультура', 4),\n",
       " ('Зайцева', 'Информатика', 5),\n",
       " ('Казакова', 'Физкультура', 4),\n",
       " ('Костина', 'Физика', 4),\n",
       " ('Котов', 'Информатика', 4)]"
      ]
     },
     "execution_count": 17,
     "metadata": {},
     "output_type": "execute_result"
    }
   ],
   "source": [
    "\"\"\"\n",
    "5. Напишите запрос на выдачу названий всех предметов, по которым студенты получили \n",
    "только хорошие (4 и 5) оценки. В выходных данных должны быть приведены фамилии студентов, \n",
    "названия предметов и оценка. Отсортируйте результат по фамилии студента.\n",
    "\"\"\"\n",
    "\n",
    "s = select(st.c.surname, su.c.subj_name, em.c.mark)\n",
    "s = s.select_from(st).join(em).join(su)\n",
    "s = s.where(em.c.mark.in_([4, 5]))\n",
    "s = s.order_by(st.c.surname)\n",
    "\n",
    "print(s)\n",
    "result = conn.execute(s).fetchall()\n",
    "print(len(result))\n",
    "result[:10]"
   ]
  },
  {
   "cell_type": "code",
   "execution_count": 21,
   "id": "7b916590",
   "metadata": {},
   "outputs": [
    {
     "name": "stdout",
     "output_type": "stream",
     "text": [
      "SELECT university.univ_name, university.rating, max(student.stipend) AS max_1 \n",
      "FROM university JOIN student ON university.univ_id = student.univ_id \n",
      "WHERE university.rating > :rating_1 AND student.stipend != :stipend_1 GROUP BY university.univ_name ORDER BY max(student.stipend)\n",
      "9\n"
     ]
    },
    {
     "data": {
      "text/plain": [
       "[('ВГМА', 327, 200),\n",
       " ('МГТУ им. Баумана', 372, 200),\n",
       " ('ФГБОУ \"Политех\"', 304, 200),\n",
       " ('БГУ', 326, 250),\n",
       " ('МГУ', 606, 250),\n",
       " ('НГУ', 345, 250),\n",
       " ('РГУ', 416, 250),\n",
       " ('ТГУ', 368, 250),\n",
       " ('ФинУ', 330, 250)]"
      ]
     },
     "execution_count": 21,
     "metadata": {},
     "output_type": "execute_result"
    }
   ],
   "source": [
    "\"\"\"\n",
    "6. Напишите запрос, который выполняет вывод списка университетов с рейтингом, \n",
    "превышающим 300, вместе со значением максимального размера стипендии, \n",
    "получаемой студентами в этих университетах. Результат должен содержать \n",
    "название университета, значение рейтинга, значение макисмальной стипендии. \n",
    "Отсортируйте по значению максимальной стипендии.\n",
    "\"\"\"\n",
    "\n",
    "s = select(university.c.univ_name, university.c.rating, func.max(student.c.stipend))\n",
    "\n",
    "s = s.join(student)\n",
    "s = s.group_by(university.c.univ_name)\n",
    "s = s.where(and_(university.c.rating > 300,student.c.stipend != \"None\"))\n",
    "s = s.order_by(func.max(student.c.stipend))\n",
    "\n",
    "print(s)\n",
    "result = conn.execute(s).fetchall()\n",
    "print(len(result))\n",
    "result"
   ]
  },
  {
   "cell_type": "code",
   "execution_count": 23,
   "id": "e2eea612",
   "metadata": {},
   "outputs": [
    {
     "name": "stdout",
     "output_type": "stream",
     "text": [
      "SELECT student.surname, student.name, university.univ_name, university.rating \n",
      "FROM student LEFT OUTER JOIN university ON university.univ_id = student.univ_id ORDER BY student.surname\n",
      "90\n"
     ]
    },
    {
     "data": {
      "text/plain": [
       "[('Агафонов', 'Василий', 'ВГУ', 296),\n",
       " ('Аксенов', 'Валерий', 'ВГУ', 296),\n",
       " ('Антонов', 'Анатолий', 'МГУ', 606),\n",
       " ('Архипов', 'Андрей', 'МГУ', 606),\n",
       " ('Афанасьева', 'Анжелика', 'РГУ', 416),\n",
       " ('Баранов', 'Александр', 'ФинУ', 330),\n",
       " ('Белкин', 'Вадим', 'ВГУ', 296),\n",
       " ('Бирюков', 'Герасим', 'ФинУ', 330),\n",
       " ('Бирюков', 'Мартин', 'КФУ', None),\n",
       " ('Блохина', 'Ираида', 'МГУ', 606)]"
      ]
     },
     "execution_count": 23,
     "metadata": {},
     "output_type": "execute_result"
    }
   ],
   "source": [
    "\"\"\"\n",
    "7.Напишите запрос на выдачу списка студентов (в алфавитном порядке фамилий) \n",
    "вместе со значением рейтинга университета, где каждый из них учится, \n",
    "включив в список и тех студентов, место учебы которых в базе данных не указано.\n",
    "\"\"\"\n",
    "\n",
    "s = select(student.c.surname, student.c.name, university.c.univ_name, university.c.rating)\n",
    "\n",
    "s = s.select_from(student)\n",
    "s = s.join(university, isouter = True)\n",
    "s = s.order_by(student.c.surname)\n",
    "\n",
    "\n",
    "print(s)\n",
    "result = conn.execute(s).fetchall()\n",
    "print(len(result))\n",
    "result[:10]"
   ]
  },
  {
   "cell_type": "code",
   "execution_count": 28,
   "id": "ba6e3d59",
   "metadata": {},
   "outputs": [
    {
     "name": "stdout",
     "output_type": "stream",
     "text": [
      "SELECT u.univ_name, st.surname \n",
      "FROM university AS u LEFT OUTER JOIN student AS st ON u.univ_id = st.univ_id\n",
      "91\n"
     ]
    },
    {
     "data": {
      "text/plain": [
       "[('ВГУ', 'Агафонов'),\n",
       " ('ВГУ', 'Аксенов'),\n",
       " ('ВГУ', 'Белкин'),\n",
       " ('ВГУ', 'Борисова'),\n",
       " ('ВГУ', 'Жданова'),\n",
       " ('ВГУ', 'Зайцева'),\n",
       " ('ВГУ', 'Иванов'),\n",
       " ('ВГУ', 'Кузнецов'),\n",
       " ('ВГУ', 'Лукин'),\n",
       " ('ВГУ', 'Мельникова')]"
      ]
     },
     "execution_count": 28,
     "metadata": {},
     "output_type": "execute_result"
    }
   ],
   "source": [
    "\"\"\"\n",
    "8. Напишите запрос для получения списка всех университетов вместе с фамилиями студентов, \n",
    "в них обучающихся. Отдельным запросом получите записи, расширяющие данный список \n",
    "по сравнению с тем, который был бы получен внутренним соединением. \n",
    "Выполните такой отдельный запрос двумя способами: с помощью оператора EXISTS() и без.\n",
    "\"\"\"\n",
    "\n",
    "s = select(u.c.univ_name, st.c.surname)\n",
    "s = s.outerjoin_from(u, st)\n",
    "\n",
    "print(s)\n",
    "result = conn.execute(s).fetchall()\n",
    "print(len(result))\n",
    "result[:10]"
   ]
  },
  {
   "cell_type": "code",
   "execution_count": 30,
   "id": "9d68b588",
   "metadata": {},
   "outputs": [
    {
     "name": "stdout",
     "output_type": "stream",
     "text": [
      "SELECT u.univ_name, st.surname \n",
      "FROM university AS u LEFT OUTER JOIN student AS st ON u.univ_id = st.univ_id \n",
      "WHERE NOT (EXISTS (SELECT u2.univ_name, st2.surname \n",
      "FROM university AS u2 JOIN student AS st2 ON u2.univ_id = st2.univ_id \n",
      "WHERE u2.univ_id = u.univ_id))\n",
      "1\n"
     ]
    },
    {
     "data": {
      "text/plain": [
       "[('МФТИ', None)]"
      ]
     },
     "execution_count": 30,
     "metadata": {},
     "output_type": "execute_result"
    }
   ],
   "source": [
    "\"\"\"\n",
    "8 a\n",
    "\"\"\"\n",
    "u2 = university.alias('u2')\n",
    "st2 = student.alias('st2')\n",
    "\n",
    "subq = select(u2.c.univ_name, st2.c.surname)\n",
    "subq = subq.join_from(u2, st2)\n",
    "subq = subq.where(u2.c.univ_id == u.c.univ_id).exists()\n",
    "\n",
    "s = select(u.c.univ_name, st.c.surname)\n",
    "s = s.outerjoin_from(u, st)\n",
    "s = s.where(~subq)\n",
    "\n",
    "print(s)\n",
    "result = conn.execute(s).fetchall()\n",
    "print(len(result))\n",
    "result[:]"
   ]
  },
  {
   "cell_type": "code",
   "execution_count": 31,
   "id": "ce5cd4b3",
   "metadata": {},
   "outputs": [
    {
     "name": "stdout",
     "output_type": "stream",
     "text": [
      "SELECT u.univ_name, st.surname \n",
      "FROM university AS u LEFT OUTER JOIN student AS st ON u.univ_id = st.univ_id \n",
      "WHERE st.surname IS NULL\n",
      "1\n"
     ]
    },
    {
     "data": {
      "text/plain": [
       "[('МФТИ', None)]"
      ]
     },
     "execution_count": 31,
     "metadata": {},
     "output_type": "execute_result"
    }
   ],
   "source": [
    "\"\"\"\n",
    "8 b\n",
    "\"\"\"\n",
    "s = select(u.c.univ_name, st.c.surname)\n",
    "s = s.outerjoin_from(u, st)\n",
    "s = s.where(st.c.surname == None)\n",
    "\n",
    "print(s)\n",
    "result = conn.execute(s).fetchall()\n",
    "print(len(result))\n",
    "result[:]"
   ]
  },
  {
   "cell_type": "code",
   "execution_count": 33,
   "id": "70ee7532",
   "metadata": {},
   "outputs": [
    {
     "name": "stdout",
     "output_type": "stream",
     "text": [
      "SELECT st.surname, u.univ_name \n",
      "FROM student AS st LEFT OUTER JOIN university AS u ON u.univ_id = st.univ_id\n",
      "90\n"
     ]
    },
    {
     "data": {
      "text/plain": [
       "[('Иванов', 'ВГУ'),\n",
       " ('Петров', 'ВГУ'),\n",
       " ('Сидоров', 'МГУ'),\n",
       " ('Кузнецов', 'ВГУ'),\n",
       " ('Зайцева', 'ВГУ'),\n",
       " ('Ордуханян', 'ВГМА'),\n",
       " ('Котов', 'БГУ'),\n",
       " ('Белкин', 'ВГУ'),\n",
       " ('Дуб', 'УЛГУ'),\n",
       " ('Кудряшова', 'БГУ')]"
      ]
     },
     "execution_count": 33,
     "metadata": {},
     "output_type": "execute_result"
    }
   ],
   "source": [
    "\"\"\"\n",
    "9. Напишите запрос для получения списка всех студентов \n",
    "вместе с названиями университетов, в которых они учатся. \n",
    "Отдельным запросом получите записи, расширяющие данный список по сравнению с тем, \n",
    "который был бы получен внутренним соединением.\n",
    "\"\"\"\n",
    "\n",
    "s = select(st.c.surname, u.c.univ_name)\n",
    "s = s.outerjoin_from(st, u)\n",
    "\n",
    "print(s)\n",
    "result = conn.execute(s).fetchall()\n",
    "print(len(result))\n",
    "result[:10]"
   ]
  },
  {
   "cell_type": "code",
   "execution_count": 34,
   "id": "2afae529",
   "metadata": {},
   "outputs": [
    {
     "name": "stdout",
     "output_type": "stream",
     "text": [
      "SELECT st.surname, u.univ_name \n",
      "FROM student AS st LEFT OUTER JOIN university AS u ON u.univ_id = st.univ_id \n",
      "WHERE u.univ_name IS NULL\n",
      "0\n"
     ]
    },
    {
     "data": {
      "text/plain": [
       "[]"
      ]
     },
     "execution_count": 34,
     "metadata": {},
     "output_type": "execute_result"
    }
   ],
   "source": [
    "\"\"\"9 a\"\"\"\n",
    "\n",
    "s = select(st.c.surname, u.c.univ_name)\n",
    "s = s.outerjoin_from(st, u)\n",
    "s = s.where(u.c.univ_name == None)\n",
    "\n",
    "print(s)\n",
    "result = conn.execute(s).fetchall()\n",
    "print(len(result))\n",
    "result[:10]"
   ]
  },
  {
   "cell_type": "code",
   "execution_count": 35,
   "id": "3950102c",
   "metadata": {},
   "outputs": [
    {
     "name": "stdout",
     "output_type": "stream",
     "text": [
      "SELECT university.univ_name, lecturer.surname \n",
      "FROM university LEFT OUTER JOIN lecturer ON university.univ_id = lecturer.univ_id\n",
      "32\n",
      "[('ВГУ', 'Алексеев'), ('ВГУ', 'Зайцева'), ('ВГУ', 'Зыкова'), ('ВГУ', 'Колесников'), ('ВГУ', 'Максимова'), ('ВГУ', 'Николаев'), ('ВГУ', 'Никонов'), ('ВГУ', 'Сорокин'), ('НГУ', 'Мамонтова'), ('МФТИ', None), ('БГУ', None), ('ТГУ', 'Беспалов'), ('ТГУ', 'Тихонов'), ('ВГМА', 'Артемьева'), ('ВГМА', 'Богданова'), ('ВГМА', 'Крюкова'), ('ВГМА', 'Сафонов'), ('ВГМА', 'Ситникова'), ('МГУ', 'Лагутин'), ('МГУ', 'Струков'), ('РГУ', 'Беляков'), ('РГУ', 'Дорофеев'), ('ФинУ', None), ('МГТУ им. Баумана', 'Волков'), ('ФГБОУ \"Политех\"', 'Зимин'), ('ФГБОУ \"Политех\"', 'Сафонова'), ('ФГБОУ \"Политех\"', 'Стрелков'), ('КФУ', 'Кудрявцева'), ('КФУ', 'Куликова'), ('УЛГУ', 'Брагина'), ('УЛГУ', 'Дмитриева'), ('УЛГУ', 'Елисеев')]\n"
     ]
    }
   ],
   "source": [
    "\"\"\"\n",
    "10. Напишите запрос для получения списка всех университетов вместе \n",
    "с фамилиями преподавателей, в них работающих. Отдельным запросом получите записи, \n",
    "расширяющие данный список по сравнению с тем, который был бы получен внутренним соединением.\n",
    "\"\"\"\n",
    "\n",
    "s = select(university.c.univ_name, lecturer.c.surname)\n",
    "s = s.outerjoin_from(university, lecturer)\n",
    "\n",
    "print(s)\n",
    "result = conn.execute(s).fetchall()\n",
    "print(len(result))\n",
    "print(result)\n"
   ]
  },
  {
   "cell_type": "code",
   "execution_count": 36,
   "id": "0d8207af",
   "metadata": {},
   "outputs": [
    {
     "name": "stdout",
     "output_type": "stream",
     "text": [
      "SELECT university.univ_name, lecturer.surname \n",
      "FROM university LEFT OUTER JOIN lecturer ON university.univ_id = lecturer.univ_id \n",
      "WHERE lecturer.surname IS NULL\n",
      "3\n",
      "[('МФТИ', None), ('БГУ', None), ('ФинУ', None)]\n"
     ]
    }
   ],
   "source": [
    "\"\"\"\n",
    "10 a\n",
    "\"\"\"\n",
    "s2 = select(university.c.univ_name, lecturer.c.surname)\n",
    "s2 = s2.outerjoin_from(university, lecturer)\n",
    "s2 = s2.where(lecturer.c.surname == None)\n",
    "\n",
    "print(s2)\n",
    "result2 = conn.execute(s2).fetchall()\n",
    "print(len(result2))\n",
    "print(result2)"
   ]
  }
 ],
 "metadata": {
  "kernelspec": {
   "display_name": "Python 3 (ipykernel)",
   "language": "python",
   "name": "python3"
  },
  "language_info": {
   "codemirror_mode": {
    "name": "ipython",
    "version": 3
   },
   "file_extension": ".py",
   "mimetype": "text/x-python",
   "name": "python",
   "nbconvert_exporter": "python",
   "pygments_lexer": "ipython3",
   "version": "3.9.7"
  }
 },
 "nbformat": 4,
 "nbformat_minor": 5
}
