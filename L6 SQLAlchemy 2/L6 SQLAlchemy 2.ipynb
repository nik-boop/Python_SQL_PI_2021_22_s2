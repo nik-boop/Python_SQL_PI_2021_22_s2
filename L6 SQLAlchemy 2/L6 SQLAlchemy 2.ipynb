{
 "cells": [
  {
   "cell_type": "markdown",
   "id": "412ecfad",
   "metadata": {},
   "source": [
    "<img src=\"../Img/Python_SQL_PI.png\" style=\"width:100%\">"
   ]
  },
  {
   "cell_type": "markdown",
   "id": "3b57e38e",
   "metadata": {},
   "source": [
    "<p style=\"font-size:180%;text-align:center\">Лекция 6. Библиотека SQLAlchemy 2.0</p>\n",
    "\n",
    "<br><br>\n",
    "21 апреля 2022 года, чт., В4/3501 (4-й Вешняковский проезд, 4), 6-я пара, 17:20 - 18:50 <br>\n",
    "ПИ20-1, ПИ20-2, ПИ20-3 <br>\n",
    "\n",
    "25 апреля 2022 года, пн., Щ38/512 (ул. Щербаковская, 38), 1-я пара, 08:30 - 10:00 <br>\n",
    "ПИ20-4, ПИ20-5, ПИ20-6 <br>\n",
    "\n",
    "Смирнов Михаил Викторович, доцент Департамента анализа данных и машинного обучения Финансового университета при Правительстве Российской Федерации. mvsmirnov@fa.ru\n",
    "\n",
    "<p style=\"text-align:center\">Москва - 2022</p>\n",
    "\n",
    "При подготовке материалов учебных занятий использовались источники\n",
    "- Essential SQLAlchemy: Mapping Python to Databases 2nd Edition. Jason Myers, Rick Copeland. O'Reilly Media, Inc. 2015.\n",
    "- Официальный сайт СУБД sqlite https://sqlite.org\n",
    "- Официальный сайт библиотеки sqlalchemy https://www.sqlalchemy.org/\n",
    "\n",
    "\n",
    "SQLAlchemy реализует два API: Core — ядро и ORM - объектно-реляционное сопоставление.\n",
    "\n",
    "**SQLAlchemy Core** является базовой архитектурой для SQLAlchemy как «набора инструментов для работы с базами данных». Библиотека предоставляет инструменты для управления подключением к базе данных, взаимодействия с запросами и результатами базы данных, а также для программного использования SQL-выражений.\n",
    "\n",
    "**SQLAlchemy ORM** основывается на Core, предоставляя дополнительные возможности реляционного сопоставления объектов.\n",
    "ORM предоставляет дополнительный уровень конфигурации, позволяющий сопоставлять пользовательские классы Python с таблицами базы данных и другими конструкциями, а также механизм, известный как сеанс. Затем он расширяет язык выражений SQL базового уровня, позволяя составлять и вызывать SQL-запросы в терминах пользовательских объектов.\n",
    "\n",
    "<Table align=left>\n",
    "<tr><td bgcolor=#0dcaf0></td><td style=\"text-align:left;font-size:10pt\">\n",
    "Таким цветом слева будут отмечены сведения, принципиально важные для ORM-подхода.\n",
    "</td></tr></Table>\n",
    "\n",
    "<br><br>\n",
    "<a id = Home></a>\n",
    "\n",
    "<p style=\"font-size:150%\"> Оглавление </p>\n",
    "\n",
    "1. [Механизм подключения к базе данных](#1)\n",
    "2. [Транзакции и программный интерфейс приложения](#2)\n",
    "3. [Метаданные базы данных](#3)\n",
    "4. [Работа с данными](#4)\n",
    "4. [Объектно-реляционное сопоставление](#5)\n",
    "5. [Связанные объекты](#6)\n",
    "6. [Литература](#7)"
   ]
  },
  {
   "cell_type": "markdown",
   "id": "8c7b58b9",
   "metadata": {},
   "source": [
    "<p style=\"font-size:150%\"> Проверка версии SQLAlchemy </p>\n",
    "\n",
    "Для выполнения кода примеров требуется версия SQLAlchemy 1.4."
   ]
  },
  {
   "cell_type": "code",
   "execution_count": 1,
   "id": "17389713",
   "metadata": {},
   "outputs": [
    {
     "data": {
      "text/plain": [
       "'1.4.22'"
      ]
     },
     "execution_count": 1,
     "metadata": {},
     "output_type": "execute_result"
    }
   ],
   "source": [
    "# Проверка версии SQL Alchemy\n",
    "import sqlalchemy\n",
    "sqlalchemy.__version__"
   ]
  },
  {
   "cell_type": "markdown",
   "id": "9b576a06",
   "metadata": {},
   "source": [
    "<p style=\"font-size:150%\"> Версия 1.4 в стиле 2.0 </p>\n",
    "\n",
    "Планируемая следующая версия SQLAlchemy — это верстия 2.0. В версии 1.4 уже реализован интерфейс в стиле 2.0, и чтобы его использовать, введен параметр `future`."
   ]
  },
  {
   "cell_type": "markdown",
   "id": "f4ed46e4",
   "metadata": {},
   "source": [
    "<a id=1></a>\n",
    "\n",
    "[К оглавлению](#Home)\n",
    "\n",
    "# 1. Механизм подключения к базе данных\n",
    "\n",
    "Начало любого приложения SQLAlchemy — это объект, называемый *Engine* (механизм, движок). Этот объект действует как центральный источник подключения к базе данных, предоставляя как движок, так и пространство хранения, называемое пулом подключений к базой данных. Механизм обычно представляет собой глобальный объект, созданный только один раз для определенного сервера базы данных и настроенный с использованием строки URL-адреса хоста базы данных или серверной части.\n",
    "\n",
    "В этой лекции мы будем использовать базу данных SQLite в памяти. Это простой способ протестировать вещи, не требуя реальной, уже существующей базы данных. Движок создается с помощью функции `create_engine()`. В качестве одного из аргументов используем `future=True`, чтбы начать работу в стиле 2.0."
   ]
  },
  {
   "cell_type": "code",
   "execution_count": 2,
   "id": "f0f711eb",
   "metadata": {},
   "outputs": [],
   "source": [
    "from sqlalchemy import create_engine\n",
    "engine = create_engine(\"sqlite+pysqlite:///:memory:\", echo=True, future=True)"
   ]
  },
  {
   "cell_type": "markdown",
   "id": "4eb2ab50",
   "metadata": {},
   "source": [
    "Параметр в виде строки URL укзаывает на три вещи:\n",
    "1. Название СУБД, в данном случае это *sqlite*.\n",
    "2. Программный интерфейс приложения для работы с БД, *pysqlite*.\n",
    "3. Название и местонахождение БД, в данном случае в памяти.\n",
    "\n",
    "<p style=\"font-size:150%\">Ленивое соединение</p>\n",
    "\n",
    "Создание движка *engine* само по себе не приводит к соединению с базой данных до тех пор, пока движок не получит какое-либо задание.\n",
    "\n",
    "Мы установили значение парметра *future=True*, чтобы использовать стиль версии 2.0:\n",
    "Мы также установили параметр *echo=True*, чтобы движок журналировал все SQL команды. "
   ]
  },
  {
   "cell_type": "markdown",
   "id": "9dfde4f4",
   "metadata": {},
   "source": [
    "<a id=2></a>\n",
    "\n",
    "[К оглавлению](#Home)\n",
    "\n",
    "# 2. Транзакции и программный интерфейс приложения\n",
    "\n",
    "Теперь, когда объект *Engine* готов к работе, мы можем изучить базовую работу движка и его основные интерактивные конечные точки, *Connection* и *Result*. Мы дополнительно представим фасад *ORM* для этих объектов, известный как *Session*.\n",
    "\n",
    "<Table>\n",
    "<tr><td bgcolor=#0dcaf0></td><td style=\"text-align:left;font-size:10pt\">\n",
    "При использовании <b>ORM</b> движок управляется другим объектом, называемым <i>сеансом</i> - <b>session</b>. Сеанс в SQLAlchemy подчеркивает транзакционный способ выполнения, который в значительной степени идентичен объекту <i>Connection</i>, обсуждаемому ниже. Поэтому, хотя этот подраздел ориентирован на пользователей <i>Core</i>, все концепции здесь по существу также относятся к использованию <i>ORM</i>. В конце этого раздела рассмотрим отличия шаблона выполнения <i>Connection</i> от шаблона <i>Session</i> .\n",
    "</td></tr></Table>\n",
    "\n",
    "Поскольку нам еще только предстоит знакомство с языком выражений *SQLAlchemy*, который является основным для этой библиотеки, мы будем здесь использовать функцию, называемую `text()`, которая позволяет нам писать операторы *SQL* как текст. Отметим, что текстовый SQL в повседневном использовании SQLAlchemy является скорее исключением, чем правилом для большинства задач, хотя он всегда остается полностью доступным.\n",
    "\n",
    "<p style=\"font-size:150%\"> Организация подключения </p>\n",
    "\n",
    "Единственная цель объекта Engine с точки зрения пользователя — предоставить подключение к базе данных, называемое *Connection*. При работе с *Core* напрямую объект *Connection* — это то, как выполняется все взаимодействие с базой данных. Поскольку подключение представляет собой открытый ресурс для базы данных, мы хотим всегда ограничивать область использования этого объекта определенным контекстом, и лучший способ сделать это — использовать форму диспетчера контекста Python, также известную как оператор *with*. Проиллюстрируем выполнение выражения текстовой строки «Hello World» с помощью текстового оператора SQL."
   ]
  },
  {
   "cell_type": "code",
   "execution_count": 3,
   "id": "faaec22b",
   "metadata": {},
   "outputs": [
    {
     "name": "stdout",
     "output_type": "stream",
     "text": [
      "2022-04-21 10:32:53,408 INFO sqlalchemy.engine.Engine BEGIN (implicit)\n",
      "2022-04-21 10:32:53,411 INFO sqlalchemy.engine.Engine select 'hello world'\n",
      "2022-04-21 10:32:53,412 INFO sqlalchemy.engine.Engine [generated in 0.00435s] ()\n",
      "[('hello world',)]\n",
      "2022-04-21 10:32:53,414 INFO sqlalchemy.engine.Engine ROLLBACK\n"
     ]
    }
   ],
   "source": [
    "from sqlalchemy import text\n",
    "\n",
    "with engine.connect() as conn:\n",
    "    result = conn.execute(text(\"select 'hello world'\"))\n",
    "    print(result.all())"
   ]
  },
  {
   "cell_type": "markdown",
   "id": "e337289c",
   "metadata": {},
   "source": [
    "В приведенном примере диспетчер контекста предоставил соединение с базой данных, а также поместил операцию в транзакцию. Поведение Python DBAPI по умолчанию включает в себя то, что транзакция всегда выполняется. Когда операция завершается, выдается ROLLBACK для завершения транзакции. Транзакция не фиксируется автоматически. Когда мы хотим зафиксировать изменения, нам обычно нужно вызвать `Connection.commit()`."
   ]
  },
  {
   "cell_type": "markdown",
   "id": "e3130516",
   "metadata": {},
   "source": [
    "<p style=\"font-size:150%\">Завершение изменений</p>\n",
    "\n",
    "Итак, объект соединения не завершает изменения по умолчанию. Что надо сделать, чтобы завершить изменения? покажем это на примере. Создадим таблицу, вставим в неё данные, а затем завершим изменения с помощью метода `Connection.commit()` внутри той же области, в которой мы с помощью диспетчера контекста создали объект соединения."
   ]
  },
  {
   "cell_type": "code",
   "execution_count": 4,
   "id": "fc8645f5",
   "metadata": {},
   "outputs": [
    {
     "name": "stdout",
     "output_type": "stream",
     "text": [
      "2022-04-21 10:32:53,559 INFO sqlalchemy.engine.Engine BEGIN (implicit)\n",
      "2022-04-21 10:32:53,561 INFO sqlalchemy.engine.Engine CREATE TABLE some_table (x int, y int)\n",
      "2022-04-21 10:32:53,565 INFO sqlalchemy.engine.Engine [generated in 0.00581s] ()\n",
      "2022-04-21 10:32:53,570 INFO sqlalchemy.engine.Engine INSERT INTO some_table (x, y) VALUES (?, ?)\n",
      "2022-04-21 10:32:53,572 INFO sqlalchemy.engine.Engine [generated in 0.00293s] ((1, 1), (2, 4))\n",
      "2022-04-21 10:32:53,575 INFO sqlalchemy.engine.Engine COMMIT\n"
     ]
    }
   ],
   "source": [
    "# \"commit as you go\"\n",
    "with engine.connect() as conn:\n",
    "    conn.execute(text(\"CREATE TABLE some_table (x int, y int)\"))\n",
    "    conn.execute(text(\"INSERT INTO some_table (x, y) VALUES (:x, :y)\"),\n",
    "                 [{\"x\": 1, \"y\": 1}, {\"x\": 2, \"y\": 4}])\n",
    "    conn.commit()"
   ]
  },
  {
   "cell_type": "markdown",
   "id": "b4934967",
   "metadata": {},
   "source": [
    "Мы создали два оператора SQL, которые обычно являются транзакционными: оператор *CREATE TABLE* и параметризованный оператор *INSERT* (приведенный выше синтаксис параметризации обсуждается несколькими разделами ниже в разделе «Отправка нескольких параметров»). Поскольку мы хотим, чтобы проделанная нами работа была зафиксирована в нашем блоке, мы вызываем метод `Connection.commit()`, который завершает транзакцию. После того, как мы вызовем этот метод внутри блока, мы можем продолжить выполнение других операторов SQL, и, если мы захотим, мы можем снова вызвать `Connection.commit()` для последующих операторов. SQLAlchemy относится к этому стилю как к «фиксации по ходу» выполнения - «commit as you go».\n",
    "\n",
    "Существует также другой стиль фиксации данных, который заключается в том, что мы можем заранее объявить наш блок «подключения» блоком транзакции. Для этого режима работы мы используем метод `Engine.begin()` для получения соединения, а не метод `Engine.connect()`. Этот метод управляет областью соединения и заключает все действия внутри транзакции с *COMMIT* в случае успеха или *ROLLBACK* в случае возникновения исключения. В дальнейшем этот стиль может именоваться \"начать сразу\" — *begin once*."
   ]
  },
  {
   "cell_type": "code",
   "execution_count": 5,
   "id": "0a0b8740",
   "metadata": {},
   "outputs": [
    {
     "name": "stdout",
     "output_type": "stream",
     "text": [
      "2022-04-21 10:32:53,781 INFO sqlalchemy.engine.Engine BEGIN (implicit)\n",
      "2022-04-21 10:32:53,782 INFO sqlalchemy.engine.Engine INSERT INTO some_table (x, y) VALUES (?, ?)\n",
      "2022-04-21 10:32:53,784 INFO sqlalchemy.engine.Engine [cached since 0.2152s ago] ((6, 8), (9, 10))\n",
      "2022-04-21 10:32:53,788 INFO sqlalchemy.engine.Engine COMMIT\n"
     ]
    }
   ],
   "source": [
    "# \"begin once\"\n",
    "with engine.begin() as conn:\n",
    "    conn.execute(\n",
    "        text(\"INSERT INTO some_table (x, y) VALUES (:x, :y)\"),\n",
    "        [{\"x\": 6, \"y\": 8}, {\"x\": 9, \"y\": 10}]\n",
    "    )"
   ]
  },
  {
   "cell_type": "markdown",
   "id": "3242b3b1",
   "metadata": {},
   "source": [
    "<Table>\n",
    "    <tr><td bgcolor=#adb5bd></td><td style=\"text-align:left; font-size:10pt\">\n",
    "\n",
    "Что значит BEGIN (implicit)?\n",
    "\n",
    "В начале блока транзакции журнал показал строку «BEGIN (неявно)». «Неявно» здесь означает, что SQLAlchemy считает, что это начало неявной транзакции DBAPI. Например, вы можете зарегистрировать обработчики событий для перехвата этого события.\n",
    "\n",
    "Дополнительно о событиях: https://docs.sqlalchemy.org/en/14/core/events.html#core-sql-events\n",
    "</td></tr></Table>"
   ]
  },
  {
   "cell_type": "markdown",
   "id": "6c433999",
   "metadata": {},
   "source": [
    "<p style=\"font-size:150%\"> Основы выполнения SQL-выражений </p>\n",
    "\n",
    "Мы изучили примеры, в которых операторы SQL выполняются с использованием метода `Connection.execute()` в сочетании с объектом  `text()` и возвратом объекта *Result*. Проиллюстрируем более подробно взаимодействие этих компонентов.\n",
    "\n",
    "<Table>\n",
    "<tr><td bgcolor=#0dcaf0></td><td style=\"text-align:left; font-size:10pt\">\n",
    "Большая часть содержимого этого раздела одинаково хорошо применима к ORM при использовании метода Session.execute(), который работает очень похоже на метод Connection.execute(), включая то, что строки результатов ORM доставляются с использованием объекта <a href=\"https://docs.sqlalchemy.org/en/14/core/connections.html#sqlalchemy.engine.Result\"> Result </a>.\n",
    "        </td></tr>\n",
    "</Table>\n",
    "\n",
    "<p style=\"font-size:120%\">Получение строк</p>\n",
    "\n",
    "Сначала проиллюстрируем объект *Result*, используя строки, которые мы вставили ранее, выполнив оператор *SELECT* для созданной нами таблицы:"
   ]
  },
  {
   "cell_type": "code",
   "execution_count": 6,
   "id": "06640c79",
   "metadata": {},
   "outputs": [
    {
     "name": "stdout",
     "output_type": "stream",
     "text": [
      "2022-04-21 10:32:53,963 INFO sqlalchemy.engine.Engine BEGIN (implicit)\n",
      "2022-04-21 10:32:53,964 INFO sqlalchemy.engine.Engine SELECT x, y FROM some_table\n",
      "2022-04-21 10:32:53,965 INFO sqlalchemy.engine.Engine [generated in 0.00213s] ()\n",
      "x: 1  y: 1\n",
      "x: 2  y: 4\n",
      "x: 6  y: 8\n",
      "x: 9  y: 10\n",
      "2022-04-21 10:32:53,970 INFO sqlalchemy.engine.Engine ROLLBACK\n"
     ]
    }
   ],
   "source": [
    "with engine.connect() as conn:\n",
    "    result = conn.execute(text(\"SELECT x, y FROM some_table\"))\n",
    "    for row in result:\n",
    "        print(f\"x: {row.x}  y: {row.y}\")"
   ]
  },
  {
   "cell_type": "markdown",
   "id": "d06cd913",
   "metadata": {},
   "source": [
    "Команда «SELECT» выбрала все строки из таблицы. Возвращаемый объект *Result* является итерируемым объектом строк результатов.\n",
    "\n",
    "*Result* имеет множество методов для выборки и преобразования строк, таких как показанный ранее метод `Result.all()`, который возвращает список всех объектов *Row*. Он также реализует интерфейс итератора `Python`, так что мы можем напрямую перебирать коллекцию объектов *Row*.\n",
    "\n",
    "Сами объекты *Row* должны действовать как <a href=\"https://docs.python.org/3/library/collections.html#collections.namedtuple\"> именованные кортежи </a> Python. Ниже проиллюстрируем различные способы доступа к строкам.\n",
    "\n",
    "- Позиционное. Этот стиль заключается в назначении переменных каждому атрибуту строки позиционно:\n",
    "\n",
    "```\n",
    "result = conn.execute(text(\"select x, y from some_table\"))\n",
    "for x, y in result:\n",
    "    print(x, y)\n",
    "```\n",
    "\n",
    "- По индексу. Кортежи — это упорядоченные неизменяемые коллекции, к элементам которых можно обращаться обычным образом по целочисленному индексу\n",
    "\n",
    "```\n",
    "with engine.connect() as conn:\n",
    "    result = conn.execute(text(\"select x, y from some_table\"))\n",
    "    for row in result:\n",
    "        x, y = row[0], row[1]\n",
    "        print(x, y)\n",
    "```\n",
    "- По имени атрибута. \n",
    "Поскольку это именованные кортежи Python, они имеют динамические имена атрибутов, соответствующие именам каждого столбца. Эти имена обычно являются именами, которые оператор SQL присваивает столбцам в каждой строке.\n",
    "\n",
    "```\n",
    "with engine.connect() as conn:\n",
    "    result = conn.execute(text(\"select x, y from some_table\"))\n",
    "    for row in result:\n",
    "        print(f\"Row: {row.x} {row.y}\")\n",
    "```\n",
    "\n",
    "- По сопоставлению. Чтобы получать строки в качестве объектов сопоставления Python, что по сути является версией \"для чтения\" обычного объекта *dict*, *Result* может быть преобразован в объект *MappingResult* с использованием модификатора `Result.mappings()`. Это объект результата, который дает подобные словарю объекты *RowMapping*, а не объекты *Row*:\n",
    "\n",
    "```\n",
    "with engine.connect() as conn:\n",
    "    result = conn.execute(text(\"select x, y from some_table\"))\n",
    "    for dict_row in result.mappings():\n",
    "        x, y = dict_row['x'], dict_row['y']\n",
    "        print(x,y)\n",
    "```\n",
    "\n",
    "<p style=\"font-size:150%\">Отправка параметров</p>\n",
    "\n",
    "Операторы SQL обычно сопровождаются данными, которые должны быть переданы вместе с самим оператором, как мы видели ранее в примере вставки *INSERT*. Таким образом, метод `Connection.execute()` также принимает параметры, которые называются связанными параметрами. Элементарным примером может быть то, что мы хотим ограничить оператор «SELECT» только строками, которые соответствуют определенным критериям, например, строками, в которых значение «y» превышает определенное значение, переданное функции.\n",
    "\n",
    "Чтобы добиться этого, мы добавляем в выражение условие *WHERE* новый параметр с именем «y»; функция `text()` принимает его, используя формат двоеточия «:y». Фактическое значение «:y» затем передается в качестве второго аргумента функции `Connection.execute()` в виде словаря:"
   ]
  },
  {
   "cell_type": "code",
   "execution_count": 7,
   "id": "e4f78016",
   "metadata": {},
   "outputs": [
    {
     "name": "stdout",
     "output_type": "stream",
     "text": [
      "2022-04-21 10:32:54,072 INFO sqlalchemy.engine.Engine BEGIN (implicit)\n",
      "2022-04-21 10:32:54,073 INFO sqlalchemy.engine.Engine SELECT x, y FROM some_table WHERE y > ?\n",
      "2022-04-21 10:32:54,074 INFO sqlalchemy.engine.Engine [generated in 0.00148s] (2,)\n",
      "x: 2  y: 4\n",
      "x: 6  y: 8\n",
      "x: 9  y: 10\n",
      "2022-04-21 10:32:54,075 INFO sqlalchemy.engine.Engine ROLLBACK\n"
     ]
    }
   ],
   "source": [
    "with engine.connect() as conn:\n",
    "    result = conn.execute(\n",
    "        text(\"SELECT x, y FROM some_table WHERE y > :y\"),\n",
    "        {\"y\": 2}\n",
    "    )\n",
    "    for row in result:\n",
    "       print(f\"x: {row.x}  y: {row.y}\")"
   ]
  },
  {
   "cell_type": "markdown",
   "id": "d7be51b1",
   "metadata": {},
   "source": [
    "В журналированном выводе SQL мы видим, что связанный параметр `:y` преобразован в вопросительный знак, когда он был отправлен в базу данных SQLite. Это связано с тем, что драйвер базы данных SQLite использует формат передачи параметров в стиле вопросительного знака, который является форматом, разрешенным спецификацией DBAPI.\n",
    "\n",
    "<Table><tr><td bgcolor=#adb5bd></td><td style=\"text-align:left; font-size:10pt\">\n",
    "Как упоминалось в начале этого раздела, текстовый SQL не является обычным способом работы с SQLAlchemy. Однако при использовании текстового SQL литеральные значения Python, даже нетекстовые, такие как целые числа или даты, никогда не должны напрямую преобразовываться в строку SQL; всегда следует использовать параметр. Это наиболее известно как способ избежать атак с помощью SQL-инъекций. Однако это также позволяет диалектам SQLAlchemy и/или DBAPI правильно обрабатывать входящие входные данные для серверной части. За исключением случаев использования простого текстового SQL, SQLAlchemy Core Expression API гарантирует, что литеральные значения Python передаются в качестве связанных параметров, где это необходимо.\n",
    "</td></tr></Table>\n",
    "\n",
    "<p style=\"font-size:150%\"> Отправка нескольких параметров </p>\n",
    "\n",
    "В примере с фиксацией изменений мы выполнили оператор INSERT, где оказалось, что мы можем вставить сразу несколько строк в базу данных. Для операторов, которые работают с данными, но не возвращают наборы результатов, а именно операторов DML, таких как «INSERT», мы можем отправить в метод `Connection.execute()` несколько параметров в списке словарей:"
   ]
  },
  {
   "cell_type": "code",
   "execution_count": 8,
   "id": "081b22cf",
   "metadata": {},
   "outputs": [
    {
     "name": "stdout",
     "output_type": "stream",
     "text": [
      "2022-04-21 10:32:54,191 INFO sqlalchemy.engine.Engine BEGIN (implicit)\n",
      "2022-04-21 10:32:54,194 INFO sqlalchemy.engine.Engine INSERT INTO some_table (x, y) VALUES (?, ?)\n",
      "2022-04-21 10:32:54,197 INFO sqlalchemy.engine.Engine [cached since 0.6272s ago] ((11, 12), (13, 14))\n",
      "2022-04-21 10:32:54,200 INFO sqlalchemy.engine.Engine COMMIT\n"
     ]
    }
   ],
   "source": [
    "with engine.connect() as conn:\n",
    "    conn.execute(\n",
    "        text(\"INSERT INTO some_table (x, y) VALUES (:x, :y)\"),\n",
    "        [{\"x\": 11, \"y\": 12}, {\"x\": 13, \"y\": 14}]\n",
    "    )\n",
    "    conn.commit()"
   ]
  },
  {
   "cell_type": "markdown",
   "id": "f25710b6",
   "metadata": {},
   "source": [
    "На самом деле, объекты *Connection* используют возможность DBAPI, известную как `cursor.executemany()`. Этот метод выполняет эквивалентную операцию вызова данного оператора SQL для каждого набора параметров в отдельности. DBAPI может оптимизировать эту операцию различными способами, используя подготовленные операторы или в некоторых случаях объединяя наборы параметров в один оператор SQL. Некоторые диалекты SQLAlchemy могут также использовать альтернативные API для этого случая, такие как диалект *psycopg2* для *PostgreSQL*, который в таких случаях использует более производительные API.\n",
    "\n",
    "<Table align=left>\n",
    "<tr><td bgcolor=#0dcaf0></td><td style=\"text-align:left;font-size:10pt\">\n",
    "Интерфейс ORM использует другой подход передачи нескольких параметров операторам INSERT/UPDATE/DELETE.\n",
    "</td></tr></Table>\n",
    "\n",
    "<br><p>\n",
    "<p style=\"font-size:150%\">Связывание параметров с операторами SQL-выражения</p>\n",
    "\n",
    "Два предыдущих примера иллюстрируют ряд параметров, передаваемых вместе с оператором SQL. Для выполнения выражений с одним параметром, использование параметров в SQLAlchemy на самом деле чаще всего осуществляется путем связывания с оператором, что является основной функцией языка выражений SQL и позволяет создавать запросы, которые могут быть составлены естественным образом. Эта концепция будет обсуждаться более подробно в следующих разделах. Предварительно отметим, что сама конструкция *text()*, являющаяся частью языка выражений SQL, поддерживает эту функцию с помощью метода `TextClause.bindparams()`; это <a href=\"https://docs.sqlalchemy.org/en/14/glossary.html#term-generative\">генеративный</a> метод, который возвращает новую копию конструкции SQL, дополненную значениями параметров, которые мы хотим передать:"
   ]
  },
  {
   "cell_type": "code",
   "execution_count": 9,
   "id": "dc9b2eb7",
   "metadata": {},
   "outputs": [
    {
     "name": "stdout",
     "output_type": "stream",
     "text": [
      "2022-04-21 10:32:54,299 INFO sqlalchemy.engine.Engine BEGIN (implicit)\n",
      "2022-04-21 10:32:54,300 INFO sqlalchemy.engine.Engine SELECT x, y FROM some_table WHERE (y > ?) AND (x > ?) ORDER BY x, y\n",
      "2022-04-21 10:32:54,300 INFO sqlalchemy.engine.Engine [generated in 0.00150s] (6, 0)\n",
      "x: 6  y: 8\n",
      "x: 9  y: 10\n",
      "x: 11  y: 12\n",
      "x: 13  y: 14\n",
      "2022-04-21 10:32:54,303 INFO sqlalchemy.engine.Engine ROLLBACK\n"
     ]
    }
   ],
   "source": [
    "stmt = text(\"SELECT x, y FROM some_table WHERE (y > :y) AND (x > :x) ORDER BY x, y\").bindparams(y=6, x=0)\n",
    "with engine.connect() as conn:\n",
    "    result = conn.execute(stmt)\n",
    "    for row in result:\n",
    "       print(f\"x: {row.x}  y: {row.y}\")"
   ]
  },
  {
   "cell_type": "markdown",
   "id": "79d65b2b",
   "metadata": {},
   "source": [
    "Отметим, что в результате связывания параметра с SQL-выражением, метод `Connection.execute()` сформировал как строку SQL, так и отдельный кортеж параметров, в данном случае, из двух элементов.\n",
    "\n",
    "<p style=\"font-size:150%\">Выполнение сеанса ORM</p>\n",
    "\n",
    "<Table align=left>\n",
    "<tr><td bgcolor=#0dcaf0></td><td style=\"text-align:left;font-size:10pt\">\n",
    "Как упоминалось ранее, большинство приведенных выше шаблонов и примеров также применимы для объектно-реляционного сопоставления ORM.\n",
    "</td></tr></Table><br><br>\n",
    "\n",
    "Основным объектом при использовании ORM является сеанс — *Session*. В SQLAlchemy этот объект используется способом, похожим на метод *Connection*, и фактически, когда используется сеанс, он ссылается на внутреннее подключение *Connection*, которое он использует для генерации SQL-выражения.\n",
    "\n",
    "Сеанс имеет несколько различных шаблонов создания, проиллюстрируем здесь базовый, который отслеживает то, как используется соединение. Создадим сеанс в диспетчере контекста:"
   ]
  },
  {
   "cell_type": "code",
   "execution_count": 10,
   "id": "92c9b3e2",
   "metadata": {
    "scrolled": true
   },
   "outputs": [
    {
     "name": "stdout",
     "output_type": "stream",
     "text": [
      "2022-04-21 10:32:54,493 INFO sqlalchemy.engine.Engine BEGIN (implicit)\n",
      "2022-04-21 10:32:54,493 INFO sqlalchemy.engine.Engine SELECT x, y FROM some_table WHERE y > ? ORDER BY x, y\n",
      "2022-04-21 10:32:54,493 INFO sqlalchemy.engine.Engine [generated in 0.00037s] (6,)\n",
      "x: 6  y: 8\n",
      "x: 9  y: 10\n",
      "x: 11  y: 12\n",
      "x: 13  y: 14\n",
      "2022-04-21 10:32:54,507 INFO sqlalchemy.engine.Engine ROLLBACK\n"
     ]
    }
   ],
   "source": [
    "from sqlalchemy.orm import Session\n",
    "\n",
    "stmt = text(\"SELECT x, y FROM some_table WHERE y > :y ORDER BY x, y\").bindparams(y=6)\n",
    "with Session(engine) as session:\n",
    "    result = session.execute(stmt)\n",
    "    for row in result:\n",
    "       print(f\"x: {row.x}  y: {row.y}\")"
   ]
  },
  {
   "cell_type": "markdown",
   "id": "502e331a",
   "metadata": {},
   "source": [
    "Сравним этот пример с примером в предыдущем параграфе «Связывание параметров с оператором». Мы заменяем вызов `engine.connect() as conn` на `Session(engine) as session`, а затем используем `Session.execute()` точно так же, как и с методом `Connection.execute()`.\n",
    "\n",
    "Кроме того, как и *Подключение*, *Сеанс* следует шаблону поведения «фиксации по ходу» с использованием метода `Session.commit()`, показанного ниже с использованием  SQL-оператора *UPDATE*."
   ]
  },
  {
   "cell_type": "code",
   "execution_count": 11,
   "id": "2878ba98",
   "metadata": {},
   "outputs": [
    {
     "name": "stdout",
     "output_type": "stream",
     "text": [
      "2022-04-21 10:32:54,527 INFO sqlalchemy.engine.Engine BEGIN (implicit)\n",
      "2022-04-21 10:32:54,528 INFO sqlalchemy.engine.Engine UPDATE some_table SET y=? WHERE x=?\n",
      "2022-04-21 10:32:54,529 INFO sqlalchemy.engine.Engine [generated in 0.00125s] ((11, 9), (15, 13))\n",
      "2022-04-21 10:32:54,530 INFO sqlalchemy.engine.Engine COMMIT\n"
     ]
    }
   ],
   "source": [
    "with Session(engine) as session:\n",
    "    result = session.execute(\n",
    "        text(\"UPDATE some_table SET y=:y WHERE x=:x\"),\n",
    "        [{\"x\": 9, \"y\":11}, {\"x\": 13, \"y\": 15}]\n",
    "    )\n",
    "    session.commit()"
   ]
  },
  {
   "cell_type": "markdown",
   "id": "64355172",
   "metadata": {},
   "source": [
    "В этом примере мы вызвали оператор UPDATE, используя связанный параметр в стиле «executemany» и заканчивая блок фиксацией по ходу «commit as you go».\n",
    "\n",
    "<Table align=\"left\">\n",
    "    <tr><td bgcolor=#0dcaf0></td>\n",
    "        <td style=\"text-align:left;font-size:10pt\">\n",
    "Примечание. Сеанс не удерживает подключение Connection после завершения транзакции. Он получает новое соединение от движка, когда в следующий раз требуется выполнение SQL-запроса к базе данных.\n",
    "        </td></tr>\n",
    "</Table>\n",
    "\n",
    "<br><br><p>\n",
    "У Сеанса, очевидно, значительно больше особенностей, однако понимание того, что метод `Session.execute()` используется так же, как `Connection.execute()`, поможет нам изучить примеры, которые последуют позже.\n",
    "</p>\n",
    "\n",
    "Дополнительно: <a href=\"https://docs.sqlalchemy.org/en/14/orm/session_basics.html#id1\">Основы Сеанса</a>"
   ]
  },
  {
   "cell_type": "markdown",
   "id": "317817d4",
   "metadata": {},
   "source": [
    "<a id=3></a>\n",
    "\n",
    "[К оглавлению](#Home)\n",
    "\n",
    "# 3. Метаданные базы данных\n",
    "\n",
    "Центральным элементом обоих интерфейсов SQLAlchemy — как Core, так и ORM, является язык выражений SQL, предназначенный для SQL-запросов. Основой для этих запросов являются объекты Python, представляющие такие понятия базы данных, как таблицы и столбцы. Эти объекты вместе известны как <a href=\"https://docs.sqlalchemy.org/en/14/glossary.html#term-database-metadata\">метаданные базы данных</a>.\n",
    "\n",
    "Наиболее распространенные базовые объекты <a href=\"https://docs.sqlalchemy.org/en/14/core/metadata.html#sqlalchemy.schema.MetaData\"> метаданных </a> базы данных в SQLAlchemy известны как таблица <a href=\"https://docs.sqlalchemy.org/en/14/core/metadata.html#sqlalchemy.schema.Table\"> *Table* </a> и столбец <a href=\"https://docs.sqlalchemy.org/en/14/core/metadata.html#sqlalchemy.schema.Column\"> *Column* </a>. Покажем, как эти объекты используются в интерфейсах *Core* и *ORM*.\n",
    "\n",
    "<p style=\"font-size:150%\">Создание метаданных таблиц</p>\n",
    "\n",
    "Когда мы работаем с реляционной базой данных, одной из базовых структур для составления запросов является таблица. В SQLAlchemy «таблица» представлена объектом Python с аналогичным названием <a href=\"https://docs.sqlalchemy.org/en/14/core/metadata.html#sqlalchemy.schema.Table\">*Table*</a>.\n",
    "\n",
    "Чтобы начать использовать язык выражений SQLAlchemy, нам нужно создать объекты *Table*, представляющие все таблицы базы данных, с которыми мы собираемся работать. Каждая таблица может быть объявлена, то есть мы явно прописываем в исходном коде, как выглядит или **отображается** таблица, что означает, что мы генерируем объект на основе того, что уже присутствует в конкретной базе данных. Эти два подхода также можно комбинировать разными способами.\n",
    "\n",
    "Независимо от того, будем ли мы объявлять или отображать таблицы БД, мы начинаем с коллекции, известной как объект метаданных. Этот объект, по сути, представляет собой фасад словаря Python, в котором хранится ряд объектов *Table*, привязанных к их строковым именам. Построение объекта Метаданных выглядит так:"
   ]
  },
  {
   "cell_type": "code",
   "execution_count": 12,
   "id": "8d1e9455",
   "metadata": {},
   "outputs": [],
   "source": [
    "from sqlalchemy import MetaData\n",
    "metadata_obj = MetaData()"
   ]
  },
  {
   "cell_type": "markdown",
   "id": "19bf5d98",
   "metadata": {},
   "source": [
    "Наличие одного объекта *MetaData* для всего приложения является наиболее распространенным случаем. Такой объект представляется переменной уровня модуля в одном месте в приложении, как «модель» или «схема базы данных». В общем случае, в приложении может быть более одного объекта метаданных, но как правило, все объекты таблиц, связанных друг с другом, принадлежат одному объекту метаданных.\n",
    "\n",
    "Когда у нас есть объект *MetaData*, мы можем объявить объекты Table. Рассмотрим учебную базу данных, в которой таблица пользователей будет представлять пользователей веб-сайта, а таблица адресов — список адресов электронной почты пользователей. Обычно мы присваиваем каждому объекту *Table* переменную, с помощью которой мы будем ссылаться на таблицу в коде приложения."
   ]
  },
  {
   "cell_type": "code",
   "execution_count": 13,
   "id": "e911de23",
   "metadata": {},
   "outputs": [],
   "source": [
    "from sqlalchemy import Table, Column, Integer, String\n",
    "user_table = Table(\n",
    "    \"user_account\",\n",
    "    metadata_obj,\n",
    "    Column('id', Integer, primary_key=True),\n",
    "    Column('name', String(30)),\n",
    "    Column('fullname', String)\n",
    ")"
   ]
  },
  {
   "cell_type": "markdown",
   "id": "80780ad0",
   "metadata": {},
   "source": [
    "Заметим, что приведенная выше конструкция таблицы похожа на оператор SQL CREATE TABLE: начинется с имени таблицы, затем перечисляется каждый столбец, указывается имя и тип данных. Объекты, которые мы используем выше:\n",
    "\n",
    "- Таблица — представляет собой таблицу базы данных и присваивает себя коллекции метаданных.\n",
    "- Столбец — представляет столбец в таблице базы данных и присваивает себя объекту таблицы. Столбец обычно включает строку имени и тип. Доступ к коллекции столбцов с точки зрения родительской таблицы обычно осуществляется через ассоциативный массив, расположенный в <a href=\"https://docs.sqlalchemy.org/en/14/core/metadata.html#sqlalchemy.schema.Table.c\">Table.c</a>:"
   ]
  },
  {
   "cell_type": "code",
   "execution_count": 14,
   "id": "ed646995",
   "metadata": {},
   "outputs": [
    {
     "data": {
      "text/plain": [
       "Column('name', String(length=30), table=<user_account>)"
      ]
     },
     "execution_count": 14,
     "metadata": {},
     "output_type": "execute_result"
    }
   ],
   "source": [
    "user_table.c.name"
   ]
  },
  {
   "cell_type": "code",
   "execution_count": 15,
   "id": "c46c9c38",
   "metadata": {},
   "outputs": [
    {
     "data": {
      "text/plain": [
       "['id', 'name', 'fullname']"
      ]
     },
     "execution_count": 15,
     "metadata": {},
     "output_type": "execute_result"
    }
   ],
   "source": [
    "user_table.c.keys()"
   ]
  },
  {
   "cell_type": "markdown",
   "id": "6dcd7469",
   "metadata": {},
   "source": [
    "<a href=\"https://docs.sqlalchemy.org/en/14/core/type_basics.html#sqlalchemy.types.Integer\">Integer</a>, <a href=\"https://docs.sqlalchemy.org/en/14/core/type_basics.html#sqlalchemy.types.String\">String</a> — эти классы представляют типы данных SQL и могут быть указаны для столбца с ограничением на размер или без ограничений. Выше мы указали длину «30» для столбца «имя», поэтому мы создали экземпляр String (30). Но для «id» и «fullname» мы размер не указывали.\n",
    "\n",
    "Дополнительно: <a href=\"https://docs.sqlalchemy.org/en/14/core/metadata.html\">Описание структуры базы данных с помощью метаданных</a>.\n",
    "\n",
    "В следующем разделе мы проиллюстрируем одну из основных функций объекта таблицы, которая заключается в выполнении команд DDL. Но сначала объявим вторую таблицу.\n",
    "\n",
    "<p style=\"font-size:150%\">Объявление простых ограничений</p>\n",
    "\n",
    "Первый столбец в приведенной выше таблице *user_table* включает параметр `Column.primary_key`, который указывает на то, что этот столбец должен быть частью первичного ключа таблицы. Сам первичный ключ представлен конструкцией *PrimaryKeyConstraint*, которую мы можем видеть в атрибуте `Table.primary_key` объекта Table:"
   ]
  },
  {
   "cell_type": "code",
   "execution_count": 16,
   "id": "38d5b835",
   "metadata": {},
   "outputs": [
    {
     "data": {
      "text/plain": [
       "PrimaryKeyConstraint(Column('id', Integer(), table=<user_account>, primary_key=True, nullable=False))"
      ]
     },
     "execution_count": 16,
     "metadata": {},
     "output_type": "execute_result"
    }
   ],
   "source": [
    "user_table.primary_key"
   ]
  },
  {
   "cell_type": "markdown",
   "id": "599b5360",
   "metadata": {},
   "source": [
    "Другое ограничение, которое чаще всего объявляется явно — это объект *ForeignKeyConstraint*, соответствующий ограничению внешнего ключа базы данных. Когда мы объявляем таблицы, которые связаны друг с другом, SQLAlchemy использует наличие этих объявлений ограничений внешнего ключа не только для того, чтобы они генерировались в операторах CREATE для базы данных, но и для помощи в построении выражений SQL.\n",
    "\n",
    "Ограничение *ForeignKeyConstraint*, которое включает только один столбец в целевой таблице, обычно объявляется с использованием сокращенной записи на уровне столбца через объект *ForeignKey*. Ниже мы объявляем вторую таблицу — таблицу адресов, которая будет иметь ограничение внешнего ключа, ссылающееся на пользовательскую таблицу:"
   ]
  },
  {
   "cell_type": "code",
   "execution_count": 17,
   "id": "20135beb",
   "metadata": {},
   "outputs": [],
   "source": [
    "from sqlalchemy import ForeignKey\n",
    "address_table = Table(\n",
    "    \"address\",\n",
    "    metadata_obj,\n",
    "    Column('id', Integer, primary_key=True),\n",
    "    Column('user_id', ForeignKey('user_account.id'), nullable=False),\n",
    "    Column('email_address', String, nullable=False)\n",
    ")"
   ]
  },
  {
   "cell_type": "markdown",
   "id": "953e33bb",
   "metadata": {},
   "source": [
    "В приведенной выше таблице также представлен третий тип ограничения, которым в SQL является ограничение «NOT NULL», указанное с помощью параметра `Column.nullable`.\n",
    "\n",
    "<Table align=\"left\">\n",
    "    <tr><td bgcolor=#adb5bd></td>\n",
    "        <td style=\"text-align:left; font-size:10pt\">\n",
    "Совет.\n",
    "\n",
    "При использовании объекта ForeignKey в определении столбца мы можем опустить тип данных - он автоматически выводится из связанного столбца; в приведенном выше примере - это тип данных Integer столбца user_account.id.\n",
    "        </td></tr>\n",
    "</Table>"
   ]
  },
  {
   "cell_type": "markdown",
   "id": "54956fd1",
   "metadata": {},
   "source": [
    "Завершим выполнение команд DDL для таблиц пользователей и адресов.\n",
    "\n",
    "<p style=\"font-size:150%\">Отправка команд DDL в базу данных</p>\n",
    "\n",
    "Мы построили иерархию объектов для представления двух таблиц базы данных, начиная с корневого объекта *MetaData*, затем два объекта *Table*, каждый из которых содержит набор объектов *Column* и *Constraint*. Эта объектная структура будет в центре большинства последующих операций, которые мы будем выполнять как с *Core*, так и с *ORM*.\n",
    "\n",
    "Первая полезная вещь, которую мы можем сделать с этой структурой — это отправить операторы DDL CREATE TABLE в нашу базу данных SQLite. У нас уже есть все инструменты, необходимые для этого, а именно: вызов метода `MetaData.create_all()` и отправка ему движка *Engine*, который ссылается на целевую базу данных:"
   ]
  },
  {
   "cell_type": "code",
   "execution_count": 18,
   "id": "2bccf368",
   "metadata": {},
   "outputs": [
    {
     "name": "stdout",
     "output_type": "stream",
     "text": [
      "2022-04-21 10:32:55,364 INFO sqlalchemy.engine.Engine BEGIN (implicit)\n",
      "2022-04-21 10:32:55,364 INFO sqlalchemy.engine.Engine PRAGMA main.table_info(\"user_account\")\n",
      "2022-04-21 10:32:55,364 INFO sqlalchemy.engine.Engine [raw sql] ()\n",
      "2022-04-21 10:32:55,372 INFO sqlalchemy.engine.Engine PRAGMA temp.table_info(\"user_account\")\n",
      "2022-04-21 10:32:55,373 INFO sqlalchemy.engine.Engine [raw sql] ()\n",
      "2022-04-21 10:32:55,374 INFO sqlalchemy.engine.Engine PRAGMA main.table_info(\"address\")\n",
      "2022-04-21 10:32:55,375 INFO sqlalchemy.engine.Engine [raw sql] ()\n",
      "2022-04-21 10:32:55,376 INFO sqlalchemy.engine.Engine PRAGMA temp.table_info(\"address\")\n",
      "2022-04-21 10:32:55,376 INFO sqlalchemy.engine.Engine [raw sql] ()\n",
      "2022-04-21 10:32:55,377 INFO sqlalchemy.engine.Engine \n",
      "CREATE TABLE user_account (\n",
      "\tid INTEGER NOT NULL, \n",
      "\tname VARCHAR(30), \n",
      "\tfullname VARCHAR, \n",
      "\tPRIMARY KEY (id)\n",
      ")\n",
      "\n",
      "\n",
      "2022-04-21 10:32:55,378 INFO sqlalchemy.engine.Engine [no key 0.00052s] ()\n",
      "2022-04-21 10:32:55,379 INFO sqlalchemy.engine.Engine \n",
      "CREATE TABLE address (\n",
      "\tid INTEGER NOT NULL, \n",
      "\tuser_id INTEGER NOT NULL, \n",
      "\temail_address VARCHAR NOT NULL, \n",
      "\tPRIMARY KEY (id), \n",
      "\tFOREIGN KEY(user_id) REFERENCES user_account (id)\n",
      ")\n",
      "\n",
      "\n",
      "2022-04-21 10:32:55,379 INFO sqlalchemy.engine.Engine [no key 0.00045s] ()\n",
      "2022-04-21 10:32:55,380 INFO sqlalchemy.engine.Engine COMMIT\n"
     ]
    }
   ],
   "source": [
    "metadata_obj.create_all(engine)"
   ]
  },
  {
   "cell_type": "markdown",
   "id": "bd880147",
   "metadata": {},
   "source": [
    "Процесс создания DDL по умолчанию включает некоторые специфичные для SQLite операторы PRAGMA, которые проверяют существование каждой таблицы перед отправкой CREATE. Полная последовательность шагов включена в пару BEGIN/COMMIT для поддержки транзакционного DDL (SQLite действительно поддерживает транзакционный DDL, однако драйвер базы данных sqlite3 исторически запускает DDL в режиме «автоматической фиксации»).\n",
    "\n",
    "Процесс создания также заботится об отправке операторов CREATE в правильном порядке: ограничение FOREIGN KEY зависит от существующей пользовательской таблицы, поэтому таблица адресов создается второй. В более сложных сценариях зависимостей ограничения FOREIGN KEY также могут применяться к таблицам постфактум с использованием ALTER.\n",
    "\n",
    "Объект *MetaData* также имеет метод `MetaData.drop_all()`, который выдает операторы DROP в обратном по отношению к CREATE порядке для удаления элементов схемы.\n",
    "\n",
    "<p style=\"font-size:150%\">Определение метаданных таблицы с помощью ORM</p>\n",
    "\n",
    "В этом разделе, посвященном только ORM, будет представлен пример объявления той же структуры базы данных, что и в предыдущем разделе, с использованием парадигмы конфигурации, более ориентированной на ORM. При использовании ORM процесс объявления метаданных таблицы обычно сочетается с процессом объявления сопоставленных классов. Сопоставленный класс — это класс Python, который мы хотели бы создать, который затем будет иметь атрибуты, которые будут связаны со столбцами в таблице базы данных. Хотя существует несколько вариантов того, как это достигается, наиболее распространенный стиль известен как декларативный и позволяет нам одновременно объявлять наши определяемые пользователем классы и метаданные таблицы.\n",
    "\n",
    "<p style=\"font-size:150%\">Установка реестра</p>\n",
    "\n",
    "При создании ORM коллекция метаданных содержится в объекте, называемом <a href=\"https://docs.sqlalchemy.org/en/14/orm/mapping_api.html#sqlalchemy.orm.registry\">реестром</a>. Мы создаём реестр вот так:"
   ]
  },
  {
   "cell_type": "code",
   "execution_count": 19,
   "id": "e94446e4",
   "metadata": {},
   "outputs": [],
   "source": [
    "from sqlalchemy.orm import registry\n",
    "mapper_registry = registry()"
   ]
  },
  {
   "cell_type": "markdown",
   "id": "6cc6586e",
   "metadata": {},
   "source": [
    "После создания реестр сразу включает в себя объект метаданных, который будет содержать в себе коллекцию таблиц."
   ]
  },
  {
   "cell_type": "code",
   "execution_count": 20,
   "id": "eb04b840",
   "metadata": {},
   "outputs": [
    {
     "data": {
      "text/plain": [
       "MetaData()"
      ]
     },
     "execution_count": 20,
     "metadata": {},
     "output_type": "execute_result"
    }
   ],
   "source": [
    "mapper_registry.metadata"
   ]
  },
  {
   "cell_type": "markdown",
   "id": "fdf94775",
   "metadata": {},
   "source": [
    "Вместо того, чтобы объявлять объекты *Table* напрямую, мы теперь будем объявлять их косвенно через директивы, применяемые к нашим отображаемым классам. В наиболее распространенном подходе каждый отображаемый класс происходит от общего базового класса, известного как **декларативная база**. Получим новую декларативную базу из реестра с помощью метода `register.generate_base()`:\n",
    "\n",
    "```\n",
    "Base = mapper_registry.generate_base()\n",
    "```\n",
    "\n",
    "Совет<br>\n",
    "Шаги по созданию реестра и класса декларативной базы могут быть объединены с помощью известрной функции *declarative_base()*."
   ]
  },
  {
   "cell_type": "code",
   "execution_count": 21,
   "id": "21cc236e",
   "metadata": {},
   "outputs": [],
   "source": [
    "from sqlalchemy.orm import declarative_base\n",
    "Base = declarative_base()"
   ]
  },
  {
   "cell_type": "markdown",
   "id": "2b58ed25",
   "metadata": {},
   "source": [
    "<p style=\"font-size:150%\">Объявление сопоставленных классов</p>\n",
    "\n",
    "Приведенный выше базовый объект — это класс Python, который будет служить базовым для классов ORM, которые мы объявляем. Теперь мы можем определить классы ORM для таблиц пользователей и адресов в терминах новых классов *User* и *Address*:"
   ]
  },
  {
   "cell_type": "code",
   "execution_count": 22,
   "id": "b91bfa3e",
   "metadata": {},
   "outputs": [],
   "source": [
    "from sqlalchemy import Table, Column, Integer, String, ForeignKey\n",
    "from sqlalchemy.orm import relationship\n",
    "class User(Base):\n",
    "    __tablename__ = 'user_account'\n",
    "    id = Column(Integer, primary_key=True)\n",
    "    name = Column(String(30))\n",
    "    fullname = Column(String)\n",
    "    addresses = relationship(\"Address\", back_populates=\"user\")\n",
    "    def __repr__(self):\n",
    "        return f\"User(id={self.id!r}, name={self.name!r}, fullname={self.fullname!r})\"\n",
    "\n",
    "class Address(Base):\n",
    "    __tablename__ = 'address'\n",
    "    id = Column(Integer, primary_key=True)\n",
    "    email_address = Column(String, nullable=False)\n",
    "    user_id = Column(Integer, ForeignKey('user_account.id'))\n",
    "    user = relationship(\"User\", back_populates=\"addresses\")\n",
    "    def __repr__(self):\n",
    "        return f\"Address(id={self.id!r}, email_address={self.email_address!r})\""
   ]
  },
  {
   "cell_type": "markdown",
   "id": "90d9de84",
   "metadata": {},
   "source": [
    "Вышеупомянутые два класса теперь являются нашими сопоставленными классами и доступны для использования в операциях запросов, которые будут описаны позже. Но они также включают в себя объекты Table, которые были сгенерированы как часть процесса декларативного сопоставления и эквивалентны тем, которые мы объявили непосредственно в предыдущем разделе Core. Мы можем увидеть эти объекты Table из декларативного сопоставленного класса, используя атрибут `.__table__`:"
   ]
  },
  {
   "cell_type": "code",
   "execution_count": 23,
   "id": "ae680b70",
   "metadata": {},
   "outputs": [
    {
     "data": {
      "text/plain": [
       "Table('user_account', MetaData(), Column('id', Integer(), table=<user_account>, primary_key=True, nullable=False), Column('name', String(length=30), table=<user_account>), Column('fullname', String(), table=<user_account>), schema=None)"
      ]
     },
     "execution_count": 23,
     "metadata": {},
     "output_type": "execute_result"
    }
   ],
   "source": [
    "User.__table__"
   ]
  },
  {
   "cell_type": "markdown",
   "id": "2a1d29ac",
   "metadata": {},
   "source": [
    "Объект *Table* был сгенерирован в результате декларативного процесса на основе атрибута `.__tablename__`, определенного для каждого из наших классов, а также посредством использования объектов *Column*, назначенных атрибутам внутри классов. Эти объекты *Column* обычно объявляются без явного поля «имя» внутри конструктора, так как декларативный процесс присвоит имя автоматически на основе имени используемого атрибута.\n",
    "\n",
    "<p style=\"font-size:120%\">Другие сведения о сопоставленном классе</p>\n",
    "\n",
    "Обратим внимание на следующие атрибуты:\n",
    "\n",
    "Классы имеют автоматически сгенерированный метод `__init__()`, которые позволяют осуществлять параметризованное построение объектов. Мы можем также создать собственный метод `__init__()`.  `__init__()` позволяет нам создавать объекты и адреса, передавая имена атрибутов, большинство из которых связаны непосредственно с объектами *Column*, как имена параметров:"
   ]
  },
  {
   "cell_type": "code",
   "execution_count": 24,
   "id": "e115559e",
   "metadata": {},
   "outputs": [],
   "source": [
    "sandy = User(name=\"sandy\", fullname=\"Sandy Cheeks\")"
   ]
  },
  {
   "cell_type": "markdown",
   "id": "ec226358",
   "metadata": {},
   "source": [
    "метод `__repr__()` необязателен и предназначен лишь для того, чтобы наши пользовательские классы имели описательное строковое представление:"
   ]
  },
  {
   "cell_type": "code",
   "execution_count": 25,
   "id": "9d53530e",
   "metadata": {},
   "outputs": [
    {
     "data": {
      "text/plain": [
       "User(id=None, name='sandy', fullname='Sandy Cheeks')"
      ]
     },
     "execution_count": 25,
     "metadata": {},
     "output_type": "execute_result"
    }
   ],
   "source": [
    "sandy"
   ]
  },
  {
   "cell_type": "markdown",
   "id": "61726cd5",
   "metadata": {},
   "source": [
    "Отметим, что атрибут *id* автоматически возвращает *None*, а не вызывает *AttributeError*, как этого можно было бы ожидать в Python.\n",
    "\n",
    "Мы также включили двунаправленное отношение — это еще одна полностью необязательная конструкция,  называемая *relationship()* для обоих классов, которая указывает ORM, что классы *User* и *Address* ссылаются друг на друга в соотношении один ко многим.\n",
    "\n",
    "<p style=\"font-size:150%\">Отправка DDL в базу данных</p>\n",
    "\n",
    "Выполнение команды DDL с сопоставленными классами ORM ничем не отличается от аналогичного действия с помощью интерейса Core. Если бы мы хотели выполнить команды DDL для объектов *Table*, которые мы создали как часть наших декларативно сопоставленных классов, мы по-прежнему могли бы использовать `MetaData.create_all()`.\n",
    "\n",
    "В нашем случае мы уже создали в базе данных таблицы пользователей и адресов. Если бы мы этого еще не сделали, мы могли бы свободно использовать метаданные, связанные с нашим реестром, и декларативный базовый класс ORM, чтобы сделать это, используя `MetaData.create_all()`:\n",
    "\n",
    "```\n",
    "# выполнение команды CREATE statements с конкретным реестром ORM\n",
    "mapper_registry.metadata.create_all(engine)\n",
    "Base.metadata.create_all(engine)\n",
    "```"
   ]
  },
  {
   "cell_type": "markdown",
   "id": "c6f485b4",
   "metadata": {},
   "source": [
    "<p style=\"font-size:150%\">Совместное использование интерфейсов Core и ORM Declarative</p>\n",
    "\n",
    "В качестве альтернативного подхода к процессу сопоставления, показанному ранее в разделе «Объявление сопоставленных классов», мы также можем использовать объекты таблиц, которые мы создали непосредственно в разделе «Создание метаданных таблиц», в сочетании с декларативными сопоставленными классами из сгенерированного `declarative_base()` базового класса.\n",
    "\n",
    "Такой подход называют гибридным, и он состоит в прямом назначении атрибута `.__table__`, а не в декларативном процессе:\n",
    "\n",
    "```\n",
    "mapper_registry = registry()\n",
    "Base = mapper_registry.generate_base()\n",
    "\n",
    "class User(Base):\n",
    "    __table__ = user_table\n",
    "\n",
    "    addresses = relationship(\"Address\", back_populates=\"user\")\n",
    "\n",
    "    def __repr__(self):\n",
    "        return f\"User({self.name!r}, {self.fullname!r})\"\n",
    "\n",
    "class Address(Base):\n",
    "    __table__ = address_table\n",
    "\n",
    "    user = relationship(\"User\", back_populates=\"addresses\")\n",
    "\n",
    "    def __repr__(self):\n",
    "        return f\"Address({self.email_address!r})\"\n",
    "```\n",
    "\n",
    "Эти два класса эквивалентны классам, созданным в прдыдущем примере раздела \"Объявление сопоставленных классов\"."
   ]
  },
  {
   "cell_type": "markdown",
   "id": "13725f81",
   "metadata": {},
   "source": [
    "<p style=\"font-size:150%\">Отображение таблиц</p>\n",
    "\n",
    "Отображение таблицы относится к процессу чтения текущего состояния базы данных. В предыдущих разделах мы объявляли табличные объекты в Python, а затем отправляли команды DDL в базу данных. Процесс отображения делает это в обратном порядке.\n",
    "\n",
    "В качестве примера отражения создадим новый объект таблицы, отображающий таблицу *some_table*, которую мы создали вручную в более ранних разделах этого документа. Используем конструктор таблицы, укажем имя таблицы и объект метаданных, к которым она будет принадлежать. Затем, вместо того, чтобы создавать столбцы и ограничения, передадим в конструктор целевой движок с помощью параметра `Table.autoload_with`:"
   ]
  },
  {
   "cell_type": "code",
   "execution_count": 26,
   "id": "7a51e29b",
   "metadata": {},
   "outputs": [
    {
     "name": "stdout",
     "output_type": "stream",
     "text": [
      "2022-04-21 10:41:17,190 INFO sqlalchemy.engine.Engine BEGIN (implicit)\n",
      "2022-04-21 10:41:17,191 INFO sqlalchemy.engine.Engine PRAGMA main.table_xinfo(\"some_table\")\n",
      "2022-04-21 10:41:17,191 INFO sqlalchemy.engine.Engine [raw sql] ()\n",
      "2022-04-21 10:41:17,193 INFO sqlalchemy.engine.Engine SELECT sql FROM  (SELECT * FROM sqlite_master UNION ALL   SELECT * FROM sqlite_temp_master) WHERE name = ? AND type = 'table'\n",
      "2022-04-21 10:41:17,193 INFO sqlalchemy.engine.Engine [raw sql] ('some_table',)\n",
      "2022-04-21 10:41:17,195 INFO sqlalchemy.engine.Engine PRAGMA main.foreign_key_list(\"some_table\")\n",
      "2022-04-21 10:41:17,195 INFO sqlalchemy.engine.Engine [raw sql] ()\n",
      "2022-04-21 10:41:17,196 INFO sqlalchemy.engine.Engine PRAGMA temp.foreign_key_list(\"some_table\")\n",
      "2022-04-21 10:41:17,197 INFO sqlalchemy.engine.Engine [raw sql] ()\n",
      "2022-04-21 10:41:17,198 INFO sqlalchemy.engine.Engine SELECT sql FROM  (SELECT * FROM sqlite_master UNION ALL   SELECT * FROM sqlite_temp_master) WHERE name = ? AND type = 'table'\n",
      "2022-04-21 10:41:17,199 INFO sqlalchemy.engine.Engine [raw sql] ('some_table',)\n",
      "2022-04-21 10:41:17,200 INFO sqlalchemy.engine.Engine PRAGMA main.index_list(\"some_table\")\n",
      "2022-04-21 10:41:17,201 INFO sqlalchemy.engine.Engine [raw sql] ()\n",
      "2022-04-21 10:41:17,202 INFO sqlalchemy.engine.Engine PRAGMA temp.index_list(\"some_table\")\n",
      "2022-04-21 10:41:17,202 INFO sqlalchemy.engine.Engine [raw sql] ()\n",
      "2022-04-21 10:41:17,203 INFO sqlalchemy.engine.Engine PRAGMA main.index_list(\"some_table\")\n",
      "2022-04-21 10:41:17,204 INFO sqlalchemy.engine.Engine [raw sql] ()\n",
      "2022-04-21 10:41:17,204 INFO sqlalchemy.engine.Engine PRAGMA temp.index_list(\"some_table\")\n",
      "2022-04-21 10:41:17,205 INFO sqlalchemy.engine.Engine [raw sql] ()\n",
      "2022-04-21 10:41:17,205 INFO sqlalchemy.engine.Engine SELECT sql FROM  (SELECT * FROM sqlite_master UNION ALL   SELECT * FROM sqlite_temp_master) WHERE name = ? AND type = 'table'\n",
      "2022-04-21 10:41:17,206 INFO sqlalchemy.engine.Engine [raw sql] ('some_table',)\n",
      "2022-04-21 10:41:17,208 INFO sqlalchemy.engine.Engine ROLLBACK\n"
     ]
    }
   ],
   "source": [
    "some_table = Table(\"some_table\", metadata_obj, autoload_with=engine)"
   ]
  },
  {
   "cell_type": "markdown",
   "id": "23334035",
   "metadata": {},
   "source": [
    "По завершении этого процесса объект *some_table* содержит информацию о столбцах этой таблицы. Теперь этот объект можно использовать также как и другие таблицы, объявленные явно:"
   ]
  },
  {
   "cell_type": "code",
   "execution_count": 27,
   "id": "a5271b7c",
   "metadata": {},
   "outputs": [
    {
     "data": {
      "text/plain": [
       "Table('some_table', MetaData(), Column('x', INTEGER(), table=<some_table>), Column('y', INTEGER(), table=<some_table>), schema=None)"
      ]
     },
     "execution_count": 27,
     "metadata": {},
     "output_type": "execute_result"
    }
   ],
   "source": [
    "some_table"
   ]
  },
  {
   "cell_type": "markdown",
   "id": "5d75d742",
   "metadata": {},
   "source": [
    "Более подробно об отображении таблиц в <a href=\"https://docs.sqlalchemy.org/en/14/core/reflection.html\">документации</a>.\n",
    "\n",
    "[К оглавлению](#Home)\n",
    "\n",
    "<a id=4></a>\n",
    "\n",
    "# 4. Работа с данными: INSERT, UPDATE, DELETE, SELECT\n",
    "\n",
    "<p style=\"font-size:150%; font-weight:bold\">4.1. Вставка с помощью Core</p>\n",
    "\n",
    "Для вставки строк с помощью интерфейса Core используем функцию *insert()*."
   ]
  },
  {
   "cell_type": "code",
   "execution_count": 28,
   "id": "2d2c491d",
   "metadata": {},
   "outputs": [],
   "source": [
    "from sqlalchemy import insert\n",
    "stmt = insert(user_table).values(name='vivaldi', fullname='Antonio Vivaldi')"
   ]
  },
  {
   "cell_type": "markdown",
   "id": "98da3955",
   "metadata": {},
   "source": [
    "Это SQL-выражение можно представить в текстовом виде:"
   ]
  },
  {
   "cell_type": "code",
   "execution_count": 29,
   "id": "96bfc1d7",
   "metadata": {},
   "outputs": [
    {
     "name": "stdout",
     "output_type": "stream",
     "text": [
      "INSERT INTO user_account (name, fullname) VALUES (:name, :fullname)\n"
     ]
    }
   ],
   "source": [
    "print(stmt)"
   ]
  },
  {
   "cell_type": "markdown",
   "id": "be6cf5aa",
   "metadata": {},
   "source": [
    "Метод <a href=\"https://docs.sqlalchemy.org/en/14/core/foundation.html#sqlalchemy.sql.expression.ClauseElement.compile\">ClauseElement.compile()</a> возвращает компилированный объект. Если применить его к объекту SQL-выражения, получим"
   ]
  },
  {
   "cell_type": "code",
   "execution_count": 30,
   "id": "77cff405",
   "metadata": {},
   "outputs": [
    {
     "data": {
      "text/plain": [
       "<sqlalchemy.sql.compiler.StrSQLCompiler at 0x1d7b7c39af0>"
      ]
     },
     "execution_count": 30,
     "metadata": {},
     "output_type": "execute_result"
    }
   ],
   "source": [
    "stmt.compile()"
   ]
  },
  {
   "cell_type": "markdown",
   "id": "7695187d",
   "metadata": {},
   "source": [
    "Функция *str()* возвращает текстовое представление объекта."
   ]
  },
  {
   "cell_type": "code",
   "execution_count": 31,
   "id": "a887a222",
   "metadata": {},
   "outputs": [
    {
     "data": {
      "text/plain": [
       "'INSERT INTO user_account (name, fullname) VALUES (:name, :fullname)'"
      ]
     },
     "execution_count": 31,
     "metadata": {},
     "output_type": "execute_result"
    }
   ],
   "source": [
    "str(stmt.compile())"
   ]
  },
  {
   "cell_type": "markdown",
   "id": "e4119112",
   "metadata": {},
   "source": [
    "Свойство *params* показывает значение параметров SQL-выражения."
   ]
  },
  {
   "cell_type": "code",
   "execution_count": 32,
   "id": "1a6b2169",
   "metadata": {},
   "outputs": [
    {
     "data": {
      "text/plain": [
       "{'name': 'vivaldi', 'fullname': 'Antonio Vivaldi'}"
      ]
     },
     "execution_count": 32,
     "metadata": {},
     "output_type": "execute_result"
    }
   ],
   "source": [
    "stmt.compile().params"
   ]
  },
  {
   "cell_type": "markdown",
   "id": "eedec2a6",
   "metadata": {},
   "source": [
    "Выполним SQL-выражение."
   ]
  },
  {
   "cell_type": "code",
   "execution_count": 33,
   "id": "483ca5da",
   "metadata": {
    "scrolled": true
   },
   "outputs": [
    {
     "name": "stdout",
     "output_type": "stream",
     "text": [
      "2022-04-21 10:42:07,156 INFO sqlalchemy.engine.Engine BEGIN (implicit)\n",
      "2022-04-21 10:42:07,157 INFO sqlalchemy.engine.Engine INSERT INTO user_account (name, fullname) VALUES (?, ?)\n",
      "2022-04-21 10:42:07,158 INFO sqlalchemy.engine.Engine [generated in 0.00157s] ('vivaldi', 'Antonio Vivaldi')\n",
      "2022-04-21 10:42:07,159 INFO sqlalchemy.engine.Engine COMMIT\n"
     ]
    }
   ],
   "source": [
    "with engine.connect() as conn:\n",
    "    result = conn.execute(stmt)\n",
    "    conn.commit()"
   ]
  },
  {
   "cell_type": "markdown",
   "id": "f9aa151a",
   "metadata": {},
   "source": [
    "В приведенной выше простой форме оператор INSERT возвращает целочисленное значение первичного ключа, которое мы можем получить с помощью метода доступа CursorResult.inserted_primary_key:"
   ]
  },
  {
   "cell_type": "code",
   "execution_count": 34,
   "id": "0b20033d",
   "metadata": {},
   "outputs": [
    {
     "data": {
      "text/plain": [
       "(1,)"
      ]
     },
     "execution_count": 34,
     "metadata": {},
     "output_type": "execute_result"
    }
   ],
   "source": [
    "result.inserted_primary_key"
   ]
  },
  {
   "cell_type": "markdown",
   "id": "63646b31",
   "metadata": {},
   "source": [
    "Полученное значение является кортежем, так как в общем случае первичный ключ может состоять из более чем одного атрибута. Начиная с версии 1.4.8 возвращаемый с помощью *inserted_primary_key* кортеж является именованным, представляет собой объект типа строки *Row*:"
   ]
  },
  {
   "cell_type": "code",
   "execution_count": 35,
   "id": "4f08f516",
   "metadata": {},
   "outputs": [
    {
     "name": "stdout",
     "output_type": "stream",
     "text": [
      "{'id': 1}\n"
     ]
    }
   ],
   "source": [
    "row = result.inserted_primary_key\n",
    "print(row._mapping)"
   ]
  },
  {
   "cell_type": "markdown",
   "id": "2590f6c5",
   "metadata": {},
   "source": [
    "В приведенном выше примере использовался метод `Insert.values()` для явного создания предложения VALUES инструкции SQL INSERT. На самом деле у этого метода есть несколько вариантов, которые допускают специальные формы, такие как несколько строк в одном выражении и вставка выражений SQL. Однако обычный способ использования Insert заключается в том, что предложение VALUES генерируется автоматически из параметров, переданных методу Connection.execute(); ниже мы вставляем еще две строки, чтобы проиллюстрировать это:"
   ]
  },
  {
   "cell_type": "code",
   "execution_count": 36,
   "id": "fa0c0a6e",
   "metadata": {},
   "outputs": [
    {
     "name": "stdout",
     "output_type": "stream",
     "text": [
      "2022-04-21 10:42:21,077 INFO sqlalchemy.engine.Engine BEGIN (implicit)\n",
      "2022-04-21 10:42:21,078 INFO sqlalchemy.engine.Engine INSERT INTO user_account (name, fullname) VALUES (?, ?)\n",
      "2022-04-21 10:42:21,078 INFO sqlalchemy.engine.Engine [generated in 0.00150s] (('colonel', 'Harland David Sanders'), ('bond', 'James Bond'))\n",
      "2022-04-21 10:42:21,079 INFO sqlalchemy.engine.Engine COMMIT\n"
     ]
    }
   ],
   "source": [
    "with engine.connect() as conn:\n",
    "    result = conn.execute(\n",
    "        insert(user_table),\n",
    "        [\n",
    "            {\"name\": \"colonel\", \"fullname\": \"Harland David Sanders\"},\n",
    "            {\"name\": \"bond\", \"fullname\": \"James Bond\"}\n",
    "        ]\n",
    "    )\n",
    "    conn.commit()"
   ]
  },
  {
   "cell_type": "markdown",
   "id": "2fa972cd",
   "metadata": {},
   "source": [
    "Этот код имеет форму «executemany», ранее использованную нами в подразделе «Отправка нескольких параметров» с помощью конструкции *text()*, однако, теперь нам не потребовалось создавать команду SQL в текстовом виде. Передавая словарь или список словарей в метод `Connection.execute()` в сочетании с конструкцией *Insert*, *Connection* гарантирует, что передаваемые имена столбцов будут автоматически выражены в предложении *VALUES* команды *Insert*."
   ]
  },
  {
   "cell_type": "markdown",
   "id": "655aad33",
   "metadata": {},
   "source": [
    "<p style=\"font-size:150%\">INSERT…FROM SELECT</p>\n",
    "\n",
    "Конструкция *Insert* может составлять SQL-выражение, в котором команда INSERT получает строки непосредственно из SELECT с помощью метода `Insert.from_select()`:"
   ]
  },
  {
   "cell_type": "code",
   "execution_count": 37,
   "id": "f8bcdbbc",
   "metadata": {},
   "outputs": [
    {
     "name": "stdout",
     "output_type": "stream",
     "text": [
      "INSERT INTO address (user_id, email_address) SELECT user_account.id, user_account.name || :name_1 AS anon_1 \n",
      "FROM user_account\n"
     ]
    }
   ],
   "source": [
    "from sqlalchemy import select\n",
    "\n",
    "select_stmt = select(user_table.c.id, user_table.c.name + \"@aol.com\") # Получаем строки таблицы user_account\n",
    "\n",
    "# Вставляем в таблицу address\n",
    "insert_stmt = insert(address_table).from_select(\n",
    "    [\"user_id\", \"email_address\"], select_stmt\n",
    ")\n",
    "print(insert_stmt)"
   ]
  },
  {
   "cell_type": "code",
   "execution_count": 38,
   "id": "cd2abdd3",
   "metadata": {},
   "outputs": [
    {
     "name": "stdout",
     "output_type": "stream",
     "text": [
      "2022-04-21 10:42:27,077 INFO sqlalchemy.engine.Engine BEGIN (implicit)\n",
      "2022-04-21 10:42:27,078 INFO sqlalchemy.engine.Engine INSERT INTO address (user_id, email_address) SELECT user_account.id, user_account.name || ? AS anon_1 \n",
      "FROM user_account\n",
      "2022-04-21 10:42:27,079 INFO sqlalchemy.engine.Engine [generated in 0.00157s] ('@aol.com',)\n",
      "2022-04-21 10:42:27,080 INFO sqlalchemy.engine.Engine COMMIT\n"
     ]
    }
   ],
   "source": [
    "with engine.connect() as conn:\n",
    "    result = conn.execute(insert_stmt)\n",
    "    conn.commit()"
   ]
  },
  {
   "cell_type": "markdown",
   "id": "38a4abd3",
   "metadata": {},
   "source": [
    "<p style=\"font-size:150%\">INSERT…RETURNING</p>\n",
    "\n",
    "Предложение RETURNING для поддерживаемых серверов БД используется автоматически для извлечения последнего вставленного значения первичного ключа, а также значений по умолчанию для сервера. Однако предложение RETURNING также может быть указано явно с помощью метода `Insert.returning()`, в этом случае объект Result содержит возвращаемые значения:"
   ]
  },
  {
   "cell_type": "code",
   "execution_count": 39,
   "id": "0a4ba4eb",
   "metadata": {},
   "outputs": [
    {
     "name": "stdout",
     "output_type": "stream",
     "text": [
      "INSERT INTO address (id, user_id, email_address) VALUES (:id, :user_id, :email_address) RETURNING address.id, address.email_address\n"
     ]
    }
   ],
   "source": [
    "insert_stmt = insert(address_table).returning(address_table.c.id, address_table.c.email_address)\n",
    "print(insert_stmt)"
   ]
  },
  {
   "cell_type": "markdown",
   "id": "e625d898",
   "metadata": {},
   "source": [
    "Предложение RETURNING можно комбинировать с FROM SELECT"
   ]
  },
  {
   "cell_type": "code",
   "execution_count": 40,
   "id": "6effd776",
   "metadata": {},
   "outputs": [
    {
     "name": "stdout",
     "output_type": "stream",
     "text": [
      "INSERT INTO address (user_id, email_address) SELECT user_account.id, user_account.name || :name_1 AS anon_1 \n",
      "FROM user_account RETURNING address.id, address.email_address\n"
     ]
    }
   ],
   "source": [
    "select_stmt = select(user_table.c.id, user_table.c.name + \"@aol.com\")\n",
    "insert_stmt = insert(address_table).from_select(\n",
    "    [\"user_id\", \"email_address\"], select_stmt\n",
    ")\n",
    "print(insert_stmt.returning(address_table.c.id, address_table.c.email_address))"
   ]
  },
  {
   "cell_type": "markdown",
   "id": "c778c244",
   "metadata": {},
   "source": [
    "<p style=\"font-size:150%; font-weight:bold\">4.2. Селекция строк с помощью Core или ORM</p>\n",
    "\n",
    "И для Core, и для ORM функция select() генерирует конструкцию Select, которая используется для всех запросов SELECT. Передаваемый таким методам, как Connection.execute() в Core и `Session.execute()` в ORM, оператор SELECT выполняется в текущей транзакции, а строки результатов доступны через возвращаемый объект Result.\n",
    "\n",
    "Функция *select()* позволяет создать SQL-выражение аналогично тому, как это было рассмотрено выше для функции *insert()*."
   ]
  },
  {
   "cell_type": "code",
   "execution_count": 41,
   "id": "36bd5533",
   "metadata": {},
   "outputs": [
    {
     "name": "stdout",
     "output_type": "stream",
     "text": [
      "SELECT user_account.id, user_account.name, user_account.fullname \n",
      "FROM user_account \n",
      "WHERE user_account.name = :name_1\n"
     ]
    }
   ],
   "source": [
    "from sqlalchemy import select\n",
    "stmt = select(user_table).where(user_table.c.name == 'colonel')\n",
    "print(stmt)"
   ]
  },
  {
   "cell_type": "markdown",
   "id": "2f3b66ae",
   "metadata": {},
   "source": [
    "Для выполнения выполнения SQL-выражения мы передаём его в исполняемый метод. Выражение с использованием команды SELECT возвращает строки, по которым можно совершить итерацию."
   ]
  },
  {
   "cell_type": "code",
   "execution_count": 42,
   "id": "4e338a45",
   "metadata": {},
   "outputs": [
    {
     "name": "stdout",
     "output_type": "stream",
     "text": [
      "2022-04-21 10:42:43,204 INFO sqlalchemy.engine.Engine BEGIN (implicit)\n",
      "2022-04-21 10:42:43,205 INFO sqlalchemy.engine.Engine SELECT user_account.id, user_account.name, user_account.fullname \n",
      "FROM user_account \n",
      "WHERE user_account.name = ?\n",
      "2022-04-21 10:42:43,206 INFO sqlalchemy.engine.Engine [generated in 0.00144s] ('colonel',)\n",
      "(2, 'colonel', 'Harland David Sanders')\n",
      "2022-04-21 10:42:43,207 INFO sqlalchemy.engine.Engine ROLLBACK\n"
     ]
    }
   ],
   "source": [
    "with engine.connect() as conn:\n",
    "    for row in conn.execute(stmt):\n",
    "        print(row)"
   ]
  },
  {
   "cell_type": "markdown",
   "id": "0b505269",
   "metadata": {},
   "source": [
    "При использовании ORM мы выполняем команду *select()* ее с помощью метода `Session.execute()` в сеансе. Используя этот подход, мы продолжаем получать объекты Row из результата, однако эти строки теперь могут включать экземпляры класса User как отдельные элементы в каждой строке:"
   ]
  },
  {
   "cell_type": "code",
   "execution_count": 43,
   "id": "d99ef561",
   "metadata": {},
   "outputs": [
    {
     "name": "stdout",
     "output_type": "stream",
     "text": [
      "2022-04-21 10:42:46,028 INFO sqlalchemy.engine.Engine BEGIN (implicit)\n",
      "2022-04-21 10:42:46,030 INFO sqlalchemy.engine.Engine SELECT user_account.id, user_account.name, user_account.fullname \n",
      "FROM user_account \n",
      "WHERE user_account.name = ?\n",
      "2022-04-21 10:42:46,032 INFO sqlalchemy.engine.Engine [generated in 0.00110s] ('vivaldi',)\n",
      "(User(id=1, name='vivaldi', fullname='Antonio Vivaldi'),)\n",
      "2022-04-21 10:42:46,033 INFO sqlalchemy.engine.Engine ROLLBACK\n"
     ]
    }
   ],
   "source": [
    "stmt = select(User).where(User.name == 'vivaldi')\n",
    "with Session(engine) as session:\n",
    "    for row in session.execute(stmt):\n",
    "        print(row)"
   ]
  },
  {
   "cell_type": "markdown",
   "id": "d56c9c34",
   "metadata": {},
   "source": [
    "<p style=\"font-size:150%\">Определение предложений COLUMNS и FROM</p>\n",
    "\n",
    "Функция *select()* принимает позиционные элементы, представляющие любое количество выражений *Column* и/или *Table*, а также широкий спектр совместимых объектов, которые преобразуются в список SQL-выражений. Эти элементы также служат  для создания предложения FROM, которое неявно выводится из переданных столбцов и табличных выражений."
   ]
  },
  {
   "cell_type": "code",
   "execution_count": 44,
   "id": "ddf92861",
   "metadata": {},
   "outputs": [
    {
     "name": "stdout",
     "output_type": "stream",
     "text": [
      "SELECT user_account.id, user_account.name, user_account.fullname \n",
      "FROM user_account\n"
     ]
    }
   ],
   "source": [
    "print(select(user_table))"
   ]
  },
  {
   "cell_type": "markdown",
   "id": "269cc11a",
   "metadata": {},
   "source": [
    "Чтобы выбрать данные из отдельных столбцов с использованием подхода *Core*, доступ к объектам столбцов осуществляется с помощью `Table.c`. Предложение FROM будет сформировано как набор всех объектов *Table*."
   ]
  },
  {
   "cell_type": "code",
   "execution_count": 45,
   "id": "38725858",
   "metadata": {
    "scrolled": true
   },
   "outputs": [
    {
     "name": "stdout",
     "output_type": "stream",
     "text": [
      "SELECT user_account.name, user_account.fullname \n",
      "FROM user_account\n"
     ]
    }
   ],
   "source": [
    "print(select(user_table.c.name, user_table.c.fullname))"
   ]
  },
  {
   "cell_type": "markdown",
   "id": "5975d7bd",
   "metadata": {},
   "source": [
    "<p style=\"font-size:150%\">Выбор сущностей и столбцов с помощью ORM</p>\n",
    "\n",
    "Выберем атрибуты класса *User*."
   ]
  },
  {
   "cell_type": "code",
   "execution_count": 46,
   "id": "1214d4ef",
   "metadata": {
    "scrolled": true
   },
   "outputs": [
    {
     "name": "stdout",
     "output_type": "stream",
     "text": [
      "SELECT user_account.id, user_account.name, user_account.fullname \n",
      "FROM user_account\n"
     ]
    }
   ],
   "source": [
    "print(select(User))"
   ]
  },
  {
   "cell_type": "markdown",
   "id": "237ae92a",
   "metadata": {},
   "source": [
    "Далее, если выполнить это выражение с помощью метода `session.execute()`, мы получим объекты строк как \n",
    "экземпляры класса *User*."
   ]
  },
  {
   "cell_type": "code",
   "execution_count": 47,
   "id": "46020c02",
   "metadata": {},
   "outputs": [
    {
     "name": "stdout",
     "output_type": "stream",
     "text": [
      "2022-04-21 10:42:57,956 INFO sqlalchemy.engine.Engine BEGIN (implicit)\n",
      "2022-04-21 10:42:57,957 INFO sqlalchemy.engine.Engine SELECT user_account.id, user_account.name, user_account.fullname \n",
      "FROM user_account\n",
      "2022-04-21 10:42:57,958 INFO sqlalchemy.engine.Engine [generated in 0.00062s] ()\n"
     ]
    },
    {
     "data": {
      "text/plain": [
       "(User(id=1, name='vivaldi', fullname='Antonio Vivaldi'),)"
      ]
     },
     "execution_count": 47,
     "metadata": {},
     "output_type": "execute_result"
    }
   ],
   "source": [
    "row = session.execute(select(User)).first()\n",
    "row"
   ]
  },
  {
   "cell_type": "markdown",
   "id": "80a5bcdc",
   "metadata": {},
   "source": [
    "Эта строка содержит всего один элемент, представляющий сущность *User*. "
   ]
  },
  {
   "cell_type": "code",
   "execution_count": 48,
   "id": "f7254b56",
   "metadata": {},
   "outputs": [
    {
     "data": {
      "text/plain": [
       "User(id=1, name='vivaldi', fullname='Antonio Vivaldi')"
      ]
     },
     "execution_count": 48,
     "metadata": {},
     "output_type": "execute_result"
    }
   ],
   "source": [
    "row[0]"
   ]
  },
  {
   "cell_type": "markdown",
   "id": "a69e84b3",
   "metadata": {},
   "source": [
    "Вместо выбора всех столбцов, мы можем указать отдельные атрибуты класса."
   ]
  },
  {
   "cell_type": "code",
   "execution_count": 49,
   "id": "72220020",
   "metadata": {},
   "outputs": [
    {
     "name": "stdout",
     "output_type": "stream",
     "text": [
      "SELECT user_account.name, user_account.fullname \n",
      "FROM user_account\n"
     ]
    }
   ],
   "source": [
    "print(select(User.name, User.fullname))"
   ]
  },
  {
   "cell_type": "markdown",
   "id": "d7708ec7",
   "metadata": {},
   "source": [
    "Выполним выражение."
   ]
  },
  {
   "cell_type": "code",
   "execution_count": 50,
   "id": "8ba54ff5",
   "metadata": {},
   "outputs": [
    {
     "name": "stdout",
     "output_type": "stream",
     "text": [
      "2022-04-21 10:43:05,188 INFO sqlalchemy.engine.Engine SELECT user_account.name, user_account.fullname \n",
      "FROM user_account\n",
      "2022-04-21 10:43:05,189 INFO sqlalchemy.engine.Engine [generated in 0.00090s] ()\n"
     ]
    },
    {
     "data": {
      "text/plain": [
       "('vivaldi', 'Antonio Vivaldi')"
      ]
     },
     "execution_count": 50,
     "metadata": {},
     "output_type": "execute_result"
    }
   ],
   "source": [
    "row = session.execute(select(User.name, User.fullname)).first()\n",
    "row"
   ]
  },
  {
   "cell_type": "markdown",
   "id": "27771346",
   "metadata": {},
   "source": [
    "Покажем применение этой техники для выбора атрибутов из двух таблиц - пользователей и адресов."
   ]
  },
  {
   "cell_type": "code",
   "execution_count": 51,
   "id": "9d1c78e6",
   "metadata": {},
   "outputs": [
    {
     "name": "stdout",
     "output_type": "stream",
     "text": [
      "2022-04-21 10:43:07,877 INFO sqlalchemy.engine.Engine SELECT user_account.name, address.id, address.email_address, address.user_id \n",
      "FROM user_account, address \n",
      "WHERE user_account.id = address.user_id ORDER BY address.id\n",
      "2022-04-21 10:43:07,878 INFO sqlalchemy.engine.Engine [generated in 0.00092s] ()\n"
     ]
    },
    {
     "data": {
      "text/plain": [
       "[('vivaldi', Address(id=1, email_address='vivaldi@aol.com')),\n",
       " ('colonel', Address(id=2, email_address='colonel@aol.com')),\n",
       " ('bond', Address(id=3, email_address='bond@aol.com'))]"
      ]
     },
     "execution_count": 51,
     "metadata": {},
     "output_type": "execute_result"
    }
   ],
   "source": [
    "session.execute(\n",
    "    select(User.name, Address).\n",
    "    where(User.id==Address.user_id).\n",
    "    order_by(Address.id)\n",
    ").all()"
   ]
  },
  {
   "cell_type": "code",
   "execution_count": 52,
   "id": "acdc9d56",
   "metadata": {
    "scrolled": true
   },
   "outputs": [
    {
     "name": "stdout",
     "output_type": "stream",
     "text": [
      "2022-04-21 10:43:10,716 INFO sqlalchemy.engine.Engine SELECT user_account.id, user_account.name, user_account.fullname \n",
      "FROM user_account\n",
      "2022-04-21 10:43:10,717 INFO sqlalchemy.engine.Engine [cached since 12.76s ago] ()\n"
     ]
    },
    {
     "data": {
      "text/plain": [
       "[(User(id=1, name='vivaldi', fullname='Antonio Vivaldi'),),\n",
       " (User(id=2, name='colonel', fullname='Harland David Sanders'),),\n",
       " (User(id=3, name='bond', fullname='James Bond'),)]"
      ]
     },
     "execution_count": 52,
     "metadata": {},
     "output_type": "execute_result"
    }
   ],
   "source": [
    "users = session.execute(select(User)).all()\n",
    "users"
   ]
  },
  {
   "cell_type": "markdown",
   "id": "acec5fe6",
   "metadata": {},
   "source": [
    "<p style=\"font-size:150%\">Селекция с использованием метки</p>\n",
    "\n",
    "Метод `ColumnElement.label()`, а также одноименный метод, доступный для атрибутов ORM, создаёт метку столбца или SQL-выражения, позволяя ему иметь конкретное имя в результирующем наборе."
   ]
  },
  {
   "cell_type": "code",
   "execution_count": 53,
   "id": "c53a3f83",
   "metadata": {
    "scrolled": true
   },
   "outputs": [
    {
     "name": "stdout",
     "output_type": "stream",
     "text": [
      "2022-04-21 10:43:19,502 INFO sqlalchemy.engine.Engine BEGIN (implicit)\n",
      "2022-04-21 10:43:19,503 INFO sqlalchemy.engine.Engine SELECT ? || user_account.name AS username \n",
      "FROM user_account ORDER BY user_account.name\n",
      "2022-04-21 10:43:19,503 INFO sqlalchemy.engine.Engine [generated in 0.00159s] ('Username: ',)\n",
      "Username: bond\n",
      "Username: colonel\n",
      "Username: vivaldi\n",
      "2022-04-21 10:43:19,504 INFO sqlalchemy.engine.Engine ROLLBACK\n"
     ]
    }
   ],
   "source": [
    "from sqlalchemy import func, cast\n",
    "stmt = (\n",
    "    select(\n",
    "        (\"Username: \" + user_table.c.name).label(\"username\"),\n",
    "    ).order_by(user_table.c.name)\n",
    ")\n",
    "\n",
    "with engine.connect() as conn:\n",
    "    for row in conn.execute(stmt):\n",
    "        print(row.username)"
   ]
  },
  {
   "cell_type": "markdown",
   "id": "ad892dee",
   "metadata": {},
   "source": [
    "См. также: <a href=\"https://docs.sqlalchemy.org/en/14/tutorial/data_select.html#tutorial-order-by-label\">Сортировка и группировка с помощью меток</a>\n",
    "\n",
    "<p style=\"font-size:150%\">Селекция с использованием текстовых выражений</p>\n",
    "\n",
    "Когда мы создаём объект селекции *Select* с помощью функции *select()*, мы обычно передаём ей последовательность объектов таблиц и столбцов, определенных в метаданных. В ходе селекции с помощью объектно-ориентированного подхода ORM мы передаём сопоставленные атрибуты, преставляющие столбцы. Однако, некоторые части SQL-выражения, такие как строковые константы, удобнее формировать в текстовом виде. Для этого можно использовать функцию *text()*, введенную ранее. Следующий пример иллюстрирует использование текстовой константы в запросе."
   ]
  },
  {
   "cell_type": "code",
   "execution_count": 54,
   "id": "7bbacd96",
   "metadata": {},
   "outputs": [
    {
     "name": "stdout",
     "output_type": "stream",
     "text": [
      "2022-04-21 10:43:44,221 INFO sqlalchemy.engine.Engine BEGIN (implicit)\n",
      "2022-04-21 10:43:44,222 INFO sqlalchemy.engine.Engine SELECT 'username', user_account.name \n",
      "FROM user_account ORDER BY user_account.name\n",
      "2022-04-21 10:43:44,223 INFO sqlalchemy.engine.Engine [generated in 0.00143s] ()\n",
      "[('username', 'bond'), ('username', 'colonel'), ('username', 'vivaldi')]\n",
      "2022-04-21 10:43:44,224 INFO sqlalchemy.engine.Engine ROLLBACK\n"
     ]
    }
   ],
   "source": [
    "from sqlalchemy import text\n",
    "stmt = (\n",
    "    select(\n",
    "        text(\"'username'\"), user_table.c.name\n",
    "    ).order_by(user_table.c.name)\n",
    ")\n",
    "with engine.connect() as conn:\n",
    "    print(conn.execute(stmt).all())"
   ]
  },
  {
   "cell_type": "markdown",
   "id": "4baeaeb2",
   "metadata": {},
   "source": [
    "Хотя конструкция *text()* может использоваться в большинстве случаев для буквального ввода команд SQL, чаще всего мы фактически имеем дело с текстовыми единицами, каждая из которых представляет отдельное выражение столбца. В этом распространенном случае мы можем получить больше функциональности из нашего текстового фрагмента, используя вместо этого конструкцию *literal_column()*. Этот объект похож на *text()*, за исключением того, что вместо произвольного SQL-запроса в любой форме он явно представляет один «столбец», который затем может быть помечен и на него можно ссылаться в подзапросах и других выражениях:"
   ]
  },
  {
   "cell_type": "code",
   "execution_count": 55,
   "id": "b152691c",
   "metadata": {},
   "outputs": [
    {
     "name": "stdout",
     "output_type": "stream",
     "text": [
      "2022-04-21 10:43:49,445 INFO sqlalchemy.engine.Engine BEGIN (implicit)\n",
      "2022-04-21 10:43:49,446 INFO sqlalchemy.engine.Engine SELECT 'username' AS p, user_account.name AS q \n",
      "FROM user_account ORDER BY user_account.name\n",
      "2022-04-21 10:43:49,447 INFO sqlalchemy.engine.Engine [generated in 0.00166s] ()\n",
      "username, bond\n",
      "username, colonel\n",
      "username, vivaldi\n",
      "2022-04-21 10:43:49,448 INFO sqlalchemy.engine.Engine ROLLBACK\n"
     ]
    }
   ],
   "source": [
    "from sqlalchemy import literal_column\n",
    "stmt = (\n",
    "    select(\n",
    "        literal_column(\"'username'\").label(\"p\"), user_table.c.name.label(\"q\")\n",
    "    ).order_by(user_table.c.name)\n",
    ")\n",
    "with engine.connect() as conn:\n",
    "    for row in conn.execute(stmt):\n",
    "        print(f\"{row.p}, {row.q}\")"
   ]
  },
  {
   "cell_type": "markdown",
   "id": "64fa61fe",
   "metadata": {},
   "source": [
    "<p style=\"font-size:150%\">Предложение WHERE</p>\n",
    "\n",
    "Предложение WHERE позволяет устанавливать условие (предикат) на отбор строк отношения."
   ]
  },
  {
   "cell_type": "code",
   "execution_count": 56,
   "id": "ebec3ca2",
   "metadata": {},
   "outputs": [
    {
     "name": "stdout",
     "output_type": "stream",
     "text": [
      "SELECT user_account.id, user_account.name, user_account.fullname \n",
      "FROM user_account \n",
      "WHERE user_account.name = :name_1\n"
     ]
    }
   ],
   "source": [
    "clause_1 = (user_table.c.name == 'vivaldi')\n",
    "clause_2 = (address_table.c.user_id > 10)\n",
    "\n",
    "print(select(user_table).where(clause_1))"
   ]
  },
  {
   "cell_type": "markdown",
   "id": "b679905d",
   "metadata": {},
   "source": [
    "Для добавления условий, выполняющихся одновременно, метод *where()* можно повторять неограниченное число раз."
   ]
  },
  {
   "cell_type": "code",
   "execution_count": 57,
   "id": "84831fab",
   "metadata": {},
   "outputs": [
    {
     "name": "stdout",
     "output_type": "stream",
     "text": [
      "SELECT address.email_address \n",
      "FROM address, user_account \n",
      "WHERE user_account.name = :name_1 AND address.user_id = user_account.id\n"
     ]
    }
   ],
   "source": [
    "print(\n",
    "    select(address_table.c.email_address).\n",
    "    where(user_table.c.name == 'vivaldi').\n",
    "    where(address_table.c.user_id == user_table.c.id)\n",
    ")"
   ]
  },
  {
   "cell_type": "markdown",
   "id": "36d21ee8",
   "metadata": {},
   "source": [
    "Также, один метод *where()* может содержать множество условий."
   ]
  },
  {
   "cell_type": "code",
   "execution_count": 58,
   "id": "3cd53b40",
   "metadata": {},
   "outputs": [
    {
     "name": "stdout",
     "output_type": "stream",
     "text": [
      "SELECT address.email_address \n",
      "FROM address, user_account \n",
      "WHERE user_account.name = :name_1 AND address.user_id = user_account.id\n"
     ]
    }
   ],
   "source": [
    "print(\n",
    "    select(address_table.c.email_address).\n",
    "    where(\n",
    "         user_table.c.name == 'vivaldi',\n",
    "         address_table.c.user_id == user_table.c.id\n",
    "    )\n",
    ")"
   ]
  },
  {
   "cell_type": "markdown",
   "id": "18619261",
   "metadata": {},
   "source": [
    "Логическое сложение OR и умножение AND можно применить, если использовать <a href=\"https://docs.sqlalchemy.org/en/14/core/sqlelement.html#sqlalchemy.sql.expression\"> функции </a> *or_()* и *and_()*."
   ]
  },
  {
   "cell_type": "code",
   "execution_count": 59,
   "id": "a5923ce5",
   "metadata": {},
   "outputs": [
    {
     "name": "stdout",
     "output_type": "stream",
     "text": [
      "SELECT address.email_address \n",
      "FROM address, user_account \n",
      "WHERE (user_account.name = :name_1 OR user_account.name = :name_2) AND address.user_id = user_account.id\n"
     ]
    }
   ],
   "source": [
    "# Получить почтовые адреса пользователей с именами vivaldin и bond.\n",
    "from sqlalchemy import and_, or_\n",
    "print(\n",
    "    select(Address.email_address).\n",
    "    where(\n",
    "        and_(\n",
    "            or_(User.name == 'vivaldi', User.name == 'bond'),\n",
    "            Address.user_id == User.id\n",
    "        )\n",
    "    )\n",
    ")"
   ]
  },
  {
   "cell_type": "markdown",
   "id": "d34b4121",
   "metadata": {},
   "source": [
    "Для простых сравнений «на равенство» с одним объектом также есть популярный метод, известный как Select.filter_by(), который принимает аргументы ключевого слова, соответствующие ключам столбцов или именам атрибутов ORM."
   ]
  },
  {
   "cell_type": "code",
   "execution_count": null,
   "id": "8fed981e",
   "metadata": {},
   "outputs": [],
   "source": [
    "print(\n",
    "    select(User).filter_by(name='vivaldi', fullname='Antonio Vivaldi')\n",
    ")"
   ]
  },
  {
   "cell_type": "markdown",
   "id": "439e5b19",
   "metadata": {},
   "source": [
    "См. также: <a href=\"https://docs.sqlalchemy.org/en/14/core/operators.html\">использовнаие операторов в SQLAlchemy</a>\n",
    "\n",
    "<p style=\"font-size:150%\">Предложение FROM в явном виде и соединение JOIN</p>\n",
    "\n",
    "Как мы видели ранее, предложение FROM обычно выводится на основе выражений, которые мы устанавливаем в предложении столбцов, а также других элементов Select. То есть, если мы устанавливаем один столбец из определенной таблицы в предложении COLUMNS, то эта таблица помещается в предложение FROM:"
   ]
  },
  {
   "cell_type": "code",
   "execution_count": 60,
   "id": "51947e6e",
   "metadata": {},
   "outputs": [
    {
     "name": "stdout",
     "output_type": "stream",
     "text": [
      "SELECT user_account.name \n",
      "FROM user_account\n"
     ]
    }
   ],
   "source": [
    "print(select(user_table.c.name))"
   ]
  },
  {
   "cell_type": "markdown",
   "id": "aec30b4e",
   "metadata": {},
   "source": [
    "Так же происходит, когда мы отбираем данные из столбцов, принадлежащих разным таблицам."
   ]
  },
  {
   "cell_type": "code",
   "execution_count": 61,
   "id": "0b71df25",
   "metadata": {},
   "outputs": [
    {
     "name": "stdout",
     "output_type": "stream",
     "text": [
      "SELECT user_account.name, address.email_address \n",
      "FROM user_account, address\n"
     ]
    }
   ],
   "source": [
    "print(select(user_table.c.name, address_table.c.email_address))"
   ]
  },
  {
   "cell_type": "markdown",
   "id": "5fa84fd6",
   "metadata": {},
   "source": [
    "Чтобы СОЕДИНИТЬ эти две таблицы вместе, мы обычно используем один из двух методов в Select. Первый — это метод `Select.join_from()`, который позволяет нам явно указать левую и правую стороны JOIN:"
   ]
  },
  {
   "cell_type": "code",
   "execution_count": 62,
   "id": "53ab43a1",
   "metadata": {},
   "outputs": [
    {
     "name": "stdout",
     "output_type": "stream",
     "text": [
      "SELECT user_account.name, address.email_address \n",
      "FROM user_account JOIN address ON user_account.id = address.user_id\n"
     ]
    }
   ],
   "source": [
    "print(\n",
    "    select(user_table.c.name, address_table.c.email_address).\n",
    "    join_from(user_table, address_table)\n",
    ")"
   ]
  },
  {
   "cell_type": "markdown",
   "id": "895cd8c3",
   "metadata": {},
   "source": [
    "Другим является метод `Select.join()`, который указывает только правую часть JOIN, левая сторона выводится неявно:"
   ]
  },
  {
   "cell_type": "code",
   "execution_count": 63,
   "id": "b68265b4",
   "metadata": {},
   "outputs": [
    {
     "name": "stdout",
     "output_type": "stream",
     "text": [
      "SELECT user_account.name, address.email_address \n",
      "FROM user_account JOIN address ON user_account.id = address.user_id\n"
     ]
    }
   ],
   "source": [
    "print(\n",
    "    select(user_table.c.name, address_table.c.email_address).\n",
    "    join(address_table)\n",
    ")"
   ]
  },
  {
   "cell_type": "markdown",
   "id": "41666c0c",
   "metadata": {},
   "source": [
    "В этих примерах условие соединения ON сформировано неявно. Однако, его можно указывать в явном виде.\n",
    "\n",
    "У нас также есть возможность явно добавлять элементы в предложение FROM. Для этого в следующем примере мы используем метод `Select.select_from()` чтобы указать первую таблицу соединения *user_account* и далее `Select.join()`."
   ]
  },
  {
   "cell_type": "code",
   "execution_count": 64,
   "id": "f9f71249",
   "metadata": {},
   "outputs": [
    {
     "name": "stdout",
     "output_type": "stream",
     "text": [
      "SELECT address.email_address \n",
      "FROM user_account JOIN address ON user_account.id = address.user_id\n"
     ]
    }
   ],
   "source": [
    "print(\n",
    "    select(address_table.c.email_address).\n",
    "    select_from(user_table).join(address_table)\n",
    ")"
   ]
  },
  {
   "cell_type": "markdown",
   "id": "94fa0300",
   "metadata": {},
   "source": [
    "Другой пример, когда может понадобиться использование метода *select_from()* - недостаток информации об используемых таблицах."
   ]
  },
  {
   "cell_type": "code",
   "execution_count": 65,
   "id": "7f44b9ad",
   "metadata": {},
   "outputs": [
    {
     "name": "stdout",
     "output_type": "stream",
     "text": [
      "SELECT count(:count_2) AS count_1 \n",
      "FROM user_account\n"
     ]
    }
   ],
   "source": [
    "from sqlalchemy import func\n",
    "print (\n",
    "    select(func.count('*')).select_from(user_table)\n",
    ")"
   ]
  },
  {
   "cell_type": "markdown",
   "id": "539f1580",
   "metadata": {},
   "source": [
    "Больше примеров в <a href=\"https://docs.sqlalchemy.org/en/14/orm/queryguide.html\">ORM Querying Guide</a>\n",
    "\n",
    "<p style=\"font-size:150%\">Формирование условия соединения</p>\n",
    "\n",
    "Предыдущие примеры использования соединения JOIN показали, что конструкция Select может соединять две таблицы и автоматически создавать предложение ON. Так происходило, потому что таблица *address* содержит ограничение ForeignKeyConstraint, которое обеспечивает ссылку на таблицу *user_account*.\n",
    "\n",
    "Если левая и правая стороны соединения не имеют такого ограничения или есть несколько ограничений, нам нужно указать предложение ON напрямую. В этом случае `Select.join()`, и `Select.join_from()` принимают дополнительный аргумент для предложения ON, который задается с использованием той же механики SQL-выражения, что мы видели в предложении WHERE:"
   ]
  },
  {
   "cell_type": "code",
   "execution_count": 66,
   "id": "20320103",
   "metadata": {},
   "outputs": [
    {
     "name": "stdout",
     "output_type": "stream",
     "text": [
      "SELECT address.email_address \n",
      "FROM user_account JOIN address ON user_account.id = address.user_id\n"
     ]
    }
   ],
   "source": [
    "print(\n",
    "    select(address_table.c.email_address).\n",
    "    select_from(user_table).\n",
    "    join(address_table, user_table.c.id == address_table.c.user_id)\n",
    ")"
   ]
  },
  {
   "cell_type": "markdown",
   "id": "808e1713",
   "metadata": {},
   "source": [
    "<p style=\"font-size:150%\">Внешнее и полное соединения</p>\n",
    "\n",
    "Оба метода `Select.join()` и `Select.join_from()` принимают аргументы ключевых слов `Select.join.isouter` и `Select.join.full`, которые позволяют создавать предложения левого внешнего LEFT OUTER JOIN и полного FULL OUTER JOIN соединений:"
   ]
  },
  {
   "cell_type": "code",
   "execution_count": null,
   "id": "96fe20db",
   "metadata": {},
   "outputs": [],
   "source": [
    "print(\n",
    "    select(user_table).join(address_table, isouter=True)\n",
    ")\n",
    "\n",
    "\n",
    "print(\n",
    "    select(user_table).join(address_table, full=True)\n",
    ")"
   ]
  },
  {
   "cell_type": "markdown",
   "id": "b5bafa0e",
   "metadata": {},
   "source": [
    "Существует также метод `Select.outerjoin()`, эквивалентный использованию `.join(..., isouter=True)`.\n",
    "\n",
    "<Table align=\"left\">\n",
    "    <tr><td bgcolor=#adb5bd></td>\n",
    "        <td style=\"text-align:left; font-size:10pt\">\n",
    "Примечание.\n",
    "\n",
    "SQLAlchemy не поддерживает команду RIGHT OUTER JOIN. Вместо этого поменяйте местами таблицы и используйте LEFT OUTER JOIN.\n",
    "        </td></tr>\n",
    "</Table>"
   ]
  }
 ],
 "metadata": {
  "kernelspec": {
   "display_name": "Python 3 (ipykernel)",
   "language": "python",
   "name": "python3"
  },
  "language_info": {
   "codemirror_mode": {
    "name": "ipython",
    "version": 3
   },
   "file_extension": ".py",
   "mimetype": "text/x-python",
   "name": "python",
   "nbconvert_exporter": "python",
   "pygments_lexer": "ipython3",
   "version": "3.9.7"
  }
 },
 "nbformat": 4,
 "nbformat_minor": 5
}
